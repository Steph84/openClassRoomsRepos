{
 "cells": [
  {
   "cell_type": "code",
   "execution_count": 1,
   "id": "6989626d-55e1-46da-bb88-21008107248d",
   "metadata": {},
   "outputs": [],
   "source": [
    "import pandas as pd\n",
    "from sklearn.model_selection import train_test_split\n",
    "from sklearn import neighbors\n",
    "import ipywidgets as widgets\n",
    "from ipywidgets import interact, Layout, FloatSlider, IntProgress\n",
    "data = pd.read_csv(\"input_knn.csv\", encoding='utf-8', sep='\\t', index_col=0)"
   ]
  },
  {
   "cell_type": "code",
   "execution_count": 2,
   "id": "52f2e659-fe63-48c1-ab51-14f551df432a",
   "metadata": {},
   "outputs": [],
   "source": [
    "col_num_wo_nutrigrade = [x for x in data.columns if x != \"nutrition_grade_fr\"]\n",
    "X = data[col_num_wo_nutrigrade]\n",
    "y_knn = data[\"nutrition_grade_fr\"]"
   ]
  },
  {
   "cell_type": "code",
   "execution_count": 5,
   "id": "4d2c909b-0a45-4913-aec1-495b2dd71709",
   "metadata": {},
   "outputs": [
    {
     "name": "stdout",
     "output_type": "stream",
     "text": [
      "Prototype de qualification de produits de consommation\n"
     ]
    }
   ],
   "source": [
    "X_train, X_test, y_train, y_test = train_test_split(X, y_knn, test_size=0.2, random_state=101)\n",
    "model = neighbors.KNeighborsClassifier(n_neighbors=6, weights='distance', p=1, leaf_size=20, metric='minkowski')\n",
    "model.fit(X_train[col_num_wo_nutrigrade], y_train)\n",
    "print(\"Prototype de qualification de produits de consommation\")\n",
    "# print(\"Performance de prédiction du KNN :\", round(model.score(X_test[col_num_wo_nutrigrade], y_test)*100, 1), \"%\")"
   ]
  },
  {
   "cell_type": "code",
   "execution_count": 4,
   "id": "940531a4-177f-4e9c-b0a1-e76b90feb20e",
   "metadata": {},
   "outputs": [
    {
     "data": {
      "application/vnd.jupyter.widget-view+json": {
       "model_id": "9b02f43ca9fb4769be3f922597d95cf5",
       "version_major": 2,
       "version_minor": 0
      },
      "text/plain": [
       "interactive(children=(FloatSlider(value=0.0, description='Vitamines A', layout=Layout(height='auto', width='70…"
      ]
     },
     "metadata": {},
     "output_type": "display_data"
    }
   ],
   "source": [
    "style = {'description_width': 'initial'}\n",
    "layout=Layout(width='70%', height='auto')\n",
    "\n",
    "@interact\n",
    "def compute_score(\n",
    "    vit_a=FloatSlider(description=\"Vitamines A\", min=0, max=1000, value=0, style=style, layout=layout),\n",
    "    vit_c=FloatSlider(description=\"Vitamines C\", min=0, max=1000, value=0, style=style, layout=layout),\n",
    "    vit_d=FloatSlider(description=\"Vitamines D\", min=0, max=1000, value=0, style=style, layout=layout),\n",
    "    vit_pp=FloatSlider(description=\"Vitamines PP\", min=0, max=1000, value=0, style=style, layout=layout),\n",
    "    vit_b1=FloatSlider(description=\"Vitamines B1\", min=0, max=1000, value=0, style=style, layout=layout),\n",
    "    vit_b2=FloatSlider(description=\"Vitamines B2\", min=0, max=1000, value=0, style=style, layout=layout),\n",
    "    vit_b6=FloatSlider(description=\"Vitamines B6\", min=0, max=1000, value=0, style=style, layout=layout),\n",
    "    vit_b9=FloatSlider(description=\"Vitamines B9\", min=0, max=1000, value=0, style=style, layout=layout),\n",
    "    vit_b12=FloatSlider(description=\"Vitamines B12\", min=0, max=1000, value=0, style=style, layout=layout),\n",
    "    ac_pantho=FloatSlider(description=\"Acide Pantothénique (B5)\", min=0, max=1000, value=0, style=style, layout=layout),\n",
    "    copper=FloatSlider(description=\"Cuivre\", min=0, max=1000, value=0, style=style, layout=layout),\n",
    "    potassium=FloatSlider(description=\"Potassium\", min=0, max=1000, value=0, style=style, layout=layout),\n",
    "    alcohol=FloatSlider(description=\"Alcool\", min=0, max=100, value=0, style=style, layout=layout),\n",
    "    nb_huile_palm=FloatSlider(description=\"Nb. ingr. huile de palme\", min=0, max=10, value=0, style=style, layout=layout),\n",
    "    energy=FloatSlider(description=\"Valeur énergétique\", min=0, max=3700, value=0, style=style, layout=layout),\n",
    "    sat_fat=FloatSlider(description=\"Matières grasses saturées\", min=0, max=100, value=0, style=style, layout=layout),\n",
    "    sugars=FloatSlider(description=\"Sucres\", min=0, max=100, value=0, style=style, layout=layout),\n",
    "    proteins=FloatSlider(description=\"Protéines\", min=0, max=100, value=0, style=style, layout=layout),\n",
    "    salt=FloatSlider(description=\"Sel\", min=0, max=100, value=0, style=style, layout=layout),\n",
    "    fiber=FloatSlider(description=\"Fibres\", min=0, max=100, value=0, style=style, layout=layout),\n",
    "    fruits_leg=FloatSlider(description=\"Part de fruits/légumes/noix\", min=0, max=100, value=0, style=style, layout=layout)\n",
    "):\n",
    "    data_to_predict = {}\n",
    "    for col in col_num_wo_nutrigrade:\n",
    "        data_to_predict[col] = 0\n",
    "    data_to_predict['energy_100g'] = energy\n",
    "    data_to_predict['saturated-fat_100g'] = sat_fat\n",
    "    data_to_predict['sugars_100g'] = sugars\n",
    "    data_to_predict['proteins_100g'] = proteins\n",
    "    data_to_predict['salt_100g'] = salt\n",
    "    data_to_predict['copper_100g'] = copper\n",
    "    data_to_predict['potassium_100g'] = potassium\n",
    "    data_to_predict['alcohol_100g'] = alcohol\n",
    "    data_to_predict['ingredients_from_palm_oil_n'] = nb_huile_palm\n",
    "    data_to_predict['fiber_100g'] = fiber\n",
    "    data_to_predict['fruits-vegetables-nuts_100g'] = fruits_leg\n",
    "    data_to_predict['vitamin-a_100g'] = vit_a\n",
    "    data_to_predict['vitamin-c_100g'] = vit_c\n",
    "    data_to_predict['vitamin-d_100g'] = vit_d\n",
    "    data_to_predict['vitamin-b1_100g'] = vit_b1\n",
    "    data_to_predict['vitamin-b2_100g'] = vit_b2\n",
    "    data_to_predict['vitamin-b6_100g'] = vit_b6\n",
    "    data_to_predict['vitamin-b9_100g'] = vit_b9\n",
    "    data_to_predict['vitamin-b12_100g'] = vit_b12\n",
    "    data_to_predict['vitamin-pp_100g'] = vit_pp\n",
    "    data_to_predict['pantothenic-acid_100g'] = ac_pantho\n",
    "    df = pd.DataFrame([data_to_predict])\n",
    "    pred = model.predict(df)\n",
    "    \n",
    "    if pred[0] <= 1:\n",
    "        color = 'green'\n",
    "    elif pred[0] == 2:\n",
    "        color = 'lightgreen'\n",
    "    elif pred[0] == 3:\n",
    "        color = 'yellow'\n",
    "    elif pred[0] == 4:\n",
    "        color = 'orange'\n",
    "    elif pred[0] == 5:\n",
    "        color = 'red'\n",
    "            \n",
    "    # print(pred)\n",
    "    result = IntProgress(\n",
    "        value=pred[0],\n",
    "        min=0,\n",
    "        max=5,\n",
    "        step=1,\n",
    "        description='Score:',\n",
    "        bar_style='info',\n",
    "        style={'bar_color': color},\n",
    "        orientation='horizontal'\n",
    "    )\n",
    "    return result"
   ]
  }
 ],
 "metadata": {
  "kernelspec": {
   "display_name": "conda_env_prj03",
   "language": "python",
   "name": "conda_env_prj03"
  },
  "language_info": {
   "codemirror_mode": {
    "name": "ipython",
    "version": 3
   },
   "file_extension": ".py",
   "mimetype": "text/x-python",
   "name": "python",
   "nbconvert_exporter": "python",
   "pygments_lexer": "ipython3",
   "version": "3.9.13"
  }
 },
 "nbformat": 4,
 "nbformat_minor": 5
}
