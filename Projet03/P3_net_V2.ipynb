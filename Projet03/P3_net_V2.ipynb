{
 "cells": [
  {
   "cell_type": "markdown",
   "id": "d39e855c-7f5d-43c2-aa95-6718f9805d97",
   "metadata": {
    "tags": []
   },
   "source": [
    "# Imports"
   ]
  },
  {
   "cell_type": "code",
   "execution_count": 30,
   "id": "6989626d-55e1-46da-bb88-21008107248d",
   "metadata": {},
   "outputs": [],
   "source": [
    "import pandas as pd\n",
    "import numpy as np\n",
    "import matplotlib.pyplot as plt\n",
    "import seaborn as sns\n",
    "from matplotlib import pyplot\n",
    "from sklearn.decomposition import PCA\n",
    "from sklearn.preprocessing import StandardScaler\n",
    "sns.set()"
   ]
  },
  {
   "cell_type": "markdown",
   "id": "c37c8e11-3622-4521-902c-17d4522474b5",
   "metadata": {
    "jp-MarkdownHeadingCollapsed": true,
    "tags": []
   },
   "source": [
    "# Méthodes"
   ]
  },
  {
   "cell_type": "code",
   "execution_count": 31,
   "id": "49a8ef81-8871-41c8-97c2-dddc8446e4b7",
   "metadata": {},
   "outputs": [],
   "source": [
    "def convert_false_to_nan(df):\n",
    "    result = pd.DataFrame()\n",
    "    \n",
    "    # test sur dataset en input\n",
    "    if len(df) == 0:\n",
    "        print(\"Le DataFrame d'origine est vide.\")\n",
    "        return result\n",
    "    \n",
    "    for col in df.columns:\n",
    "        temp_miss = df[df[col].isin([False])]\n",
    "        if len(temp_miss) > 0:\n",
    "            print(\"Dans la colonne\", col, \", il y a\", len(temp_miss), \"valeurs à False. Nous les passons à NaN pour les traiter plus facilement.\")\n",
    "            df.loc[df[col]==False, col] = np.nan\n",
    "    \n",
    "    result = df\n",
    "    return result"
   ]
  },
  {
   "cell_type": "code",
   "execution_count": 32,
   "id": "e3afb884-0e16-43de-ba37-452e53f47768",
   "metadata": {
    "tags": []
   },
   "outputs": [],
   "source": [
    "def filter_col_by_mising_data_pct(df, pct_min=0, pct_max=100):\n",
    "    result = pd.DataFrame()\n",
    "    print(\"Le DataFrame à filtrer présente\", len(df), \"lignes et\", len(df.columns), \"colonnes.\")\n",
    "    \n",
    "    # test sur dataset en input\n",
    "    if len(df) == 0:\n",
    "        print(\"Le DataFrame d'origine est vide.\")\n",
    "        return result\n",
    "    \n",
    "    print(\"La méthode va renvoyer un DataFrame présentant uniquement les colonnes ayant une part de valeurs manquantes allant de\", pct_min, \"% inclu à\", pct_max, \"% exclu.\")\n",
    "    # extraction des colonnes remplissant la condition de filtrage\n",
    "    tot_list_col = round(df.isnull().mean()*100, 4).sort_values(ascending=False)\n",
    "    tot_list_col = pd.DataFrame(tot_list_col, columns = [\"%\"])\n",
    "    remain_list_col = tot_list_col.loc[(tot_list_col[\"%\"] >= pct_min) & (tot_list_col[\"%\"] < pct_max), :]\n",
    "    nb_col_remained = len(remain_list_col)\n",
    "    nb_col_removed = len(tot_list_col) - nb_col_remained\n",
    "    print(\"Après filtrage, il reste\", nb_col_remained, \"colonnes dans le DataFrame.\")\n",
    "    print(\"Il y a eu suppression de\", nb_col_removed, \"colonnes, soit\", round(nb_col_removed/len(tot_list_col)*100, 2), \"% des colonnes.\")\n",
    "    \n",
    "    # test sur le nb de colonnes restantes\n",
    "    if len(remain_list_col) == 0:\n",
    "        print(\"Le filtre est trop bas. Il n'y a plus de colonnes à exploiter.\")\n",
    "        return result\n",
    "    \n",
    "    # renvoyer le même dataset avec uniquement les colonnes filtrées\n",
    "    result = df[remain_list_col.index]\n",
    "    return result"
   ]
  },
  {
   "cell_type": "code",
   "execution_count": 33,
   "id": "6cb2da33-002a-4007-bb45-8a5a9698b656",
   "metadata": {
    "tags": []
   },
   "outputs": [],
   "source": [
    "def remove_empty_columns(df):\n",
    "    result = pd.DataFrame()\n",
    "    \n",
    "    # test sur dataset en input\n",
    "    if len(df) == 0:\n",
    "        print(\"Le DataFrame d'origine est vide.\")\n",
    "        return result\n",
    "    \n",
    "    print(\"Appel de la méthode filter_col_by_mising_data_pct() pour supprimer les colonnes vides.\")\n",
    "    result = filter_col_by_mising_data_pct(df)\n",
    "    return result    "
   ]
  },
  {
   "cell_type": "code",
   "execution_count": 34,
   "id": "3ffb6fac-d59c-4406-a950-0fd84cc54e1c",
   "metadata": {
    "tags": []
   },
   "outputs": [],
   "source": [
    "def split_data_num_categ(df):\n",
    "    result = []\n",
    "    \n",
    "    # test sur dataset en input\n",
    "    if len(df) == 0:\n",
    "        print(\"Le DataFrame d'origine est vide.\")\n",
    "        return result\n",
    "    \n",
    "    dict_col = {\n",
    "        'numeric': [],\n",
    "        'category': [],\n",
    "        'boolean': [],\n",
    "        'datetime': [],\n",
    "        'deltatime': []\n",
    "    }\n",
    "    \n",
    "    for col in df.columns:\n",
    "        if df[col].dtype.name in ('float64', 'int64'):\n",
    "            dict_col['numeric'].append(col)\n",
    "        elif df[col].dtype.name in ('object', 'category'):\n",
    "            dict_col['category'].append(col)\n",
    "        elif df[col].dtype.name == 'bool':\n",
    "            dict_col['boolean'].append(col)\n",
    "        elif df[col].dtype.name == 'datetime64':\n",
    "            dict_col['datetime'].append(col)\n",
    "        elif df[col].dtype.name == 'timedelta[ns]':\n",
    "            dict_col['deltatime'].append(col)\n",
    "        else:\n",
    "            print(\"Type de données non connu :\", df[col].dtype.name, \"pour la colonne\", col)\n",
    "\n",
    "    print(\"Voici la répartition des colonnes par type de données :\")\n",
    "    for key, value in dict_col.items():\n",
    "        nb_col_by_type = len(value)\n",
    "        print(key, \":\", nb_col_by_type, \"colonnes.\")\n",
    "        if nb_col_by_type > 0:\n",
    "            result.append(df[value])\n",
    "    \n",
    "    return result"
   ]
  },
  {
   "cell_type": "code",
   "execution_count": 35,
   "id": "496501a9-d90f-4225-91dc-643623913065",
   "metadata": {
    "tags": []
   },
   "outputs": [],
   "source": [
    "# pour afficher les pourcentages et les libellés pour les parts > 5%\n",
    "limit_perc = 5\n",
    "def show_perc(pct):\n",
    "    return ('%.1f%%' % pct) if pct > limit_perc else ''\n",
    "\n",
    "def show_labels(data):\n",
    "    list = []\n",
    "    for val, cnt in data.items():\n",
    "        if (cnt*100/np.sum(data)) > limit_perc :\n",
    "            list.append(val)\n",
    "        else:\n",
    "            list.append('')\n",
    "    return list"
   ]
  },
  {
   "cell_type": "markdown",
   "id": "eb4c7a13-d517-43df-a04c-bad93ae904d0",
   "metadata": {
    "tags": []
   },
   "source": [
    "# Chargement du dataset"
   ]
  },
  {
   "cell_type": "markdown",
   "id": "27038ea0-d88c-461a-b005-555055e8e28d",
   "metadata": {},
   "source": [
    "Il y avait un problème de données à cheval sur plusieurs lignes. Un script a permis de corriger le problème. Voici le fichier corrigé en entrée."
   ]
  },
  {
   "cell_type": "code",
   "execution_count": 36,
   "id": "59bdde2c-e28f-4a05-a85d-1d8a86ec6946",
   "metadata": {},
   "outputs": [
    {
     "name": "stderr",
     "output_type": "stream",
     "text": [
      "/tmp/ipykernel_17375/2650904854.py:2: DtypeWarning: Columns (0,19,20,24,25,26,28,35,37,38,39,48) have mixed types. Specify dtype option on import or set low_memory=False.\n",
      "  raw_data = pd.read_csv(\"fr.openfoodfacts.org.products_c1.csv\", encoding='utf-8', sep='\\t')\n"
     ]
    }
   ],
   "source": [
    "# Le séparateur dans le dataset est la tabulation\n",
    "raw_data = pd.read_csv(\"fr.openfoodfacts.org.products_c1.csv\", encoding='utf-8', sep='\\t')"
   ]
  },
  {
   "cell_type": "code",
   "execution_count": 37,
   "id": "11c0f816-a12e-4f7b-9cda-638a8144951c",
   "metadata": {},
   "outputs": [
    {
     "name": "stdout",
     "output_type": "stream",
     "text": [
      "Le dataset présente 320749 lignes et 162 colonnes\n"
     ]
    }
   ],
   "source": [
    "print(\"Le dataset présente\", raw_data.shape[0], \"lignes et\", raw_data.shape[1], \"colonnes\")"
   ]
  },
  {
   "cell_type": "code",
   "execution_count": 38,
   "id": "e48cc25a-00f7-428c-8663-927dc5a54ecf",
   "metadata": {
    "tags": []
   },
   "outputs": [],
   "source": [
    "# Les valeurs à False seront mise à NaN pour permettre le netoyage\n",
    "# data_w_false = convert_false_to_nan(raw_data)\n",
    "data_w_false = raw_data"
   ]
  },
  {
   "cell_type": "code",
   "execution_count": 39,
   "id": "eddad5bf-c621-4612-b4f0-adece361b7d0",
   "metadata": {
    "tags": []
   },
   "outputs": [
    {
     "data": {
      "text/plain": [
       "<AxesSubplot:>"
      ]
     },
     "execution_count": 39,
     "metadata": {},
     "output_type": "execute_result"
    },
    {
     "data": {
      "image/png": "[encoded data removed]",
      "text/plain": [
       "<Figure size 640x480 with 1 Axes>"
      ]
     },
     "metadata": {},
     "output_type": "display_data"
    }
   ],
   "source": [
    "valeurs_manquantes = round(data_w_false.isnull().mean()*100, 4).sort_values(ascending=False)\n",
    "missing_val_df = pd.DataFrame(valeurs_manquantes, columns = [\"%\"])\n",
    "missing_val_df[\"%\"].hist(bins=20)"
   ]
  },
  {
   "cell_type": "code",
   "execution_count": 40,
   "id": "ac9cc2a2-8add-4e5a-aae3-33c889273b56",
   "metadata": {},
   "outputs": [
    {
     "name": "stdout",
     "output_type": "stream",
     "text": [
      "Les colonnes ayant plus de 90% de valeurs manquantes sont au nombre de 100 soit, 61.73 % des colonnes.\n"
     ]
    }
   ],
   "source": [
    "miss_val_90 = missing_val_df.loc[missing_val_df[\"%\"]>=90, :]\n",
    "print(\"Les colonnes ayant plus de 90% de valeurs manquantes sont au nombre de\", len(miss_val_90), \"soit,\", round(len(miss_val_90)/raw_data.shape[1]*100, 2), \"% des colonnes.\")"
   ]
  },
  {
   "cell_type": "code",
   "execution_count": 41,
   "id": "31fbc2ec-d0d1-469a-b26d-349cce0b4488",
   "metadata": {
    "tags": []
   },
   "outputs": [
    {
     "data": {
      "text/plain": [
       "<AxesSubplot:>"
      ]
     },
     "execution_count": 41,
     "metadata": {},
     "output_type": "execute_result"
    },
    {
     "data": {
      "image/png": "[encoded data removed]",
      "text/plain": [
       "<Figure size 640x480 with 1 Axes>"
      ]
     },
     "metadata": {},
     "output_type": "display_data"
    }
   ],
   "source": [
    "valeurs_manquantes = round(data_w_false.isnull().mean()*100, 4).sort_values(ascending=False)\n",
    "missing_val_df = pd.DataFrame(valeurs_manquantes, columns = [\"%\"])\n",
    "missing_val_df.loc[missing_val_df[\"%\"]<90, \"%\"].hist(bins=20)"
   ]
  },
  {
   "cell_type": "markdown",
   "id": "98623da3-03bb-4cd0-a8b4-3dc24e96f4c1",
   "metadata": {
    "tags": []
   },
   "source": [
    "# Nettoyage"
   ]
  },
  {
   "cell_type": "markdown",
   "id": "ca8ad738-c2c6-465b-83fc-e76ef786e6e9",
   "metadata": {
    "tags": []
   },
   "source": [
    "## Suppressions Lignes"
   ]
  },
  {
   "cell_type": "code",
   "execution_count": 42,
   "id": "3953bc18-c800-4175-9a47-d25eea71eda6",
   "metadata": {
    "tags": []
   },
   "outputs": [
    {
     "name": "stdout",
     "output_type": "stream",
     "text": [
      "Il y a 99516 lignes sans nutri-score de renseigné, soit 31.03 % des données.\n"
     ]
    },
    {
     "data": {
      "text/html": [
       "<div>\n",
       "<style scoped>\n",
       "    .dataframe tbody tr th:only-of-type {\n",
       "        vertical-align: middle;\n",
       "    }\n",
       "\n",
       "    .dataframe tbody tr th {\n",
       "        vertical-align: top;\n",
       "    }\n",
       "\n",
       "    .dataframe thead th {\n",
       "        text-align: right;\n",
       "    }\n",
       "</style>\n",
       "<table border=\"1\" class=\"dataframe\">\n",
       "  <thead>\n",
       "    <tr style=\"text-align: right;\">\n",
       "      <th></th>\n",
       "      <th>code</th>\n",
       "      <th>url</th>\n",
       "      <th>creator</th>\n",
       "      <th>created_t</th>\n",
       "      <th>created_datetime</th>\n",
       "      <th>last_modified_t</th>\n",
       "      <th>last_modified_datetime</th>\n",
       "      <th>product_name</th>\n",
       "      <th>generic_name</th>\n",
       "      <th>quantity</th>\n",
       "      <th>...</th>\n",
       "      <th>ph_100g</th>\n",
       "      <th>fruits-vegetables-nuts_100g</th>\n",
       "      <th>collagen-meat-protein-ratio_100g</th>\n",
       "      <th>cocoa_100g</th>\n",
       "      <th>chlorophyl_100g</th>\n",
       "      <th>carbon-footprint_100g</th>\n",
       "      <th>nutrition-score-fr_100g</th>\n",
       "      <th>nutrition-score-uk_100g</th>\n",
       "      <th>glycemic-index_100g</th>\n",
       "      <th>water-hardness_100g</th>\n",
       "    </tr>\n",
       "  </thead>\n",
       "  <tbody>\n",
       "    <tr>\n",
       "      <th>0</th>\n",
       "      <td>4530</td>\n",
       "      <td>http://world-fr.openfoodfacts.org/produit/0000...</td>\n",
       "      <td>usda-ndb-import</td>\n",
       "      <td>1489069957</td>\n",
       "      <td>2017-03-09T14:32:37Z</td>\n",
       "      <td>1489069957</td>\n",
       "      <td>2017-03-09T14:32:37Z</td>\n",
       "      <td>Banana Chips Sweetened (Whole)</td>\n",
       "      <td>NaN</td>\n",
       "      <td>NaN</td>\n",
       "      <td>...</td>\n",
       "      <td>NaN</td>\n",
       "      <td>NaN</td>\n",
       "      <td>NaN</td>\n",
       "      <td>NaN</td>\n",
       "      <td>NaN</td>\n",
       "      <td>NaN</td>\n",
       "      <td>14.0</td>\n",
       "      <td>14.0</td>\n",
       "      <td>NaN</td>\n",
       "      <td>NaN</td>\n",
       "    </tr>\n",
       "    <tr>\n",
       "      <th>1</th>\n",
       "      <td>4559</td>\n",
       "      <td>http://world-fr.openfoodfacts.org/produit/0000...</td>\n",
       "      <td>usda-ndb-import</td>\n",
       "      <td>1489069957</td>\n",
       "      <td>2017-03-09T14:32:37Z</td>\n",
       "      <td>1489069957</td>\n",
       "      <td>2017-03-09T14:32:37Z</td>\n",
       "      <td>Peanuts</td>\n",
       "      <td>NaN</td>\n",
       "      <td>NaN</td>\n",
       "      <td>...</td>\n",
       "      <td>NaN</td>\n",
       "      <td>NaN</td>\n",
       "      <td>NaN</td>\n",
       "      <td>NaN</td>\n",
       "      <td>NaN</td>\n",
       "      <td>NaN</td>\n",
       "      <td>0.0</td>\n",
       "      <td>0.0</td>\n",
       "      <td>NaN</td>\n",
       "      <td>NaN</td>\n",
       "    </tr>\n",
       "    <tr>\n",
       "      <th>2</th>\n",
       "      <td>16087</td>\n",
       "      <td>http://world-fr.openfoodfacts.org/produit/0000...</td>\n",
       "      <td>usda-ndb-import</td>\n",
       "      <td>1489055731</td>\n",
       "      <td>2017-03-09T10:35:31Z</td>\n",
       "      <td>1489055731</td>\n",
       "      <td>2017-03-09T10:35:31Z</td>\n",
       "      <td>Organic Salted Nut Mix</td>\n",
       "      <td>NaN</td>\n",
       "      <td>NaN</td>\n",
       "      <td>...</td>\n",
       "      <td>NaN</td>\n",
       "      <td>NaN</td>\n",
       "      <td>NaN</td>\n",
       "      <td>NaN</td>\n",
       "      <td>NaN</td>\n",
       "      <td>NaN</td>\n",
       "      <td>12.0</td>\n",
       "      <td>12.0</td>\n",
       "      <td>NaN</td>\n",
       "      <td>NaN</td>\n",
       "    </tr>\n",
       "    <tr>\n",
       "      <th>3</th>\n",
       "      <td>16124</td>\n",
       "      <td>http://world-fr.openfoodfacts.org/produit/0000...</td>\n",
       "      <td>usda-ndb-import</td>\n",
       "      <td>1489055711</td>\n",
       "      <td>2017-03-09T10:35:11Z</td>\n",
       "      <td>1489055712</td>\n",
       "      <td>2017-03-09T10:35:12Z</td>\n",
       "      <td>Organic Muesli</td>\n",
       "      <td>NaN</td>\n",
       "      <td>NaN</td>\n",
       "      <td>...</td>\n",
       "      <td>NaN</td>\n",
       "      <td>NaN</td>\n",
       "      <td>NaN</td>\n",
       "      <td>NaN</td>\n",
       "      <td>NaN</td>\n",
       "      <td>NaN</td>\n",
       "      <td>7.0</td>\n",
       "      <td>7.0</td>\n",
       "      <td>NaN</td>\n",
       "      <td>NaN</td>\n",
       "    </tr>\n",
       "    <tr>\n",
       "      <th>4</th>\n",
       "      <td>16872</td>\n",
       "      <td>http://world-fr.openfoodfacts.org/produit/0000...</td>\n",
       "      <td>usda-ndb-import</td>\n",
       "      <td>1489055650</td>\n",
       "      <td>2017-03-09T10:34:10Z</td>\n",
       "      <td>1489055651</td>\n",
       "      <td>2017-03-09T10:34:11Z</td>\n",
       "      <td>Zen Party Mix</td>\n",
       "      <td>NaN</td>\n",
       "      <td>NaN</td>\n",
       "      <td>...</td>\n",
       "      <td>NaN</td>\n",
       "      <td>NaN</td>\n",
       "      <td>NaN</td>\n",
       "      <td>NaN</td>\n",
       "      <td>NaN</td>\n",
       "      <td>NaN</td>\n",
       "      <td>12.0</td>\n",
       "      <td>12.0</td>\n",
       "      <td>NaN</td>\n",
       "      <td>NaN</td>\n",
       "    </tr>\n",
       "    <tr>\n",
       "      <th>...</th>\n",
       "      <td>...</td>\n",
       "      <td>...</td>\n",
       "      <td>...</td>\n",
       "      <td>...</td>\n",
       "      <td>...</td>\n",
       "      <td>...</td>\n",
       "      <td>...</td>\n",
       "      <td>...</td>\n",
       "      <td>...</td>\n",
       "      <td>...</td>\n",
       "      <td>...</td>\n",
       "      <td>...</td>\n",
       "      <td>...</td>\n",
       "      <td>...</td>\n",
       "      <td>...</td>\n",
       "      <td>...</td>\n",
       "      <td>...</td>\n",
       "      <td>...</td>\n",
       "      <td>...</td>\n",
       "      <td>...</td>\n",
       "      <td>...</td>\n",
       "    </tr>\n",
       "    <tr>\n",
       "      <th>221228</th>\n",
       "      <td>9787461062105</td>\n",
       "      <td>http://world-fr.openfoodfacts.org/produit/9787...</td>\n",
       "      <td>usda-ndb-import</td>\n",
       "      <td>1489092300</td>\n",
       "      <td>2017-03-09T20:45:00Z</td>\n",
       "      <td>1489092300</td>\n",
       "      <td>2017-03-09T20:45:00Z</td>\n",
       "      <td>Natural Cassava</td>\n",
       "      <td>NaN</td>\n",
       "      <td>NaN</td>\n",
       "      <td>...</td>\n",
       "      <td>NaN</td>\n",
       "      <td>NaN</td>\n",
       "      <td>NaN</td>\n",
       "      <td>NaN</td>\n",
       "      <td>NaN</td>\n",
       "      <td>NaN</td>\n",
       "      <td>-1.0</td>\n",
       "      <td>-1.0</td>\n",
       "      <td>NaN</td>\n",
       "      <td>NaN</td>\n",
       "    </tr>\n",
       "    <tr>\n",
       "      <th>221229</th>\n",
       "      <td>9847548283004</td>\n",
       "      <td>http://world-fr.openfoodfacts.org/produit/9847...</td>\n",
       "      <td>drmalabar</td>\n",
       "      <td>1437817626</td>\n",
       "      <td>2015-07-25T09:47:06Z</td>\n",
       "      <td>1442237848</td>\n",
       "      <td>2015-09-14T13:37:28Z</td>\n",
       "      <td>Tartines craquantes bio au sarrasin</td>\n",
       "      <td>NaN</td>\n",
       "      <td>NaN</td>\n",
       "      <td>...</td>\n",
       "      <td>NaN</td>\n",
       "      <td>NaN</td>\n",
       "      <td>NaN</td>\n",
       "      <td>NaN</td>\n",
       "      <td>NaN</td>\n",
       "      <td>NaN</td>\n",
       "      <td>-4.0</td>\n",
       "      <td>-4.0</td>\n",
       "      <td>NaN</td>\n",
       "      <td>NaN</td>\n",
       "    </tr>\n",
       "    <tr>\n",
       "      <th>221230</th>\n",
       "      <td>9900000000233</td>\n",
       "      <td>http://world-fr.openfoodfacts.org/produit/9900...</td>\n",
       "      <td>kiliweb</td>\n",
       "      <td>1491079938</td>\n",
       "      <td>2017-04-01T20:52:18Z</td>\n",
       "      <td>1491079939</td>\n",
       "      <td>2017-04-01T20:52:19Z</td>\n",
       "      <td>Amandes</td>\n",
       "      <td>NaN</td>\n",
       "      <td>NaN</td>\n",
       "      <td>...</td>\n",
       "      <td>NaN</td>\n",
       "      <td>NaN</td>\n",
       "      <td>NaN</td>\n",
       "      <td>NaN</td>\n",
       "      <td>NaN</td>\n",
       "      <td>NaN</td>\n",
       "      <td>0.0</td>\n",
       "      <td>0.0</td>\n",
       "      <td>NaN</td>\n",
       "      <td>NaN</td>\n",
       "    </tr>\n",
       "    <tr>\n",
       "      <th>221231</th>\n",
       "      <td>99111250</td>\n",
       "      <td>http://world-fr.openfoodfacts.org/produit/9911...</td>\n",
       "      <td>balooval</td>\n",
       "      <td>1367163039</td>\n",
       "      <td>2013-04-28T15:30:39Z</td>\n",
       "      <td>1371690556</td>\n",
       "      <td>2013-06-20T01:09:16Z</td>\n",
       "      <td>Thé vert Earl grey</td>\n",
       "      <td>thé bio équitable</td>\n",
       "      <td>50 g</td>\n",
       "      <td>...</td>\n",
       "      <td>NaN</td>\n",
       "      <td>NaN</td>\n",
       "      <td>NaN</td>\n",
       "      <td>NaN</td>\n",
       "      <td>NaN</td>\n",
       "      <td>NaN</td>\n",
       "      <td>2.0</td>\n",
       "      <td>0.0</td>\n",
       "      <td>NaN</td>\n",
       "      <td>NaN</td>\n",
       "    </tr>\n",
       "    <tr>\n",
       "      <th>221232</th>\n",
       "      <td>99567453</td>\n",
       "      <td>http://world-fr.openfoodfacts.org/produit/9956...</td>\n",
       "      <td>usda-ndb-import</td>\n",
       "      <td>1489059076</td>\n",
       "      <td>2017-03-09T11:31:16Z</td>\n",
       "      <td>1491244499</td>\n",
       "      <td>2017-04-03T18:34:59Z</td>\n",
       "      <td>Mint Melange Tea A Blend Of Peppermint, Lemon ...</td>\n",
       "      <td>NaN</td>\n",
       "      <td>NaN</td>\n",
       "      <td>...</td>\n",
       "      <td>NaN</td>\n",
       "      <td>NaN</td>\n",
       "      <td>NaN</td>\n",
       "      <td>NaN</td>\n",
       "      <td>NaN</td>\n",
       "      <td>NaN</td>\n",
       "      <td>0.0</td>\n",
       "      <td>0.0</td>\n",
       "      <td>NaN</td>\n",
       "      <td>NaN</td>\n",
       "    </tr>\n",
       "  </tbody>\n",
       "</table>\n",
       "<p>221233 rows × 162 columns</p>\n",
       "</div>"
      ],
      "text/plain": [
       "                 code                                                url  \\\n",
       "0                4530  http://world-fr.openfoodfacts.org/produit/0000...   \n",
       "1                4559  http://world-fr.openfoodfacts.org/produit/0000...   \n",
       "2               16087  http://world-fr.openfoodfacts.org/produit/0000...   \n",
       "3               16124  http://world-fr.openfoodfacts.org/produit/0000...   \n",
       "4               16872  http://world-fr.openfoodfacts.org/produit/0000...   \n",
       "...               ...                                                ...   \n",
       "221228  9787461062105  http://world-fr.openfoodfacts.org/produit/9787...   \n",
       "221229  9847548283004  http://world-fr.openfoodfacts.org/produit/9847...   \n",
       "221230  9900000000233  http://world-fr.openfoodfacts.org/produit/9900...   \n",
       "221231       99111250  http://world-fr.openfoodfacts.org/produit/9911...   \n",
       "221232       99567453  http://world-fr.openfoodfacts.org/produit/9956...   \n",
       "\n",
       "                creator   created_t      created_datetime  last_modified_t  \\\n",
       "0       usda-ndb-import  1489069957  2017-03-09T14:32:37Z       1489069957   \n",
       "1       usda-ndb-import  1489069957  2017-03-09T14:32:37Z       1489069957   \n",
       "2       usda-ndb-import  1489055731  2017-03-09T10:35:31Z       1489055731   \n",
       "3       usda-ndb-import  1489055711  2017-03-09T10:35:11Z       1489055712   \n",
       "4       usda-ndb-import  1489055650  2017-03-09T10:34:10Z       1489055651   \n",
       "...                 ...         ...                   ...              ...   \n",
       "221228  usda-ndb-import  1489092300  2017-03-09T20:45:00Z       1489092300   \n",
       "221229        drmalabar  1437817626  2015-07-25T09:47:06Z       1442237848   \n",
       "221230          kiliweb  1491079938  2017-04-01T20:52:18Z       1491079939   \n",
       "221231         balooval  1367163039  2013-04-28T15:30:39Z       1371690556   \n",
       "221232  usda-ndb-import  1489059076  2017-03-09T11:31:16Z       1491244499   \n",
       "\n",
       "       last_modified_datetime  \\\n",
       "0        2017-03-09T14:32:37Z   \n",
       "1        2017-03-09T14:32:37Z   \n",
       "2        2017-03-09T10:35:31Z   \n",
       "3        2017-03-09T10:35:12Z   \n",
       "4        2017-03-09T10:34:11Z   \n",
       "...                       ...   \n",
       "221228   2017-03-09T20:45:00Z   \n",
       "221229   2015-09-14T13:37:28Z   \n",
       "221230   2017-04-01T20:52:19Z   \n",
       "221231   2013-06-20T01:09:16Z   \n",
       "221232   2017-04-03T18:34:59Z   \n",
       "\n",
       "                                             product_name       generic_name  \\\n",
       "0                          Banana Chips Sweetened (Whole)                NaN   \n",
       "1                                                 Peanuts                NaN   \n",
       "2                                  Organic Salted Nut Mix                NaN   \n",
       "3                                          Organic Muesli                NaN   \n",
       "4                                           Zen Party Mix                NaN   \n",
       "...                                                   ...                ...   \n",
       "221228                                    Natural Cassava                NaN   \n",
       "221229                Tartines craquantes bio au sarrasin                NaN   \n",
       "221230                                            Amandes                NaN   \n",
       "221231                                 Thé vert Earl grey  thé bio équitable   \n",
       "221232  Mint Melange Tea A Blend Of Peppermint, Lemon ...                NaN   \n",
       "\n",
       "       quantity  ... ph_100g fruits-vegetables-nuts_100g  \\\n",
       "0           NaN  ...     NaN                         NaN   \n",
       "1           NaN  ...     NaN                         NaN   \n",
       "2           NaN  ...     NaN                         NaN   \n",
       "3           NaN  ...     NaN                         NaN   \n",
       "4           NaN  ...     NaN                         NaN   \n",
       "...         ...  ...     ...                         ...   \n",
       "221228      NaN  ...     NaN                         NaN   \n",
       "221229      NaN  ...     NaN                         NaN   \n",
       "221230      NaN  ...     NaN                         NaN   \n",
       "221231     50 g  ...     NaN                         NaN   \n",
       "221232      NaN  ...     NaN                         NaN   \n",
       "\n",
       "       collagen-meat-protein-ratio_100g cocoa_100g chlorophyl_100g  \\\n",
       "0                                   NaN        NaN             NaN   \n",
       "1                                   NaN        NaN             NaN   \n",
       "2                                   NaN        NaN             NaN   \n",
       "3                                   NaN        NaN             NaN   \n",
       "4                                   NaN        NaN             NaN   \n",
       "...                                 ...        ...             ...   \n",
       "221228                              NaN        NaN             NaN   \n",
       "221229                              NaN        NaN             NaN   \n",
       "221230                              NaN        NaN             NaN   \n",
       "221231                              NaN        NaN             NaN   \n",
       "221232                              NaN        NaN             NaN   \n",
       "\n",
       "       carbon-footprint_100g nutrition-score-fr_100g nutrition-score-uk_100g  \\\n",
       "0                        NaN                    14.0                    14.0   \n",
       "1                        NaN                     0.0                     0.0   \n",
       "2                        NaN                    12.0                    12.0   \n",
       "3                        NaN                     7.0                     7.0   \n",
       "4                        NaN                    12.0                    12.0   \n",
       "...                      ...                     ...                     ...   \n",
       "221228                   NaN                    -1.0                    -1.0   \n",
       "221229                   NaN                    -4.0                    -4.0   \n",
       "221230                   NaN                     0.0                     0.0   \n",
       "221231                   NaN                     2.0                     0.0   \n",
       "221232                   NaN                     0.0                     0.0   \n",
       "\n",
       "       glycemic-index_100g water-hardness_100g  \n",
       "0                      NaN                 NaN  \n",
       "1                      NaN                 NaN  \n",
       "2                      NaN                 NaN  \n",
       "3                      NaN                 NaN  \n",
       "4                      NaN                 NaN  \n",
       "...                    ...                 ...  \n",
       "221228                 NaN                 NaN  \n",
       "221229                 NaN                 NaN  \n",
       "221230                 NaN                 NaN  \n",
       "221231                 NaN                 NaN  \n",
       "221232                 NaN                 NaN  \n",
       "\n",
       "[221233 rows x 162 columns]"
      ]
     },
     "execution_count": 42,
     "metadata": {},
     "output_type": "execute_result"
    }
   ],
   "source": [
    "# le nutriscore sera notre target, donc on peut supprimer toutes les lignes n'ayant pas de nutriscore renseigné\n",
    "data_w_target = data_w_false.loc[data_w_false[\"nutrition-score-fr_100g\"].notnull(), :]\n",
    "print(\"Il y a\", data_w_false.shape[0] - data_w_target.shape[0], \"lignes sans nutri-score de renseigné, soit\", round((1-data_w_target.shape[0]/data_w_false.shape[0])*100, 2), \"% des données.\")\n",
    "data_w_target.reset_index(drop=True)"
   ]
  },
  {
   "cell_type": "markdown",
   "id": "06ff96ff-a659-4eb7-95a8-8c4f5a655662",
   "metadata": {
    "tags": []
   },
   "source": [
    "## Suppressions colonnes"
   ]
  },
  {
   "cell_type": "markdown",
   "id": "42ad5bcd-183d-40a9-8d9c-760ac8c9845e",
   "metadata": {},
   "source": [
    "Les colonnes étant complètement vides ne seront pas utilisées dans notre étude. Nous allons donc les supprimer."
   ]
  },
  {
   "cell_type": "code",
   "execution_count": 43,
   "id": "bb7d0d98-1737-468b-a82a-84fb92f6593a",
   "metadata": {},
   "outputs": [
    {
     "name": "stdout",
     "output_type": "stream",
     "text": [
      "Appel de la méthode filter_col_by_mising_data_pct() pour supprimer les colonnes vides.\n",
      "Le DataFrame à filtrer présente 221233 lignes et 162 colonnes.\n",
      "La méthode va renvoyer un DataFrame présentant uniquement les colonnes ayant une part de valeurs manquantes allant de 0 % inclu à 100 % exclu.\n",
      "Après filtrage, il reste 135 colonnes dans le DataFrame.\n",
      "Il y a eu suppression de 27 colonnes, soit 16.67 % des colonnes.\n"
     ]
    }
   ],
   "source": [
    "# on appelle la méthode permettant de supprimer les colonnes vides\n",
    "data_filt_100p = remove_empty_columns(data_w_target)"
   ]
  },
  {
   "cell_type": "markdown",
   "id": "8c232f9a-81c5-488d-a926-07baa8e10b9b",
   "metadata": {
    "tags": []
   },
   "source": [
    "## Sélection des colonnes pertinentes métier"
   ]
  },
  {
   "cell_type": "markdown",
   "id": "58932ba2-bbb7-40a7-99d3-94af7f5b0ed3",
   "metadata": {
    "tags": []
   },
   "source": [
    "Après étude de la problématique métier, j'ai fait la liste des colonnes ayant une pertinence dans notre analyse.  \n",
    " - Identification : \n",
    " - Target : pour le calcul de notre modèle\n",
    " - Obligatoire : ce sont les éléments qui sont obligatoirement sur les étiquettes des produits d'après les lois européennes\n",
    " - Possible : ce sont les éléments qui sont possiblement sur les étiquettes des produits d'après les lois européennes\n",
    " - Pertiente : ce sont les éléments que je trouve pertient pour notre étude\n",
    " - Vitamines : \n",
    " - Sels minéraux : "
   ]
  },
  {
   "cell_type": "code",
   "execution_count": 44,
   "id": "04f42f23-a58b-45b6-8d58-21a209771910",
   "metadata": {
    "tags": []
   },
   "outputs": [],
   "source": [
    "col_id = ['code', 'product_name', 'generic_name', 'nutrition_grade_fr', 'countries_fr']\n",
    "col_target = ['nutrition-score-fr_100g']\n",
    "col_mandatory = ['energy_100g', 'fat_100g', 'saturated-fat_100g', 'carbohydrates_100g', 'sugars_100g', 'proteins_100g', 'salt_100g']\n",
    "col_possible = ['monounsaturated-fat_100g', 'polyunsaturated-fat_100g', \"polyols_100g\", \"starch_100g\", \"fiber_100g\"]\n",
    "col_pertinents = ['additives_n', 'ingredients_from_palm_oil_n', 'ingredients_that_may_be_from_palm_oil_n', 'fruits-vegetables-nuts_100g']\n",
    "col_vitamins = ['vitamin-a_100g', 'vitamin-d_100g', 'vitamin-e_100g', 'vitamin-k_100g', 'vitamin-c_100g', 'vitamin-b1_100g',\n",
    "                'vitamin-b2_100g', 'vitamin-pp_100g', 'vitamin-b6_100g', 'vitamin-b9_100g', 'vitamin-b12_100g', 'biotin_100g',\n",
    "                 'pantothenic-acid_100g']\n",
    "col_minerals = ['potassium_100g', 'chloride_100g', 'calcium_100g', 'phosphorus_100g', 'iron_100g',\n",
    "                 'magnesium_100g', 'zinc_100g', 'copper_100g', 'manganese_100g', 'fluoride_100g', 'selenium_100g', 'chromium_100g',\n",
    "                 'molybdenum_100g', 'iodine_100g']\n",
    "print(\"D'après les lois européennes, il y a\", len(col_mandatory), \"colonnes obligatoires sur une étiquette.\")\n",
    "print(\"Optionnellement, il y a\", len(col_possible), \"colonnes.\")\n",
    "print(\"Il y a\", len(col_pertinents), \"colonnes pertinentes selon moi.\")\n",
    "print(\"Il y a optionnellement\", len(col_vitamins), \"colonnes avec les vitamines.\")\n",
    "print(\"Et pour finir, il y a optionnellement\", len(col_minerals), \"colonnes avec les sels minéraux.\")\n",
    "col_to_keep = col_id + col_target + col_mandatory + col_possible + col_pertinents + col_vitamins + col_minerals\n",
    "print(\"On va donc travailler exclusivement avec ces\", len(col_to_keep), \"colonnes, soit\", round(len(col_to_keep)/len(raw_data.columns)*100, 2), \"% des colonnes.\")\n",
    "data_col_keep = data_filt_100p[col_to_keep]\n",
    "print(\"Après filtrage, il reste\", len(data_col_keep.columns), \"colonnes dans le DataFrame.\")"
   ]
  },
  {
   "cell_type": "markdown",
   "id": "600fa4e6-8b68-45bb-9c12-4fe4c2a753de",
   "metadata": {
    "tags": []
   },
   "source": [
    "## Lignes dupliquées"
   ]
  },
  {
   "cell_type": "code",
   "execution_count": 45,
   "id": "47cc9e11-0438-4774-a8d7-15c71fb7409f",
   "metadata": {},
   "outputs": [
    {
     "name": "stdout",
     "output_type": "stream",
     "text": [
      "Il y a 0 lignes dupliquées dans ce dataset, soit 0.0 % du dataset.\n",
      "On a supprimé les lignes dupliquées. Il reste 221233 lignes dans le dataset.\n"
     ]
    }
   ],
   "source": [
    "# identification et suppressions des lignes dupliquées\n",
    "nb_lignes_dupli = data_filt_100p.duplicated().sum()\n",
    "print(\"Il y a\", nb_lignes_dupli, \"lignes dupliquées dans ce dataset, soit\", round(nb_lignes_dupli/len(raw_data)*100, 3), \"% du dataset.\")\n",
    "data_dupli_drop = data_filt_100p.drop_duplicates().reset_index(drop=True)\n",
    "print(\"On a supprimé les lignes dupliquées. Il reste\", len(data_dupli_drop), \"lignes dans le dataset.\")"
   ]
  },
  {
   "cell_type": "markdown",
   "id": "fd0a09de-230e-4d85-91bb-6f5c8168487f",
   "metadata": {
    "tags": []
   },
   "source": [
    "## Séparation données numériques et catégoricielles"
   ]
  },
  {
   "cell_type": "code",
   "execution_count": 17,
   "id": "bbb669a3-bd36-4bf1-9218-635cec9c31a2",
   "metadata": {},
   "outputs": [
    {
     "name": "stdout",
     "output_type": "stream",
     "text": [
      "Voici la répartition des colonnes par type de données :\n",
      "numeric : 44 colonnes.\n",
      "category : 5 colonnes.\n",
      "boolean : 0 colonnes.\n",
      "datetime : 0 colonnes.\n",
      "deltatime : 0 colonnes.\n"
     ]
    }
   ],
   "source": [
    "# On regare la répartition des colonnes en fonction de leur type\n",
    "data_num, data_categ = split_data_num_categ(data_dupli_drop)"
   ]
  },
  {
   "cell_type": "markdown",
   "id": "281c53b4-bedc-4b9d-98e1-4d2a7f5279f5",
   "metadata": {
    "tags": []
   },
   "source": [
    "## Valeurs manquantes"
   ]
  },
  {
   "cell_type": "code",
   "execution_count": 18,
   "id": "00fedd1c-c021-42e1-b673-7c1159763e12",
   "metadata": {},
   "outputs": [
    {
     "name": "stdout",
     "output_type": "stream",
     "text": [
      "Notre dataset d'étude présente 221223 lignes et 49 colonnes\n",
      "Par rapport à notre dataset brut, on a supprimé 31.03 % de lignes et 69.75 % de colonnes.\n"
     ]
    }
   ],
   "source": [
    "# A partir de là, nos données auront une structure fixe\n",
    "data = data_dupli_drop\n",
    "print(\"Notre dataset d'étude présente\", data.shape[0], \"lignes et\", data.shape[1], \"colonnes\")\n",
    "print(\"Par rapport à notre dataset brut, on a supprimé\", round((1-data.shape[0]/raw_data.shape[0])*100, 2), \"% de lignes et\", round((1-data.shape[1]/raw_data.shape[1])*100, 2), \"% de colonnes.\")\n",
    "raw_data = \"\""
   ]
  },
  {
   "cell_type": "markdown",
   "id": "fccd21af-7452-4a38-89b5-3d8360916227",
   "metadata": {
    "tags": []
   },
   "source": [
    "### Traitement données catégoricielles"
   ]
  },
  {
   "cell_type": "code",
   "execution_count": 19,
   "id": "f8ff446a-b6b4-4c58-afd3-f0cf2f9bdd03",
   "metadata": {
    "tags": []
   },
   "outputs": [
    {
     "name": "stdout",
     "output_type": "stream",
     "text": [
      "                          %\n",
      "generic_name        82.3847\n",
      "product_name         1.2417\n",
      "countries_fr         0.0258\n",
      "code                 0.0000\n",
      "nutrition_grade_fr   0.0000\n"
     ]
    }
   ],
   "source": [
    "miss_categ = round(data[data_categ.columns].isnull().mean()*100, 4).sort_values(ascending=False)\n",
    "miss_categ_df = pd.DataFrame(miss_categ, columns = [\"%\"])\n",
    "print(miss_categ_df)"
   ]
  },
  {
   "cell_type": "code",
   "execution_count": 20,
   "id": "15159184-94a8-4087-9081-10242b55d142",
   "metadata": {},
   "outputs": [],
   "source": [
    "# si pas de product name, prendre generic name\n",
    "mask_gen_to_prod = (data[\"product_name\"].isnull()) & (data[\"generic_name\"].notnull())\n",
    "data.loc[mask_gen_to_prod, \"product_name\"] = data[\"generic_name\"]\n",
    "# sinon, prendre code\n",
    "mask_code_to_prod = (data[\"product_name\"].isnull()) & (data[\"code\"].notnull())\n",
    "data.loc[mask_code_to_prod, \"product_name\"] = data[\"code\"]"
   ]
  },
  {
   "cell_type": "code",
   "execution_count": 21,
   "id": "d7499d69-007a-4fb6-9b76-9dcd7ba07a3b",
   "metadata": {},
   "outputs": [],
   "source": [
    "data.loc[data[\"countries_fr\"].isnull(),\"countries_fr\"] = \"Autre\""
   ]
  },
  {
   "cell_type": "markdown",
   "id": "16dc482a-71c2-49ac-84fd-725f4cf719f4",
   "metadata": {
    "tags": []
   },
   "source": [
    "### Traitement données numériques"
   ]
  },
  {
   "cell_type": "code",
   "execution_count": 22,
   "id": "1f1e62e0-036e-4068-a3ba-09afc88680f4",
   "metadata": {
    "tags": []
   },
   "outputs": [
    {
     "name": "stdout",
     "output_type": "stream",
     "text": [
      "                                               %\n",
      "molybdenum_100g                          99.9968\n",
      "chromium_100g                            99.9928\n",
      "fluoride_100g                            99.9788\n",
      "chloride_100g                            99.9711\n",
      "iodine_100g                              99.8965\n",
      "starch_100g                              99.8861\n",
      "biotin_100g                              99.8748\n",
      "polyols_100g                             99.8219\n",
      "vitamin-k_100g                           99.6063\n",
      "selenium_100g                            99.5715\n",
      "vitamin-e_100g                           99.4589\n",
      "manganese_100g                           99.3183\n",
      "pantothenic-acid_100g                    99.2103\n",
      "copper_100g                              99.0878\n",
      "fruits-vegetables-nuts_100g              98.7221\n",
      "zinc_100g                                98.4075\n",
      "vitamin-b12_100g                         98.1530\n",
      "vitamin-b9_100g                          97.7353\n",
      "magnesium_100g                           97.5712\n",
      "phosphorus_100g                          97.5613\n",
      "vitamin-b6_100g                          97.5287\n",
      "vitamin-d_100g                           97.1047\n",
      "vitamin-b2_100g                          95.3725\n",
      "vitamin-pp_100g                          95.3282\n",
      "vitamin-b1_100g                          95.2966\n",
      "monounsaturated-fat_100g                 90.8915\n",
      "polyunsaturated-fat_100g                 90.8789\n",
      "potassium_100g                           90.2153\n",
      "vitamin-a_100g                           40.2874\n",
      "vitamin-c_100g                           39.8923\n",
      "iron_100g                                39.1415\n",
      "calcium_100g                             38.8011\n",
      "fiber_100g                               12.4119\n",
      "ingredients_that_may_be_from_palm_oil_n  11.3153\n",
      "ingredients_from_palm_oil_n              11.3153\n",
      "additives_n                              11.3153\n",
      "carbohydrates_100g                        7.9119\n",
      "fat_100g                                  7.9002\n",
      "saturated-fat_100g                        0.0863\n",
      "energy_100g                               0.0863\n",
      "sugars_100g                               0.0863\n",
      "proteins_100g                             0.0863\n",
      "salt_100g                                 0.0863\n",
      "nutrition-score-fr_100g                   0.0000\n"
     ]
    }
   ],
   "source": [
    "miss_num = round(data[data_num.columns].isnull().mean()*100, 4).sort_values(ascending=False)\n",
    "miss_num_df = pd.DataFrame(miss_num, columns = [\"%\"])\n",
    "print(miss_num_df)"
   ]
  },
  {
   "cell_type": "markdown",
   "id": "5da28ca7-612b-4fc9-8757-52b6e63beb21",
   "metadata": {},
   "source": [
    "On fait l'approximation de mettre toutes les valeurs numériques à 0 car si elles ne sont pas renseignées, c'est souvent parce qu'elles n'existent pas sur l'étiquette."
   ]
  },
  {
   "cell_type": "code",
   "execution_count": 23,
   "id": "b5e55dde-96f0-4037-9055-b8ca3b1861d8",
   "metadata": {
    "tags": []
   },
   "outputs": [],
   "source": [
    "# toutes les valeurs numériques ont remplies à 0\n",
    "for col in data_num.columns:\n",
    "    data[col].fillna(0, inplace=True)"
   ]
  },
  {
   "cell_type": "markdown",
   "id": "ce0d837c-3321-4e76-bb1d-4a08b41910a9",
   "metadata": {
    "tags": []
   },
   "source": [
    "## Outliers"
   ]
  },
  {
   "cell_type": "code",
   "execution_count": 24,
   "id": "ce3660bb-ee76-4c86-95ce-f97499d2a8db",
   "metadata": {
    "tags": []
   },
   "outputs": [
    {
     "data": {
      "text/html": [
       "<div>\n",
       "<style scoped>\n",
       "    .dataframe tbody tr th:only-of-type {\n",
       "        vertical-align: middle;\n",
       "    }\n",
       "\n",
       "    .dataframe tbody tr th {\n",
       "        vertical-align: top;\n",
       "    }\n",
       "\n",
       "    .dataframe thead th {\n",
       "        text-align: right;\n",
       "    }\n",
       "</style>\n",
       "<table border=\"1\" class=\"dataframe\">\n",
       "  <thead>\n",
       "    <tr style=\"text-align: right;\">\n",
       "      <th></th>\n",
       "      <th>nutrition-score-fr_100g</th>\n",
       "      <th>energy_100g</th>\n",
       "      <th>fat_100g</th>\n",
       "      <th>saturated-fat_100g</th>\n",
       "      <th>carbohydrates_100g</th>\n",
       "      <th>sugars_100g</th>\n",
       "      <th>proteins_100g</th>\n",
       "      <th>salt_100g</th>\n",
       "      <th>monounsaturated-fat_100g</th>\n",
       "      <th>polyunsaturated-fat_100g</th>\n",
       "      <th>...</th>\n",
       "      <th>iron_100g</th>\n",
       "      <th>magnesium_100g</th>\n",
       "      <th>zinc_100g</th>\n",
       "      <th>copper_100g</th>\n",
       "      <th>manganese_100g</th>\n",
       "      <th>fluoride_100g</th>\n",
       "      <th>selenium_100g</th>\n",
       "      <th>chromium_100g</th>\n",
       "      <th>molybdenum_100g</th>\n",
       "      <th>iodine_100g</th>\n",
       "    </tr>\n",
       "  </thead>\n",
       "  <tbody>\n",
       "    <tr>\n",
       "      <th>count</th>\n",
       "      <td>221223.000000</td>\n",
       "      <td>2.212230e+05</td>\n",
       "      <td>221223.000000</td>\n",
       "      <td>221223.000000</td>\n",
       "      <td>221223.000000</td>\n",
       "      <td>221223.000000</td>\n",
       "      <td>221223.000000</td>\n",
       "      <td>221223.000000</td>\n",
       "      <td>221223.000000</td>\n",
       "      <td>221223.000000</td>\n",
       "      <td>...</td>\n",
       "      <td>221223.000000</td>\n",
       "      <td>221223.000000</td>\n",
       "      <td>221223.000000</td>\n",
       "      <td>221223.000000</td>\n",
       "      <td>221223.000000</td>\n",
       "      <td>2.212230e+05</td>\n",
       "      <td>221223.000000</td>\n",
       "      <td>2.212230e+05</td>\n",
       "      <td>2.212230e+05</td>\n",
       "      <td>2.212230e+05</td>\n",
       "    </tr>\n",
       "    <tr>\n",
       "      <th>mean</th>\n",
       "      <td>9.164639</td>\n",
       "      <td>1.195217e+03</td>\n",
       "      <td>12.309933</td>\n",
       "      <td>4.965493</td>\n",
       "      <td>30.596926</td>\n",
       "      <td>15.010375</td>\n",
       "      <td>7.768934</td>\n",
       "      <td>1.638742</td>\n",
       "      <td>0.659043</td>\n",
       "      <td>0.455032</td>\n",
       "      <td>...</td>\n",
       "      <td>0.001888</td>\n",
       "      <td>0.011057</td>\n",
       "      <td>0.000116</td>\n",
       "      <td>0.000051</td>\n",
       "      <td>0.000020</td>\n",
       "      <td>7.376783e-07</td>\n",
       "      <td>0.000016</td>\n",
       "      <td>1.379204e-07</td>\n",
       "      <td>1.069509e-09</td>\n",
       "      <td>3.157486e-07</td>\n",
       "    </tr>\n",
       "    <tr>\n",
       "      <th>std</th>\n",
       "      <td>9.055873</td>\n",
       "      <td>6.986475e+03</td>\n",
       "      <td>15.967228</td>\n",
       "      <td>7.657740</td>\n",
       "      <td>28.617299</td>\n",
       "      <td>21.175718</td>\n",
       "      <td>8.123507</td>\n",
       "      <td>137.352639</td>\n",
       "      <td>4.159129</td>\n",
       "      <td>2.895605</td>\n",
       "      <td>...</td>\n",
       "      <td>0.134368</td>\n",
       "      <td>2.010005</td>\n",
       "      <td>0.010429</td>\n",
       "      <td>0.037997</td>\n",
       "      <td>0.002372</td>\n",
       "      <td>1.553570e-04</td>\n",
       "      <td>0.007594</td>\n",
       "      <td>6.378419e-05</td>\n",
       "      <td>2.646401e-07</td>\n",
       "      <td>2.458445e-05</td>\n",
       "    </tr>\n",
       "    <tr>\n",
       "      <th>min</th>\n",
       "      <td>-15.000000</td>\n",
       "      <td>0.000000e+00</td>\n",
       "      <td>0.000000</td>\n",
       "      <td>0.000000</td>\n",
       "      <td>0.000000</td>\n",
       "      <td>-17.860000</td>\n",
       "      <td>-3.570000</td>\n",
       "      <td>0.000000</td>\n",
       "      <td>0.000000</td>\n",
       "      <td>0.000000</td>\n",
       "      <td>...</td>\n",
       "      <td>-0.000260</td>\n",
       "      <td>0.000000</td>\n",
       "      <td>0.000000</td>\n",
       "      <td>-6.896552</td>\n",
       "      <td>0.000000</td>\n",
       "      <td>0.000000e+00</td>\n",
       "      <td>0.000000</td>\n",
       "      <td>0.000000e+00</td>\n",
       "      <td>0.000000e+00</td>\n",
       "      <td>0.000000e+00</td>\n",
       "    </tr>\n",
       "    <tr>\n",
       "      <th>25%</th>\n",
       "      <td>1.000000</td>\n",
       "      <td>4.500000e+02</td>\n",
       "      <td>0.000000</td>\n",
       "      <td>0.000000</td>\n",
       "      <td>4.700000</td>\n",
       "      <td>1.270000</td>\n",
       "      <td>1.900000</td>\n",
       "      <td>0.100000</td>\n",
       "      <td>0.000000</td>\n",
       "      <td>0.000000</td>\n",
       "      <td>...</td>\n",
       "      <td>0.000000</td>\n",
       "      <td>0.000000</td>\n",
       "      <td>0.000000</td>\n",
       "      <td>0.000000</td>\n",
       "      <td>0.000000</td>\n",
       "      <td>0.000000e+00</td>\n",
       "      <td>0.000000</td>\n",
       "      <td>0.000000e+00</td>\n",
       "      <td>0.000000e+00</td>\n",
       "      <td>0.000000e+00</td>\n",
       "    </tr>\n",
       "    <tr>\n",
       "      <th>50%</th>\n",
       "      <td>10.000000</td>\n",
       "      <td>1.192000e+03</td>\n",
       "      <td>5.360000</td>\n",
       "      <td>1.790000</td>\n",
       "      <td>19.610000</td>\n",
       "      <td>5.000000</td>\n",
       "      <td>5.700000</td>\n",
       "      <td>0.645160</td>\n",
       "      <td>0.000000</td>\n",
       "      <td>0.000000</td>\n",
       "      <td>...</td>\n",
       "      <td>0.000000</td>\n",
       "      <td>0.000000</td>\n",
       "      <td>0.000000</td>\n",
       "      <td>0.000000</td>\n",
       "      <td>0.000000</td>\n",
       "      <td>0.000000e+00</td>\n",
       "      <td>0.000000</td>\n",
       "      <td>0.000000e+00</td>\n",
       "      <td>0.000000e+00</td>\n",
       "      <td>0.000000e+00</td>\n",
       "    </tr>\n",
       "    <tr>\n",
       "      <th>75%</th>\n",
       "      <td>16.000000</td>\n",
       "      <td>1.715000e+03</td>\n",
       "      <td>20.000000</td>\n",
       "      <td>7.140000</td>\n",
       "      <td>57.140000</td>\n",
       "      <td>23.035000</td>\n",
       "      <td>10.710000</td>\n",
       "      <td>1.361440</td>\n",
       "      <td>0.000000</td>\n",
       "      <td>0.000000</td>\n",
       "      <td>...</td>\n",
       "      <td>0.001290</td>\n",
       "      <td>0.000000</td>\n",
       "      <td>0.000000</td>\n",
       "      <td>0.000000</td>\n",
       "      <td>0.000000</td>\n",
       "      <td>0.000000e+00</td>\n",
       "      <td>0.000000</td>\n",
       "      <td>0.000000e+00</td>\n",
       "      <td>0.000000e+00</td>\n",
       "      <td>0.000000e+00</td>\n",
       "    </tr>\n",
       "    <tr>\n",
       "      <th>max</th>\n",
       "      <td>40.000000</td>\n",
       "      <td>3.251373e+06</td>\n",
       "      <td>714.290000</td>\n",
       "      <td>550.000000</td>\n",
       "      <td>209.380000</td>\n",
       "      <td>3520.000000</td>\n",
       "      <td>430.000000</td>\n",
       "      <td>64312.800000</td>\n",
       "      <td>557.140000</td>\n",
       "      <td>75.000000</td>\n",
       "      <td>...</td>\n",
       "      <td>50.000000</td>\n",
       "      <td>657.143000</td>\n",
       "      <td>4.000000</td>\n",
       "      <td>16.483516</td>\n",
       "      <td>0.700000</td>\n",
       "      <td>5.000000e-02</td>\n",
       "      <td>3.571429</td>\n",
       "      <td>3.000000e-02</td>\n",
       "      <td>1.040000e-04</td>\n",
       "      <td>5.000000e-03</td>\n",
       "    </tr>\n",
       "  </tbody>\n",
       "</table>\n",
       "<p>8 rows × 44 columns</p>\n",
       "</div>"
      ],
      "text/plain": [
       "       nutrition-score-fr_100g   energy_100g       fat_100g  \\\n",
       "count            221223.000000  2.212230e+05  221223.000000   \n",
       "mean                  9.164639  1.195217e+03      12.309933   \n",
       "std                   9.055873  6.986475e+03      15.967228   \n",
       "min                 -15.000000  0.000000e+00       0.000000   \n",
       "25%                   1.000000  4.500000e+02       0.000000   \n",
       "50%                  10.000000  1.192000e+03       5.360000   \n",
       "75%                  16.000000  1.715000e+03      20.000000   \n",
       "max                  40.000000  3.251373e+06     714.290000   \n",
       "\n",
       "       saturated-fat_100g  carbohydrates_100g    sugars_100g  proteins_100g  \\\n",
       "count       221223.000000       221223.000000  221223.000000  221223.000000   \n",
       "mean             4.965493           30.596926      15.010375       7.768934   \n",
       "std              7.657740           28.617299      21.175718       8.123507   \n",
       "min              0.000000            0.000000     -17.860000      -3.570000   \n",
       "25%              0.000000            4.700000       1.270000       1.900000   \n",
       "50%              1.790000           19.610000       5.000000       5.700000   \n",
       "75%              7.140000           57.140000      23.035000      10.710000   \n",
       "max            550.000000          209.380000    3520.000000     430.000000   \n",
       "\n",
       "           salt_100g  monounsaturated-fat_100g  polyunsaturated-fat_100g  ...  \\\n",
       "count  221223.000000             221223.000000             221223.000000  ...   \n",
       "mean        1.638742                  0.659043                  0.455032  ...   \n",
       "std       137.352639                  4.159129                  2.895605  ...   \n",
       "min         0.000000                  0.000000                  0.000000  ...   \n",
       "25%         0.100000                  0.000000                  0.000000  ...   \n",
       "50%         0.645160                  0.000000                  0.000000  ...   \n",
       "75%         1.361440                  0.000000                  0.000000  ...   \n",
       "max     64312.800000                557.140000                 75.000000  ...   \n",
       "\n",
       "           iron_100g  magnesium_100g      zinc_100g    copper_100g  \\\n",
       "count  221223.000000   221223.000000  221223.000000  221223.000000   \n",
       "mean        0.001888        0.011057       0.000116       0.000051   \n",
       "std         0.134368        2.010005       0.010429       0.037997   \n",
       "min        -0.000260        0.000000       0.000000      -6.896552   \n",
       "25%         0.000000        0.000000       0.000000       0.000000   \n",
       "50%         0.000000        0.000000       0.000000       0.000000   \n",
       "75%         0.001290        0.000000       0.000000       0.000000   \n",
       "max        50.000000      657.143000       4.000000      16.483516   \n",
       "\n",
       "       manganese_100g  fluoride_100g  selenium_100g  chromium_100g  \\\n",
       "count   221223.000000   2.212230e+05  221223.000000   2.212230e+05   \n",
       "mean         0.000020   7.376783e-07       0.000016   1.379204e-07   \n",
       "std          0.002372   1.553570e-04       0.007594   6.378419e-05   \n",
       "min          0.000000   0.000000e+00       0.000000   0.000000e+00   \n",
       "25%          0.000000   0.000000e+00       0.000000   0.000000e+00   \n",
       "50%          0.000000   0.000000e+00       0.000000   0.000000e+00   \n",
       "75%          0.000000   0.000000e+00       0.000000   0.000000e+00   \n",
       "max          0.700000   5.000000e-02       3.571429   3.000000e-02   \n",
       "\n",
       "       molybdenum_100g   iodine_100g  \n",
       "count     2.212230e+05  2.212230e+05  \n",
       "mean      1.069509e-09  3.157486e-07  \n",
       "std       2.646401e-07  2.458445e-05  \n",
       "min       0.000000e+00  0.000000e+00  \n",
       "25%       0.000000e+00  0.000000e+00  \n",
       "50%       0.000000e+00  0.000000e+00  \n",
       "75%       0.000000e+00  0.000000e+00  \n",
       "max       1.040000e-04  5.000000e-03  \n",
       "\n",
       "[8 rows x 44 columns]"
      ]
     },
     "execution_count": 24,
     "metadata": {},
     "output_type": "execute_result"
    }
   ],
   "source": [
    "data[data_num.columns].describe()"
   ]
  },
  {
   "cell_type": "markdown",
   "id": "8f9ff359-353a-4508-a2f4-91b8c9cd2b84",
   "metadata": {},
   "source": [
    "On observe différents outliers.  \n",
    "Concernant les valeurs négatives, seul le nutri-score peut avoir cette valeur. Pour toutes les autres, on remplace la valeur négative par zéro.  \n",
    "Concernant les valeurs maximum, les taux pour 100 g ne devraient pas dépasser 100. C'est une certitude pour les composants de base. En revanche, pour les vitamines et les Sels minéraux, il est possible que l'unité de mesure soit le µg. Une valeur supérieur à 100 est donc envisageable. Nous les laisserons donc."
   ]
  },
  {
   "cell_type": "code",
   "execution_count": 25,
   "id": "ae862d65-e6c4-4b09-8e1d-32733d7e705b",
   "metadata": {},
   "outputs": [
    {
     "name": "stdout",
     "output_type": "stream",
     "text": [
      "Toutes les valeurs négatives sont calées à 0. Elles représentent 10 valeurs, soit 0.005 % du dataset d'étude.\n",
      "Toutes les valeurs supérieures à 100 sont calées à 100 quand c'est sûr. Elles représentent 82 valeurs, soit 0.04 % du dataset d'étude.\n"
     ]
    }
   ],
   "source": [
    "# toutes les valeurs négatives, sauf le nutriscore seront calées à 0\n",
    "col_outliers_1 = col_mandatory + col_possible + col_pertinents + col_vitamins + col_minerals\n",
    "nb_num_neg = 0\n",
    "for col in col_outliers_1:\n",
    "    temp_nb_num_neg = data.loc[data[col]<0, :]\n",
    "    nb_num_neg += len(temp_nb_num_neg)\n",
    "    data.loc[data[col]<0, col] = 0  \n",
    "print(\"Toutes les valeurs négatives sont calées à 0. Elles représentent\", nb_num_neg, \"valeurs, soit\", round(nb_num_neg/len(data)*100, 3), \"% du dataset d'étude.\")\n",
    "\n",
    "# toutes les valeurs supérieures à 100, sauf les vitamines et minéraux (unités en µg parfois) et la valeur énergétique\n",
    "nb_num_sup_cent_ok = 0\n",
    "col_outliers_2 = col_mandatory[1:] + col_possible + col_pertinents\n",
    "for col in col_outliers_2:\n",
    "    temp_nb_num_sup_cent_ok = data.loc[data[col]>100, :]\n",
    "    nb_num_sup_cent_ok += len(temp_nb_num_sup_cent_ok)\n",
    "    data.loc[data[col]>100, col] = 100\n",
    "print(\"Toutes les valeurs supérieures à 100 sont calées à 100 quand c'est sûr. Elles représentent\", nb_num_sup_cent_ok, \"valeurs, soit\", round(nb_num_sup_cent_ok/len(data)*100, 2), \"% du dataset d'étude.\")"
   ]
  },
  {
   "cell_type": "code",
   "execution_count": 26,
   "id": "4a4086c5-9785-4f68-a6c8-ad73a81d7176",
   "metadata": {},
   "outputs": [
    {
     "name": "stdout",
     "output_type": "stream",
     "text": [
      "Il y a cependant, des valeurs supérieures à 100 qu'on laissera ainsi. Elles représentent 17 valeurs, soit 0.008 % du dataset d'étude.\n"
     ]
    }
   ],
   "source": [
    "# outliers qu'on laissera ainsi à cause des différentes unités de mesure\n",
    "nb_num_sup_cent_maybe = 0\n",
    "col_outliers_3 = col_vitamins + col_minerals\n",
    "for col in col_outliers_3:\n",
    "    temp_nb_num_sup_cent_maybe = data.loc[data[col]>100, :]\n",
    "    nb_num_sup_cent_maybe += len(temp_nb_num_sup_cent_maybe)\n",
    "print(\"Il y a cependant, des valeurs supérieures à 100 qu'on laissera ainsi. Elles représentent\", nb_num_sup_cent_maybe, \"valeurs, soit\", round(nb_num_sup_cent_maybe/len(data)*100, 3), \"% du dataset d'étude.\")    "
   ]
  },
  {
   "cell_type": "code",
   "execution_count": 27,
   "id": "d1ea1ae6-bedd-4d5f-af82-535ffb9c6c7c",
   "metadata": {
    "tags": []
   },
   "outputs": [
    {
     "data": {
      "image/png": "[encoded data removed]",
      "text/plain": [
       "<Figure size 640x480 with 1 Axes>"
      ]
     },
     "metadata": {},
     "output_type": "display_data"
    }
   ],
   "source": [
    "# autre outliers energy\n",
    "data.boxplot(column=\"energy_100g\", vert=False, showfliers=False)\n",
    "plt.show()"
   ]
  },
  {
   "cell_type": "code",
   "execution_count": 28,
   "id": "c5928cae-fafd-4bca-a7a5-05210fe272ec",
   "metadata": {},
   "outputs": [
    {
     "name": "stdout",
     "output_type": "stream",
     "text": [
      "IQR :  1265.0\n",
      "borne max :  3612.5\n",
      "Nous modifions la valeur de l'énergie pour 442 lignes, soit 0.2 % du dataset d'étude.\n"
     ]
    }
   ],
   "source": [
    "# On cale les outliers max de l'énergie pour avoir quelque chose d'exploitable\n",
    "quartiles = [np.nanpercentile(data[\"energy_100g\"], p) for p in [25, 75]]\n",
    "IQR = quartiles[1]-quartiles[0]\n",
    "borne_max = 1.5*IQR+quartiles[1]\n",
    "print(\"IQR : \", IQR)\n",
    "print(\"borne max : \", borne_max)\n",
    "\n",
    "max_possible = 3700\n",
    "nb_energy_sup_max = len(data.loc[data[\"energy_100g\"]>max_possible, :])\n",
    "print(\"Nous modifions la valeur de l'énergie pour\", nb_energy_sup_max, \"lignes, soit\", round(nb_energy_sup_max/len(data)*100, 2), \"% du dataset d'étude.\")    \n",
    "data.loc[data[\"energy_100g\"]>borne_max, \"energy_100g\"] = max_possible"
   ]
  },
  {
   "cell_type": "code",
   "execution_count": 29,
   "id": "334cd853-7865-4e59-8a91-acb2357d97af",
   "metadata": {},
   "outputs": [
    {
     "data": {
      "text/html": [
       "<div>\n",
       "<style scoped>\n",
       "    .dataframe tbody tr th:only-of-type {\n",
       "        vertical-align: middle;\n",
       "    }\n",
       "\n",
       "    .dataframe tbody tr th {\n",
       "        vertical-align: top;\n",
       "    }\n",
       "\n",
       "    .dataframe thead th {\n",
       "        text-align: right;\n",
       "    }\n",
       "</style>\n",
       "<table border=\"1\" class=\"dataframe\">\n",
       "  <thead>\n",
       "    <tr style=\"text-align: right;\">\n",
       "      <th></th>\n",
       "      <th>nutrition-score-fr_100g</th>\n",
       "      <th>energy_100g</th>\n",
       "      <th>fat_100g</th>\n",
       "      <th>saturated-fat_100g</th>\n",
       "      <th>carbohydrates_100g</th>\n",
       "      <th>sugars_100g</th>\n",
       "      <th>proteins_100g</th>\n",
       "      <th>salt_100g</th>\n",
       "      <th>monounsaturated-fat_100g</th>\n",
       "      <th>polyunsaturated-fat_100g</th>\n",
       "      <th>...</th>\n",
       "      <th>iron_100g</th>\n",
       "      <th>magnesium_100g</th>\n",
       "      <th>zinc_100g</th>\n",
       "      <th>copper_100g</th>\n",
       "      <th>manganese_100g</th>\n",
       "      <th>fluoride_100g</th>\n",
       "      <th>selenium_100g</th>\n",
       "      <th>chromium_100g</th>\n",
       "      <th>molybdenum_100g</th>\n",
       "      <th>iodine_100g</th>\n",
       "    </tr>\n",
       "  </thead>\n",
       "  <tbody>\n",
       "    <tr>\n",
       "      <th>count</th>\n",
       "      <td>221223.000000</td>\n",
       "      <td>221223.000000</td>\n",
       "      <td>221223.000000</td>\n",
       "      <td>221223.000000</td>\n",
       "      <td>221223.000000</td>\n",
       "      <td>221223.000000</td>\n",
       "      <td>221223.000000</td>\n",
       "      <td>221223.000000</td>\n",
       "      <td>221223.000000</td>\n",
       "      <td>221223.000000</td>\n",
       "      <td>...</td>\n",
       "      <td>221223.000000</td>\n",
       "      <td>221223.000000</td>\n",
       "      <td>221223.000000</td>\n",
       "      <td>221223.000000</td>\n",
       "      <td>221223.000000</td>\n",
       "      <td>2.212230e+05</td>\n",
       "      <td>221223.000000</td>\n",
       "      <td>2.212230e+05</td>\n",
       "      <td>2.212230e+05</td>\n",
       "      <td>2.212230e+05</td>\n",
       "    </tr>\n",
       "    <tr>\n",
       "      <th>mean</th>\n",
       "      <td>9.164639</td>\n",
       "      <td>1176.591605</td>\n",
       "      <td>12.305863</td>\n",
       "      <td>4.962962</td>\n",
       "      <td>30.595569</td>\n",
       "      <td>14.994811</td>\n",
       "      <td>7.767458</td>\n",
       "      <td>1.258245</td>\n",
       "      <td>0.656977</td>\n",
       "      <td>0.455032</td>\n",
       "      <td>...</td>\n",
       "      <td>0.001888</td>\n",
       "      <td>0.011057</td>\n",
       "      <td>0.000116</td>\n",
       "      <td>0.000083</td>\n",
       "      <td>0.000020</td>\n",
       "      <td>7.376783e-07</td>\n",
       "      <td>0.000016</td>\n",
       "      <td>1.379204e-07</td>\n",
       "      <td>1.069509e-09</td>\n",
       "      <td>3.157486e-07</td>\n",
       "    </tr>\n",
       "    <tr>\n",
       "      <th>std</th>\n",
       "      <td>9.055873</td>\n",
       "      <td>763.007574</td>\n",
       "      <td>15.880124</td>\n",
       "      <td>7.562392</td>\n",
       "      <td>28.612192</td>\n",
       "      <td>19.820681</td>\n",
       "      <td>8.076114</td>\n",
       "      <td>4.220782</td>\n",
       "      <td>3.992887</td>\n",
       "      <td>2.895605</td>\n",
       "      <td>...</td>\n",
       "      <td>0.134368</td>\n",
       "      <td>2.010005</td>\n",
       "      <td>0.010429</td>\n",
       "      <td>0.035054</td>\n",
       "      <td>0.002372</td>\n",
       "      <td>1.553570e-04</td>\n",
       "      <td>0.007594</td>\n",
       "      <td>6.378419e-05</td>\n",
       "      <td>2.646401e-07</td>\n",
       "      <td>2.458445e-05</td>\n",
       "    </tr>\n",
       "    <tr>\n",
       "      <th>min</th>\n",
       "      <td>-15.000000</td>\n",
       "      <td>0.000000</td>\n",
       "      <td>0.000000</td>\n",
       "      <td>0.000000</td>\n",
       "      <td>0.000000</td>\n",
       "      <td>0.000000</td>\n",
       "      <td>0.000000</td>\n",
       "      <td>0.000000</td>\n",
       "      <td>0.000000</td>\n",
       "      <td>0.000000</td>\n",
       "      <td>...</td>\n",
       "      <td>0.000000</td>\n",
       "      <td>0.000000</td>\n",
       "      <td>0.000000</td>\n",
       "      <td>0.000000</td>\n",
       "      <td>0.000000</td>\n",
       "      <td>0.000000e+00</td>\n",
       "      <td>0.000000</td>\n",
       "      <td>0.000000e+00</td>\n",
       "      <td>0.000000e+00</td>\n",
       "      <td>0.000000e+00</td>\n",
       "    </tr>\n",
       "    <tr>\n",
       "      <th>25%</th>\n",
       "      <td>1.000000</td>\n",
       "      <td>450.000000</td>\n",
       "      <td>0.000000</td>\n",
       "      <td>0.000000</td>\n",
       "      <td>4.700000</td>\n",
       "      <td>1.270000</td>\n",
       "      <td>1.900000</td>\n",
       "      <td>0.100000</td>\n",
       "      <td>0.000000</td>\n",
       "      <td>0.000000</td>\n",
       "      <td>...</td>\n",
       "      <td>0.000000</td>\n",
       "      <td>0.000000</td>\n",
       "      <td>0.000000</td>\n",
       "      <td>0.000000</td>\n",
       "      <td>0.000000</td>\n",
       "      <td>0.000000e+00</td>\n",
       "      <td>0.000000</td>\n",
       "      <td>0.000000e+00</td>\n",
       "      <td>0.000000e+00</td>\n",
       "      <td>0.000000e+00</td>\n",
       "    </tr>\n",
       "    <tr>\n",
       "      <th>50%</th>\n",
       "      <td>10.000000</td>\n",
       "      <td>1192.000000</td>\n",
       "      <td>5.360000</td>\n",
       "      <td>1.790000</td>\n",
       "      <td>19.610000</td>\n",
       "      <td>5.000000</td>\n",
       "      <td>5.700000</td>\n",
       "      <td>0.645160</td>\n",
       "      <td>0.000000</td>\n",
       "      <td>0.000000</td>\n",
       "      <td>...</td>\n",
       "      <td>0.000000</td>\n",
       "      <td>0.000000</td>\n",
       "      <td>0.000000</td>\n",
       "      <td>0.000000</td>\n",
       "      <td>0.000000</td>\n",
       "      <td>0.000000e+00</td>\n",
       "      <td>0.000000</td>\n",
       "      <td>0.000000e+00</td>\n",
       "      <td>0.000000e+00</td>\n",
       "      <td>0.000000e+00</td>\n",
       "    </tr>\n",
       "    <tr>\n",
       "      <th>75%</th>\n",
       "      <td>16.000000</td>\n",
       "      <td>1715.000000</td>\n",
       "      <td>20.000000</td>\n",
       "      <td>7.140000</td>\n",
       "      <td>57.140000</td>\n",
       "      <td>23.035000</td>\n",
       "      <td>10.710000</td>\n",
       "      <td>1.361440</td>\n",
       "      <td>0.000000</td>\n",
       "      <td>0.000000</td>\n",
       "      <td>...</td>\n",
       "      <td>0.001290</td>\n",
       "      <td>0.000000</td>\n",
       "      <td>0.000000</td>\n",
       "      <td>0.000000</td>\n",
       "      <td>0.000000</td>\n",
       "      <td>0.000000e+00</td>\n",
       "      <td>0.000000</td>\n",
       "      <td>0.000000e+00</td>\n",
       "      <td>0.000000e+00</td>\n",
       "      <td>0.000000e+00</td>\n",
       "    </tr>\n",
       "    <tr>\n",
       "      <th>max</th>\n",
       "      <td>40.000000</td>\n",
       "      <td>3700.000000</td>\n",
       "      <td>100.000000</td>\n",
       "      <td>100.000000</td>\n",
       "      <td>100.000000</td>\n",
       "      <td>100.000000</td>\n",
       "      <td>100.000000</td>\n",
       "      <td>100.000000</td>\n",
       "      <td>100.000000</td>\n",
       "      <td>75.000000</td>\n",
       "      <td>...</td>\n",
       "      <td>50.000000</td>\n",
       "      <td>657.143000</td>\n",
       "      <td>4.000000</td>\n",
       "      <td>16.483516</td>\n",
       "      <td>0.700000</td>\n",
       "      <td>5.000000e-02</td>\n",
       "      <td>3.571429</td>\n",
       "      <td>3.000000e-02</td>\n",
       "      <td>1.040000e-04</td>\n",
       "      <td>5.000000e-03</td>\n",
       "    </tr>\n",
       "  </tbody>\n",
       "</table>\n",
       "<p>8 rows × 44 columns</p>\n",
       "</div>"
      ],
      "text/plain": [
       "       nutrition-score-fr_100g    energy_100g       fat_100g  \\\n",
       "count            221223.000000  221223.000000  221223.000000   \n",
       "mean                  9.164639    1176.591605      12.305863   \n",
       "std                   9.055873     763.007574      15.880124   \n",
       "min                 -15.000000       0.000000       0.000000   \n",
       "25%                   1.000000     450.000000       0.000000   \n",
       "50%                  10.000000    1192.000000       5.360000   \n",
       "75%                  16.000000    1715.000000      20.000000   \n",
       "max                  40.000000    3700.000000     100.000000   \n",
       "\n",
       "       saturated-fat_100g  carbohydrates_100g    sugars_100g  proteins_100g  \\\n",
       "count       221223.000000       221223.000000  221223.000000  221223.000000   \n",
       "mean             4.962962           30.595569      14.994811       7.767458   \n",
       "std              7.562392           28.612192      19.820681       8.076114   \n",
       "min              0.000000            0.000000       0.000000       0.000000   \n",
       "25%              0.000000            4.700000       1.270000       1.900000   \n",
       "50%              1.790000           19.610000       5.000000       5.700000   \n",
       "75%              7.140000           57.140000      23.035000      10.710000   \n",
       "max            100.000000          100.000000     100.000000     100.000000   \n",
       "\n",
       "           salt_100g  monounsaturated-fat_100g  polyunsaturated-fat_100g  ...  \\\n",
       "count  221223.000000             221223.000000             221223.000000  ...   \n",
       "mean        1.258245                  0.656977                  0.455032  ...   \n",
       "std         4.220782                  3.992887                  2.895605  ...   \n",
       "min         0.000000                  0.000000                  0.000000  ...   \n",
       "25%         0.100000                  0.000000                  0.000000  ...   \n",
       "50%         0.645160                  0.000000                  0.000000  ...   \n",
       "75%         1.361440                  0.000000                  0.000000  ...   \n",
       "max       100.000000                100.000000                 75.000000  ...   \n",
       "\n",
       "           iron_100g  magnesium_100g      zinc_100g    copper_100g  \\\n",
       "count  221223.000000   221223.000000  221223.000000  221223.000000   \n",
       "mean        0.001888        0.011057       0.000116       0.000083   \n",
       "std         0.134368        2.010005       0.010429       0.035054   \n",
       "min         0.000000        0.000000       0.000000       0.000000   \n",
       "25%         0.000000        0.000000       0.000000       0.000000   \n",
       "50%         0.000000        0.000000       0.000000       0.000000   \n",
       "75%         0.001290        0.000000       0.000000       0.000000   \n",
       "max        50.000000      657.143000       4.000000      16.483516   \n",
       "\n",
       "       manganese_100g  fluoride_100g  selenium_100g  chromium_100g  \\\n",
       "count   221223.000000   2.212230e+05  221223.000000   2.212230e+05   \n",
       "mean         0.000020   7.376783e-07       0.000016   1.379204e-07   \n",
       "std          0.002372   1.553570e-04       0.007594   6.378419e-05   \n",
       "min          0.000000   0.000000e+00       0.000000   0.000000e+00   \n",
       "25%          0.000000   0.000000e+00       0.000000   0.000000e+00   \n",
       "50%          0.000000   0.000000e+00       0.000000   0.000000e+00   \n",
       "75%          0.000000   0.000000e+00       0.000000   0.000000e+00   \n",
       "max          0.700000   5.000000e-02       3.571429   3.000000e-02   \n",
       "\n",
       "       molybdenum_100g   iodine_100g  \n",
       "count     2.212230e+05  2.212230e+05  \n",
       "mean      1.069509e-09  3.157486e-07  \n",
       "std       2.646401e-07  2.458445e-05  \n",
       "min       0.000000e+00  0.000000e+00  \n",
       "25%       0.000000e+00  0.000000e+00  \n",
       "50%       0.000000e+00  0.000000e+00  \n",
       "75%       0.000000e+00  0.000000e+00  \n",
       "max       1.040000e-04  5.000000e-03  \n",
       "\n",
       "[8 rows x 44 columns]"
      ]
     },
     "execution_count": 29,
     "metadata": {},
     "output_type": "execute_result"
    }
   ],
   "source": [
    "data[data_num.columns].describe()"
   ]
  }
 ],
 "metadata": {
  "kernelspec": {
   "display_name": "conda_env_prj03",
   "language": "python",
   "name": "conda_env_prj03"
  },
  "language_info": {
   "codemirror_mode": {
    "name": "ipython",
    "version": 3
   },
   "file_extension": ".py",
   "mimetype": "text/x-python",
   "name": "python",
   "nbconvert_exporter": "python",
   "pygments_lexer": "ipython3",
   "version": "3.9.13"
  }
 },
 "nbformat": 4,
 "nbformat_minor": 5
}
