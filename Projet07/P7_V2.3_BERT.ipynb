{
 "cells": [
  {
   "cell_type": "markdown",
   "id": "bd238a40-9d8c-4d6f-ac02-fb9082ba83d7",
   "metadata": {
    "jp-MarkdownHeadingCollapsed": true,
    "tags": []
   },
   "source": [
    "# Import"
   ]
  },
  {
   "cell_type": "code",
   "execution_count": 1,
   "id": "485e8be7-23ed-4780-8aac-8001b09df5fd",
   "metadata": {},
   "outputs": [],
   "source": [
    "import warnings\n",
    "warnings.filterwarnings('ignore')"
   ]
  },
  {
   "cell_type": "code",
   "execution_count": 2,
   "id": "5b8ddae5-db2a-47aa-a542-546706c712a2",
   "metadata": {},
   "outputs": [
    {
     "name": "stderr",
     "output_type": "stream",
     "text": [
      "[nltk_data] Downloading package wordnet to /home/slerendu/nltk_data...\n",
      "[nltk_data]   Package wordnet is already up-to-date!\n"
     ]
    }
   ],
   "source": [
    "import pandas as pd\n",
    "import numpy as np\n",
    "import matplotlib.pyplot as plt\n",
    "import plotly.express as px\n",
    "import time\n",
    "\n",
    "# pour traitement du language (NLP)\n",
    "import string\n",
    "import nltk\n",
    "nltk.download('wordnet')\n",
    "from nltk import tokenize, pos_tag\n",
    "from nltk.corpus import stopwords, wordnet\n",
    "from nltk.stem import PorterStemmer, WordNetLemmatizer\n",
    "from wordcloud import WordCloud\n",
    "from collections import Counter\n",
    "\n",
    "from sklearn.feature_extraction.text import TfidfVectorizer\n",
    "from gensim.models import Word2Vec\n",
    "from gensim.corpora import Dictionary\n",
    "from sklearn.manifold import TSNE\n",
    "\n",
    "import mlflow\n",
    "import pickle\n",
    "\n",
    "from sklearn import metrics as metrics_sklearn"
   ]
  },
  {
   "cell_type": "code",
   "execution_count": 3,
   "id": "c344366f-274f-4ee2-a9b2-032f05a83037",
   "metadata": {},
   "outputs": [
    {
     "name": "stderr",
     "output_type": "stream",
     "text": [
      "2023/08/12 10:03:32 INFO mlflow.tracking.fluent: Autologging successfully enabled for sklearn.\n"
     ]
    }
   ],
   "source": [
    "mlflow.autolog()\n",
    "from mlflow import log_metric, log_param, log_params, log_artifacts"
   ]
  },
  {
   "cell_type": "code",
   "execution_count": 4,
   "id": "d9055e7c-e029-45e7-a408-f2c96da6672c",
   "metadata": {},
   "outputs": [],
   "source": [
    "import os\n",
    "os.environ[\"CUDA_VISIBLE_DEVICES\"] = \"-1\""
   ]
  },
  {
   "cell_type": "code",
   "execution_count": 5,
   "id": "8a516a78-008b-43c0-8dd1-521b24e6bace",
   "metadata": {},
   "outputs": [],
   "source": [
    "os.environ['TF_CPP_MIN_LOG_LEVEL'] = '3'"
   ]
  },
  {
   "cell_type": "code",
   "execution_count": 6,
   "id": "714fbfc4-17ca-44fb-95e2-7af20fdf50ae",
   "metadata": {},
   "outputs": [],
   "source": [
    "mlflow.set_tracking_uri(\"http://localhost:5000\")"
   ]
  },
  {
   "cell_type": "markdown",
   "id": "dae96e44-c262-4c86-b9c6-809de93e0fbd",
   "metadata": {
    "jp-MarkdownHeadingCollapsed": true,
    "tags": []
   },
   "source": [
    "# Méthodes"
   ]
  },
  {
   "cell_type": "markdown",
   "id": "5febac41-2e10-4ebf-afaa-0020fd9808b6",
   "metadata": {
    "tags": []
   },
   "source": [
    "### Méthodes pour les datas"
   ]
  },
  {
   "cell_type": "code",
   "execution_count": 7,
   "id": "5065e53d-91a3-4ca1-87e4-5f4b0085b718",
   "metadata": {
    "tags": []
   },
   "outputs": [],
   "source": [
    "# pour les pie charts, pour afficher les pourcentages et les libellés uniquement avec le taux > limit_perc%\n",
    "limit_perc = 5\n",
    "def show_perc(pct):\n",
    "    \"\"\" Affiche le pourcentage de chaque portion si la condition est vérifiée \"\"\"\n",
    "    return ('%.1f%%' % pct) if pct > limit_perc else ''\n",
    "\n",
    "def show_labels(data):\n",
    "    list = []\n",
    "    for val, cnt in data.items():\n",
    "        if (cnt*100/np.sum(data)) > limit_perc :\n",
    "            list.append(val)\n",
    "        else:\n",
    "            list.append('')\n",
    "    return list"
   ]
  },
  {
   "cell_type": "code",
   "execution_count": 8,
   "id": "349552c8-39e4-4400-8ae7-1885eacd2a2e",
   "metadata": {},
   "outputs": [],
   "source": [
    "def show_unique_values(df, col, display_pie=True, silent=False):\n",
    "    \"\"\"\n",
    "    Affiche la liste des valeurs uniques contenues dans une colonne\n",
    "    Affiche le pie chart de ces données également\n",
    "    \"\"\"\n",
    "    temp_val_count = df[col].value_counts(normalize=True)\n",
    "    df_val_count = temp_val_count.rename_axis(\"label\").to_frame(\"%\")\n",
    "    df_val_count[\"%\"] = round(df_val_count[\"%\"]*100, 2)\n",
    "    df_val_count[\"%_cumul\"] = df_val_count[\"%\"].cumsum()\n",
    "    # afficher la majeur partie des catégories\n",
    "    sub_display = df_val_count.loc[df_val_count[\"%_cumul\"] <= 85, :]\n",
    "    \n",
    "    if silent:\n",
    "        return sub_display\n",
    "    \n",
    "    if len(sub_display) < 5:\n",
    "        display(df_val_count.head())\n",
    "    else:\n",
    "        display(sub_display.head(len(sub_display)))\n",
    "    if display_pie:\n",
    "        temp_val_count.plot(kind='pie', autopct=show_perc, labels=show_labels(temp_val_count), label='')\n",
    "        plt.axis('equal')\n",
    "        plt.show()\n",
    "    return sub_display"
   ]
  },
  {
   "cell_type": "markdown",
   "id": "b7102a8d-0820-426a-be51-096db8e403b1",
   "metadata": {
    "tags": []
   },
   "source": [
    "### Méthodes pour preprocessing"
   ]
  },
  {
   "cell_type": "code",
   "execution_count": 9,
   "id": "ba90338e-84d7-4e7c-bca2-ae6bc0ebfaa7",
   "metadata": {},
   "outputs": [],
   "source": [
    "def get_wordnet_pos(word):\n",
    "    \"\"\"Return the corresponding character for a word use in the lemmatization\n",
    "    \n",
    "    Parameters:\n",
    "    word (str): a word\n",
    "    \n",
    "    Returns:\n",
    "    str: the corresponding character\n",
    "    \"\"\"\n",
    "    tag = nltk.pos_tag([word])[0][1][0].upper()\n",
    "    tag_dict = {\"J\": wordnet.ADJ,\n",
    "                \"N\": wordnet.NOUN,\n",
    "                \"V\": wordnet.VERB,\n",
    "                \"R\": wordnet.ADV}\n",
    "\n",
    "    return tag_dict.get(tag, wordnet.NOUN)"
   ]
  },
  {
   "cell_type": "code",
   "execution_count": 10,
   "id": "e82505d9-2ace-4ed9-bf3d-2aa93772f25a",
   "metadata": {},
   "outputs": [],
   "source": [
    "def detailled_lemmatizer(sentence):\n",
    "    \"\"\"Lemmatize a sentence and return it\n",
    "    \n",
    "    Parameters:\n",
    "    sentence (list(str)): a list of words\n",
    "    \n",
    "    Returns:\n",
    "    (list(str)): a list of lemmatized words\n",
    "    \"\"\"\n",
    "    lemmatizer = WordNetLemmatizer()\n",
    "    result = [lemmatizer.lemmatize(w, get_wordnet_pos(w)) for w in sentence]\n",
    "    return result"
   ]
  },
  {
   "cell_type": "code",
   "execution_count": 11,
   "id": "554db83d-81ab-412e-8723-7d1c4d8f5e47",
   "metadata": {},
   "outputs": [],
   "source": [
    "def clean_text(X):\n",
    "    X = X.split()\n",
    "    X_wo_arobas = [x for x in X if not x.startswith(\"@\")]\n",
    "    X_new = [x for x in X_wo_arobas if not x.startswith(\"http\")]\n",
    "    return ' '.join(X_new)"
   ]
  },
  {
   "cell_type": "code",
   "execution_count": 12,
   "id": "0f3f2b8e-aa82-4021-9a23-f0d35960a8f9",
   "metadata": {},
   "outputs": [],
   "source": [
    "def filter_pos_tag(df, col, tags_to_remove=[], debug=False):\n",
    "    \"\"\"Filter words from a list of Part-Of-Speech tags\n",
    "    \n",
    "    Parameters:\n",
    "    df (dataframe): input dataframe\n",
    "    col (str): column to process\n",
    "    tags_to_remove list(str): a list of POS tag\n",
    "    debug (bool): show debug elements\n",
    "    \n",
    "    Returns:\n",
    "    list(list(str)): return a list of document. Each document is a list of words    \n",
    "    \"\"\"\n",
    "    result = []\n",
    "    if not tags_to_remove:\n",
    "        print(\"Aucun filtre n'a été défini.\")\n",
    "        return df[col]\n",
    "    for index, row in df.iterrows():\n",
    "        temp_res = pos_tag(row[col])\n",
    "        temp_res = [x for x in temp_res if x[1] not in tags_to_remove]\n",
    "        # if debug:\n",
    "        #     print(temp_res[0])\n",
    "        result.append([x[0] for x in temp_res])\n",
    "    return result"
   ]
  },
  {
   "cell_type": "code",
   "execution_count": 13,
   "id": "6166a297-a740-40d8-ab7e-a02ffe94f060",
   "metadata": {},
   "outputs": [],
   "source": [
    "def filter_exclude_words(df, col, words_to_exclude=[], debug=False):\n",
    "    \"\"\"Filter words from a list of specific words\n",
    "    \n",
    "    Parameters:\n",
    "    df (dataframe): input dataframe\n",
    "    col (str): column to process\n",
    "    words_to_exclude list(str): a list of words\n",
    "    debug (bool): show debug elements\n",
    "    \n",
    "    Returns:\n",
    "    list(list(str)): return a list of document. Each document is a list of words    \n",
    "    \"\"\"\n",
    "    result = []\n",
    "    if not words_to_exclude:\n",
    "        print(\"Aucun mots à exclure.\")\n",
    "        return df[col]\n",
    "    for index, row in df.iterrows():\n",
    "        result.append([x for x in row[col] if x not in words_to_exclude])\n",
    "    return result"
   ]
  },
  {
   "cell_type": "code",
   "execution_count": 14,
   "id": "02e5976d-f627-4ef3-adcd-b4eebce2e431",
   "metadata": {},
   "outputs": [],
   "source": [
    "def display_wordcloud(corpus, debug=False):\n",
    "    \"\"\"Display a WordCloud picture from a corpus\n",
    "    \n",
    "    Parameters:\n",
    "    corpus (dict): a Counter dictionary with the frequency of each words\n",
    "    debug (bool): show debug elements\n",
    "    \n",
    "    Returns:\n",
    "    \n",
    "    \"\"\"\n",
    "    wordcloud = WordCloud(\n",
    "            random_state = 42,\n",
    "            normalize_plurals = False,\n",
    "            width = 600, \n",
    "            height= 300,\n",
    "            max_words = 100,\n",
    "            stopwords = [],\n",
    "            colormap=\"BrBG\")\n",
    "\n",
    "    wordcloud.generate_from_frequencies(corpus)\n",
    "    \n",
    "    fig, ax = plt.subplots(1,1, figsize = (12,8))\n",
    "    plt.imshow(wordcloud, interpolation='bilinear')\n",
    "    plt.axis(\"off\")"
   ]
  },
  {
   "cell_type": "code",
   "execution_count": 15,
   "id": "f8da309e-61fb-4799-a138-1e6c8355452f",
   "metadata": {},
   "outputs": [],
   "source": [
    "def clean_textism(sentence):\n",
    "    neo_sentence = []\n",
    "    for word in sentence:\n",
    "        if word == 'u':\n",
    "            neo_sentence.append('you')\n",
    "        elif word == 'r':\n",
    "            neo_sentence.append('are')\n",
    "        elif word == 'ur':\n",
    "            neo_sentence.append('your')\n",
    "        elif word == 'some1':\n",
    "            neo_sentence.append('someone')\n",
    "        elif word == 'yrs':\n",
    "            neo_sentence.append('years')\n",
    "        elif word == 'hrs':\n",
    "            neo_sentence.append('hours')\n",
    "        elif word == 'mins':\n",
    "            neo_sentence.append('minutes')\n",
    "        elif word == 'secs':\n",
    "            neo_sentence.append('seconds')\n",
    "        elif word == 'pls' or word == 'plz':\n",
    "            neo_sentence.append('please')\n",
    "        elif word == '2morow':\n",
    "            neo_sentence.append('tomorrow')\n",
    "        elif word == '2day':\n",
    "            neo_sentence.append('today')\n",
    "        elif word == '2nite':\n",
    "            neo_sentence.append('tonight')\n",
    "        elif word == '4got' or word == '4gotten':\n",
    "            neo_sentence.append('forget')\n",
    "        elif word == 'amp' or word == 'quot' or word == 'lt' or word == 'gt' or word == '½25':\n",
    "            neo_sentence.append('')\n",
    "        else:\n",
    "            neo_sentence.append(word)\n",
    "    return neo_sentence"
   ]
  },
  {
   "cell_type": "code",
   "execution_count": 16,
   "id": "74bb43d8-cea3-4cee-9a96-f3f9537a2e2c",
   "metadata": {},
   "outputs": [],
   "source": [
    "def preprocessing_words(df, col, stem_or_lemma=\"stem\", debug=False):\n",
    "    \"\"\"Compute all the basics string tranformations in NLP\n",
    "    Normalisation, Tokenization, Remove of stopwords, Stemmation or Lemmatization\n",
    "    \n",
    "    Parameters:\n",
    "    df (dataframe): input dataframe\n",
    "    col (str): column to process\n",
    "    stem_or_lemma (str): choose between stemmation or lemmatization\n",
    "    debug (bool): show debug elements\n",
    "    \n",
    "    Returns:\n",
    "    list(list(str)): return a list of document. Each document is a list of words\n",
    "    \"\"\"\n",
    "    result = []    \n",
    "    # building stopwords list\n",
    "    stopW = stopwords.words('english')\n",
    "    stopW.extend(string.punctuation)\n",
    "    \n",
    "    for index, row in df.iterrows():        \n",
    "        temp_res = \"\"\n",
    "        # normalisation\n",
    "        temp_res = row[col].lower()\n",
    "        # tokenization\n",
    "        tk = tokenize.TweetTokenizer(reduce_len=True)\n",
    "        temp_res = tk.tokenize(temp_res)\n",
    "        \n",
    "        # clean the sms language to usefull langage\n",
    "        temp_res = clean_textism(temp_res)\n",
    "        \n",
    "        # remove stopwords\n",
    "        temp_res = [word for word in temp_res if word not in stopW]\n",
    "        \n",
    "        # stemmation or lemmatization\n",
    "        if stem_or_lemma == \"stem\":\n",
    "            stemmer = PorterStemmer()\n",
    "            temp_res = [stemmer.stem(elt) for elt in temp_res]\n",
    "        elif stem_or_lemma == \"lemma\":\n",
    "            temp_res = detailled_lemmatizer(temp_res)\n",
    "        else:\n",
    "            print(\"stem or lemma only\")\n",
    "            \n",
    "        result.append(temp_res)\n",
    "    return result"
   ]
  },
  {
   "cell_type": "code",
   "execution_count": 17,
   "id": "9d38d84f-f693-4dc1-b624-2d69c6e7c695",
   "metadata": {},
   "outputs": [],
   "source": [
    "def natural_language_processing(\n",
    "    df, col, stem_or_lemma=\"stem\", tags_to_remove=[], words_to_exclude=[],\n",
    "    max_threshold=999, min_threshold=0, word_cloud=True, debug=False):\n",
    "    \"\"\"Compute NLP preprocessing methods\n",
    "    \n",
    "    Parameters:\n",
    "    df (dataframe): input dataframe\n",
    "    col (str): column to process\n",
    "    stem_or_lemma (str): choose between stemmation or lemmatization\n",
    "    tags_to_remove list(str): a list of POS tag\n",
    "    words_to_exclude list(str): a list of words\n",
    "    max_threshold (int): upper threshold to filter word frequency\n",
    "    min_threshold (int): lower threshold to filter word frequency\n",
    "    word_cloud (bool): display WordCloud representation\n",
    "    debug (bool): show debug elements\n",
    "    \n",
    "    Returns:\n",
    "    list(list(str)): return a list of document. Each document is a list of words    \n",
    "    \"\"\"\n",
    "    # df = input_df.copy()\n",
    "    # supprimer des mots spécifiques à twitter (commençant par @ et hhtp)\n",
    "    df[col] = df[col].apply(clean_text)\n",
    "    \n",
    "    # preprocessing part\n",
    "    preproc_res = preprocessing_words(df, col, stem_or_lemma=stem_or_lemma, debug=debug)\n",
    "    df.insert(0, 'preproc_text', preproc_res)\n",
    "    \n",
    "    # filter by pos tag part\n",
    "    filtpos_res = filter_pos_tag(df, \"preproc_text\", tags_to_remove=tags_to_remove, debug=debug)\n",
    "    df.insert(0, 'filtpos_text', filtpos_res)\n",
    "    \n",
    "    # filter by excluding words\n",
    "    filtexcl_words = filter_exclude_words(df, \"filtpos_text\", words_to_exclude=words_to_exclude, debug=debug)\n",
    "    df.insert(0, 'filtexcl_words', filtexcl_words)\n",
    "    \n",
    "    if debug:\n",
    "        display(df[[col, 'preproc_text', 'filtpos_text', 'filtexcl_words']].head())\n",
    "    \n",
    "    # concatenate all documents into a single corpus\n",
    "    corpus = df[\"filtexcl_words\"].tolist()\n",
    "    corpus = [item for sublist in corpus for item in sublist]\n",
    "    \n",
    "    word_counts = Counter(corpus)\n",
    "    print(\"Il y a un total de\", len(word_counts), \"mots différents dans tout le corpus.\")\n",
    "    word_counts_threshold = {x: count for x, count in word_counts.items() if count > min_threshold}\n",
    "    word_counts_threshold = {x: count for x, count in word_counts_threshold.items() if count < max_threshold}\n",
    "    print(\"Après filtrage, on garde les mots aparaissant plus de\", min_threshold,\n",
    "          \"fois et moins de\", max_threshold, \"fois. Il reste alors\",\n",
    "          len(word_counts_threshold), \"mots différents dans tout le corpus.\\n\")\n",
    "    word_counts = Counter(word_counts_threshold)\n",
    "    \n",
    "    if debug:\n",
    "        print(\"------------ Top 20 plus communs : ------------\")\n",
    "        display_most_common = [(i, word_counts[i], word_counts[i] / len(corpus) * 100.0) for i, count in word_counts.most_common(20)]\n",
    "        for elt in display_most_common:\n",
    "            print(elt)\n",
    "        print(\"\\n------------ Top 20 moins communs : ------------\")\n",
    "        display_least_common = [(i, word_counts[i], word_counts[i] / len(corpus) * 100.0) for i, count in word_counts.most_common()[-20:]]\n",
    "        for elt in display_least_common:\n",
    "            print(elt)\n",
    "        \n",
    "    simplified_corpus = word_counts_threshold.keys()\n",
    "    \n",
    "    # display wordcloud part\n",
    "    if word_cloud:\n",
    "        display_wordcloud(word_counts_threshold, debug=debug)\n",
    "    \n",
    "    return simplified_corpus"
   ]
  },
  {
   "cell_type": "markdown",
   "id": "b8e76c55-ee49-4f2c-8a28-a170a44847d9",
   "metadata": {
    "jp-MarkdownHeadingCollapsed": true,
    "tags": []
   },
   "source": [
    "### Méthodes pour BOW and Word Embedding"
   ]
  },
  {
   "cell_type": "code",
   "execution_count": 18,
   "id": "6aff3b59-96e8-4770-8e9a-a4296e64c7ce",
   "metadata": {},
   "outputs": [],
   "source": [
    "def representation_by_tf_idf(corpus):\n",
    "    \"\"\"Compute corpus into a tf-idf vectorisation\n",
    "    \n",
    "    Parameters:\n",
    "    corpus (list(list(str)): a list of documents\n",
    "    \n",
    "    Returns:\n",
    "    a matrix of TF-IDF features\n",
    "    the list of features names\n",
    "    \"\"\"\n",
    "    vect = TfidfVectorizer(ngram_range=(1, 1))\n",
    "    tfidf_mat = vect.fit_transform(corpus)\n",
    "    features_names = vect.get_feature_names_out()\n",
    "    return tfidf_mat, features_names"
   ]
  },
  {
   "cell_type": "code",
   "execution_count": 19,
   "id": "730c6e71-6c4e-4c08-b26a-44fc5c695095",
   "metadata": {},
   "outputs": [],
   "source": [
    "from gensim.models.doc2vec import TaggedDocument, Doc2Vec\n",
    "def representation_by_doc2vec(corpus):\n",
    "    X = [TaggedDocument(doc, [i]) for i, doc in enumerate(corpus)]\n",
    "\n",
    "    # Train doc2vec model\n",
    "    doc2vec = Doc2Vec()\n",
    "    doc2vec.build_vocab(X)\n",
    "    doc2vec.train(X, total_examples=doc2vec.corpus_count, epochs=doc2vec.epochs)\n",
    "\n",
    "    # Vectorize text\n",
    "    X = [doc2vec.infer_vector(doc.words) for doc in X]\n",
    "    return X"
   ]
  },
  {
   "cell_type": "markdown",
   "id": "57e68972-f0ca-4b49-b7ef-d691af97a1e8",
   "metadata": {
    "tags": []
   },
   "source": [
    "### Méthodes pour les métriques"
   ]
  },
  {
   "cell_type": "code",
   "execution_count": 20,
   "id": "e60f33d5-0190-4fe1-83c4-585315c7dc29",
   "metadata": {},
   "outputs": [],
   "source": [
    "def display_confusion_matrix(actual_class, predict_class, display_labels=None, specifity=False, display_mat=True):\n",
    "    \"\"\"display the confusion matrix\n",
    "    \n",
    "    Parameters:\n",
    "    actual_class : serie of the actual classes\n",
    "    predict_class : serie of the predicted classes\n",
    "    display_labels list(str)) : list of labels to show in the confusion matrix\n",
    "    \n",
    "    Returns:\n",
    "    \n",
    "    \"\"\"\n",
    "    print(\"Calcul et affichage de la matrice de confusion\")\n",
    "    # pour calculer la matrice de confusion\n",
    "    cm = metrics_sklearn.confusion_matrix(actual_class, predict_class)#, labels=display_labels)\n",
    "    cm = cm.T\n",
    "    \n",
    "    # pour afficher la matrice de confusion\n",
    "    if display_mat:\n",
    "        displ = metrics_sklearn.ConfusionMatrixDisplay(cm, display_labels=display_labels)\n",
    "        displ.plot()\n",
    "        displ.ax_.xaxis.tick_top()\n",
    "        displ.ax_.xaxis.set_label_position('top') \n",
    "        plt.xlabel('Actual Label')\n",
    "        plt.ylabel('Predicted Label')\n",
    "        plt.gcf().axes[0].tick_params()\n",
    "        plt.gcf().axes[1].tick_params()\n",
    "        plt.show()\n",
    "    \n",
    "    # compute specificity\n",
    "    if specifity:\n",
    "        speci = cm[0, 0]/(cm[0, 0] + cm[1, 0])\n",
    "        print(\"Spécificité :\", speci)\n",
    "        return speci\n",
    "    \n",
    "    return False"
   ]
  },
  {
   "cell_type": "code",
   "execution_count": 21,
   "id": "2caf04fb-27a2-428c-9518-251fc71be9bb",
   "metadata": {},
   "outputs": [],
   "source": [
    "def plot_roc_curve(model_name, y_val, y_val_pred):  \n",
    "    print(\"Calcul et affichage de la courbe ROC\")\n",
    "    [fpr_te, tpr_te, thr_te] = metrics_sklearn.roc_curve(y_val, y_val_pred)#, pos_label=1)\n",
    "    plt.plot(fpr_te, tpr_te, color='coral', lw=2, label=\"\")\n",
    "    \n",
    "    plt.xlim([0.0, 1.0])\n",
    "    plt.ylim([0.0, 1.0])\n",
    "    plt.xlabel('1 - Specificity', fontsize=14)\n",
    "    plt.ylabel('Sensitivity', fontsize=14)\n",
    "    plt.title(\"ROC du classifier {}\".format(model_name))"
   ]
  },
  {
   "cell_type": "code",
   "execution_count": 22,
   "id": "a5cc7ee9-787a-4608-b97a-44372819f4c7",
   "metadata": {},
   "outputs": [],
   "source": [
    "def display_classification_metrics(estimator, y_val, y_val_pred, list_metrics=[\"accuracy\"], all_metrics=False, roc_curve=False, beta=1):\n",
    "    print(\"Calcul et affichage des différentes métriques\")\n",
    "    result = {}\n",
    "    if all_metrics:\n",
    "        list_metrics = [\"accuracy\", \"recall\", \"precision\", \"auc\", \"f1\", \"fbeta\"]\n",
    "    for met in list_metrics:\n",
    "        if met == \"accuracy\":\n",
    "            te_res = metrics_sklearn.accuracy_score(y_val, y_val_pred).round(3)\n",
    "            print(\"Accuracy :\", te_res)\n",
    "        elif met == \"precision\":     \n",
    "            te_res = metrics_sklearn.precision_score(y_val, y_val_pred, average='macro').round(3)\n",
    "            print(\"Précision :\", te_res)\n",
    "        elif met == \"recall\":  \n",
    "            te_res = metrics_sklearn.recall_score(y_val, y_val_pred, average='macro').round(3)\n",
    "            print(\"Recall :\", te_res)\n",
    "        elif met == \"auc\":    \n",
    "            te_res = metrics_sklearn.roc_auc_score(y_val, y_val_pred, average='macro').round(3)\n",
    "            print(\"AUC :\", te_res)\n",
    "            if roc_curve:\n",
    "                plot_roc_curve(type(estimator).__name__, y_val, y_val_pred)\n",
    "        elif met == \"f1\":   \n",
    "            te_res = metrics_sklearn.f1_score(y_val, y_val_pred, average='macro').round(3)\n",
    "            print(\"F1-score :\", te_res)\n",
    "        elif met == \"fbeta\":\n",
    "            te_res = metrics_sklearn.fbeta_score(y_val, y_val_pred, beta=beta, average='macro').round(3)\n",
    "            print(\"Fbeta-score (beta=\", beta,  \") :\", te_res)\n",
    "        else:\n",
    "            print(\"La métrique\", met, \"n'est pas dans la liste suivante accuracy, recall, precision, auc, f1 et fbeta. Veuillez vérifier la saisie.\")\n",
    "        result[met] = te_res\n",
    "    return result"
   ]
  },
  {
   "cell_type": "code",
   "execution_count": 23,
   "id": "2c328494-f7cb-4ee9-8a75-bb79097e64c5",
   "metadata": {},
   "outputs": [],
   "source": [
    "from sklearn import metrics\n",
    "def display_classification_report(y_true, y_pred, display_labels=None):\n",
    "    print(\"Calcul et affichage du rapport de classification\")\n",
    "    clf_report = metrics.classification_report(y_true, y_pred, target_names=display_labels)\n",
    "    print(clf_report)"
   ]
  },
  {
   "cell_type": "markdown",
   "id": "7652813f-ec96-4506-914f-cddc46b1cf1e",
   "metadata": {
    "jp-MarkdownHeadingCollapsed": true,
    "tags": []
   },
   "source": [
    "### Méthodes pour les modèles de régression"
   ]
  },
  {
   "cell_type": "code",
   "execution_count": 24,
   "id": "f8c4827d-6f4b-488a-9a8a-8ad686ff31d7",
   "metadata": {},
   "outputs": [],
   "source": [
    "from sklearn import naive_bayes\n",
    "def get_naive_bayes_model(model_name=\"gaussian\"):\n",
    "    \"\"\"return an instance of the model selected\n",
    "    \n",
    "    Parameters:\n",
    "    model_name (str) : names of naive bayes model used\n",
    "    \n",
    "    Returns:\n",
    "    instance of the model\n",
    "    \"\"\"\n",
    "    if model_name == \"gaussian\":\n",
    "        return naive_bayes.GaussianNB()\n",
    "    elif model_name == \"multinomial\":\n",
    "        return naive_bayes.MultinomialNB()\n",
    "    elif model_name == \"bernoulli\":\n",
    "        return naive_bayes.BernoulliNB()\n",
    "    else:\n",
    "        return -1"
   ]
  },
  {
   "cell_type": "markdown",
   "id": "463e279c-2b18-42a5-9563-e1fc1ecbe8f0",
   "metadata": {
    "jp-MarkdownHeadingCollapsed": true,
    "tags": []
   },
   "source": [
    "### Méthodes pour les Réseaux de neurones"
   ]
  },
  {
   "cell_type": "code",
   "execution_count": 25,
   "id": "a8ba2797-958f-4818-80b1-a15cc016aa8a",
   "metadata": {},
   "outputs": [
    {
     "name": "stderr",
     "output_type": "stream",
     "text": [
      "2023/08/12 10:03:34 WARNING mlflow.tracking.fluent: Exception raised while enabling autologging for tensorflow: cannot import name '__version__' from partially initialized module 'keras' (most likely due to a circular import) (/home/slerendu/.local/lib/python3.10/site-packages/keras/__init__.py)\n"
     ]
    }
   ],
   "source": [
    "from keras.preprocessing import text\n",
    "def tokenize_corpus(corpus):\n",
    "    tokenizer = text.Tokenizer()\n",
    "    tokenizer.fit_on_texts(corpus)\n",
    "    return tokenizer"
   ]
  },
  {
   "cell_type": "code",
   "execution_count": 26,
   "id": "59410b0c-3be5-41d4-8cca-4bef9986db78",
   "metadata": {},
   "outputs": [],
   "source": [
    "def word_embedding_by_word2vec(embed_dim, data):\n",
    "    w2v_model = Word2Vec(data, vector_size=embed_dim, workers=8)\n",
    "    # w2v_model.build_vocab(data)\n",
    "    w2v_model.train(data, total_examples=len(data), epochs=50)\n",
    "    return w2v_model"
   ]
  },
  {
   "cell_type": "code",
   "execution_count": 27,
   "id": "63716c57-4e6a-4f97-8269-90ba902c094b",
   "metadata": {},
   "outputs": [],
   "source": [
    "# !wget http://nlp.stanford.edu/data/glove.twitter.27B.zip\n",
    "# !unzip data/glove.twitter.27B.zip\n",
    "def word_embedding_by_glove(corpus):\n",
    "    GLOVE_EMB = 'glove.twitter.27B.200d.txt'\n",
    "      \n",
    "    # compute embeddings index from GloVe\n",
    "    embeddings_index = {}\n",
    "    f = open(GLOVE_EMB)\n",
    "    for line in f:\n",
    "        values = line.split()\n",
    "        word = value = values[0]\n",
    "        coefs = np.asarray(values[1:], dtype='float32')\n",
    "        embeddings_index[word] = coefs\n",
    "    f.close()\n",
    "    print('Found %s word vectors.' %len(embeddings_index))\n",
    "    return embeddings_index   "
   ]
  },
  {
   "cell_type": "code",
   "execution_count": 28,
   "id": "e5925e51-e68c-49b3-8c36-b0961ea9acce",
   "metadata": {},
   "outputs": [],
   "source": [
    "def compute_corpus_to_word_embedding(corpus, model_name=\"word2vec\"):\n",
    "    tokenizer = tokenize_corpus(corpus)\n",
    "    word_index = tokenizer.word_index\n",
    "    vocab_size = len(tokenizer.word_index) + 1  \n",
    "    \n",
    "    if model_name == \"word2vec\":\n",
    "        embed_dim = 800\n",
    "        \n",
    "        # word embedding using Word2Vec\n",
    "        w2v_model = word_embedding_by_word2vec(embed_dim, corpus)\n",
    "        word_index = w2v_model.wv.key_to_index\n",
    "        # vocab_size = len(word_index)\n",
    "        \n",
    "        # compute embedding matrix\n",
    "        embedding_matrix = np.zeros((vocab_size, embed_dim))\n",
    "        for word, i in tokenizer.word_index.items():\n",
    "            if w2v_model.wv.__contains__(word):\n",
    "                embedding_matrix[i] = w2v_model.wv.__getitem__(word)\n",
    "    elif model_name == \"glove\":\n",
    "        embed_dim = 200\n",
    "        \n",
    "        # word embedding using GloVe\n",
    "        embeddings_index = word_embedding_by_glove(corpus)\n",
    "        \n",
    "        # compute embedding matrix\n",
    "        embedding_matrix = np.zeros((vocab_size, embed_dim))\n",
    "        for word, i in word_index.items():\n",
    "            embedding_vector = embeddings_index.get(word)\n",
    "            if embedding_vector is not None:\n",
    "                embedding_matrix[i] = embedding_vector\n",
    "                \n",
    "    print(\"Embedding Matrix Shape:\", embedding_matrix.shape)\n",
    "    return embedding_matrix, tokenizer, embed_dim"
   ]
  },
  {
   "cell_type": "code",
   "execution_count": 29,
   "id": "6a1a1cc0-4dcf-45a1-bc1d-f732cbda7beb",
   "metadata": {},
   "outputs": [],
   "source": [
    "import keras.backend as K\n",
    "def specificity(y_true, y_pred):\n",
    "    \"\"\"\n",
    "    param:\n",
    "    y_pred - Predicted labels\n",
    "    y_true - True labels \n",
    "    Returns:\n",
    "    Specificity score\n",
    "    \"\"\"\n",
    "    neg_y_true = 1 - y_true\n",
    "    neg_y_pred = 1 - y_pred\n",
    "    fp = K.sum(neg_y_true * y_pred)\n",
    "    tn = K.sum(neg_y_true * neg_y_pred)\n",
    "    specificity = tn / (tn + fp + K.epsilon())\n",
    "    return specificity"
   ]
  },
  {
   "cell_type": "code",
   "execution_count": 30,
   "id": "d0d888a7-5f59-42aa-b3ce-eb08065e13a3",
   "metadata": {},
   "outputs": [],
   "source": [
    "def display_result_plot(history):\n",
    "    spec,  val_spec  = history.history['specificity'], history.history['val_specificity']\n",
    "    loss, val_loss = history.history['loss'], history.history['val_loss']\n",
    "    epochs = range(len(spec))\n",
    "\n",
    "    plt.plot(epochs, spec, 'b', label='Training spec')\n",
    "    plt.plot(epochs, val_spec, 'r', label='Validation spec')\n",
    "    plt.title('Training and validation specificity')\n",
    "    plt.legend()\n",
    "\n",
    "    plt.figure()\n",
    "\n",
    "    plt.plot(epochs, loss, 'b', label='Training loss')\n",
    "    plt.plot(epochs, val_loss, 'r', label='Validation loss')\n",
    "    plt.title('Training and validation loss')\n",
    "    plt.legend()\n",
    "\n",
    "    plt.show()"
   ]
  },
  {
   "cell_type": "code",
   "execution_count": 31,
   "id": "b5f274cf-0b7d-4269-b846-0f07edf8c6f3",
   "metadata": {},
   "outputs": [],
   "source": [
    "def display_result_plot_auc(history):\n",
    "    spec,  val_spec  = history.history['auc'], history.history['val_auc']\n",
    "    loss, val_loss = history.history['loss'], history.history['val_loss']\n",
    "    epochs = range(len(spec))\n",
    "\n",
    "    plt.plot(epochs, spec, 'b', label='Training AUC')\n",
    "    plt.plot(epochs, val_spec, 'r', label='Validation AUC')\n",
    "    plt.title('Training and validation AUC')\n",
    "    plt.legend()\n",
    "\n",
    "    plt.figure()\n",
    "\n",
    "    plt.plot(epochs, loss, 'b', label='Training loss')\n",
    "    plt.plot(epochs, val_loss, 'r', label='Validation loss')\n",
    "    plt.title('Training and validation loss')\n",
    "    plt.legend()\n",
    "\n",
    "    plt.show()"
   ]
  },
  {
   "cell_type": "code",
   "execution_count": 32,
   "id": "eb9d129d-ba6a-41c7-a037-15b50b0e4b48",
   "metadata": {},
   "outputs": [],
   "source": [
    "def create_neural_network_model(embedding_layer, init_scheme=\"ones\"):\n",
    "    # instance de neural network model\n",
    "    model = keras.Sequential()\n",
    "    \n",
    "    # on ajoute toutes les couches nécessaires\n",
    "    model.add(embedding_layer)\n",
    "    model.add(layers.Conv1D(128, 5, activation='relu', kernel_initializer=init_scheme, bias_initializer='zeros'))\n",
    "    model.add(layers.Flatten())\n",
    "    model.add(layers.Dense(16, activation=\"relu\", kernel_initializer=init_scheme, bias_initializer='zeros'))\n",
    "    model.add(layers.Dense(16, activation=\"relu\", kernel_initializer=init_scheme, bias_initializer='zeros'))\n",
    "    model.add(layers.Dense(1, activation=\"sigmoid\", kernel_initializer=init_scheme, bias_initializer='zeros'))\n",
    "    \n",
    "    # on crée les fonctions de loss et d'optimisation\n",
    "    loss = losses.BinaryCrossentropy(from_logits=True)\n",
    "    optimizer = optimizers.Adam(learning_rate=2e-4, epsilon=1e-08)\n",
    "    \n",
    "    # on compile le modèle\n",
    "    model.compile(loss=loss, optimizer=optimizer, metrics=[specificity])\n",
    "    model.summary()\n",
    "    \n",
    "    return model"
   ]
  },
  {
   "cell_type": "code",
   "execution_count": 33,
   "id": "5fe755e6-207b-49ad-a498-cec9524436da",
   "metadata": {},
   "outputs": [],
   "source": [
    "def create_neural_network_model_auc(embedding_layer, init_scheme=\"ones\"):\n",
    "    # instance de neural network model\n",
    "    model = keras.Sequential()\n",
    "    \n",
    "    # on ajoute toutes les couches nécessaires\n",
    "    model.add(embedding_layer)\n",
    "    model.add(layers.Conv1D(128, 5, activation='relu', kernel_initializer=init_scheme, bias_initializer='zeros'))\n",
    "    model.add(layers.Flatten())\n",
    "    model.add(layers.Dense(16, activation=\"relu\", kernel_initializer=init_scheme, bias_initializer='zeros'))\n",
    "    model.add(layers.Dense(16, activation=\"relu\", kernel_initializer=init_scheme, bias_initializer='zeros'))\n",
    "    model.add(layers.Dense(1, activation=\"sigmoid\", kernel_initializer=init_scheme, bias_initializer='zeros'))\n",
    "    \n",
    "    # on crée les fonctions de loss et d'optimisation\n",
    "    loss = losses.BinaryCrossentropy(from_logits=True)\n",
    "    optimizer = optimizers.Adam(learning_rate=2e-4, epsilon=1e-08)\n",
    "    \n",
    "    # on compile le modèle\n",
    "    model.compile(loss=loss, optimizer=optimizer, metrics=[keras.metrics.AUC()])\n",
    "    model.summary()\n",
    "    \n",
    "    return model"
   ]
  },
  {
   "cell_type": "code",
   "execution_count": 34,
   "id": "71ee560c-6726-49af-b557-485af5d746df",
   "metadata": {},
   "outputs": [],
   "source": [
    "def train_neural_network_model(model, X_train, y_train, X_val, y_val, epochs=20, batch_size=1024):\n",
    "    # on crée les méthodes de callback permettant d'arrêter l'entraînement dès que certaines conditions sont remplies\n",
    "    callbacks = [\n",
    "        ReduceLROnPlateau(monitor='val_loss', patience=10, cooldown=0),\n",
    "        EarlyStopping(monitor='val_specificity', min_delta=1e-4, patience=10)\n",
    "    ]\n",
    " \n",
    "    history = model.fit(X_train, y_train, batch_size=batch_size, epochs=epochs,\n",
    "                        validation_data=(X_val, y_val), callbacks=callbacks,\n",
    "                        verbose=1)\n",
    "    \n",
    "    return history"
   ]
  },
  {
   "cell_type": "code",
   "execution_count": 35,
   "id": "ec46abe6-b3dd-4c93-97d5-51dbfff108e9",
   "metadata": {},
   "outputs": [],
   "source": [
    "def train_neural_network_model_auc(model, X_train, y_train, X_val, y_val):\n",
    "    # on crée les méthodes de callback permettant d'arrêter l'entraînement dès que certaines conditions sont remplies\n",
    "    callbacks = [\n",
    "        ReduceLROnPlateau(monitor='val_loss', patience=10, cooldown=0),\n",
    "        EarlyStopping(monitor='val_auc', min_delta=1e-4, patience=10)\n",
    "    ]\n",
    " \n",
    "    history = model.fit(X_train, y_train, batch_size=1024, epochs=30,\n",
    "                        validation_data=(X_val, y_val), callbacks=callbacks,\n",
    "                        verbose=1)\n",
    "    \n",
    "    return history"
   ]
  },
  {
   "cell_type": "markdown",
   "id": "2ae31a52-0f05-4dc6-8b99-7037fe4a3347",
   "metadata": {
    "jp-MarkdownHeadingCollapsed": true,
    "tags": []
   },
   "source": [
    "# Preparing dataset"
   ]
  },
  {
   "cell_type": "code",
   "execution_count": 36,
   "id": "8fd2ddc3-6e11-4c0f-8e81-6c81c36309b2",
   "metadata": {},
   "outputs": [],
   "source": [
    "data = pd.read_csv(\"data/training.1600000.processed.noemoticon.csv\", sep=',',\n",
    "                   encoding=\"ISO-8859-1\", names=[\"target\", \"id\", \"date\", \"flag\", \"user\", \"text\"])"
   ]
  },
  {
   "cell_type": "code",
   "execution_count": 37,
   "id": "bad9d78c-5306-48ab-8f47-103b8aaeaa9c",
   "metadata": {},
   "outputs": [
    {
     "data": {
      "text/html": [
       "<div>\n",
       "<style scoped>\n",
       "    .dataframe tbody tr th:only-of-type {\n",
       "        vertical-align: middle;\n",
       "    }\n",
       "\n",
       "    .dataframe tbody tr th {\n",
       "        vertical-align: top;\n",
       "    }\n",
       "\n",
       "    .dataframe thead th {\n",
       "        text-align: right;\n",
       "    }\n",
       "</style>\n",
       "<table border=\"1\" class=\"dataframe\">\n",
       "  <thead>\n",
       "    <tr style=\"text-align: right;\">\n",
       "      <th></th>\n",
       "      <th>target</th>\n",
       "      <th>id</th>\n",
       "      <th>date</th>\n",
       "      <th>flag</th>\n",
       "      <th>user</th>\n",
       "      <th>text</th>\n",
       "    </tr>\n",
       "  </thead>\n",
       "  <tbody>\n",
       "    <tr>\n",
       "      <th>0</th>\n",
       "      <td>0</td>\n",
       "      <td>1467810369</td>\n",
       "      <td>Mon Apr 06 22:19:45 PDT 2009</td>\n",
       "      <td>NO_QUERY</td>\n",
       "      <td>_TheSpecialOne_</td>\n",
       "      <td>@switchfoot http://twitpic.com/2y1zl - Awww, t...</td>\n",
       "    </tr>\n",
       "    <tr>\n",
       "      <th>1</th>\n",
       "      <td>0</td>\n",
       "      <td>1467810672</td>\n",
       "      <td>Mon Apr 06 22:19:49 PDT 2009</td>\n",
       "      <td>NO_QUERY</td>\n",
       "      <td>scotthamilton</td>\n",
       "      <td>is upset that he can't update his Facebook by ...</td>\n",
       "    </tr>\n",
       "    <tr>\n",
       "      <th>2</th>\n",
       "      <td>0</td>\n",
       "      <td>1467810917</td>\n",
       "      <td>Mon Apr 06 22:19:53 PDT 2009</td>\n",
       "      <td>NO_QUERY</td>\n",
       "      <td>mattycus</td>\n",
       "      <td>@Kenichan I dived many times for the ball. Man...</td>\n",
       "    </tr>\n",
       "    <tr>\n",
       "      <th>3</th>\n",
       "      <td>0</td>\n",
       "      <td>1467811184</td>\n",
       "      <td>Mon Apr 06 22:19:57 PDT 2009</td>\n",
       "      <td>NO_QUERY</td>\n",
       "      <td>ElleCTF</td>\n",
       "      <td>my whole body feels itchy and like its on fire</td>\n",
       "    </tr>\n",
       "    <tr>\n",
       "      <th>4</th>\n",
       "      <td>0</td>\n",
       "      <td>1467811193</td>\n",
       "      <td>Mon Apr 06 22:19:57 PDT 2009</td>\n",
       "      <td>NO_QUERY</td>\n",
       "      <td>Karoli</td>\n",
       "      <td>@nationwideclass no, it's not behaving at all....</td>\n",
       "    </tr>\n",
       "  </tbody>\n",
       "</table>\n",
       "</div>"
      ],
      "text/plain": [
       "   target          id                          date      flag   \n",
       "0       0  1467810369  Mon Apr 06 22:19:45 PDT 2009  NO_QUERY  \\\n",
       "1       0  1467810672  Mon Apr 06 22:19:49 PDT 2009  NO_QUERY   \n",
       "2       0  1467810917  Mon Apr 06 22:19:53 PDT 2009  NO_QUERY   \n",
       "3       0  1467811184  Mon Apr 06 22:19:57 PDT 2009  NO_QUERY   \n",
       "4       0  1467811193  Mon Apr 06 22:19:57 PDT 2009  NO_QUERY   \n",
       "\n",
       "              user                                               text  \n",
       "0  _TheSpecialOne_  @switchfoot http://twitpic.com/2y1zl - Awww, t...  \n",
       "1    scotthamilton  is upset that he can't update his Facebook by ...  \n",
       "2         mattycus  @Kenichan I dived many times for the ball. Man...  \n",
       "3          ElleCTF    my whole body feels itchy and like its on fire   \n",
       "4           Karoli  @nationwideclass no, it's not behaving at all....  "
      ]
     },
     "execution_count": 37,
     "metadata": {},
     "output_type": "execute_result"
    }
   ],
   "source": [
    "data.head()"
   ]
  },
  {
   "cell_type": "code",
   "execution_count": 38,
   "id": "40fc50d3-38aa-4834-8d84-55c0b0ad46c1",
   "metadata": {},
   "outputs": [],
   "source": [
    "data[\"target\"].replace(4, 1, inplace=True)"
   ]
  },
  {
   "cell_type": "code",
   "execution_count": 39,
   "id": "ba72c88d-faa9-4547-83ae-bea711670e06",
   "metadata": {},
   "outputs": [
    {
     "data": {
      "text/html": [
       "<div>\n",
       "<style scoped>\n",
       "    .dataframe tbody tr th:only-of-type {\n",
       "        vertical-align: middle;\n",
       "    }\n",
       "\n",
       "    .dataframe tbody tr th {\n",
       "        vertical-align: top;\n",
       "    }\n",
       "\n",
       "    .dataframe thead th {\n",
       "        text-align: right;\n",
       "    }\n",
       "</style>\n",
       "<table border=\"1\" class=\"dataframe\">\n",
       "  <thead>\n",
       "    <tr style=\"text-align: right;\">\n",
       "      <th></th>\n",
       "      <th>%</th>\n",
       "      <th>%_cumul</th>\n",
       "    </tr>\n",
       "    <tr>\n",
       "      <th>label</th>\n",
       "      <th></th>\n",
       "      <th></th>\n",
       "    </tr>\n",
       "  </thead>\n",
       "  <tbody>\n",
       "    <tr>\n",
       "      <th>0</th>\n",
       "      <td>50.0</td>\n",
       "      <td>50.0</td>\n",
       "    </tr>\n",
       "    <tr>\n",
       "      <th>1</th>\n",
       "      <td>50.0</td>\n",
       "      <td>100.0</td>\n",
       "    </tr>\n",
       "  </tbody>\n",
       "</table>\n",
       "</div>"
      ],
      "text/plain": [
       "          %  %_cumul\n",
       "label               \n",
       "0      50.0     50.0\n",
       "1      50.0    100.0"
      ]
     },
     "metadata": {},
     "output_type": "display_data"
    },
    {
     "data": {
      "image/png": "[encoded data removed]",
      "text/plain": [
       "<Figure size 640x480 with 1 Axes>"
      ]
     },
     "metadata": {},
     "output_type": "display_data"
    },
    {
     "data": {
      "text/html": [
       "<div>\n",
       "<style scoped>\n",
       "    .dataframe tbody tr th:only-of-type {\n",
       "        vertical-align: middle;\n",
       "    }\n",
       "\n",
       "    .dataframe tbody tr th {\n",
       "        vertical-align: top;\n",
       "    }\n",
       "\n",
       "    .dataframe thead th {\n",
       "        text-align: right;\n",
       "    }\n",
       "</style>\n",
       "<table border=\"1\" class=\"dataframe\">\n",
       "  <thead>\n",
       "    <tr style=\"text-align: right;\">\n",
       "      <th></th>\n",
       "      <th>%</th>\n",
       "      <th>%_cumul</th>\n",
       "    </tr>\n",
       "    <tr>\n",
       "      <th>label</th>\n",
       "      <th></th>\n",
       "      <th></th>\n",
       "    </tr>\n",
       "  </thead>\n",
       "  <tbody>\n",
       "    <tr>\n",
       "      <th>0</th>\n",
       "      <td>50.0</td>\n",
       "      <td>50.0</td>\n",
       "    </tr>\n",
       "  </tbody>\n",
       "</table>\n",
       "</div>"
      ],
      "text/plain": [
       "          %  %_cumul\n",
       "label               \n",
       "0      50.0     50.0"
      ]
     },
     "execution_count": 39,
     "metadata": {},
     "output_type": "execute_result"
    }
   ],
   "source": [
    "show_unique_values(data, \"target\")"
   ]
  },
  {
   "cell_type": "markdown",
   "id": "cc883ec4-c007-4b36-a30b-23e5f1fb111f",
   "metadata": {},
   "source": [
    "Sentiment du tweet 0 pour négatif et 4 pour positif  \n",
    "Dans tous les cas, nous n'avons besoin que du texte du tweet et de la target"
   ]
  },
  {
   "cell_type": "code",
   "execution_count": 40,
   "id": "74278305-d24c-4c46-838c-ccfd29c49472",
   "metadata": {},
   "outputs": [],
   "source": [
    "data.drop(columns=[\"id\", \"date\", \"flag\", \"user\"], inplace=True)"
   ]
  },
  {
   "cell_type": "code",
   "execution_count": 41,
   "id": "8f5f92b1-1166-4eca-a952-37f3e71819a1",
   "metadata": {},
   "outputs": [
    {
     "name": "stdout",
     "output_type": "stream",
     "text": [
      "The dataset is containing 1600000 lines and 2 columns.\n"
     ]
    }
   ],
   "source": [
    "print(\"The dataset is containing\", data.shape[0], \"lines and\", data.shape[1], \"columns.\")"
   ]
  },
  {
   "cell_type": "markdown",
   "id": "2801865c-59ae-46a5-b389-ee8ac26914dc",
   "metadata": {},
   "source": [
    "On commence par prendre un échantillon des données dans un premier temps : 10 000 de chaque target."
   ]
  },
  {
   "cell_type": "code",
   "execution_count": 42,
   "id": "8d4dd08e-3804-474c-a259-76a0284f792a",
   "metadata": {},
   "outputs": [],
   "source": [
    "data_words = data.groupby(['target']).apply(pd.DataFrame.sample, n=10000, replace=True, random_state=42).reset_index(drop=True)"
   ]
  },
  {
   "cell_type": "code",
   "execution_count": 43,
   "id": "d183c0f8-a419-4f20-a275-1ef20317b92d",
   "metadata": {},
   "outputs": [
    {
     "name": "stdout",
     "output_type": "stream",
     "text": [
      "The sample dataset is containing 20000 lines and 2 columns.\n"
     ]
    }
   ],
   "source": [
    "print(\"The sample dataset is containing\", data_words.shape[0], \"lines and\", data_words.shape[1], \"columns.\")"
   ]
  },
  {
   "cell_type": "code",
   "execution_count": 44,
   "id": "e8b16919-ab32-42c0-93a0-c96fe156dbbb",
   "metadata": {},
   "outputs": [
    {
     "data": {
      "text/html": [
       "<div>\n",
       "<style scoped>\n",
       "    .dataframe tbody tr th:only-of-type {\n",
       "        vertical-align: middle;\n",
       "    }\n",
       "\n",
       "    .dataframe tbody tr th {\n",
       "        vertical-align: top;\n",
       "    }\n",
       "\n",
       "    .dataframe thead th {\n",
       "        text-align: right;\n",
       "    }\n",
       "</style>\n",
       "<table border=\"1\" class=\"dataframe\">\n",
       "  <thead>\n",
       "    <tr style=\"text-align: right;\">\n",
       "      <th></th>\n",
       "      <th>target</th>\n",
       "      <th>text</th>\n",
       "    </tr>\n",
       "  </thead>\n",
       "  <tbody>\n",
       "    <tr>\n",
       "      <th>0</th>\n",
       "      <td>0</td>\n",
       "      <td>@ home studying for maths wooot ! im so going ...</td>\n",
       "    </tr>\n",
       "    <tr>\n",
       "      <th>1</th>\n",
       "      <td>0</td>\n",
       "      <td>Pickin up @misstinayao waitin on @sadittysash ...</td>\n",
       "    </tr>\n",
       "    <tr>\n",
       "      <th>2</th>\n",
       "      <td>0</td>\n",
       "      <td>@ProudGamerTweet I rather average 32370</td>\n",
       "    </tr>\n",
       "    <tr>\n",
       "      <th>3</th>\n",
       "      <td>0</td>\n",
       "      <td>@ddlovato I'm trying to reach my dreams, but i...</td>\n",
       "    </tr>\n",
       "    <tr>\n",
       "      <th>4</th>\n",
       "      <td>0</td>\n",
       "      <td>this song's middle change just doesn't want to...</td>\n",
       "    </tr>\n",
       "  </tbody>\n",
       "</table>\n",
       "</div>"
      ],
      "text/plain": [
       "   target                                               text\n",
       "0       0  @ home studying for maths wooot ! im so going ...\n",
       "1       0  Pickin up @misstinayao waitin on @sadittysash ...\n",
       "2       0           @ProudGamerTweet I rather average 32370 \n",
       "3       0  @ddlovato I'm trying to reach my dreams, but i...\n",
       "4       0  this song's middle change just doesn't want to..."
      ]
     },
     "execution_count": 44,
     "metadata": {},
     "output_type": "execute_result"
    }
   ],
   "source": [
    "data_words.head()"
   ]
  },
  {
   "cell_type": "code",
   "execution_count": 45,
   "id": "efa3ede8-6665-4d04-8af4-f6bf35a8eeab",
   "metadata": {},
   "outputs": [],
   "source": [
    "negative_ex = data_words.query(\"target == 0\")"
   ]
  },
  {
   "cell_type": "code",
   "execution_count": 46,
   "id": "1a063f24-fa03-4465-8615-b211dfc85822",
   "metadata": {},
   "outputs": [
    {
     "data": {
      "text/plain": [
       "'@ home studying for maths wooot ! im so going to fail this shit '"
      ]
     },
     "execution_count": 46,
     "metadata": {},
     "output_type": "execute_result"
    }
   ],
   "source": [
    "negative_ex['text'].iloc[0]"
   ]
  },
  {
   "cell_type": "code",
   "execution_count": 47,
   "id": "a1e9889b-2280-4e99-8260-a7df168ef45e",
   "metadata": {},
   "outputs": [],
   "source": [
    "positive_ex = data_words.query(\"target == 1\")"
   ]
  },
  {
   "cell_type": "code",
   "execution_count": 48,
   "id": "bcadd1d3-8a60-47c1-953d-b8577b76d3da",
   "metadata": {},
   "outputs": [
    {
     "data": {
      "text/plain": [
       "'@ashlili LIKE MEEEEEEEEE '"
      ]
     },
     "execution_count": 48,
     "metadata": {},
     "output_type": "execute_result"
    }
   ],
   "source": [
    "positive_ex['text'].iloc[2]"
   ]
  },
  {
   "cell_type": "markdown",
   "id": "e4b46e0d-5d17-429b-982b-de22ae01dad3",
   "metadata": {
    "jp-MarkdownHeadingCollapsed": true,
    "tags": []
   },
   "source": [
    "# Preprocessing"
   ]
  },
  {
   "cell_type": "code",
   "execution_count": 49,
   "id": "dc379d10-e910-4d80-bfd8-fcac046de8c4",
   "metadata": {},
   "outputs": [
    {
     "name": "stdout",
     "output_type": "stream",
     "text": [
      "Il y a un total de 17694 mots différents dans tout le corpus.\n",
      "Après filtrage, on garde les mots aparaissant plus de 0 fois et moins de 999 fois. Il reste alors 17687 mots différents dans tout le corpus.\n",
      "\n"
     ]
    },
    {
     "data": {
      "image/png": "[encoded data removed]",
      "text/plain": [
       "<Figure size 1200x800 with 1 Axes>"
      ]
     },
     "metadata": {},
     "output_type": "display_data"
    }
   ],
   "source": [
    "words_to_exclude = [\n",
    "    \"...\", \"..\"\n",
    "]\n",
    "tags_to_remove=[\"NNP\", \"VBG\", \"VBN\", \"CD\"]\n",
    "\n",
    "corpus = natural_language_processing(\n",
    "    data_words, \"text\", stem_or_lemma=\"lemma\", debug=False, word_cloud=True,\n",
    "    tags_to_remove=tags_to_remove, words_to_exclude=words_to_exclude)"
   ]
  },
  {
   "cell_type": "code",
   "execution_count": 50,
   "id": "4dfef7c6-a2fa-437e-a424-ca1b4cab8134",
   "metadata": {},
   "outputs": [
    {
     "data": {
      "text/html": [
       "<div>\n",
       "<style scoped>\n",
       "    .dataframe tbody tr th:only-of-type {\n",
       "        vertical-align: middle;\n",
       "    }\n",
       "\n",
       "    .dataframe tbody tr th {\n",
       "        vertical-align: top;\n",
       "    }\n",
       "\n",
       "    .dataframe thead th {\n",
       "        text-align: right;\n",
       "    }\n",
       "</style>\n",
       "<table border=\"1\" class=\"dataframe\">\n",
       "  <thead>\n",
       "    <tr style=\"text-align: right;\">\n",
       "      <th></th>\n",
       "      <th>filtexcl_words</th>\n",
       "      <th>filtpos_text</th>\n",
       "      <th>preproc_text</th>\n",
       "      <th>target</th>\n",
       "      <th>text</th>\n",
       "    </tr>\n",
       "  </thead>\n",
       "  <tbody>\n",
       "    <tr>\n",
       "      <th>0</th>\n",
       "      <td>[home, study, math, wooot, im, go, fail, shit]</td>\n",
       "      <td>[home, study, math, wooot, im, go, fail, shit]</td>\n",
       "      <td>[home, study, math, wooot, im, go, fail, shit]</td>\n",
       "      <td>0</td>\n",
       "      <td>home studying for maths wooot ! im so going to...</td>\n",
       "    </tr>\n",
       "    <tr>\n",
       "      <th>1</th>\n",
       "      <td>[pickin, waitin, hurry, odeee, miss, dem, tabl...</td>\n",
       "      <td>[pickin, waitin, hurry, ..., odeee, miss, dem,...</td>\n",
       "      <td>[pickin, waitin, 2, hurry, ..., odeee, miss, d...</td>\n",
       "      <td>0</td>\n",
       "      <td>Pickin up waitin on 2 hurry up...I odeeee miss...</td>\n",
       "    </tr>\n",
       "    <tr>\n",
       "      <th>2</th>\n",
       "      <td>[rather, average]</td>\n",
       "      <td>[rather, average]</td>\n",
       "      <td>[rather, average, 32370]</td>\n",
       "      <td>0</td>\n",
       "      <td>I rather average 32370</td>\n",
       "    </tr>\n",
       "    <tr>\n",
       "      <th>3</th>\n",
       "      <td>[i'm, try, reach, dream, seem, impossible, adv...</td>\n",
       "      <td>[i'm, try, reach, dream, seem, impossible, adv...</td>\n",
       "      <td>[i'm, try, reach, dream, seem, impossible, adv...</td>\n",
       "      <td>0</td>\n",
       "      <td>I'm trying to reach my dreams, but it seems im...</td>\n",
       "    </tr>\n",
       "    <tr>\n",
       "      <th>4</th>\n",
       "      <td>[song's, middle, change, want, born, arghhh]</td>\n",
       "      <td>[song's, middle, change, want, born, ..., arghhh]</td>\n",
       "      <td>[song's, middle, change, want, born, ..., arghhh]</td>\n",
       "      <td>0</td>\n",
       "      <td>this song's middle change just doesn't want to...</td>\n",
       "    </tr>\n",
       "  </tbody>\n",
       "</table>\n",
       "</div>"
      ],
      "text/plain": [
       "                                      filtexcl_words   \n",
       "0     [home, study, math, wooot, im, go, fail, shit]  \\\n",
       "1  [pickin, waitin, hurry, odeee, miss, dem, tabl...   \n",
       "2                                  [rather, average]   \n",
       "3  [i'm, try, reach, dream, seem, impossible, adv...   \n",
       "4       [song's, middle, change, want, born, arghhh]   \n",
       "\n",
       "                                        filtpos_text   \n",
       "0     [home, study, math, wooot, im, go, fail, shit]  \\\n",
       "1  [pickin, waitin, hurry, ..., odeee, miss, dem,...   \n",
       "2                                  [rather, average]   \n",
       "3  [i'm, try, reach, dream, seem, impossible, adv...   \n",
       "4  [song's, middle, change, want, born, ..., arghhh]   \n",
       "\n",
       "                                        preproc_text  target   \n",
       "0     [home, study, math, wooot, im, go, fail, shit]       0  \\\n",
       "1  [pickin, waitin, 2, hurry, ..., odeee, miss, d...       0   \n",
       "2                           [rather, average, 32370]       0   \n",
       "3  [i'm, try, reach, dream, seem, impossible, adv...       0   \n",
       "4  [song's, middle, change, want, born, ..., arghhh]       0   \n",
       "\n",
       "                                                text  \n",
       "0  home studying for maths wooot ! im so going to...  \n",
       "1  Pickin up waitin on 2 hurry up...I odeeee miss...  \n",
       "2                             I rather average 32370  \n",
       "3  I'm trying to reach my dreams, but it seems im...  \n",
       "4  this song's middle change just doesn't want to...  "
      ]
     },
     "execution_count": 50,
     "metadata": {},
     "output_type": "execute_result"
    }
   ],
   "source": [
    "data_words.head()"
   ]
  },
  {
   "cell_type": "code",
   "execution_count": 51,
   "id": "dfecb887-d996-4c5a-90c0-8aada2a08bb7",
   "metadata": {},
   "outputs": [],
   "source": [
    "# drop des colonnes inutiles\n",
    "data_words.drop(columns=[\"filtpos_text\", \"preproc_text\", \"text\"], inplace=True)"
   ]
  },
  {
   "cell_type": "code",
   "execution_count": 52,
   "id": "0262152a-f381-4b17-af61-2f60bc3b8541",
   "metadata": {},
   "outputs": [],
   "source": [
    "def join_back(text):\n",
    "    return ' '.join(text)\n",
    "\n",
    "data_words['sentence'] = data_words['filtexcl_words'].apply(join_back)\n",
    "data_words.rename(columns={\"filtexcl_words\": \"list_words\"}, inplace=True)"
   ]
  },
  {
   "cell_type": "code",
   "execution_count": 53,
   "id": "43d40bda-bcfc-454b-9725-6165f855d223",
   "metadata": {},
   "outputs": [
    {
     "data": {
      "text/html": [
       "<div>\n",
       "<style scoped>\n",
       "    .dataframe tbody tr th:only-of-type {\n",
       "        vertical-align: middle;\n",
       "    }\n",
       "\n",
       "    .dataframe tbody tr th {\n",
       "        vertical-align: top;\n",
       "    }\n",
       "\n",
       "    .dataframe thead th {\n",
       "        text-align: right;\n",
       "    }\n",
       "</style>\n",
       "<table border=\"1\" class=\"dataframe\">\n",
       "  <thead>\n",
       "    <tr style=\"text-align: right;\">\n",
       "      <th></th>\n",
       "      <th>list_words</th>\n",
       "      <th>target</th>\n",
       "      <th>sentence</th>\n",
       "    </tr>\n",
       "  </thead>\n",
       "  <tbody>\n",
       "    <tr>\n",
       "      <th>0</th>\n",
       "      <td>[home, study, math, wooot, im, go, fail, shit]</td>\n",
       "      <td>0</td>\n",
       "      <td>home study math wooot im go fail shit</td>\n",
       "    </tr>\n",
       "    <tr>\n",
       "      <th>1</th>\n",
       "      <td>[pickin, waitin, hurry, odeee, miss, dem, tabl...</td>\n",
       "      <td>0</td>\n",
       "      <td>pickin waitin hurry odeee miss dem table talk ...</td>\n",
       "    </tr>\n",
       "    <tr>\n",
       "      <th>2</th>\n",
       "      <td>[rather, average]</td>\n",
       "      <td>0</td>\n",
       "      <td>rather average</td>\n",
       "    </tr>\n",
       "    <tr>\n",
       "      <th>3</th>\n",
       "      <td>[i'm, try, reach, dream, seem, impossible, adv...</td>\n",
       "      <td>0</td>\n",
       "      <td>i'm try reach dream seem impossible advice</td>\n",
       "    </tr>\n",
       "    <tr>\n",
       "      <th>4</th>\n",
       "      <td>[song's, middle, change, want, born, arghhh]</td>\n",
       "      <td>0</td>\n",
       "      <td>song's middle change want born arghhh</td>\n",
       "    </tr>\n",
       "  </tbody>\n",
       "</table>\n",
       "</div>"
      ],
      "text/plain": [
       "                                          list_words  target   \n",
       "0     [home, study, math, wooot, im, go, fail, shit]       0  \\\n",
       "1  [pickin, waitin, hurry, odeee, miss, dem, tabl...       0   \n",
       "2                                  [rather, average]       0   \n",
       "3  [i'm, try, reach, dream, seem, impossible, adv...       0   \n",
       "4       [song's, middle, change, want, born, arghhh]       0   \n",
       "\n",
       "                                            sentence  \n",
       "0              home study math wooot im go fail shit  \n",
       "1  pickin waitin hurry odeee miss dem table talk ...  \n",
       "2                                     rather average  \n",
       "3         i'm try reach dream seem impossible advice  \n",
       "4              song's middle change want born arghhh  "
      ]
     },
     "execution_count": 53,
     "metadata": {},
     "output_type": "execute_result"
    }
   ],
   "source": [
    "data_words.head()"
   ]
  },
  {
   "cell_type": "markdown",
   "id": "22975e08-cd1a-4e72-ba70-5f3d4d079fac",
   "metadata": {
    "tags": []
   },
   "source": [
    "# ML"
   ]
  },
  {
   "cell_type": "markdown",
   "id": "4992d407-8cd8-41de-baf3-a0e18cce3fa4",
   "metadata": {
    "jp-MarkdownHeadingCollapsed": true,
    "tags": []
   },
   "source": [
    "### Manage Seed"
   ]
  },
  {
   "cell_type": "code",
   "execution_count": 54,
   "id": "80edb54f-1db4-4267-bd1e-21505a8c5aa9",
   "metadata": {},
   "outputs": [],
   "source": [
    "from numpy.random import seed\n",
    "seed(42)\n",
    "import tensorflow\n",
    "tensorflow.random.set_seed(42)"
   ]
  },
  {
   "cell_type": "code",
   "execution_count": 55,
   "id": "65d916ff-f3b4-42da-8084-0a8c3fd4ee8a",
   "metadata": {},
   "outputs": [],
   "source": [
    "# seed_value= 42\n",
    "\n",
    "# # 1. Set the `PYTHONHASHSEED` environment variable at a fixed value\n",
    "# import os\n",
    "# os.environ['PYTHONHASHSEED']=str(seed_value)\n",
    "\n",
    "# # 2. Set the `python` built-in pseudo-random generator at a fixed value\n",
    "# import random\n",
    "# random.seed(seed_value)\n",
    "\n",
    "# # 3. Set the `numpy` pseudo-random generator at a fixed value\n",
    "# import numpy as np\n",
    "# np.random.seed(seed_value)\n",
    "\n",
    "# # 4. Set the `tensorflow` pseudo-random generator at a fixed value\n",
    "# import tensorflow as tf\n",
    "# tf.random.set_seed(seed_value)\n",
    "# # for later versions: \n",
    "# # tf.compat.v1.set_random_seed(seed_value)\n",
    "\n",
    "# # 5. Configure a new global `tensorflow` session\n",
    "# from keras import backend as K\n",
    "# session_conf = tf.compat.v1.ConfigProto(intra_op_parallelism_threads=15, inter_op_parallelism_threads=15)\n",
    "# sess = tf.compat.v1.Session(graph=tf.compat.v1.get_default_graph(), config=session_conf)\n",
    "# tf.compat.v1.keras.backend.set_session(sess)"
   ]
  },
  {
   "cell_type": "markdown",
   "id": "896e1b7e-e8e3-4717-9420-100238908a23",
   "metadata": {
    "tags": []
   },
   "source": [
    "### Splitting data"
   ]
  },
  {
   "cell_type": "code",
   "execution_count": 56,
   "id": "bd406e20-ada9-4b36-9347-076573978189",
   "metadata": {},
   "outputs": [],
   "source": [
    "from sklearn import model_selection"
   ]
  },
  {
   "cell_type": "code",
   "execution_count": 57,
   "id": "756e7c0e-8a4c-4bf9-bc1f-e0e16578c619",
   "metadata": {},
   "outputs": [],
   "source": [
    "# 3 parties : train 60%, validation 20% and test 20%\n",
    "X, y = np.array(data_words['sentence']), np.array(data_words['target'])\n",
    "\n",
    "X_train, X_temp, y_train, y_temp = model_selection.train_test_split(\n",
    "    X,\n",
    "    y,\n",
    "    test_size=0.4,\n",
    "    stratify=y,\n",
    "    random_state=42,\n",
    ")\n",
    "\n",
    "X_val, X_test, y_val, y_test = model_selection.train_test_split(\n",
    "    X_temp,\n",
    "    y_temp,\n",
    "    test_size=0.5,\n",
    "    stratify=y_temp,\n",
    "    random_state=42,\n",
    ")"
   ]
  },
  {
   "cell_type": "code",
   "execution_count": 58,
   "id": "3c47c5ff-a13f-4351-885c-daf3af45b8f1",
   "metadata": {},
   "outputs": [],
   "source": [
    "X_opti = np.concatenate((X_train, X_val))"
   ]
  },
  {
   "cell_type": "code",
   "execution_count": 59,
   "id": "0ec3c35e-f93d-4a29-ab44-0fef637abde9",
   "metadata": {},
   "outputs": [],
   "source": [
    "y_opti = np.concatenate((y_train, y_val))"
   ]
  },
  {
   "cell_type": "markdown",
   "id": "7f9b232c-6e96-40f2-b836-8a2eb50ec3e4",
   "metadata": {
    "tags": []
   },
   "source": [
    "### Word Embedding"
   ]
  },
  {
   "cell_type": "code",
   "execution_count": 60,
   "id": "ac1d9c96-3117-49e3-a3f6-f1ed9fa31032",
   "metadata": {},
   "outputs": [],
   "source": [
    "# corpus = list of documents\n",
    "corpus = data_words[\"list_words\"].tolist()"
   ]
  },
  {
   "cell_type": "code",
   "execution_count": 61,
   "id": "96cb972a-d393-41ed-823f-0cbb60fbe6ec",
   "metadata": {},
   "outputs": [],
   "source": [
    "from tensorflow.keras.preprocessing import sequence\n",
    "from tensorflow.keras import layers, losses, optimizers\n",
    "from tensorflow import keras\n",
    "from tensorflow.keras.callbacks import ReduceLROnPlateau, EarlyStopping"
   ]
  },
  {
   "cell_type": "code",
   "execution_count": 62,
   "id": "52d4b87f-47f3-4f9e-aabc-cdb385e58d8b",
   "metadata": {},
   "outputs": [],
   "source": [
    "MAX_SENTENCE_LENGTH = 800"
   ]
  },
  {
   "cell_type": "code",
   "execution_count": 63,
   "id": "d4e3b977-0dce-4b91-9d6b-429b5efc3036",
   "metadata": {},
   "outputs": [],
   "source": [
    "tokenizer = tokenize_corpus(corpus)\n",
    "    \n",
    "X_train = sequence.pad_sequences(tokenizer.texts_to_sequences(X_train), maxlen=MAX_SENTENCE_LENGTH)\n",
    "X_val = sequence.pad_sequences(tokenizer.texts_to_sequences(X_val), maxlen=MAX_SENTENCE_LENGTH)\n",
    "X_opti = sequence.pad_sequences(tokenizer.texts_to_sequences(X_opti), maxlen=MAX_SENTENCE_LENGTH)\n",
    "X_test  = sequence.pad_sequences(tokenizer.texts_to_sequences(X_test) , maxlen=MAX_SENTENCE_LENGTH)"
   ]
  },
  {
   "cell_type": "markdown",
   "id": "5f601022-892d-40ed-b645-43680cc6b46a",
   "metadata": {},
   "source": [
    "# BERT"
   ]
  },
  {
   "cell_type": "code",
   "execution_count": 64,
   "id": "8432844a-959a-4bb5-8b88-30663029fe7a",
   "metadata": {},
   "outputs": [
    {
     "ename": "NameError",
     "evalue": "name 'bidule' is not defined",
     "output_type": "error",
     "traceback": [
      "\u001b[0;31m---------------------------------------------------------------------------\u001b[0m",
      "\u001b[0;31mNameError\u001b[0m                                 Traceback (most recent call last)",
      "Cell \u001b[0;32mIn[64], line 1\u001b[0m\n\u001b[0;32m----> 1\u001b[0m truc \u001b[38;5;241m=\u001b[39m \u001b[43mbidule\u001b[49m\n",
      "\u001b[0;31mNameError\u001b[0m: name 'bidule' is not defined"
     ]
    }
   ],
   "source": [
    "truc = bidule"
   ]
  },
  {
   "cell_type": "code",
   "execution_count": 65,
   "id": "ec476f54-550b-40a6-8b89-0975f4adf52a",
   "metadata": {},
   "outputs": [
    {
     "name": "stderr",
     "output_type": "stream",
     "text": [
      "2023/08/12 10:03:58 WARNING mlflow.utils.autologging_utils: You are using an unsupported version of transformers. If you encounter errors during autologging, try upgrading / downgrading transformers to a supported version, or try upgrading MLflow.\n",
      "2023/08/12 10:04:00 INFO mlflow.tracking.fluent: Autologging successfully enabled for transformers.\n"
     ]
    }
   ],
   "source": [
    "from transformers import *\n",
    "from transformers import BertTokenizer, BertForSequenceClassification, BertConfig"
   ]
  },
  {
   "cell_type": "code",
   "execution_count": null,
   "id": "3e9f3c63-2302-4fca-8826-1e1734e0c767",
   "metadata": {},
   "outputs": [],
   "source": [
    "from transformers import file_utils\n",
    "print(file_utils.default_cache_path)"
   ]
  },
  {
   "cell_type": "code",
   "execution_count": 66,
   "id": "3d846f34-7b90-4b3e-950a-a23cdb162711",
   "metadata": {
    "collapsed": true,
    "jupyter": {
     "outputs_hidden": true
    },
    "tags": []
   },
   "outputs": [
    {
     "name": "stderr",
     "output_type": "stream",
     "text": [
      "loading file vocab.txt from cache at /home/slerendu/.cache/huggingface/hub/models--bert-base-uncased/snapshots/1dbc166cf8765166998eff31ade2eb64c8a40076/vocab.txt\n",
      "loading file added_tokens.json from cache at None\n",
      "loading file special_tokens_map.json from cache at None\n",
      "loading file tokenizer_config.json from cache at /home/slerendu/.cache/huggingface/hub/models--bert-base-uncased/snapshots/1dbc166cf8765166998eff31ade2eb64c8a40076/tokenizer_config.json\n",
      "loading configuration file config.json from cache at /home/slerendu/.cache/huggingface/hub/models--bert-base-uncased/snapshots/1dbc166cf8765166998eff31ade2eb64c8a40076/config.json\n",
      "Model config BertConfig {\n",
      "  \"_name_or_path\": \"bert-base-uncased\",\n",
      "  \"architectures\": [\n",
      "    \"BertForMaskedLM\"\n",
      "  ],\n",
      "  \"attention_probs_dropout_prob\": 0.1,\n",
      "  \"classifier_dropout\": null,\n",
      "  \"gradient_checkpointing\": false,\n",
      "  \"hidden_act\": \"gelu\",\n",
      "  \"hidden_dropout_prob\": 0.1,\n",
      "  \"hidden_size\": 768,\n",
      "  \"initializer_range\": 0.02,\n",
      "  \"intermediate_size\": 3072,\n",
      "  \"layer_norm_eps\": 1e-12,\n",
      "  \"max_position_embeddings\": 512,\n",
      "  \"model_type\": \"bert\",\n",
      "  \"num_attention_heads\": 12,\n",
      "  \"num_hidden_layers\": 12,\n",
      "  \"pad_token_id\": 0,\n",
      "  \"position_embedding_type\": \"absolute\",\n",
      "  \"transformers_version\": \"4.30.2\",\n",
      "  \"type_vocab_size\": 2,\n",
      "  \"use_cache\": true,\n",
      "  \"vocab_size\": 30522\n",
      "}\n",
      "\n",
      "loading configuration file config.json from cache at /home/slerendu/.cache/huggingface/hub/models--bert-base-uncased/snapshots/1dbc166cf8765166998eff31ade2eb64c8a40076/config.json\n",
      "Model config BertConfig {\n",
      "  \"architectures\": [\n",
      "    \"BertForMaskedLM\"\n",
      "  ],\n",
      "  \"attention_probs_dropout_prob\": 0.1,\n",
      "  \"classifier_dropout\": null,\n",
      "  \"gradient_checkpointing\": false,\n",
      "  \"hidden_act\": \"gelu\",\n",
      "  \"hidden_dropout_prob\": 0.1,\n",
      "  \"hidden_size\": 768,\n",
      "  \"initializer_range\": 0.02,\n",
      "  \"intermediate_size\": 3072,\n",
      "  \"layer_norm_eps\": 1e-12,\n",
      "  \"max_position_embeddings\": 512,\n",
      "  \"model_type\": \"bert\",\n",
      "  \"num_attention_heads\": 12,\n",
      "  \"num_hidden_layers\": 12,\n",
      "  \"pad_token_id\": 0,\n",
      "  \"position_embedding_type\": \"absolute\",\n",
      "  \"transformers_version\": \"4.30.2\",\n",
      "  \"type_vocab_size\": 2,\n",
      "  \"use_cache\": true,\n",
      "  \"vocab_size\": 30522\n",
      "}\n",
      "\n",
      "loading weights file model.safetensors from cache at /home/slerendu/.cache/huggingface/hub/models--bert-base-uncased/snapshots/1dbc166cf8765166998eff31ade2eb64c8a40076/model.safetensors\n",
      "Some weights of the model checkpoint at bert-base-uncased were not used when initializing BertForSequenceClassification: ['cls.predictions.transform.dense.bias', 'cls.predictions.transform.LayerNorm.weight', 'cls.predictions.bias', 'cls.seq_relationship.bias', 'cls.seq_relationship.weight', 'cls.predictions.transform.LayerNorm.bias', 'cls.predictions.transform.dense.weight']\n",
      "- This IS expected if you are initializing BertForSequenceClassification from the checkpoint of a model trained on another task or with another architecture (e.g. initializing a BertForSequenceClassification model from a BertForPreTraining model).\n",
      "- This IS NOT expected if you are initializing BertForSequenceClassification from the checkpoint of a model that you expect to be exactly identical (initializing a BertForSequenceClassification model from a BertForSequenceClassification model).\n",
      "Some weights of BertForSequenceClassification were not initialized from the model checkpoint at bert-base-uncased and are newly initialized: ['classifier.bias', 'classifier.weight']\n",
      "You should probably TRAIN this model on a down-stream task to be able to use it for predictions and inference.\n"
     ]
    }
   ],
   "source": [
    "bert_tokenizer = BertTokenizer.from_pretrained(\"bert-base-uncased\", do_lower_case = True)\n",
    "bert_model = BertForSequenceClassification.from_pretrained('bert-base-uncased', num_labels=2, output_attentions = False, output_hidden_states = False)"
   ]
  },
  {
   "cell_type": "code",
   "execution_count": 68,
   "id": "716f232d-36e4-49d7-9234-e174933036ee",
   "metadata": {},
   "outputs": [],
   "source": [
    "input_ids=[]\n",
    "attention_masks=[]\n",
    "\n",
    "for sent in data_words[\"sentence\"]:\n",
    "    bert_inp = bert_tokenizer.encode_plus(\n",
    "        sent, add_special_tokens=True, max_length=64, pad_to_max_length=True,\n",
    "        return_attention_mask=True)\n",
    "    input_ids.append(bert_inp['input_ids'])\n",
    "    attention_masks.append(bert_inp['attention_mask'])\n",
    "\n",
    "input_ids=np.asarray(input_ids)\n",
    "attention_masks=np.array(attention_masks)\n",
    "labels=np.array(data_words['target'])\n",
    "\n",
    "# input_ids = torch.cat(input_ids,dim=0)\n",
    "# attention_mask = torch.cat(attention_mask,dim=0)\n",
    "# labels = torch.tensor(labels)"
   ]
  },
  {
   "cell_type": "code",
   "execution_count": 69,
   "id": "622c42dd-57ef-4bda-ada8-e2d72dcd231e",
   "metadata": {},
   "outputs": [
    {
     "data": {
      "text/plain": [
       "(20000, 20000, 20000)"
      ]
     },
     "execution_count": 69,
     "metadata": {},
     "output_type": "execute_result"
    }
   ],
   "source": [
    "len(input_ids), len(attention_masks), len(labels)"
   ]
  },
  {
   "cell_type": "code",
   "execution_count": 71,
   "id": "dbfb3e9d-f3fd-415a-9a0d-3eb2a73b2c60",
   "metadata": {},
   "outputs": [],
   "source": [
    "# bert_model.summary()"
   ]
  },
  {
   "cell_type": "code",
   "execution_count": 72,
   "id": "2456ef7d-47fb-4202-a823-d203a4161c33",
   "metadata": {},
   "outputs": [],
   "source": [
    "from sklearn import model_selection\n",
    "import tensorflow as tf"
   ]
  },
  {
   "cell_type": "code",
   "execution_count": 73,
   "id": "4343ae15-72b7-4641-9773-804829c8ac82",
   "metadata": {},
   "outputs": [
    {
     "ename": "AttributeError",
     "evalue": "'BertForSequenceClassification' object has no attribute 'compile'",
     "output_type": "error",
     "traceback": [
      "\u001b[0;31m---------------------------------------------------------------------------\u001b[0m",
      "\u001b[0;31mAttributeError\u001b[0m                            Traceback (most recent call last)",
      "Cell \u001b[0;32mIn[73], line 5\u001b[0m\n\u001b[1;32m      1\u001b[0m \u001b[38;5;66;03m# loss = losses.SparseCategoricalCrossentropy(from_logits=True)\u001b[39;00m\n\u001b[1;32m      2\u001b[0m \u001b[38;5;66;03m# optimizer = optimizers.Adam(learning_rate=2e-5, epsilon=1e-08)\u001b[39;00m\n\u001b[1;32m      3\u001b[0m \u001b[38;5;66;03m# learning_rate=2e-5 recommended by the Bert team\u001b[39;00m\n\u001b[0;32m----> 5\u001b[0m \u001b[43mbert_model\u001b[49m\u001b[38;5;241;43m.\u001b[39;49m\u001b[43mcompile\u001b[49m(loss\u001b[38;5;241m=\u001b[39m\u001b[38;5;124m\"\u001b[39m\u001b[38;5;124msparse_categorical_crossentropy\u001b[39m\u001b[38;5;124m\"\u001b[39m, optimizer\u001b[38;5;241m=\u001b[39m\u001b[38;5;124m\"\u001b[39m\u001b[38;5;124mAdam\u001b[39m\u001b[38;5;124m\"\u001b[39m, metrics\u001b[38;5;241m=\u001b[39m[tf\u001b[38;5;241m.\u001b[39mkeras\u001b[38;5;241m.\u001b[39mmetrics\u001b[38;5;241m.\u001b[39mAUC()])\n",
      "File \u001b[0;32m~/.local/lib/python3.10/site-packages/torch/nn/modules/module.py:1614\u001b[0m, in \u001b[0;36mModule.__getattr__\u001b[0;34m(self, name)\u001b[0m\n\u001b[1;32m   1612\u001b[0m     \u001b[38;5;28;01mif\u001b[39;00m name \u001b[38;5;129;01min\u001b[39;00m modules:\n\u001b[1;32m   1613\u001b[0m         \u001b[38;5;28;01mreturn\u001b[39;00m modules[name]\n\u001b[0;32m-> 1614\u001b[0m \u001b[38;5;28;01mraise\u001b[39;00m \u001b[38;5;167;01mAttributeError\u001b[39;00m(\u001b[38;5;124m\"\u001b[39m\u001b[38;5;124m'\u001b[39m\u001b[38;5;132;01m{}\u001b[39;00m\u001b[38;5;124m'\u001b[39m\u001b[38;5;124m object has no attribute \u001b[39m\u001b[38;5;124m'\u001b[39m\u001b[38;5;132;01m{}\u001b[39;00m\u001b[38;5;124m'\u001b[39m\u001b[38;5;124m\"\u001b[39m\u001b[38;5;241m.\u001b[39mformat(\n\u001b[1;32m   1615\u001b[0m     \u001b[38;5;28mtype\u001b[39m(\u001b[38;5;28mself\u001b[39m)\u001b[38;5;241m.\u001b[39m\u001b[38;5;18m__name__\u001b[39m, name))\n",
      "\u001b[0;31mAttributeError\u001b[0m: 'BertForSequenceClassification' object has no attribute 'compile'"
     ]
    }
   ],
   "source": [
    "# loss = losses.SparseCategoricalCrossentropy(from_logits=True)\n",
    "# optimizer = optimizers.Adam(learning_rate=2e-5, epsilon=1e-08)\n",
    "# learning_rate=2e-5 recommended by the Bert team\n",
    "\n",
    "bert_model.compile(loss=\"sparse_categorical_crossentropy\", optimizer=\"Adam\", metrics=[tf.keras.metrics.AUC()])\n"
   ]
  },
  {
   "cell_type": "code",
   "execution_count": null,
   "id": "5ae379b1-735a-4f7a-b9e0-5cab2d870a63",
   "metadata": {},
   "outputs": [],
   "source": [
    "train_inp, val_inp, train_label, val_label, train_mask, val_mask = model_selection.train_test_split(input_ids, labels, attention_masks, test_size=0.2)"
   ]
  },
  {
   "cell_type": "code",
   "execution_count": null,
   "id": "0702cf3b-0186-45fb-b4d5-2b71218cdcf8",
   "metadata": {},
   "outputs": [],
   "source": [
    "train_inp.shape, train_label.shape, train_mask.shape"
   ]
  },
  {
   "cell_type": "code",
   "execution_count": null,
   "id": "f29835b6-c191-470d-a6d1-045ee6a37ab4",
   "metadata": {},
   "outputs": [],
   "source": [
    "history=bert_model.fit(\n",
    "    [train_inp,train_mask],train_label,batch_size=32,epochs=4,\n",
    "    validation_data=([val_inp,val_mask],val_label))"
   ]
  },
  {
   "cell_type": "code",
   "execution_count": null,
   "id": "2febef8d-cdee-484e-a736-496a32557137",
   "metadata": {},
   "outputs": [],
   "source": [
    "def display_result_plot_accuracy(history):\n",
    "    spec,  val_spec  = history.history['categorical_accuracy'], history.history['val_categorical_accuracy']\n",
    "    loss, val_loss = history.history['loss'], history.history['val_loss']\n",
    "    epochs = range(len(spec))\n",
    "\n",
    "    plt.plot(epochs, spec, 'b', label='Training spec')\n",
    "    plt.plot(epochs, val_spec, 'r', label='Validation spec')\n",
    "    plt.title('Training and validation accuracy')\n",
    "    plt.legend()\n",
    "\n",
    "    plt.figure()\n",
    "\n",
    "    plt.plot(epochs, loss, 'b', label='Training loss')\n",
    "    plt.plot(epochs, val_loss, 'r', label='Validation loss')\n",
    "    plt.title('Training and validation loss')\n",
    "    plt.legend()\n",
    "\n",
    "    plt.show()"
   ]
  },
  {
   "cell_type": "code",
   "execution_count": null,
   "id": "3ab62e54-ae8a-4f5b-8eff-c5de92d3ef43",
   "metadata": {},
   "outputs": [],
   "source": [
    "display_result_plot_accuracy(history)"
   ]
  },
  {
   "cell_type": "code",
   "execution_count": null,
   "id": "18b597ec-22ef-4517-bea4-46df1dc912af",
   "metadata": {},
   "outputs": [],
   "source": [
    "# compute confusion matrix and specificity\n",
    "y_pred = bert_model.predict(X_val)"
   ]
  },
  {
   "cell_type": "code",
   "execution_count": null,
   "id": "5eb80ec5-6ca3-44f4-bc5a-043c7fd5cea6",
   "metadata": {},
   "outputs": [],
   "source": [
    "y_pred"
   ]
  },
  {
   "cell_type": "code",
   "execution_count": null,
   "id": "019dd4ab-3642-46c4-b1f8-480fab0b56a5",
   "metadata": {},
   "outputs": [],
   "source": [
    "pred_labels = y_pred[\"logits\"].argmax(axis=1)"
   ]
  },
  {
   "cell_type": "code",
   "execution_count": null,
   "id": "c8eccaaa-f663-406d-b972-b0408db5a921",
   "metadata": {},
   "outputs": [],
   "source": [
    "pred_labels"
   ]
  },
  {
   "cell_type": "code",
   "execution_count": null,
   "id": "2f606edf-0740-4c3e-b716-df19d87af047",
   "metadata": {},
   "outputs": [],
   "source": [
    "pred_res = []\n",
    "for tup in y_pred[\"logits\"]:\n",
    "    if tup[1]>=0.5:\n",
    "        pred_res.append(1)\n",
    "    else:\n",
    "        pred_res.append(0)"
   ]
  },
  {
   "cell_type": "code",
   "execution_count": null,
   "id": "dc9aafa9-3abe-4aba-8f17-5f17d1a6762c",
   "metadata": {},
   "outputs": [],
   "source": [
    "speci = display_confusion_matrix(actual_class=y_val, predict_class=pred_labels, display_labels=[\"Negative\", \"Positive\"], specifity=True)"
   ]
  }
 ],
 "metadata": {
  "kernelspec": {
   "display_name": "conda_env_prj07_05",
   "language": "python",
   "name": "conda_env_prj07_05"
  },
  "language_info": {
   "codemirror_mode": {
    "name": "ipython",
    "version": 3
   },
   "file_extension": ".py",
   "mimetype": "text/x-python",
   "name": "python",
   "nbconvert_exporter": "python",
   "pygments_lexer": "ipython3",
   "version": "3.10.12"
  }
 },
 "nbformat": 4,
 "nbformat_minor": 5
}
