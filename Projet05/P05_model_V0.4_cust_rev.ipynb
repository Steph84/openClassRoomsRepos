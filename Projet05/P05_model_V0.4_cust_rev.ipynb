{
 "cells": [
  {
   "cell_type": "markdown",
   "id": "29d90cad-4466-49d4-9173-7029ac6eb3d1",
   "metadata": {},
   "source": [
    "# Modelisation de clustering"
   ]
  },
  {
   "cell_type": "markdown",
   "id": "934e8ce6-9166-4215-ae92-ef6cccd52fbb",
   "metadata": {},
   "source": [
    "Ce notebook renferme les essais des différentes approches de modélisation pour segmenter nos données."
   ]
  },
  {
   "cell_type": "code",
   "execution_count": 1,
   "id": "29963352-59ea-4292-acaa-17d48d94aa3a",
   "metadata": {},
   "outputs": [],
   "source": [
    "import time\n",
    "import pandas as pd\n",
    "import numpy as np\n",
    "import matplotlib.pyplot as plt\n",
    "from datetime import timedelta\n",
    "import seaborn as sns\n",
    "sns.set()\n",
    "import warnings\n",
    "warnings.filterwarnings('ignore')"
   ]
  },
  {
   "cell_type": "markdown",
   "id": "c54a463e-c4ee-4a7b-bed4-446455df3a78",
   "metadata": {
    "jp-MarkdownHeadingCollapsed": true,
    "tags": []
   },
   "source": [
    "## Méthodes du projet"
   ]
  },
  {
   "cell_type": "code",
   "execution_count": 2,
   "id": "8d4ed501-9dee-456b-8bb9-eaed8d3ad8e5",
   "metadata": {},
   "outputs": [],
   "source": [
    "def plot_univarie(df, list_col, cust_bin=20):\n",
    "    for col in list_col:\n",
    "        print(\"-\"*70)\n",
    "        print(\"Colonne :\", col)\n",
    "        # mesures de tendances centrales\n",
    "        print(\"moyenne : \", df[col].mean())\n",
    "        print(\"médiane : \", df[col].median())\n",
    "        print(\"mode : \", df[col].mode())\n",
    "        print(\"min : \", df[col].min())\n",
    "        print(\"max : \", df[col].max())\n",
    "        quartiles = [np.percentile(df[col], p) for p in [25, 75]]\n",
    "        print(\"quartiles : \", quartiles)\n",
    "        # mesures de dispersion\n",
    "        print(\"variance : \", df[col].var(ddof=0))\n",
    "        print(\"écart-type : \", df[col].std(ddof=0))\n",
    "        print(\"coefficient de variation : \", df[col].std(ddof=0)/df[col].mean())\n",
    "        # mesures de forme\n",
    "        print(\"skewness : \", df[col].skew())\n",
    "        print(\"kurtosis : \", df[col].kurtosis())\n",
    "        df[col].hist(bins=cust_bin)\n",
    "        plt.xlabel(col)\n",
    "        # pour tracer les 1er et 3ème quartiles\n",
    "        min_ylim, max_ylim = plt.ylim()\n",
    "        # plt.xticks(np.arange(-15, 41, 5))\n",
    "        plt.axvline(quartiles[0], color='k', linestyle='dashed', linewidth=1)\n",
    "        plt.text(quartiles[0], max_ylim*0.95, ' {:.0f}'.format(quartiles[0]))\n",
    "        plt.axvline(quartiles[1], color='k', linestyle='dashed', linewidth=1)\n",
    "        plt.text(quartiles[1], max_ylim*0.85, ' {:.0f}'.format(quartiles[1]))\n",
    "        plt.show()\n",
    "        print(\"-\"*70)"
   ]
  },
  {
   "cell_type": "code",
   "execution_count": 3,
   "id": "39b3f46c-065b-4d3e-94d9-b49fb188e8ed",
   "metadata": {},
   "outputs": [],
   "source": [
    "def compute_dbscan(X_norm, ref_labels, silent=True):\n",
    "    start = time.time()\n",
    "    result_dbscan = []\n",
    "    min_sample_range = range(5, 30, 5)\n",
    "    epsilon_range = np.arange(0.1, 1.2, 0.10)\n",
    "    nb_tot_combin = len(min_sample_range) * len(epsilon_range)\n",
    "    nb_current_combi = 0\n",
    "    for i in min_sample_range:\n",
    "        for j in epsilon_range:\n",
    "            nb_current_combi += 1\n",
    "            dbscan = cluster.DBSCAN(eps=j,  min_samples=i)\n",
    "            dbscan.fit(X_norm)\n",
    "            check_ressource_usage()\n",
    "            labels = dbscan.labels_\n",
    "            n_clusters_ = len(set(labels)) - (1 if -1 in labels else 0)\n",
    "            n_noise_ = list(labels).count(-1)\n",
    "            ari_dbscan = round(adjusted_rand_score(ref_labels, labels), 4)\n",
    "            if not silent:\n",
    "                print(\"-\"*70)\n",
    "                print(\"Epsilon :\", round(j, 1), \"- MinSample :\", i)\n",
    "                print(\"Clusters :\", n_clusters_, \"- Noise points :\", n_noise_)\n",
    "                print(\"ARI-Score :\", ari_dbscan)\n",
    "            perc_curr = (nb_current_combi/nb_tot_combin)*100\n",
    "            perc_remain = ((nb_tot_combin - nb_current_combi)/nb_tot_combin)*100\n",
    "            print(\"-\"*int(perc_curr) + \" \"*int(perc_remain) + str(round(perc_curr, 1)) + \"%\")\n",
    "            result_dbscan.append([round(j, 1), i, n_clusters_, n_noise_, ari_dbscan])\n",
    "    \n",
    "    end = time.time()\n",
    "    delta = round(end - start, 0)\n",
    "    print(\"DBSCAN combinaisons parcourues en:\", delta, \"s, soit\", round(delta/60, 0), \"min, soit\" , round(delta/3600, 0), \"h.\")\n",
    "    return pd.DataFrame(result_dbscan, columns=['eps', 'minsample', 'cluster', 'noise', 'ari'])"
   ]
  },
  {
   "cell_type": "code",
   "execution_count": 4,
   "id": "e3b9d568-6060-41d4-9a6a-b65bd93a7331",
   "metadata": {
    "tags": []
   },
   "outputs": [],
   "source": [
    "# pour séparer les colonnes par type de donnée\n",
    "def split_data_num_categ(df, silent=False):\n",
    "    result = []\n",
    "    \n",
    "    # test sur dataset en input\n",
    "    if len(df) == 0:\n",
    "        print(\"Le DataFrame d'origine est vide.\")\n",
    "        return result\n",
    "    \n",
    "    dict_col = {\n",
    "        'numeric': [],\n",
    "        'category': [],\n",
    "        'boolean': [],\n",
    "        'datetime': [],\n",
    "        'deltatime': []\n",
    "    }\n",
    "    \n",
    "    for col in df.columns:\n",
    "        if df[col].dtype.name in ('float64', 'int64', 'int32'):\n",
    "            dict_col['numeric'].append(col)\n",
    "        elif df[col].dtype.name in ('object', 'category'):\n",
    "            dict_col['category'].append(col)\n",
    "        elif df[col].dtype.name == 'bool':\n",
    "            dict_col['boolean'].append(col)\n",
    "        elif df[col].dtype.name == 'datetime64[ns]':\n",
    "            dict_col['datetime'].append(col)\n",
    "        elif df[col].dtype.name == 'timedelta[ns]':\n",
    "            dict_col['deltatime'].append(col)\n",
    "        else:\n",
    "            print(\"Type de données non connu :\", df[col].dtype.name, \"pour la colonne\", col)\n",
    "\n",
    "    if not silent:\n",
    "        print(\"Voici la répartition des colonnes par type de données :\")\n",
    "    for key, value in dict_col.items():\n",
    "        nb_col_by_type = len(value)\n",
    "        if not silent:\n",
    "            print(key, \":\", nb_col_by_type, \"colonnes.\")\n",
    "        if nb_col_by_type > 0:\n",
    "            result.append(df[value])\n",
    "    \n",
    "    return result"
   ]
  },
  {
   "cell_type": "code",
   "execution_count": 5,
   "id": "3f52ab69-9326-412c-974d-d37e0f86828c",
   "metadata": {
    "tags": []
   },
   "outputs": [],
   "source": [
    "# pour tracer les boxplot des différentes variables RFM en fonction du cluster\n",
    "def display_box_plot_comparison(df_w_cluster, col_to_display):\n",
    "    cluster_unique = sorted(df_w_cluster[\"cluster\"].unique())\n",
    "    X_quali = \"cluster\" # qualitative\n",
    "\n",
    "    for col in col_to_display:\n",
    "        Y_quanti = col # quantitative\n",
    "\n",
    "        groupes = []\n",
    "        for m in cluster_unique:\n",
    "            groupes.append(df_w_cluster[df_w_cluster[X_quali]==m][Y_quanti])\n",
    "\n",
    "        # Propriétés graphiques    \n",
    "        medianprops = {'color':\"black\"}\n",
    "        meanprops = {'marker':'o', 'markeredgecolor':'black',\n",
    "                    'markerfacecolor':'firebrick'}\n",
    "        plt.figure(figsize=(12,6))\n",
    "        res = plt.boxplot(\n",
    "            groupes, labels=cluster_unique, showfliers=False, medianprops=medianprops,\n",
    "            vert=True, patch_artist=False, showmeans=True, meanprops=meanprops)\n",
    "        plt.xlabel(\"Clusters\")\n",
    "        plt.ylabel(\"{} value\".format(col))\n",
    "\n",
    "        # pour tracer les lignes des limites pour discuter sur le graphique\n",
    "        min_xlim, max_xlim = plt.xlim()\n",
    "        boxes_lim = [item.get_ydata() for item in res['boxes']]\n",
    "        for m in cluster_unique:\n",
    "            temp_low = round(boxes_lim[m][1], 1)\n",
    "            temp_up = round(boxes_lim[m][2], 1)\n",
    "            plt.axhline(temp_low, color='k', linestyle='dashed', linewidth=1)\n",
    "            plt.text(max_xlim*0.91, temp_low, '{}'.format(temp_low))\n",
    "            plt.axhline(temp_up, color='k', linestyle='dashed', linewidth=1)\n",
    "            plt.text(max_xlim*0.91, temp_up, '{}'.format(temp_up))\n",
    "\n",
    "        plt.show()"
   ]
  },
  {
   "cell_type": "code",
   "execution_count": 6,
   "id": "e9cc1c9a-735a-4959-8b88-3c38bf770bf0",
   "metadata": {},
   "outputs": [],
   "source": [
    "import psutil, sys\n",
    "def check_ressource_usage():\n",
    "    user = 'slerendu'\n",
    "    # vals_cpu = np.mean([p.cpu_percent() for p in psutil.process_iter() if p.username() == user])\n",
    "    vals_ram = sum([p.memory_percent() for p in psutil.process_iter() if p.username() == user])\n",
    "    # print(\"CPU :\", round(vals_cpu, 1), \"%\")\n",
    "    print(\"RAM :\", round(vals_ram, 1), \"%\")\n",
    "    if vals_ram > 90:\n",
    "        sys.exit()"
   ]
  },
  {
   "cell_type": "code",
   "execution_count": 7,
   "id": "51c623ff-8178-4292-a015-31e8a745800b",
   "metadata": {},
   "outputs": [],
   "source": [
    "def compute_dbscan(X_norm, ref_labels, silent=True):\n",
    "    start = time.time()\n",
    "    result_dbscan = []\n",
    "    min_sample_range = range(5, 25, 5)\n",
    "    epsilon_range = np.arange(0.1, 0.9, 0.10)\n",
    "    nb_tot_combin = len(min_sample_range) * len(epsilon_range)\n",
    "    nb_current_combi = 0\n",
    "    for i in min_sample_range:\n",
    "        for j in epsilon_range:\n",
    "            nb_current_combi += 1\n",
    "            dbscan = cluster.DBSCAN(eps=j,  min_samples=i)\n",
    "            dbscan.fit(X_norm)\n",
    "            check_ressource_usage()\n",
    "            labels = dbscan.labels_\n",
    "            n_clusters_ = len(set(labels)) - (1 if -1 in labels else 0)\n",
    "            n_noise_ = list(labels).count(-1)\n",
    "            ari_dbscan = round(adjusted_rand_score(ref_labels, labels), 4)\n",
    "            if not silent:\n",
    "                print(\"-\"*70)\n",
    "                print(\"Epsilon :\", round(j, 1), \"- MinSample :\", i)\n",
    "                print(\"Clusters :\", n_clusters_, \"- Noise points :\", n_noise_)\n",
    "                print(\"ARI-Score :\", ari_dbscan)\n",
    "            perc_curr = (nb_current_combi/nb_tot_combin)*100\n",
    "            perc_remain = ((nb_tot_combin - nb_current_combi)/nb_tot_combin)*100\n",
    "            print(\"-\"*int(perc_curr) + \" \"*int(perc_remain) + str(round(perc_curr, 1)) + \"%\")\n",
    "            result_dbscan.append([round(j, 1), i, n_clusters_, n_noise_, ari_dbscan])\n",
    "    \n",
    "    end = time.time()\n",
    "    delta = round(end - start, 0)\n",
    "    print(\"DBSCAN combinaisons parcourues en:\", delta, \"s, soit\", round(delta/60, 0), \"min, soit\" , round(delta/3600, 0), \"h.\")\n",
    "    return pd.DataFrame(result_dbscan, columns=['eps', 'minsample', 'cluster', 'noise', 'ari'])"
   ]
  },
  {
   "cell_type": "markdown",
   "id": "292c15b1-b3fa-4a91-8f71-f84fbb02c1f4",
   "metadata": {},
   "source": [
    "### YellowBrick"
   ]
  },
  {
   "cell_type": "code",
   "execution_count": 8,
   "id": "031e887e-2c8c-4ea1-9e78-76706a582a19",
   "metadata": {},
   "outputs": [],
   "source": [
    "from yellowbrick.cluster import KElbowVisualizer\n",
    "def define_cluster_numbers(X_norm, metric='distortion', nb_clusters=(2, 11), model=\"kmeans\"):\n",
    "    start = time.time()\n",
    "    \n",
    "    if model == \"kmeans\":\n",
    "        clust = cluster.KMeans()\n",
    "    elif model == \"dbscan\":\n",
    "        clust = cluster.DBSCAN()\n",
    "    visualizer = KElbowVisualizer(clust, metric=metric, k=nb_clusters)\n",
    "    visualizer.fit(X_norm)\n",
    "    visualizer.poof()\n",
    "    \n",
    "    end = time.time()\n",
    "    delta = round(end - start, 0)\n",
    "    print(\"Clusters définis en:\", delta, \"s, soit\", round(delta/60, 0), \"min, soit\" , round(delta/3600, 0), \"h.\")\n",
    "    print(\"D'après cette analyse, le nombre de cluster optimal est de\", visualizer.elbow_value_)\n",
    "    return visualizer.elbow_value_"
   ]
  },
  {
   "cell_type": "code",
   "execution_count": 9,
   "id": "d6df1660-efb2-4177-87df-18b80e2f5242",
   "metadata": {},
   "outputs": [],
   "source": [
    "from yellowbrick.cluster import SilhouetteVisualizer\n",
    "def display_silhouette_clusters(X_norm, nb_clusters=[]):\n",
    "    start = time.time()\n",
    "    if len(nb_clusters) == 0:\n",
    "        print(\"La liste de nombre de clusters n'est pas renseignée.\")\n",
    "    else:\n",
    "        for n_cluster in nb_clusters:\n",
    "            print(\"Visualisation avec\", n_cluster, \"clusters en cours...\")\n",
    "            kmeans = cluster.KMeans(n_clusters=n_cluster)\n",
    "            visualizer = SilhouetteVisualizer(kmeans)\n",
    "            visualizer.fit(X_norm)\n",
    "            visualizer.poof()\n",
    "    \n",
    "            end = time.time()\n",
    "            delta = round(end - start, 0)\n",
    "            start = time.time()\n",
    "            print(\"Visualisation de Silhouette sur\", n_cluster, \" clusters fait en :\", delta, \"s, soit\", round(delta/60, 0), \"min, soit\" , round(delta/3600, 0), \"h.\")    "
   ]
  },
  {
   "cell_type": "markdown",
   "id": "b846411b-f647-4a7b-ab20-27fefc3f5d42",
   "metadata": {
    "jp-MarkdownHeadingCollapsed": true,
    "tags": []
   },
   "source": [
    "## Chargement des données"
   ]
  },
  {
   "cell_type": "markdown",
   "id": "73bdac1f-b50c-4c92-b7f2-1cfbcd989555",
   "metadata": {},
   "source": [
    "On commence par charger le dataset d'étude préparé dans le notebook d'analyse exploratoire."
   ]
  },
  {
   "cell_type": "code",
   "execution_count": 10,
   "id": "f74b8f3b-10a7-421c-860f-8464fc1b33a6",
   "metadata": {},
   "outputs": [],
   "source": [
    "parse_date_col = [\n",
    "    \"review_creation_date\",\n",
    "    \"review_answer_timestamp\",\n",
    "    \"shipping_limit_date\",\n",
    "    'order_purchase_timestamp',\n",
    "    'order_approved_at',\n",
    "    'order_delivered_carrier_date',\n",
    "    'order_delivered_customer_date',\n",
    "    'order_estimated_delivery_date']\n",
    "data = pd.read_csv(\"customers_rev_dataset.csv\", encoding='utf-8', sep='\\t', index_col=0, parse_dates=parse_date_col)"
   ]
  },
  {
   "cell_type": "code",
   "execution_count": 11,
   "id": "78c6a8b2-3d06-42b4-8635-6eee33d1f93d",
   "metadata": {},
   "outputs": [
    {
     "data": {
      "text/html": [
       "<div>\n",
       "<style scoped>\n",
       "    .dataframe tbody tr th:only-of-type {\n",
       "        vertical-align: middle;\n",
       "    }\n",
       "\n",
       "    .dataframe tbody tr th {\n",
       "        vertical-align: top;\n",
       "    }\n",
       "\n",
       "    .dataframe thead th {\n",
       "        text-align: right;\n",
       "    }\n",
       "</style>\n",
       "<table border=\"1\" class=\"dataframe\">\n",
       "  <thead>\n",
       "    <tr style=\"text-align: right;\">\n",
       "      <th></th>\n",
       "      <th>customer_id</th>\n",
       "      <th>customer_unique_id</th>\n",
       "      <th>customer_zip_code_prefix</th>\n",
       "      <th>customer_city</th>\n",
       "      <th>customer_state</th>\n",
       "      <th>order_id</th>\n",
       "      <th>order_status</th>\n",
       "      <th>order_purchase_timestamp</th>\n",
       "      <th>order_approved_at</th>\n",
       "      <th>order_delivered_carrier_date</th>\n",
       "      <th>...</th>\n",
       "      <th>review_id</th>\n",
       "      <th>review_score</th>\n",
       "      <th>review_creation_date</th>\n",
       "      <th>review_answer_timestamp</th>\n",
       "      <th>order_item_id</th>\n",
       "      <th>product_id</th>\n",
       "      <th>seller_id</th>\n",
       "      <th>shipping_limit_date</th>\n",
       "      <th>price</th>\n",
       "      <th>freight_value</th>\n",
       "    </tr>\n",
       "  </thead>\n",
       "  <tbody>\n",
       "    <tr>\n",
       "      <th>0</th>\n",
       "      <td>06b8999e2fba1a1fbc88172c00ba8bc7</td>\n",
       "      <td>861eff4711a542e4b93843c6dd7febb0</td>\n",
       "      <td>14409</td>\n",
       "      <td>franca</td>\n",
       "      <td>SP</td>\n",
       "      <td>00e7ee1b050b8499577073aeb2a297a1</td>\n",
       "      <td>delivered</td>\n",
       "      <td>2017-05-16 15:05:35</td>\n",
       "      <td>2017-05-16 15:22:12</td>\n",
       "      <td>2017-05-23 10:47:57</td>\n",
       "      <td>...</td>\n",
       "      <td>88b8b52d46df026a9d1ad2136a59b30b</td>\n",
       "      <td>4</td>\n",
       "      <td>2017-05-26</td>\n",
       "      <td>2017-05-30 22:34:40</td>\n",
       "      <td>1</td>\n",
       "      <td>a9516a079e37a9c9c36b9b78b10169e8</td>\n",
       "      <td>7c67e1448b00f6e969d365cea6b010ab</td>\n",
       "      <td>2017-05-22 15:22:12</td>\n",
       "      <td>124.99</td>\n",
       "      <td>21.88</td>\n",
       "    </tr>\n",
       "    <tr>\n",
       "      <th>1</th>\n",
       "      <td>18955e83d337fd6b2def6b18a428ac77</td>\n",
       "      <td>290c77bc529b7ac935b93aa66c333dc3</td>\n",
       "      <td>9790</td>\n",
       "      <td>sao bernardo do campo</td>\n",
       "      <td>SP</td>\n",
       "      <td>29150127e6685892b6eab3eec79f59c7</td>\n",
       "      <td>delivered</td>\n",
       "      <td>2018-01-12 20:48:24</td>\n",
       "      <td>2018-01-12 20:58:32</td>\n",
       "      <td>2018-01-15 17:14:59</td>\n",
       "      <td>...</td>\n",
       "      <td>02fc48a9efa3e3d0f1a8ea26507eeec3</td>\n",
       "      <td>5</td>\n",
       "      <td>2018-01-30</td>\n",
       "      <td>2018-02-10 22:43:29</td>\n",
       "      <td>1</td>\n",
       "      <td>4aa6014eceb682077f9dc4bffebc05b0</td>\n",
       "      <td>b8bc237ba3788b23da09c0f1f3a3288c</td>\n",
       "      <td>2018-01-18 20:58:32</td>\n",
       "      <td>289.00</td>\n",
       "      <td>46.48</td>\n",
       "    </tr>\n",
       "    <tr>\n",
       "      <th>2</th>\n",
       "      <td>4e7b3e00288586ebd08712fdd0374a03</td>\n",
       "      <td>060e732b5b29e8181a18229c7b0b2b5e</td>\n",
       "      <td>1151</td>\n",
       "      <td>sao paulo</td>\n",
       "      <td>SP</td>\n",
       "      <td>b2059ed67ce144a36e2aa97d2c9e9ad2</td>\n",
       "      <td>delivered</td>\n",
       "      <td>2018-05-19 16:07:45</td>\n",
       "      <td>2018-05-20 16:19:10</td>\n",
       "      <td>2018-06-11 14:31:00</td>\n",
       "      <td>...</td>\n",
       "      <td>5ad6695d76ee186dc473c42706984d87</td>\n",
       "      <td>5</td>\n",
       "      <td>2018-06-15</td>\n",
       "      <td>2018-06-15 12:10:59</td>\n",
       "      <td>1</td>\n",
       "      <td>bd07b66896d6f1494f5b86251848ced7</td>\n",
       "      <td>7c67e1448b00f6e969d365cea6b010ab</td>\n",
       "      <td>2018-06-05 16:19:10</td>\n",
       "      <td>139.94</td>\n",
       "      <td>17.79</td>\n",
       "    </tr>\n",
       "    <tr>\n",
       "      <th>3</th>\n",
       "      <td>b2b6027bc5c5109e529d4dc6358b12c3</td>\n",
       "      <td>259dac757896d24d7702b9acbbff3f3c</td>\n",
       "      <td>8775</td>\n",
       "      <td>mogi das cruzes</td>\n",
       "      <td>SP</td>\n",
       "      <td>951670f92359f4fe4a63112aa7306eba</td>\n",
       "      <td>delivered</td>\n",
       "      <td>2018-03-13 16:06:38</td>\n",
       "      <td>2018-03-13 17:29:19</td>\n",
       "      <td>2018-03-27 23:22:42</td>\n",
       "      <td>...</td>\n",
       "      <td>059a801bb31f6aab2266e672cab87bc5</td>\n",
       "      <td>5</td>\n",
       "      <td>2018-03-29</td>\n",
       "      <td>2018-04-02 18:36:47</td>\n",
       "      <td>1</td>\n",
       "      <td>a5647c44af977b148e0a3a4751a09e2e</td>\n",
       "      <td>7c67e1448b00f6e969d365cea6b010ab</td>\n",
       "      <td>2018-03-27 16:31:16</td>\n",
       "      <td>149.94</td>\n",
       "      <td>23.36</td>\n",
       "    </tr>\n",
       "    <tr>\n",
       "      <th>4</th>\n",
       "      <td>4f2d8ab171c80ec8364f7c12e35b23ad</td>\n",
       "      <td>345ecd01c38d18a9036ed96c73b8d066</td>\n",
       "      <td>13056</td>\n",
       "      <td>campinas</td>\n",
       "      <td>SP</td>\n",
       "      <td>6b7d50bd145f6fc7f33cebabd7e49d0f</td>\n",
       "      <td>delivered</td>\n",
       "      <td>2018-07-29 09:51:30</td>\n",
       "      <td>2018-07-29 10:10:09</td>\n",
       "      <td>2018-07-30 15:16:00</td>\n",
       "      <td>...</td>\n",
       "      <td>8490879d58d6c5d7773f2739a03f089a</td>\n",
       "      <td>5</td>\n",
       "      <td>2018-08-10</td>\n",
       "      <td>2018-08-17 01:59:52</td>\n",
       "      <td>1</td>\n",
       "      <td>9391a573abe00141c56e38d84d7d5b3b</td>\n",
       "      <td>4a3ca9315b744ce9f8e9374361493884</td>\n",
       "      <td>2018-07-31 10:10:09</td>\n",
       "      <td>230.00</td>\n",
       "      <td>22.25</td>\n",
       "    </tr>\n",
       "  </tbody>\n",
       "</table>\n",
       "<p>5 rows × 22 columns</p>\n",
       "</div>"
      ],
      "text/plain": [
       "                        customer_id                customer_unique_id  \\\n",
       "0  06b8999e2fba1a1fbc88172c00ba8bc7  861eff4711a542e4b93843c6dd7febb0   \n",
       "1  18955e83d337fd6b2def6b18a428ac77  290c77bc529b7ac935b93aa66c333dc3   \n",
       "2  4e7b3e00288586ebd08712fdd0374a03  060e732b5b29e8181a18229c7b0b2b5e   \n",
       "3  b2b6027bc5c5109e529d4dc6358b12c3  259dac757896d24d7702b9acbbff3f3c   \n",
       "4  4f2d8ab171c80ec8364f7c12e35b23ad  345ecd01c38d18a9036ed96c73b8d066   \n",
       "\n",
       "   customer_zip_code_prefix          customer_city customer_state  \\\n",
       "0                     14409                 franca             SP   \n",
       "1                      9790  sao bernardo do campo             SP   \n",
       "2                      1151              sao paulo             SP   \n",
       "3                      8775        mogi das cruzes             SP   \n",
       "4                     13056               campinas             SP   \n",
       "\n",
       "                           order_id order_status order_purchase_timestamp  \\\n",
       "0  00e7ee1b050b8499577073aeb2a297a1    delivered      2017-05-16 15:05:35   \n",
       "1  29150127e6685892b6eab3eec79f59c7    delivered      2018-01-12 20:48:24   \n",
       "2  b2059ed67ce144a36e2aa97d2c9e9ad2    delivered      2018-05-19 16:07:45   \n",
       "3  951670f92359f4fe4a63112aa7306eba    delivered      2018-03-13 16:06:38   \n",
       "4  6b7d50bd145f6fc7f33cebabd7e49d0f    delivered      2018-07-29 09:51:30   \n",
       "\n",
       "    order_approved_at order_delivered_carrier_date  ...  \\\n",
       "0 2017-05-16 15:22:12          2017-05-23 10:47:57  ...   \n",
       "1 2018-01-12 20:58:32          2018-01-15 17:14:59  ...   \n",
       "2 2018-05-20 16:19:10          2018-06-11 14:31:00  ...   \n",
       "3 2018-03-13 17:29:19          2018-03-27 23:22:42  ...   \n",
       "4 2018-07-29 10:10:09          2018-07-30 15:16:00  ...   \n",
       "\n",
       "                          review_id review_score review_creation_date  \\\n",
       "0  88b8b52d46df026a9d1ad2136a59b30b            4           2017-05-26   \n",
       "1  02fc48a9efa3e3d0f1a8ea26507eeec3            5           2018-01-30   \n",
       "2  5ad6695d76ee186dc473c42706984d87            5           2018-06-15   \n",
       "3  059a801bb31f6aab2266e672cab87bc5            5           2018-03-29   \n",
       "4  8490879d58d6c5d7773f2739a03f089a            5           2018-08-10   \n",
       "\n",
       "   review_answer_timestamp order_item_id                        product_id  \\\n",
       "0      2017-05-30 22:34:40             1  a9516a079e37a9c9c36b9b78b10169e8   \n",
       "1      2018-02-10 22:43:29             1  4aa6014eceb682077f9dc4bffebc05b0   \n",
       "2      2018-06-15 12:10:59             1  bd07b66896d6f1494f5b86251848ced7   \n",
       "3      2018-04-02 18:36:47             1  a5647c44af977b148e0a3a4751a09e2e   \n",
       "4      2018-08-17 01:59:52             1  9391a573abe00141c56e38d84d7d5b3b   \n",
       "\n",
       "                          seller_id shipping_limit_date   price freight_value  \n",
       "0  7c67e1448b00f6e969d365cea6b010ab 2017-05-22 15:22:12  124.99         21.88  \n",
       "1  b8bc237ba3788b23da09c0f1f3a3288c 2018-01-18 20:58:32  289.00         46.48  \n",
       "2  7c67e1448b00f6e969d365cea6b010ab 2018-06-05 16:19:10  139.94         17.79  \n",
       "3  7c67e1448b00f6e969d365cea6b010ab 2018-03-27 16:31:16  149.94         23.36  \n",
       "4  4a3ca9315b744ce9f8e9374361493884 2018-07-31 10:10:09  230.00         22.25  \n",
       "\n",
       "[5 rows x 22 columns]"
      ]
     },
     "execution_count": 11,
     "metadata": {},
     "output_type": "execute_result"
    }
   ],
   "source": [
    "data.head()"
   ]
  },
  {
   "cell_type": "code",
   "execution_count": 12,
   "id": "96166764-2214-402c-b197-0b05bbaa8340",
   "metadata": {},
   "outputs": [],
   "source": [
    "# on va prendre des données pertienentes, càd conséquentes et récentes\n",
    "# en fonction de la répartition des date de commande, nous choisissons les données entre\n",
    "# de 09/2017 jusqu'à 08/2018\n",
    "# data = data.loc[(data[\"order_purchase_timestamp\"] >= '2017-09-01 00:00:00') & (data[\"order_purchase_timestamp\"] <= '2018-08-31 23:59:59'), :]\n",
    "# data.shape"
   ]
  },
  {
   "cell_type": "markdown",
   "id": "10732c1e-746f-42bd-a83f-0d68ffb2ce58",
   "metadata": {
    "tags": []
   },
   "source": [
    "# Création des variables RFM"
   ]
  },
  {
   "cell_type": "markdown",
   "id": "e5150e52-f6aa-46b8-ad37-fcbafc4320b8",
   "metadata": {},
   "source": [
    "Maintenant, on va créer les composantes de l'étude RFM : \n",
    " - Recency : le nombre de jour depuis le dernier achat\n",
    " - Frequency : le nombre d'achat fait durant toute la période du dataset\n",
    " - Monetary : le montant total dépensé durant toute la période du dataset"
   ]
  },
  {
   "cell_type": "code",
   "execution_count": 13,
   "id": "90f1f62b-8141-4c55-a7a4-3396a20ae98a",
   "metadata": {},
   "outputs": [],
   "source": [
    "# on passe la colonne de date d'achat de timestamp à datetime\n",
    "data['order_purchase_timestamp'] = pd.to_datetime(data['order_purchase_timestamp'])"
   ]
  },
  {
   "cell_type": "code",
   "execution_count": 14,
   "id": "4f9a92d2-9938-4755-9878-aaf737264523",
   "metadata": {},
   "outputs": [
    {
     "name": "stdout",
     "output_type": "stream",
     "text": [
      "La dernière date de référence que nous prendrons est : 2018-09-04 09:06:57\n"
     ]
    }
   ],
   "source": [
    "# on récupère la dernière date du dataset pour la comparaison\n",
    "last_purchase_date = data[\"order_purchase_timestamp\"].max() + timedelta(days=1)\n",
    "print(\"La dernière date de référence que nous prendrons est :\", last_purchase_date)"
   ]
  },
  {
   "cell_type": "code",
   "execution_count": 15,
   "id": "df6c363f-cc3d-4245-8e4d-a1ec251e585a",
   "metadata": {},
   "outputs": [],
   "source": [
    "# on calcule le montant acheté par ligne\n",
    "# nb d'article * (prix de l'article + frais de port de l'article)\n",
    "data['order_value_by_item'] = data['order_item_id'] * (data['price'] + data[\"freight_value\"])"
   ]
  },
  {
   "cell_type": "code",
   "execution_count": 16,
   "id": "36268824-c242-408e-8107-8b9655002856",
   "metadata": {},
   "outputs": [],
   "source": [
    "# aggregation nécessaires pour les calculs RFM\n",
    "aggregation = {\n",
    "    'order_purchase_timestamp': lambda x: (last_purchase_date - x.max()).days,\n",
    "    'order_id': 'count',\n",
    "    'order_value_by_item': 'sum',\n",
    "    'review_score': 'mean'\n",
    "}"
   ]
  },
  {
   "cell_type": "code",
   "execution_count": 17,
   "id": "a0fa94e6-865d-43b1-81c5-32eb830e4333",
   "metadata": {},
   "outputs": [],
   "source": [
    "# on regroupe par customer_unique_id pour appliquer les aggrégations\n",
    "data_process = data.groupby(['customer_unique_id']).agg(aggregation)\n",
    "# on renomme les colonnes pour l'étude des modèles\n",
    "data_process.rename(\n",
    "    columns={'order_purchase_timestamp': 'rfm_recency',\n",
    "             'order_id': 'rfm_frequency',\n",
    "             'order_value_by_item': 'rfm_monetary',\n",
    "             'review_score': 'review_score_mean'}, inplace=True)"
   ]
  },
  {
   "cell_type": "code",
   "execution_count": 18,
   "id": "4abd9f07-519f-4c94-97c0-67f8fb5af4de",
   "metadata": {},
   "outputs": [
    {
     "data": {
      "text/html": [
       "<div>\n",
       "<style scoped>\n",
       "    .dataframe tbody tr th:only-of-type {\n",
       "        vertical-align: middle;\n",
       "    }\n",
       "\n",
       "    .dataframe tbody tr th {\n",
       "        vertical-align: top;\n",
       "    }\n",
       "\n",
       "    .dataframe thead th {\n",
       "        text-align: right;\n",
       "    }\n",
       "</style>\n",
       "<table border=\"1\" class=\"dataframe\">\n",
       "  <thead>\n",
       "    <tr style=\"text-align: right;\">\n",
       "      <th></th>\n",
       "      <th>rfm_recency</th>\n",
       "      <th>rfm_frequency</th>\n",
       "      <th>rfm_monetary</th>\n",
       "      <th>review_score_mean</th>\n",
       "    </tr>\n",
       "    <tr>\n",
       "      <th>customer_unique_id</th>\n",
       "      <th></th>\n",
       "      <th></th>\n",
       "      <th></th>\n",
       "      <th></th>\n",
       "    </tr>\n",
       "  </thead>\n",
       "  <tbody>\n",
       "    <tr>\n",
       "      <th>0000366f3b9a7992bf8c76cfdf3221e2</th>\n",
       "      <td>116</td>\n",
       "      <td>1</td>\n",
       "      <td>141.90</td>\n",
       "      <td>5.0</td>\n",
       "    </tr>\n",
       "    <tr>\n",
       "      <th>0000b849f77a49e4a4ce2b2a4ca5be3f</th>\n",
       "      <td>119</td>\n",
       "      <td>1</td>\n",
       "      <td>27.19</td>\n",
       "      <td>4.0</td>\n",
       "    </tr>\n",
       "    <tr>\n",
       "      <th>0000f46a3911fa3c0805444483337064</th>\n",
       "      <td>542</td>\n",
       "      <td>1</td>\n",
       "      <td>86.22</td>\n",
       "      <td>3.0</td>\n",
       "    </tr>\n",
       "    <tr>\n",
       "      <th>0000f6ccb0745a6a4b88665a16c9f078</th>\n",
       "      <td>326</td>\n",
       "      <td>1</td>\n",
       "      <td>43.62</td>\n",
       "      <td>4.0</td>\n",
       "    </tr>\n",
       "    <tr>\n",
       "      <th>0004aac84e0df4da2b147fca70cf8255</th>\n",
       "      <td>293</td>\n",
       "      <td>1</td>\n",
       "      <td>196.89</td>\n",
       "      <td>5.0</td>\n",
       "    </tr>\n",
       "  </tbody>\n",
       "</table>\n",
       "</div>"
      ],
      "text/plain": [
       "                                  rfm_recency  rfm_frequency  rfm_monetary  \\\n",
       "customer_unique_id                                                           \n",
       "0000366f3b9a7992bf8c76cfdf3221e2          116              1        141.90   \n",
       "0000b849f77a49e4a4ce2b2a4ca5be3f          119              1         27.19   \n",
       "0000f46a3911fa3c0805444483337064          542              1         86.22   \n",
       "0000f6ccb0745a6a4b88665a16c9f078          326              1         43.62   \n",
       "0004aac84e0df4da2b147fca70cf8255          293              1        196.89   \n",
       "\n",
       "                                  review_score_mean  \n",
       "customer_unique_id                                   \n",
       "0000366f3b9a7992bf8c76cfdf3221e2                5.0  \n",
       "0000b849f77a49e4a4ce2b2a4ca5be3f                4.0  \n",
       "0000f46a3911fa3c0805444483337064                3.0  \n",
       "0000f6ccb0745a6a4b88665a16c9f078                4.0  \n",
       "0004aac84e0df4da2b147fca70cf8255                5.0  "
      ]
     },
     "execution_count": 18,
     "metadata": {},
     "output_type": "execute_result"
    }
   ],
   "source": [
    "data_process.head()"
   ]
  },
  {
   "cell_type": "code",
   "execution_count": 19,
   "id": "dce2dfc8-9fb5-46f3-8e1b-5285c387c2c7",
   "metadata": {},
   "outputs": [
    {
     "data": {
      "text/html": [
       "<div>\n",
       "<style scoped>\n",
       "    .dataframe tbody tr th:only-of-type {\n",
       "        vertical-align: middle;\n",
       "    }\n",
       "\n",
       "    .dataframe tbody tr th {\n",
       "        vertical-align: top;\n",
       "    }\n",
       "\n",
       "    .dataframe thead th {\n",
       "        text-align: right;\n",
       "    }\n",
       "</style>\n",
       "<table border=\"1\" class=\"dataframe\">\n",
       "  <thead>\n",
       "    <tr style=\"text-align: right;\">\n",
       "      <th></th>\n",
       "      <th>rfm_recency</th>\n",
       "      <th>rfm_frequency</th>\n",
       "      <th>rfm_monetary</th>\n",
       "      <th>review_score_mean</th>\n",
       "    </tr>\n",
       "  </thead>\n",
       "  <tbody>\n",
       "    <tr>\n",
       "      <th>count</th>\n",
       "      <td>94721.000000</td>\n",
       "      <td>94721.000000</td>\n",
       "      <td>94721.000000</td>\n",
       "      <td>94721.000000</td>\n",
       "    </tr>\n",
       "    <tr>\n",
       "      <th>mean</th>\n",
       "      <td>243.442827</td>\n",
       "      <td>1.079275</td>\n",
       "      <td>171.920015</td>\n",
       "      <td>4.102253</td>\n",
       "    </tr>\n",
       "    <tr>\n",
       "      <th>std</th>\n",
       "      <td>153.170660</td>\n",
       "      <td>0.366482</td>\n",
       "      <td>243.958634</td>\n",
       "      <td>1.326603</td>\n",
       "    </tr>\n",
       "    <tr>\n",
       "      <th>min</th>\n",
       "      <td>1.000000</td>\n",
       "      <td>1.000000</td>\n",
       "      <td>9.590000</td>\n",
       "      <td>1.000000</td>\n",
       "    </tr>\n",
       "    <tr>\n",
       "      <th>25%</th>\n",
       "      <td>119.000000</td>\n",
       "      <td>1.000000</td>\n",
       "      <td>63.220000</td>\n",
       "      <td>4.000000</td>\n",
       "    </tr>\n",
       "    <tr>\n",
       "      <th>50%</th>\n",
       "      <td>224.000000</td>\n",
       "      <td>1.000000</td>\n",
       "      <td>108.830000</td>\n",
       "      <td>5.000000</td>\n",
       "    </tr>\n",
       "    <tr>\n",
       "      <th>75%</th>\n",
       "      <td>353.000000</td>\n",
       "      <td>1.000000</td>\n",
       "      <td>187.240000</td>\n",
       "      <td>5.000000</td>\n",
       "    </tr>\n",
       "    <tr>\n",
       "      <th>max</th>\n",
       "      <td>729.000000</td>\n",
       "      <td>16.000000</td>\n",
       "      <td>13664.080000</td>\n",
       "      <td>5.000000</td>\n",
       "    </tr>\n",
       "  </tbody>\n",
       "</table>\n",
       "</div>"
      ],
      "text/plain": [
       "        rfm_recency  rfm_frequency  rfm_monetary  review_score_mean\n",
       "count  94721.000000   94721.000000  94721.000000       94721.000000\n",
       "mean     243.442827       1.079275    171.920015           4.102253\n",
       "std      153.170660       0.366482    243.958634           1.326603\n",
       "min        1.000000       1.000000      9.590000           1.000000\n",
       "25%      119.000000       1.000000     63.220000           4.000000\n",
       "50%      224.000000       1.000000    108.830000           5.000000\n",
       "75%      353.000000       1.000000    187.240000           5.000000\n",
       "max      729.000000      16.000000  13664.080000           5.000000"
      ]
     },
     "execution_count": 19,
     "metadata": {},
     "output_type": "execute_result"
    }
   ],
   "source": [
    "data_process.describe()"
   ]
  },
  {
   "cell_type": "markdown",
   "id": "30599f59-4e96-4689-b654-56c178b0fb9b",
   "metadata": {},
   "source": [
    "On remarque 2 éléments : \n",
    " - au moins 75% des clients ont acheté une seule fois\n",
    " - plus de 50% des clients ont attribué une note de 5 à leurs commandes"
   ]
  },
  {
   "cell_type": "code",
   "execution_count": 20,
   "id": "27311bc5-f818-4d1d-bd0a-d0e9fc158d21",
   "metadata": {},
   "outputs": [
    {
     "name": "stdout",
     "output_type": "stream",
     "text": [
      "On dénombre 5792 clients fidèles, càd ayant acheté plus d'une fois, soit 6.1 % du total.\n"
     ]
    }
   ],
   "source": [
    "nb_more_than_one = len(data_process.loc[data_process[\"rfm_frequency\"] > 1, :])\n",
    "print(\"On dénombre\", nb_more_than_one, \"clients fidèles, càd ayant acheté plus d'une fois, soit\", str(round(nb_more_than_one/len(data_process)*100, 1)), \"% du total.\")"
   ]
  },
  {
   "cell_type": "code",
   "execution_count": 21,
   "id": "2aa9ff29-ef5c-4b7c-aa70-1dc06490c898",
   "metadata": {},
   "outputs": [
    {
     "name": "stdout",
     "output_type": "stream",
     "text": [
      "On dénombre 54569 clients pleinement satisfaits, càd ayant acheté plus d'une fois, soit 57.6 % du total.\n"
     ]
    }
   ],
   "source": [
    "nb_review_five = len(data_process.loc[data_process[\"review_score_mean\"] == 5, :])\n",
    "print(\"On dénombre\", nb_review_five, \"clients pleinement satisfaits, càd ayant acheté plus d'une fois, soit\", str(round(nb_review_five/len(data_process)*100, 1)), \"% du total.\")"
   ]
  },
  {
   "cell_type": "code",
   "execution_count": 22,
   "id": "73e7d761-7a73-40b6-b955-184627886458",
   "metadata": {
    "tags": []
   },
   "outputs": [
    {
     "name": "stdout",
     "output_type": "stream",
     "text": [
      "----------------------------------------------------------------------\n",
      "Colonne : rfm_recency\n",
      "moyenne :  243.44282682826406\n",
      "médiane :  224.0\n",
      "mode :  0    283\n",
      "Name: rfm_recency, dtype: int64\n",
      "min :  1\n",
      "max :  729\n",
      "quartiles :  [119.0, 353.0]\n",
      "variance :  23461.003479995867\n",
      "écart-type :  153.1698517332829\n",
      "coefficient de variation :  0.6291820290163492\n",
      "skewness :  0.44894063408024504\n",
      "kurtosis :  -0.6562644477478643\n"
     ]
    },
    {
     "data": {
      "image/png": "[encoded data removed]",
      "text/plain": [
       "<Figure size 800x550 with 1 Axes>"
      ]
     },
     "metadata": {},
     "output_type": "display_data"
    },
    {
     "name": "stdout",
     "output_type": "stream",
     "text": [
      "----------------------------------------------------------------------\n",
      "----------------------------------------------------------------------\n",
      "Colonne : rfm_frequency\n",
      "moyenne :  1.07927492319549\n",
      "médiane :  1.0\n",
      "mode :  0    1\n",
      "Name: rfm_frequency, dtype: int64\n",
      "min :  1\n",
      "max :  16\n",
      "quartiles :  [1.0, 1.0]\n",
      "variance :  0.13430732996616448\n",
      "écart-type :  0.3664796446818902\n",
      "coefficient de variation :  0.33956097450761347\n",
      "skewness :  8.086404683593686\n",
      "kurtosis :  126.2845703833787\n"
     ]
    },
    {
     "data": {
      "image/png": "[encoded data removed]",
      "text/plain": [
       "<Figure size 800x550 with 1 Axes>"
      ]
     },
     "metadata": {},
     "output_type": "display_data"
    },
    {
     "name": "stdout",
     "output_type": "stream",
     "text": [
      "----------------------------------------------------------------------\n",
      "----------------------------------------------------------------------\n",
      "Colonne : rfm_monetary\n",
      "moyenne :  171.92001509696902\n",
      "médiane :  108.83000000000001\n",
      "mode :  0    77.57\n",
      "Name: rfm_monetary, dtype: float64\n",
      "min :  9.59\n",
      "max :  13664.08\n",
      "quartiles :  [63.22, 187.24]\n",
      "variance :  59515.18675348528\n",
      "écart-type :  243.95734617650947\n",
      "coefficient de variation :  1.41901654696173\n",
      "skewness :  8.78399729746919\n",
      "kurtosis :  196.17109805430576\n"
     ]
    },
    {
     "data": {
      "image/png": "[encoded data removed]",
      "text/plain": [
       "<Figure size 800x550 with 1 Axes>"
      ]
     },
     "metadata": {},
     "output_type": "display_data"
    },
    {
     "name": "stdout",
     "output_type": "stream",
     "text": [
      "----------------------------------------------------------------------\n",
      "----------------------------------------------------------------------\n",
      "Colonne : review_score_mean\n",
      "moyenne :  4.102253303542352\n",
      "médiane :  5.0\n",
      "mode :  0    5.0\n",
      "Name: review_score_mean, dtype: float64\n",
      "min :  1.0\n",
      "max :  5.0\n",
      "quartiles :  [4.0, 5.0]\n",
      "variance :  1.75985734447129\n",
      "écart-type :  1.3265961497272973\n",
      "coefficient de variation :  0.3233823100542727\n",
      "skewness :  -1.3902598743582462\n",
      "kurtosis :  0.6198791215232617\n"
     ]
    },
    {
     "data": {
      "image/png": "[encoded data removed]",
      "text/plain": [
       "<Figure size 800x550 with 1 Axes>"
      ]
     },
     "metadata": {},
     "output_type": "display_data"
    },
    {
     "name": "stdout",
     "output_type": "stream",
     "text": [
      "----------------------------------------------------------------------\n"
     ]
    }
   ],
   "source": [
    "plot_univarie(data_process, data_process.columns)"
   ]
  },
  {
   "cell_type": "markdown",
   "id": "33c246c8-c718-4d1a-a368-98cf82382d96",
   "metadata": {},
   "source": [
    "# Clustering"
   ]
  },
  {
   "cell_type": "code",
   "execution_count": 23,
   "id": "a17ecc41-0d49-4a79-b185-c0afe717042c",
   "metadata": {},
   "outputs": [],
   "source": [
    "from sklearn import cluster\n",
    "from sklearn import preprocessing"
   ]
  },
  {
   "cell_type": "code",
   "execution_count": 24,
   "id": "84108def-3055-4fb8-a781-f6340660448a",
   "metadata": {},
   "outputs": [],
   "source": [
    "# on prépare les données en les normalisant\n",
    "X = data_process.values\n",
    "scaler = preprocessing.RobustScaler()\n",
    "X_norm = scaler.fit_transform(X)"
   ]
  },
  {
   "cell_type": "markdown",
   "id": "811dd42f-c6e4-44d0-8477-15edc81cfcbf",
   "metadata": {},
   "source": [
    "## KMeans"
   ]
  },
  {
   "cell_type": "markdown",
   "id": "6a8991ea-f3ac-4e8b-9659-a64202ffdb46",
   "metadata": {},
   "source": [
    "### Recherche du nombre de clusters optimal"
   ]
  },
  {
   "cell_type": "markdown",
   "id": "6352723d-4e06-4b84-89d8-e9aeab600f74",
   "metadata": {},
   "source": [
    "A l'aide du KMeans, on évalue le nombre de cluster optimal."
   ]
  },
  {
   "cell_type": "code",
   "execution_count": 25,
   "id": "cf9a1cfb-a2cf-4f0a-a8f0-3beb91b115a0",
   "metadata": {},
   "outputs": [],
   "source": [
    "# optimal_k = define_cluster_numbers(X_norm)"
   ]
  },
  {
   "cell_type": "markdown",
   "id": "bb552a41-f1e8-40e2-9c0d-e9ee44824b10",
   "metadata": {},
   "source": [
    "Et on visualise le diagramme de silouhettes."
   ]
  },
  {
   "cell_type": "code",
   "execution_count": 26,
   "id": "b8ae6949-df09-444b-a60b-e604633fcb4b",
   "metadata": {},
   "outputs": [],
   "source": [
    "# display_silhouette_clusters(X_norm, nb_clusters=[optimal_k])"
   ]
  },
  {
   "cell_type": "markdown",
   "id": "3d903385-5cf4-4e1a-b610-b2eda44735fd",
   "metadata": {},
   "source": [
    "### Etude des clusters"
   ]
  },
  {
   "cell_type": "code",
   "execution_count": 27,
   "id": "e122bc3b-d0c4-44d5-9a53-fba7655c09aa",
   "metadata": {},
   "outputs": [],
   "source": [
    "sns.reset_orig()"
   ]
  },
  {
   "cell_type": "code",
   "execution_count": 28,
   "id": "46d1dc3c-3c12-40db-89a9-1a6c128c9b6c",
   "metadata": {},
   "outputs": [],
   "source": [
    "# on relance le KMeans avec le nb de cluster optimal\n",
    "kmeans = cluster.KMeans(n_clusters=3)\n",
    "kmeans.fit(X_norm)\n",
    "# puis on récupère le libellé du cluster pour chaque client\n",
    "cluster_map = pd.DataFrame()\n",
    "cluster_map['customer_unique_id'] = data_process.index.values\n",
    "cluster_map['cluster'] = kmeans.labels_\n",
    "# on incorpore cette données au dataframe global\n",
    "data_w_cluster = pd.merge(data_process, cluster_map, on=\"customer_unique_id\", how=\"inner\")"
   ]
  },
  {
   "cell_type": "code",
   "execution_count": 29,
   "id": "abc88f87-fdc4-4ec4-856a-505c36c06944",
   "metadata": {},
   "outputs": [],
   "source": [
    "def display_bilan_clusters_rfm(df):\n",
    "    agg = {\n",
    "        'rfm_recency': 'mean',\n",
    "        'rfm_frequency': 'mean',\n",
    "        'rfm_monetary': 'mean',\n",
    "        'cluster': 'count'\n",
    "    }\n",
    "    # on regroupe par customer_unique_id pour appliquer les aggrégations\n",
    "    clustering_table = df.groupby([\"cluster\"]).agg(agg)\n",
    "    # on renomme les colonnes pour l'étude des modèles\n",
    "    clustering_table.rename(\n",
    "        columns={'rfm_recency': 'recency_mean',\n",
    "                 'rfm_frequency': 'frequency_mean',\n",
    "                 'rfm_monetary': 'monetary_mean',\n",
    "                 'cluster': 'cluster_size'}, inplace=True)\n",
    "    clustering_table[\"cluster_perc\"] = round(clustering_table[\"cluster_size\"] / len(df) * 100, 1)\n",
    "    display(clustering_table.head())\n",
    "    return clustering_table"
   ]
  },
  {
   "cell_type": "code",
   "execution_count": 30,
   "id": "d822c764-9da3-490d-8301-f910eb702e6e",
   "metadata": {},
   "outputs": [],
   "source": [
    "def display_bilan_clusters_rfm_rev(df):\n",
    "    agg = {\n",
    "        'rfm_recency': 'mean',\n",
    "        'rfm_frequency': 'mean',\n",
    "        'rfm_monetary': 'mean',\n",
    "        'cluster': 'count',\n",
    "        'review_score_mean': 'mean'\n",
    "    }\n",
    "    # on regroupe par customer_unique_id pour appliquer les aggrégations\n",
    "    clustering_table = df.groupby([\"cluster\"]).agg(agg)\n",
    "    # on renomme les colonnes pour l'étude des modèles\n",
    "    clustering_table.rename(\n",
    "        columns={'rfm_recency': 'recency_mean',\n",
    "                 'rfm_frequency': 'frequency_mean',\n",
    "                 'rfm_monetary': 'monetary_mean',\n",
    "                 'cluster': 'cluster_size',\n",
    "                 'review_score_mean': 'rev_mean'}, inplace=True)\n",
    "    clustering_table[\"cluster_perc\"] = round(clustering_table[\"cluster_size\"] / len(df) * 100, 1)\n",
    "    display(clustering_table.head())\n",
    "    return clustering_table"
   ]
  },
  {
   "cell_type": "code",
   "execution_count": 31,
   "id": "edff1c9e-ba63-45f9-96ef-8b13f88c7c29",
   "metadata": {},
   "outputs": [
    {
     "data": {
      "text/html": [
       "<div>\n",
       "<style scoped>\n",
       "    .dataframe tbody tr th:only-of-type {\n",
       "        vertical-align: middle;\n",
       "    }\n",
       "\n",
       "    .dataframe tbody tr th {\n",
       "        vertical-align: top;\n",
       "    }\n",
       "\n",
       "    .dataframe thead th {\n",
       "        text-align: right;\n",
       "    }\n",
       "</style>\n",
       "<table border=\"1\" class=\"dataframe\">\n",
       "  <thead>\n",
       "    <tr style=\"text-align: right;\">\n",
       "      <th></th>\n",
       "      <th>recency_mean</th>\n",
       "      <th>frequency_mean</th>\n",
       "      <th>monetary_mean</th>\n",
       "      <th>cluster_size</th>\n",
       "      <th>rev_mean</th>\n",
       "      <th>cluster_perc</th>\n",
       "    </tr>\n",
       "    <tr>\n",
       "      <th>cluster</th>\n",
       "      <th></th>\n",
       "      <th></th>\n",
       "      <th></th>\n",
       "      <th></th>\n",
       "      <th></th>\n",
       "      <th></th>\n",
       "    </tr>\n",
       "  </thead>\n",
       "  <tbody>\n",
       "    <tr>\n",
       "      <th>0</th>\n",
       "      <td>249.232807</td>\n",
       "      <td>1.097747</td>\n",
       "      <td>152.280776</td>\n",
       "      <td>20502</td>\n",
       "      <td>1.893978</td>\n",
       "      <td>21.6</td>\n",
       "    </tr>\n",
       "    <tr>\n",
       "      <th>1</th>\n",
       "      <td>245.265874</td>\n",
       "      <td>1.443803</td>\n",
       "      <td>1172.833545</td>\n",
       "      <td>2945</td>\n",
       "      <td>3.924123</td>\n",
       "      <td>3.1</td>\n",
       "    </tr>\n",
       "    <tr>\n",
       "      <th>2</th>\n",
       "      <td>241.702009</td>\n",
       "      <td>1.058899</td>\n",
       "      <td>136.212090</td>\n",
       "      <td>71274</td>\n",
       "      <td>4.744825</td>\n",
       "      <td>75.2</td>\n",
       "    </tr>\n",
       "  </tbody>\n",
       "</table>\n",
       "</div>"
      ],
      "text/plain": [
       "         recency_mean  frequency_mean  monetary_mean  cluster_size  rev_mean  \\\n",
       "cluster                                                                        \n",
       "0          249.232807        1.097747     152.280776         20502  1.893978   \n",
       "1          245.265874        1.443803    1172.833545          2945  3.924123   \n",
       "2          241.702009        1.058899     136.212090         71274  4.744825   \n",
       "\n",
       "         cluster_perc  \n",
       "cluster                \n",
       "0                21.6  \n",
       "1                 3.1  \n",
       "2                75.2  "
      ]
     },
     "metadata": {},
     "output_type": "display_data"
    }
   ],
   "source": [
    "res = display_bilan_clusters_rfm_rev(data_w_cluster)"
   ]
  },
  {
   "cell_type": "code",
   "execution_count": 32,
   "id": "edde0514-da3f-47d5-992f-9c5dfb9a5925",
   "metadata": {
    "tags": []
   },
   "outputs": [
    {
     "data": {
      "image/png": "[encoded data removed]",
      "text/plain": [
       "<Figure size 1200x600 with 1 Axes>"
      ]
     },
     "metadata": {},
     "output_type": "display_data"
    },
    {
     "data": {
      "image/png": "[encoded data removed]",
      "text/plain": [
       "<Figure size 1200x600 with 1 Axes>"
      ]
     },
     "metadata": {},
     "output_type": "display_data"
    },
    {
     "data": {
      "image/png": "[encoded data removed]",
      "text/plain": [
       "<Figure size 1200x600 with 1 Axes>"
      ]
     },
     "metadata": {},
     "output_type": "display_data"
    },
    {
     "data": {
      "image/png": "[encoded data removed]",
      "text/plain": [
       "<Figure size 1200x600 with 1 Axes>"
      ]
     },
     "metadata": {},
     "output_type": "display_data"
    }
   ],
   "source": [
    "display_box_plot_comparison(data_w_cluster, data_process.columns)"
   ]
  },
  {
   "cell_type": "markdown",
   "id": "0fb9b225-e721-41d0-a58c-801ba8e750c6",
   "metadata": {},
   "source": [
    "## Scénario avec KMeans"
   ]
  },
  {
   "cell_type": "markdown",
   "id": "9b20ed02-120b-4735-86ab-009158062b85",
   "metadata": {},
   "source": [
    "Nous allons maintenant voir l'intérêt du clustering par KMeans en calculant le gain obtenu selon différents scénario : \n",
    " - nous allons déplacer 20% des petits acheteurs dans le cluster des bons acheteurs et comparer le CA\n",
    " - puis nous allons déplacer 20% des acheteurs moyens dans le cluster des bons acheteurs et comparer le CA\n",
    "\n",
    "Nous allons donc d'abord calculer le CA global avec la configuration actuelle."
   ]
  },
  {
   "cell_type": "code",
   "execution_count": 33,
   "id": "6eb73835-f3e6-4d8f-af5a-08d60cfef9a6",
   "metadata": {},
   "outputs": [
    {
     "name": "stdout",
     "output_type": "stream",
     "text": [
      "Le CA global pour cette configuration est de 16 284 435.75 real.\n"
     ]
    }
   ],
   "source": [
    "ca_global_ref = data_w_cluster[\"rfm_monetary\"].sum()\n",
    "print(\"Le CA global pour cette configuration est de\", f'{round(ca_global_ref, 2):,}'.replace(',', ' '), \"real.\")"
   ]
  },
  {
   "cell_type": "code",
   "execution_count": 34,
   "id": "2d1d8406-895d-4216-8e11-b58a66bb5098",
   "metadata": {},
   "outputs": [],
   "source": [
    "X = data_process.values\n",
    "scaler = preprocessing.RobustScaler()\n",
    "X_norm = scaler.fit_transform(X)"
   ]
  },
  {
   "cell_type": "code",
   "execution_count": 35,
   "id": "5895d03f-7f34-4466-9857-0a5cc39d8859",
   "metadata": {},
   "outputs": [],
   "source": [
    "kmeans = cluster.KMeans(n_clusters=3)\n",
    "kmeans.fit(X_norm)\n",
    "cluster_map = pd.DataFrame()\n",
    "cluster_map['customer_unique_id'] = data_process.index.values\n",
    "cluster_map['cluster'] = kmeans.labels_\n",
    "# on incorpore cette données au dataframe global\n",
    "data_w_cluster = pd.merge(data_process, cluster_map, on=\"customer_unique_id\", how=\"inner\")"
   ]
  },
  {
   "cell_type": "code",
   "execution_count": 36,
   "id": "cb41e851-5b68-4eed-b2ca-b03a61ffc977",
   "metadata": {},
   "outputs": [
    {
     "data": {
      "text/html": [
       "<div>\n",
       "<style scoped>\n",
       "    .dataframe tbody tr th:only-of-type {\n",
       "        vertical-align: middle;\n",
       "    }\n",
       "\n",
       "    .dataframe tbody tr th {\n",
       "        vertical-align: top;\n",
       "    }\n",
       "\n",
       "    .dataframe thead th {\n",
       "        text-align: right;\n",
       "    }\n",
       "</style>\n",
       "<table border=\"1\" class=\"dataframe\">\n",
       "  <thead>\n",
       "    <tr style=\"text-align: right;\">\n",
       "      <th></th>\n",
       "      <th>recency_mean</th>\n",
       "      <th>frequency_mean</th>\n",
       "      <th>monetary_mean</th>\n",
       "      <th>cluster_size</th>\n",
       "      <th>cluster_perc</th>\n",
       "    </tr>\n",
       "    <tr>\n",
       "      <th>cluster</th>\n",
       "      <th></th>\n",
       "      <th></th>\n",
       "      <th></th>\n",
       "      <th></th>\n",
       "      <th></th>\n",
       "    </tr>\n",
       "  </thead>\n",
       "  <tbody>\n",
       "    <tr>\n",
       "      <th>0</th>\n",
       "      <td>249.232807</td>\n",
       "      <td>1.097747</td>\n",
       "      <td>152.280776</td>\n",
       "      <td>20502</td>\n",
       "      <td>21.6</td>\n",
       "    </tr>\n",
       "    <tr>\n",
       "      <th>1</th>\n",
       "      <td>241.695225</td>\n",
       "      <td>1.058847</td>\n",
       "      <td>136.175552</td>\n",
       "      <td>71269</td>\n",
       "      <td>75.2</td>\n",
       "    </tr>\n",
       "    <tr>\n",
       "      <th>2</th>\n",
       "      <td>245.423729</td>\n",
       "      <td>1.444407</td>\n",
       "      <td>1171.959275</td>\n",
       "      <td>2950</td>\n",
       "      <td>3.1</td>\n",
       "    </tr>\n",
       "  </tbody>\n",
       "</table>\n",
       "</div>"
      ],
      "text/plain": [
       "         recency_mean  frequency_mean  monetary_mean  cluster_size  \\\n",
       "cluster                                                              \n",
       "0          249.232807        1.097747     152.280776         20502   \n",
       "1          241.695225        1.058847     136.175552         71269   \n",
       "2          245.423729        1.444407    1171.959275          2950   \n",
       "\n",
       "         cluster_perc  \n",
       "cluster                \n",
       "0                21.6  \n",
       "1                75.2  \n",
       "2                 3.1  "
      ]
     },
     "metadata": {},
     "output_type": "display_data"
    }
   ],
   "source": [
    "res = display_bilan_clusters_rfm(data_w_cluster)"
   ]
  },
  {
   "cell_type": "code",
   "execution_count": 37,
   "id": "51990abc-4de0-4f9f-9c26-a1b029284c57",
   "metadata": {},
   "outputs": [],
   "source": [
    "res = res.sort_values(by=\"monetary_mean\").reset_index(drop=True)"
   ]
  },
  {
   "cell_type": "code",
   "execution_count": 38,
   "id": "7206fad5-4933-4849-87ca-548cc2c9223b",
   "metadata": {},
   "outputs": [],
   "source": [
    "# on récupère les index de cluster par type\n",
    "idx_clust_little = res.index[0]\n",
    "idx_clust_medium = res.index[1]"
   ]
  },
  {
   "cell_type": "code",
   "execution_count": 39,
   "id": "e6070f3f-ce0a-4f11-8f57-84ee595b56cd",
   "metadata": {},
   "outputs": [
    {
     "name": "stdout",
     "output_type": "stream",
     "text": [
      "Le CA global pour cette configuration est de 20 466 862.99 real, une augmentation de 25.68 %\n"
     ]
    }
   ],
   "source": [
    "# test du scénario 1\n",
    "data_for_scene_01 = data_w_cluster.copy()\n",
    "change = data_for_scene_01.loc[data_w_cluster[\"cluster\"] == idx_clust_little, :].sample(frac = 0.2).index\n",
    "data_for_scene_01.loc[change,'rfm_monetary'] = res.iloc[2].monetary_mean\n",
    "ca_global_ref_scene_01 = data_for_scene_01[\"rfm_monetary\"].sum()\n",
    "print(\"Le CA global pour cette configuration est de\",\n",
    "      f'{round(ca_global_ref_scene_01, 2):,}'.replace(',', ' '),\n",
    "      \"real, une augmentation de\", round((ca_global_ref_scene_01-ca_global_ref)/ca_global_ref*100, 2), \"%\")"
   ]
  },
  {
   "cell_type": "code",
   "execution_count": 40,
   "id": "421cb144-14d9-4337-ab78-74aeeedbd35f",
   "metadata": {},
   "outputs": [
    {
     "name": "stdout",
     "output_type": "stream",
     "text": [
      "Le CA global pour cette configuration est de 31 030 214.69 real, une augmentation de 90.55 %\n"
     ]
    }
   ],
   "source": [
    "# test du scénario 2\n",
    "data_for_scene_02 = data_w_cluster.copy()\n",
    "change = data_for_scene_02.loc[data_w_cluster[\"cluster\"] == idx_clust_medium, :].sample(frac = 0.2).index\n",
    "data_for_scene_02.loc[change,'rfm_monetary'] = res.iloc[2].monetary_mean\n",
    "ca_global_ref_scene_02 = data_for_scene_02[\"rfm_monetary\"].sum()\n",
    "print(\"Le CA global pour cette configuration est de\",\n",
    "      f'{round(ca_global_ref_scene_02, 2):,}'.replace(',', ' '),\n",
    "      \"real, une augmentation de\", round((ca_global_ref_scene_02-ca_global_ref)/ca_global_ref*100, 2), \"%\")"
   ]
  },
  {
   "cell_type": "code",
   "execution_count": null,
   "id": "80c9cafe-a95d-4c92-8d25-18dfada74dda",
   "metadata": {},
   "outputs": [],
   "source": []
  },
  {
   "cell_type": "code",
   "execution_count": null,
   "id": "dd8e3355-e6f1-48a1-8124-8350d76451d0",
   "metadata": {},
   "outputs": [],
   "source": []
  },
  {
   "cell_type": "code",
   "execution_count": null,
   "id": "8e900915-0216-42d4-96b4-886263b37fbd",
   "metadata": {},
   "outputs": [],
   "source": []
  }
 ],
 "metadata": {
  "kernelspec": {
   "display_name": "conda_env_prj05",
   "language": "python",
   "name": "conda_env_prj05"
  },
  "language_info": {
   "codemirror_mode": {
    "name": "ipython",
    "version": 3
   },
   "file_extension": ".py",
   "mimetype": "text/x-python",
   "name": "python",
   "nbconvert_exporter": "python",
   "pygments_lexer": "ipython3",
   "version": "3.10.6"
  }
 },
 "nbformat": 4,
 "nbformat_minor": 5
}
