{
 "cells": [
  {
   "cell_type": "markdown",
   "id": "29d90cad-4466-49d4-9173-7029ac6eb3d1",
   "metadata": {},
   "source": [
    "# Modelisation de clustering"
   ]
  },
  {
   "cell_type": "markdown",
   "id": "934e8ce6-9166-4215-ae92-ef6cccd52fbb",
   "metadata": {},
   "source": [
    "Ce notebook renferme les essais des différentes approches de modélisation pour segmenter nos données."
   ]
  },
  {
   "cell_type": "code",
   "execution_count": 1,
   "id": "29963352-59ea-4292-acaa-17d48d94aa3a",
   "metadata": {},
   "outputs": [],
   "source": [
    "import time\n",
    "import pandas as pd\n",
    "import numpy as np\n",
    "import matplotlib.pyplot as plt\n",
    "from datetime import timedelta\n",
    "import seaborn as sns\n",
    "sns.set()\n",
    "import warnings\n",
    "warnings.filterwarnings('ignore')"
   ]
  },
  {
   "cell_type": "markdown",
   "id": "c54a463e-c4ee-4a7b-bed4-446455df3a78",
   "metadata": {
    "tags": []
   },
   "source": [
    "## Méthodes du projet"
   ]
  },
  {
   "cell_type": "code",
   "execution_count": 2,
   "id": "8d4ed501-9dee-456b-8bb9-eaed8d3ad8e5",
   "metadata": {},
   "outputs": [],
   "source": [
    "def plot_univarie(df, list_col, cust_bin=20):\n",
    "    for col in list_col:\n",
    "        print(\"-\"*70)\n",
    "        print(\"Colonne :\", col)\n",
    "        # mesures de tendances centrales\n",
    "        print(\"moyenne : \", df[col].mean())\n",
    "        print(\"médiane : \", df[col].median())\n",
    "        print(\"mode : \", df[col].mode())\n",
    "        print(\"min : \", df[col].min())\n",
    "        print(\"max : \", df[col].max())\n",
    "        quartiles = [np.percentile(df[col], p) for p in [25, 75]]\n",
    "        print(\"quartiles : \", quartiles)\n",
    "        # mesures de dispersion\n",
    "        print(\"variance : \", df[col].var(ddof=0))\n",
    "        print(\"écart-type : \", df[col].std(ddof=0))\n",
    "        print(\"coefficient de variation : \", df[col].std(ddof=0)/df[col].mean())\n",
    "        # mesures de forme\n",
    "        print(\"skewness : \", df[col].skew())\n",
    "        print(\"kurtosis : \", df[col].kurtosis())\n",
    "        df[col].hist(bins=cust_bin)\n",
    "        plt.xlabel(col)\n",
    "        # pour tracer les 1er et 3ème quartiles\n",
    "        min_ylim, max_ylim = plt.ylim()\n",
    "        # plt.xticks(np.arange(-15, 41, 5))\n",
    "        plt.axvline(quartiles[0], color='k', linestyle='dashed', linewidth=1)\n",
    "        plt.text(quartiles[0], max_ylim*0.95, ' {:.0f}'.format(quartiles[0]))\n",
    "        plt.axvline(quartiles[1], color='k', linestyle='dashed', linewidth=1)\n",
    "        plt.text(quartiles[1], max_ylim*0.85, ' {:.0f}'.format(quartiles[1]))\n",
    "        plt.show()\n",
    "        print(\"-\"*70)"
   ]
  },
  {
   "cell_type": "code",
   "execution_count": 3,
   "id": "e3b9d568-6060-41d4-9a6a-b65bd93a7331",
   "metadata": {
    "tags": []
   },
   "outputs": [],
   "source": [
    "# pour séparer les colonnes par type de donnée\n",
    "def split_data_num_categ(df, silent=False):\n",
    "    result = []\n",
    "    \n",
    "    # test sur dataset en input\n",
    "    if len(df) == 0:\n",
    "        print(\"Le DataFrame d'origine est vide.\")\n",
    "        return result\n",
    "    \n",
    "    dict_col = {\n",
    "        'numeric': [],\n",
    "        'category': [],\n",
    "        'boolean': [],\n",
    "        'datetime': [],\n",
    "        'deltatime': []\n",
    "    }\n",
    "    \n",
    "    for col in df.columns:\n",
    "        if df[col].dtype.name in ('float64', 'int64', 'int32'):\n",
    "            dict_col['numeric'].append(col)\n",
    "        elif df[col].dtype.name in ('object', 'category'):\n",
    "            dict_col['category'].append(col)\n",
    "        elif df[col].dtype.name == 'bool':\n",
    "            dict_col['boolean'].append(col)\n",
    "        elif df[col].dtype.name == 'datetime64[ns]':\n",
    "            dict_col['datetime'].append(col)\n",
    "        elif df[col].dtype.name == 'timedelta[ns]':\n",
    "            dict_col['deltatime'].append(col)\n",
    "        else:\n",
    "            print(\"Type de données non connu :\", df[col].dtype.name, \"pour la colonne\", col)\n",
    "\n",
    "    if not silent:\n",
    "        print(\"Voici la répartition des colonnes par type de données :\")\n",
    "    for key, value in dict_col.items():\n",
    "        nb_col_by_type = len(value)\n",
    "        if not silent:\n",
    "            print(key, \":\", nb_col_by_type, \"colonnes.\")\n",
    "        if nb_col_by_type > 0:\n",
    "            result.append(df[value])\n",
    "    \n",
    "    return result"
   ]
  },
  {
   "cell_type": "code",
   "execution_count": 4,
   "id": "3f52ab69-9326-412c-974d-d37e0f86828c",
   "metadata": {
    "tags": []
   },
   "outputs": [],
   "source": [
    "# pour tracer les boxplot des différentes variables RFM en fonction du cluster\n",
    "def display_box_plot_comparison(df_w_cluster, col_to_display):\n",
    "    cluster_unique = sorted(df_w_cluster[\"cluster\"].unique())\n",
    "    X_quali = \"cluster\" # qualitative\n",
    "\n",
    "    for col in col_to_display:\n",
    "        Y_quanti = col # quantitative\n",
    "\n",
    "        groupes = []\n",
    "        for m in cluster_unique:\n",
    "            groupes.append(df_w_cluster[df_w_cluster[X_quali]==m][Y_quanti])\n",
    "\n",
    "        # Propriétés graphiques    \n",
    "        medianprops = {'color':\"black\"}\n",
    "        meanprops = {'marker':'o', 'markeredgecolor':'black',\n",
    "                    'markerfacecolor':'firebrick'}\n",
    "        plt.figure(figsize=(12,6))\n",
    "        res = plt.boxplot(\n",
    "            groupes, labels=cluster_unique, showfliers=False, medianprops=medianprops,\n",
    "            vert=True, patch_artist=False, showmeans=True, meanprops=meanprops)\n",
    "        plt.xlabel(\"Clusters\")\n",
    "        plt.ylabel(\"{} value\".format(col))\n",
    "\n",
    "        # pour tracer les lignes des limites pour discuter sur le graphique\n",
    "        min_xlim, max_xlim = plt.xlim()\n",
    "        boxes_lim = [item.get_ydata() for item in res['boxes']]\n",
    "        for m in cluster_unique:\n",
    "            temp_low = round(boxes_lim[m][1], 1)\n",
    "            temp_up = round(boxes_lim[m][2], 1)\n",
    "            plt.axhline(temp_low, color='k', linestyle='dashed', linewidth=1)\n",
    "            plt.text(max_xlim*0.91, temp_low, '{}'.format(temp_low))\n",
    "            plt.axhline(temp_up, color='k', linestyle='dashed', linewidth=1)\n",
    "            plt.text(max_xlim*0.91, temp_up, '{}'.format(temp_up))\n",
    "\n",
    "        plt.show()"
   ]
  },
  {
   "cell_type": "code",
   "execution_count": 5,
   "id": "e9cc1c9a-735a-4959-8b88-3c38bf770bf0",
   "metadata": {},
   "outputs": [],
   "source": [
    "import psutil, sys\n",
    "def check_ressource_usage():\n",
    "    user = 'slerendu'\n",
    "    # vals_cpu = np.mean([p.cpu_percent() for p in psutil.process_iter() if p.username() == user])\n",
    "    vals_ram = sum([p.memory_percent() for p in psutil.process_iter() if p.username() == user])\n",
    "    # print(\"CPU :\", round(vals_cpu, 1), \"%\")\n",
    "    print(\"RAM :\", round(vals_ram, 1), \"%\")\n",
    "    if vals_ram > 90:\n",
    "        sys.exit()"
   ]
  },
  {
   "cell_type": "code",
   "execution_count": 6,
   "id": "51c623ff-8178-4292-a015-31e8a745800b",
   "metadata": {},
   "outputs": [],
   "source": [
    "def compute_dbscan(X_norm, ref_labels, silent=True):\n",
    "    start = time.time()\n",
    "    result_dbscan = []\n",
    "    min_sample_range = range(5, 25, 5)\n",
    "    epsilon_range = np.arange(0.1, 0.9, 0.10)\n",
    "    nb_tot_combin = len(min_sample_range) * len(epsilon_range)\n",
    "    nb_current_combi = 0\n",
    "    for i in min_sample_range:\n",
    "        for j in epsilon_range:\n",
    "            nb_current_combi += 1\n",
    "            dbscan = cluster.DBSCAN(eps=j,  min_samples=i)\n",
    "            dbscan.fit(X_norm)\n",
    "            check_ressource_usage()\n",
    "            labels = dbscan.labels_\n",
    "            n_clusters_ = len(set(labels)) - (1 if -1 in labels else 0)\n",
    "            n_noise_ = list(labels).count(-1)\n",
    "            ari_dbscan = round(adjusted_rand_score(ref_labels, labels), 4)\n",
    "            if not silent:\n",
    "                print(\"-\"*70)\n",
    "                print(\"Epsilon :\", round(j, 1), \"- MinSample :\", i)\n",
    "                print(\"Clusters :\", n_clusters_, \"- Noise points :\", n_noise_)\n",
    "                print(\"ARI-Score :\", ari_dbscan)\n",
    "            perc_curr = (nb_current_combi/nb_tot_combin)*100\n",
    "            perc_remain = ((nb_tot_combin - nb_current_combi)/nb_tot_combin)*100\n",
    "            print(\"-\"*int(perc_curr) + \" \"*int(perc_remain) + str(round(perc_curr, 1)) + \"%\")\n",
    "            result_dbscan.append([round(j, 1), i, n_clusters_, n_noise_, ari_dbscan])\n",
    "    \n",
    "    end = time.time()\n",
    "    delta = round(end - start, 0)\n",
    "    print(\"DBSCAN combinaisons parcourues en:\", delta, \"s, soit\", round(delta/60, 0), \"min, soit\" , round(delta/3600, 0), \"h.\")\n",
    "    return pd.DataFrame(result_dbscan, columns=['eps', 'minsample', 'cluster', 'noise', 'ari'])"
   ]
  },
  {
   "cell_type": "code",
   "execution_count": 7,
   "id": "aa316f92-263b-4ccd-b473-7f83ff473bd0",
   "metadata": {},
   "outputs": [],
   "source": [
    "def display_bilan_clusters_rfm(df):\n",
    "    agg = {\n",
    "        'rfm_recency': 'mean',\n",
    "        'rfm_frequency': 'mean',\n",
    "        'rfm_monetary': 'mean',\n",
    "        'cluster': 'count'\n",
    "    }\n",
    "    # on regroupe par customer_unique_id pour appliquer les aggrégations\n",
    "    clustering_table = df.groupby([\"cluster\"]).agg(agg)\n",
    "    # on renomme les colonnes pour l'étude des modèles\n",
    "    clustering_table.rename(\n",
    "        columns={'rfm_recency': 'recency_mean',\n",
    "                 'rfm_frequency': 'frequency_mean',\n",
    "                 'rfm_monetary': 'monetary_mean',\n",
    "                 'cluster': 'cluster_size'}, inplace=True)\n",
    "    clustering_table[\"cluster_perc\"] = round(clustering_table[\"cluster_size\"] / len(df) * 100, 1)\n",
    "    display(clustering_table.head())\n",
    "    return clustering_table"
   ]
  },
  {
   "cell_type": "code",
   "execution_count": 8,
   "id": "e45616c0-a9b6-4197-946e-2d325cab10a7",
   "metadata": {},
   "outputs": [],
   "source": [
    "from scipy.cluster.hierarchy import dendrogram\n",
    "def plot_dendrogram(model, **kwargs):\n",
    "    # Create linkage matrix and then plot the dendrogram\n",
    "\n",
    "    # create the counts of samples under each node\n",
    "    counts = np.zeros(model.children_.shape[0])\n",
    "    n_samples = len(model.labels_)\n",
    "    for i, merge in enumerate(model.children_):\n",
    "        current_count = 0\n",
    "        for child_idx in merge:\n",
    "            if child_idx < n_samples:\n",
    "                current_count += 1  # leaf node\n",
    "            else:\n",
    "                current_count += counts[child_idx - n_samples]\n",
    "        counts[i] = current_count\n",
    "\n",
    "    linkage_matrix = np.column_stack(\n",
    "        [model.children_, model.distances_, counts]\n",
    "    ).astype(float)\n",
    "\n",
    "    # Plot the corresponding dendrogram\n",
    "    dendrogram(linkage_matrix, **kwargs)"
   ]
  },
  {
   "cell_type": "markdown",
   "id": "292c15b1-b3fa-4a91-8f71-f84fbb02c1f4",
   "metadata": {},
   "source": [
    "### YellowBrick"
   ]
  },
  {
   "cell_type": "code",
   "execution_count": 9,
   "id": "031e887e-2c8c-4ea1-9e78-76706a582a19",
   "metadata": {},
   "outputs": [],
   "source": [
    "from yellowbrick.cluster import KElbowVisualizer\n",
    "def define_cluster_numbers(X_norm, metric='distortion', nb_clusters=(2, 11)):\n",
    "    start = time.time()\n",
    "    \n",
    "    clust = cluster.KMeans()\n",
    "    visualizer = KElbowVisualizer(clust, metric=metric, k=nb_clusters)\n",
    "    visualizer.fit(X_norm)\n",
    "    visualizer.poof()\n",
    "    \n",
    "    end = time.time()\n",
    "    delta = round(end - start, 0)\n",
    "    print(\"Clusters définis en:\", delta, \"s, soit\", round(delta/60, 0), \"min, soit\" , round(delta/3600, 0), \"h.\")\n",
    "    print(\"D'après cette analyse, le nombre de cluster optimal est de\", visualizer.elbow_value_)\n",
    "    return visualizer.elbow_value_"
   ]
  },
  {
   "cell_type": "code",
   "execution_count": 10,
   "id": "d6df1660-efb2-4177-87df-18b80e2f5242",
   "metadata": {},
   "outputs": [],
   "source": [
    "from yellowbrick.cluster import SilhouetteVisualizer\n",
    "def display_silhouette_clusters(X_norm, nb_clusters=[]):\n",
    "    start = time.time()\n",
    "    if len(nb_clusters) == 0:\n",
    "        print(\"La liste de nombre de clusters n'est pas renseignée.\")\n",
    "    else:\n",
    "        for n_cluster in nb_clusters:\n",
    "            print(\"Visualisation avec\", n_cluster, \"clusters en cours...\")\n",
    "            kmeans = cluster.KMeans(n_clusters=n_cluster)\n",
    "            visualizer = SilhouetteVisualizer(kmeans)\n",
    "            visualizer.fit(X_norm)\n",
    "            visualizer.poof()\n",
    "    \n",
    "            end = time.time()\n",
    "            delta = round(end - start, 0)\n",
    "            start = time.time()\n",
    "            print(\"Visualisation de Silhouette sur\", n_cluster, \" clusters fait en :\", delta, \"s, soit\", round(delta/60, 0), \"min, soit\" , round(delta/3600, 0), \"h.\")    "
   ]
  },
  {
   "cell_type": "markdown",
   "id": "b846411b-f647-4a7b-ab20-27fefc3f5d42",
   "metadata": {
    "tags": []
   },
   "source": [
    "## Chargement des données"
   ]
  },
  {
   "cell_type": "markdown",
   "id": "73bdac1f-b50c-4c92-b7f2-1cfbcd989555",
   "metadata": {},
   "source": [
    "On commence par charger le dataset d'étude préparé dans le notebook d'analyse exploratoire."
   ]
  },
  {
   "cell_type": "code",
   "execution_count": 11,
   "id": "f74b8f3b-10a7-421c-860f-8464fc1b33a6",
   "metadata": {},
   "outputs": [],
   "source": [
    "parse_date_col = [\n",
    "    \"review_creation_date\",\n",
    "    \"review_answer_timestamp\",\n",
    "    \"shipping_limit_date\",\n",
    "    'order_purchase_timestamp',\n",
    "    'order_approved_at',\n",
    "    'order_delivered_carrier_date',\n",
    "    'order_delivered_customer_date',\n",
    "    'order_estimated_delivery_date']\n",
    "data = pd.read_csv(\"study_dataset.csv\", encoding='utf-8', sep='\\t', index_col=0, parse_dates=parse_date_col)"
   ]
  },
  {
   "cell_type": "code",
   "execution_count": 12,
   "id": "c8e79377-62b8-4f77-9383-e5ecfbaf72fa",
   "metadata": {},
   "outputs": [
    {
     "data": {
      "text/html": [
       "<div>\n",
       "<style scoped>\n",
       "    .dataframe tbody tr th:only-of-type {\n",
       "        vertical-align: middle;\n",
       "    }\n",
       "\n",
       "    .dataframe tbody tr th {\n",
       "        vertical-align: top;\n",
       "    }\n",
       "\n",
       "    .dataframe thead th {\n",
       "        text-align: right;\n",
       "    }\n",
       "</style>\n",
       "<table border=\"1\" class=\"dataframe\">\n",
       "  <thead>\n",
       "    <tr style=\"text-align: right;\">\n",
       "      <th></th>\n",
       "      <th>customer_id</th>\n",
       "      <th>customer_unique_id</th>\n",
       "      <th>customer_zip_code_prefix</th>\n",
       "      <th>customer_city</th>\n",
       "      <th>customer_state</th>\n",
       "      <th>order_id</th>\n",
       "      <th>order_status</th>\n",
       "      <th>order_purchase_timestamp</th>\n",
       "      <th>order_approved_at</th>\n",
       "      <th>order_delivered_carrier_date</th>\n",
       "      <th>...</th>\n",
       "      <th>price</th>\n",
       "      <th>freight_value</th>\n",
       "      <th>product_category_name</th>\n",
       "      <th>product_name_lenght</th>\n",
       "      <th>product_description_lenght</th>\n",
       "      <th>product_photos_qty</th>\n",
       "      <th>product_weight_g</th>\n",
       "      <th>product_length_cm</th>\n",
       "      <th>product_height_cm</th>\n",
       "      <th>product_width_cm</th>\n",
       "    </tr>\n",
       "  </thead>\n",
       "  <tbody>\n",
       "    <tr>\n",
       "      <th>0</th>\n",
       "      <td>06b8999e2fba1a1fbc88172c00ba8bc7</td>\n",
       "      <td>861eff4711a542e4b93843c6dd7febb0</td>\n",
       "      <td>14409</td>\n",
       "      <td>franca</td>\n",
       "      <td>SP</td>\n",
       "      <td>00e7ee1b050b8499577073aeb2a297a1</td>\n",
       "      <td>delivered</td>\n",
       "      <td>2017-05-16 15:05:35</td>\n",
       "      <td>2017-05-16 15:22:12</td>\n",
       "      <td>2017-05-23 10:47:57</td>\n",
       "      <td>...</td>\n",
       "      <td>124.99</td>\n",
       "      <td>21.88</td>\n",
       "      <td>office_furniture</td>\n",
       "      <td>41.0</td>\n",
       "      <td>1141.0</td>\n",
       "      <td>1.0</td>\n",
       "      <td>8683.0</td>\n",
       "      <td>54.0</td>\n",
       "      <td>64.0</td>\n",
       "      <td>31.0</td>\n",
       "    </tr>\n",
       "    <tr>\n",
       "      <th>1</th>\n",
       "      <td>8912fc0c3bbf1e2fbf35819e21706718</td>\n",
       "      <td>9eae34bbd3a474ec5d07949ca7de67c0</td>\n",
       "      <td>68030</td>\n",
       "      <td>santarem</td>\n",
       "      <td>PA</td>\n",
       "      <td>c1d2b34febe9cd269e378117d6681172</td>\n",
       "      <td>delivered</td>\n",
       "      <td>2017-11-09 00:50:13</td>\n",
       "      <td>2017-11-10 00:47:48</td>\n",
       "      <td>2017-11-22 01:43:37</td>\n",
       "      <td>...</td>\n",
       "      <td>112.99</td>\n",
       "      <td>24.90</td>\n",
       "      <td>office_furniture</td>\n",
       "      <td>41.0</td>\n",
       "      <td>1141.0</td>\n",
       "      <td>1.0</td>\n",
       "      <td>8683.0</td>\n",
       "      <td>54.0</td>\n",
       "      <td>64.0</td>\n",
       "      <td>31.0</td>\n",
       "    </tr>\n",
       "    <tr>\n",
       "      <th>2</th>\n",
       "      <td>f0ac8e5a239118859b1734e1087cbb1f</td>\n",
       "      <td>3c799d181c34d51f6d44bbbc563024db</td>\n",
       "      <td>92480</td>\n",
       "      <td>nova santa rita</td>\n",
       "      <td>RS</td>\n",
       "      <td>b1a5d5365d330d10485e0203d54ab9e8</td>\n",
       "      <td>delivered</td>\n",
       "      <td>2017-05-07 20:11:26</td>\n",
       "      <td>2017-05-08 22:22:56</td>\n",
       "      <td>2017-05-19 20:16:31</td>\n",
       "      <td>...</td>\n",
       "      <td>124.99</td>\n",
       "      <td>15.62</td>\n",
       "      <td>office_furniture</td>\n",
       "      <td>41.0</td>\n",
       "      <td>1141.0</td>\n",
       "      <td>1.0</td>\n",
       "      <td>8683.0</td>\n",
       "      <td>54.0</td>\n",
       "      <td>64.0</td>\n",
       "      <td>31.0</td>\n",
       "    </tr>\n",
       "    <tr>\n",
       "      <th>3</th>\n",
       "      <td>6bc8d08963a135220ed6c6d098831f84</td>\n",
       "      <td>23397e992b09769faf5e66f9e171a241</td>\n",
       "      <td>25931</td>\n",
       "      <td>mage</td>\n",
       "      <td>RJ</td>\n",
       "      <td>2e604b3614664aa66867856dba7e61b7</td>\n",
       "      <td>delivered</td>\n",
       "      <td>2018-02-03 19:45:40</td>\n",
       "      <td>2018-02-04 22:29:19</td>\n",
       "      <td>2018-02-19 18:21:47</td>\n",
       "      <td>...</td>\n",
       "      <td>106.99</td>\n",
       "      <td>30.59</td>\n",
       "      <td>office_furniture</td>\n",
       "      <td>41.0</td>\n",
       "      <td>1141.0</td>\n",
       "      <td>1.0</td>\n",
       "      <td>8683.0</td>\n",
       "      <td>54.0</td>\n",
       "      <td>64.0</td>\n",
       "      <td>31.0</td>\n",
       "    </tr>\n",
       "    <tr>\n",
       "      <th>4</th>\n",
       "      <td>fd3a0b1bd209f0e7d420c9c3d1127613</td>\n",
       "      <td>567ab47ca4deb92d46dbf54dce07d0a7</td>\n",
       "      <td>88460</td>\n",
       "      <td>angelina</td>\n",
       "      <td>SC</td>\n",
       "      <td>574fe1739f65af76badd0999db300b4f</td>\n",
       "      <td>delivered</td>\n",
       "      <td>2017-03-23 15:10:17</td>\n",
       "      <td>2017-03-23 15:25:11</td>\n",
       "      <td>2017-03-28 18:23:51</td>\n",
       "      <td>...</td>\n",
       "      <td>126.99</td>\n",
       "      <td>15.06</td>\n",
       "      <td>office_furniture</td>\n",
       "      <td>41.0</td>\n",
       "      <td>1141.0</td>\n",
       "      <td>1.0</td>\n",
       "      <td>8683.0</td>\n",
       "      <td>54.0</td>\n",
       "      <td>64.0</td>\n",
       "      <td>31.0</td>\n",
       "    </tr>\n",
       "  </tbody>\n",
       "</table>\n",
       "<p>5 rows × 30 columns</p>\n",
       "</div>"
      ],
      "text/plain": [
       "                        customer_id                customer_unique_id  \\\n",
       "0  06b8999e2fba1a1fbc88172c00ba8bc7  861eff4711a542e4b93843c6dd7febb0   \n",
       "1  8912fc0c3bbf1e2fbf35819e21706718  9eae34bbd3a474ec5d07949ca7de67c0   \n",
       "2  f0ac8e5a239118859b1734e1087cbb1f  3c799d181c34d51f6d44bbbc563024db   \n",
       "3  6bc8d08963a135220ed6c6d098831f84  23397e992b09769faf5e66f9e171a241   \n",
       "4  fd3a0b1bd209f0e7d420c9c3d1127613  567ab47ca4deb92d46dbf54dce07d0a7   \n",
       "\n",
       "   customer_zip_code_prefix    customer_city customer_state  \\\n",
       "0                     14409           franca             SP   \n",
       "1                     68030         santarem             PA   \n",
       "2                     92480  nova santa rita             RS   \n",
       "3                     25931             mage             RJ   \n",
       "4                     88460         angelina             SC   \n",
       "\n",
       "                           order_id order_status order_purchase_timestamp  \\\n",
       "0  00e7ee1b050b8499577073aeb2a297a1    delivered      2017-05-16 15:05:35   \n",
       "1  c1d2b34febe9cd269e378117d6681172    delivered      2017-11-09 00:50:13   \n",
       "2  b1a5d5365d330d10485e0203d54ab9e8    delivered      2017-05-07 20:11:26   \n",
       "3  2e604b3614664aa66867856dba7e61b7    delivered      2018-02-03 19:45:40   \n",
       "4  574fe1739f65af76badd0999db300b4f    delivered      2017-03-23 15:10:17   \n",
       "\n",
       "    order_approved_at order_delivered_carrier_date  ...   price freight_value  \\\n",
       "0 2017-05-16 15:22:12          2017-05-23 10:47:57  ...  124.99         21.88   \n",
       "1 2017-11-10 00:47:48          2017-11-22 01:43:37  ...  112.99         24.90   \n",
       "2 2017-05-08 22:22:56          2017-05-19 20:16:31  ...  124.99         15.62   \n",
       "3 2018-02-04 22:29:19          2018-02-19 18:21:47  ...  106.99         30.59   \n",
       "4 2017-03-23 15:25:11          2017-03-28 18:23:51  ...  126.99         15.06   \n",
       "\n",
       "  product_category_name  product_name_lenght product_description_lenght  \\\n",
       "0      office_furniture                 41.0                     1141.0   \n",
       "1      office_furniture                 41.0                     1141.0   \n",
       "2      office_furniture                 41.0                     1141.0   \n",
       "3      office_furniture                 41.0                     1141.0   \n",
       "4      office_furniture                 41.0                     1141.0   \n",
       "\n",
       "  product_photos_qty  product_weight_g product_length_cm product_height_cm  \\\n",
       "0                1.0            8683.0              54.0              64.0   \n",
       "1                1.0            8683.0              54.0              64.0   \n",
       "2                1.0            8683.0              54.0              64.0   \n",
       "3                1.0            8683.0              54.0              64.0   \n",
       "4                1.0            8683.0              54.0              64.0   \n",
       "\n",
       "  product_width_cm  \n",
       "0             31.0  \n",
       "1             31.0  \n",
       "2             31.0  \n",
       "3             31.0  \n",
       "4             31.0  \n",
       "\n",
       "[5 rows x 30 columns]"
      ]
     },
     "execution_count": 12,
     "metadata": {},
     "output_type": "execute_result"
    }
   ],
   "source": [
    "data.head()"
   ]
  },
  {
   "cell_type": "code",
   "execution_count": 13,
   "id": "e56599f0-5753-454e-95d3-1de791661413",
   "metadata": {},
   "outputs": [
    {
     "data": {
      "image/png": "[encoded data removed]",
      "text/plain": [
       "<Figure size 800x550 with 1 Axes>"
      ]
     },
     "metadata": {},
     "output_type": "display_data"
    }
   ],
   "source": [
    "data[\"order_purchase_timestamp\"].groupby([data[\"order_purchase_timestamp\"].dt.year, data[\"order_purchase_timestamp\"].dt.month]).count().plot(kind=\"bar\")\n",
    "plt.show()"
   ]
  },
  {
   "cell_type": "markdown",
   "id": "97a6b1e3-2010-4877-9f33-de5d60942ff4",
   "metadata": {},
   "source": [
    "Il est important de se poser la question sur la pertinence des données. Si on veut des données conséquentes, il faudrait une période de 1 an durant laquelle il y a un maximum de données. On peut le voir sur la période entre 09/2017 jusqu'à 08/2018.  \n",
    "Cependant, le graphique précédent nous montre surtout le début de l'entreprise qui a été fondée en février 2015. Il y a donc 2 approches possibles : \n",
    " - toutes les données : pour nous montrer l'évolution des clients et des performances\n",
    " - la dernière année pertinente : pour étudier la performance de l'entreprise à un instant donné"
   ]
  },
  {
   "cell_type": "code",
   "execution_count": 14,
   "id": "4596c11e-8cbc-44fe-a25b-18b92146d2f0",
   "metadata": {},
   "outputs": [
    {
     "name": "stdout",
     "output_type": "stream",
     "text": [
      "Les données des débuts de l'entreprise représentent 23877 lignes, soit 23.3 % du total.\n"
     ]
    }
   ],
   "source": [
    "# Possible étude avec les données entre 09/2017 et 08/2018\n",
    "# data = data.loc[(data[\"order_purchase_timestamp\"] >= '2017-09-01 00:00:00') & (data[\"order_purchase_timestamp\"] <= '2018-08-31 23:59:59'), :]\n",
    "old_data = data.loc[data[\"order_purchase_timestamp\"] < '2017-09-01 00:00:00', :]\n",
    "print(\"Les données des débuts de l'entreprise représentent\", old_data.shape[0], \"lignes, soit\", str(round(old_data.shape[0]/data.shape[0]*100, 1)), \"% du total.\")"
   ]
  },
  {
   "cell_type": "markdown",
   "id": "10732c1e-746f-42bd-a83f-0d68ffb2ce58",
   "metadata": {
    "tags": []
   },
   "source": [
    "# Création des variables RFM"
   ]
  },
  {
   "cell_type": "markdown",
   "id": "e5150e52-f6aa-46b8-ad37-fcbafc4320b8",
   "metadata": {},
   "source": [
    "Maintenant, on va créer les composantes de l'étude RFM : \n",
    " - Recency : le nombre de jour depuis le dernier achat\n",
    " - Frequency : le nombre d'achat fait durant toute la période du dataset\n",
    " - Monetary : le montant total dépensé durant toute la période du dataset"
   ]
  },
  {
   "cell_type": "code",
   "execution_count": 15,
   "id": "90f1f62b-8141-4c55-a7a4-3396a20ae98a",
   "metadata": {},
   "outputs": [],
   "source": [
    "# on passe la colonne de date d'achat de timestamp à datetime\n",
    "data['order_purchase_timestamp'] = pd.to_datetime(data['order_purchase_timestamp'])"
   ]
  },
  {
   "cell_type": "code",
   "execution_count": 16,
   "id": "4f9a92d2-9938-4755-9878-aaf737264523",
   "metadata": {},
   "outputs": [
    {
     "name": "stdout",
     "output_type": "stream",
     "text": [
      "La dernière date de référence que nous prendrons est : 2018-09-04 09:06:57\n"
     ]
    }
   ],
   "source": [
    "# on récupère la dernière date du dataset pour la comparaison\n",
    "last_purchase_date = data[\"order_purchase_timestamp\"].max() + timedelta(days=1)\n",
    "print(\"La dernière date de référence que nous prendrons est :\", last_purchase_date)"
   ]
  },
  {
   "cell_type": "code",
   "execution_count": 17,
   "id": "df6c363f-cc3d-4245-8e4d-a1ec251e585a",
   "metadata": {},
   "outputs": [],
   "source": [
    "# on calcule le montant acheté par ligne\n",
    "# nb d'article * (prix de l'article + frais de port de l'article)\n",
    "data['order_value_by_item'] = data['order_item_id'] * (data['price'] + data[\"freight_value\"])"
   ]
  },
  {
   "cell_type": "code",
   "execution_count": 18,
   "id": "36268824-c242-408e-8107-8b9655002856",
   "metadata": {},
   "outputs": [],
   "source": [
    "# aggregation nécessaires pour les calculs RFM\n",
    "aggregation = {\n",
    "    'order_purchase_timestamp': lambda x: (last_purchase_date - x.max()).days,\n",
    "    'order_id': 'count',\n",
    "    'order_value_by_item': 'sum'\n",
    "}"
   ]
  },
  {
   "cell_type": "code",
   "execution_count": 19,
   "id": "a0fa94e6-865d-43b1-81c5-32eb830e4333",
   "metadata": {},
   "outputs": [],
   "source": [
    "# on regroupe par customer_unique_id pour appliquer les aggrégations\n",
    "data_process = data.groupby(['customer_unique_id']).agg(aggregation)\n",
    "# on renomme les colonnes pour l'étude des modèles\n",
    "data_process.rename(\n",
    "    columns={'order_purchase_timestamp': 'rfm_recency',\n",
    "             'order_id': 'rfm_frequency',\n",
    "             'order_value_by_item': 'rfm_monetary'}, inplace=True)"
   ]
  },
  {
   "cell_type": "code",
   "execution_count": 20,
   "id": "4abd9f07-519f-4c94-97c0-67f8fb5af4de",
   "metadata": {},
   "outputs": [
    {
     "data": {
      "text/html": [
       "<div>\n",
       "<style scoped>\n",
       "    .dataframe tbody tr th:only-of-type {\n",
       "        vertical-align: middle;\n",
       "    }\n",
       "\n",
       "    .dataframe tbody tr th {\n",
       "        vertical-align: top;\n",
       "    }\n",
       "\n",
       "    .dataframe thead th {\n",
       "        text-align: right;\n",
       "    }\n",
       "</style>\n",
       "<table border=\"1\" class=\"dataframe\">\n",
       "  <thead>\n",
       "    <tr style=\"text-align: right;\">\n",
       "      <th></th>\n",
       "      <th>rfm_recency</th>\n",
       "      <th>rfm_frequency</th>\n",
       "      <th>rfm_monetary</th>\n",
       "    </tr>\n",
       "    <tr>\n",
       "      <th>customer_unique_id</th>\n",
       "      <th></th>\n",
       "      <th></th>\n",
       "      <th></th>\n",
       "    </tr>\n",
       "  </thead>\n",
       "  <tbody>\n",
       "    <tr>\n",
       "      <th>0000366f3b9a7992bf8c76cfdf3221e2</th>\n",
       "      <td>116</td>\n",
       "      <td>1</td>\n",
       "      <td>141.90</td>\n",
       "    </tr>\n",
       "    <tr>\n",
       "      <th>0000b849f77a49e4a4ce2b2a4ca5be3f</th>\n",
       "      <td>119</td>\n",
       "      <td>1</td>\n",
       "      <td>27.19</td>\n",
       "    </tr>\n",
       "    <tr>\n",
       "      <th>0000f46a3911fa3c0805444483337064</th>\n",
       "      <td>542</td>\n",
       "      <td>1</td>\n",
       "      <td>86.22</td>\n",
       "    </tr>\n",
       "    <tr>\n",
       "      <th>0000f6ccb0745a6a4b88665a16c9f078</th>\n",
       "      <td>326</td>\n",
       "      <td>1</td>\n",
       "      <td>43.62</td>\n",
       "    </tr>\n",
       "    <tr>\n",
       "      <th>0004aac84e0df4da2b147fca70cf8255</th>\n",
       "      <td>293</td>\n",
       "      <td>1</td>\n",
       "      <td>196.89</td>\n",
       "    </tr>\n",
       "  </tbody>\n",
       "</table>\n",
       "</div>"
      ],
      "text/plain": [
       "                                  rfm_recency  rfm_frequency  rfm_monetary\n",
       "customer_unique_id                                                        \n",
       "0000366f3b9a7992bf8c76cfdf3221e2          116              1        141.90\n",
       "0000b849f77a49e4a4ce2b2a4ca5be3f          119              1         27.19\n",
       "0000f46a3911fa3c0805444483337064          542              1         86.22\n",
       "0000f6ccb0745a6a4b88665a16c9f078          326              1         43.62\n",
       "0004aac84e0df4da2b147fca70cf8255          293              1        196.89"
      ]
     },
     "execution_count": 20,
     "metadata": {},
     "output_type": "execute_result"
    }
   ],
   "source": [
    "data_process.head()"
   ]
  },
  {
   "cell_type": "code",
   "execution_count": 21,
   "id": "dce2dfc8-9fb5-46f3-8e1b-5285c387c2c7",
   "metadata": {},
   "outputs": [
    {
     "data": {
      "text/html": [
       "<div>\n",
       "<style scoped>\n",
       "    .dataframe tbody tr th:only-of-type {\n",
       "        vertical-align: middle;\n",
       "    }\n",
       "\n",
       "    .dataframe tbody tr th {\n",
       "        vertical-align: top;\n",
       "    }\n",
       "\n",
       "    .dataframe thead th {\n",
       "        text-align: right;\n",
       "    }\n",
       "</style>\n",
       "<table border=\"1\" class=\"dataframe\">\n",
       "  <thead>\n",
       "    <tr style=\"text-align: right;\">\n",
       "      <th></th>\n",
       "      <th>rfm_recency</th>\n",
       "      <th>rfm_frequency</th>\n",
       "      <th>rfm_monetary</th>\n",
       "    </tr>\n",
       "  </thead>\n",
       "  <tbody>\n",
       "    <tr>\n",
       "      <th>count</th>\n",
       "      <td>95420.000000</td>\n",
       "      <td>95420.000000</td>\n",
       "      <td>95420.000000</td>\n",
       "    </tr>\n",
       "    <tr>\n",
       "      <th>mean</th>\n",
       "      <td>243.600377</td>\n",
       "      <td>1.073412</td>\n",
       "      <td>171.379334</td>\n",
       "    </tr>\n",
       "    <tr>\n",
       "      <th>std</th>\n",
       "      <td>153.160320</td>\n",
       "      <td>0.328689</td>\n",
       "      <td>242.628168</td>\n",
       "    </tr>\n",
       "    <tr>\n",
       "      <th>min</th>\n",
       "      <td>1.000000</td>\n",
       "      <td>1.000000</td>\n",
       "      <td>9.590000</td>\n",
       "    </tr>\n",
       "    <tr>\n",
       "      <th>25%</th>\n",
       "      <td>119.000000</td>\n",
       "      <td>1.000000</td>\n",
       "      <td>63.220000</td>\n",
       "    </tr>\n",
       "    <tr>\n",
       "      <th>50%</th>\n",
       "      <td>224.000000</td>\n",
       "      <td>1.000000</td>\n",
       "      <td>108.810000</td>\n",
       "    </tr>\n",
       "    <tr>\n",
       "      <th>75%</th>\n",
       "      <td>353.000000</td>\n",
       "      <td>1.000000</td>\n",
       "      <td>186.882500</td>\n",
       "    </tr>\n",
       "    <tr>\n",
       "      <th>max</th>\n",
       "      <td>729.000000</td>\n",
       "      <td>16.000000</td>\n",
       "      <td>13664.080000</td>\n",
       "    </tr>\n",
       "  </tbody>\n",
       "</table>\n",
       "</div>"
      ],
      "text/plain": [
       "        rfm_recency  rfm_frequency  rfm_monetary\n",
       "count  95420.000000   95420.000000  95420.000000\n",
       "mean     243.600377       1.073412    171.379334\n",
       "std      153.160320       0.328689    242.628168\n",
       "min        1.000000       1.000000      9.590000\n",
       "25%      119.000000       1.000000     63.220000\n",
       "50%      224.000000       1.000000    108.810000\n",
       "75%      353.000000       1.000000    186.882500\n",
       "max      729.000000      16.000000  13664.080000"
      ]
     },
     "execution_count": 21,
     "metadata": {},
     "output_type": "execute_result"
    }
   ],
   "source": [
    "data_process.describe()"
   ]
  },
  {
   "cell_type": "markdown",
   "id": "30599f59-4e96-4689-b654-56c178b0fb9b",
   "metadata": {},
   "source": [
    "On remarque que au moins 75% des clients ont acheté une seule fois."
   ]
  },
  {
   "cell_type": "code",
   "execution_count": 22,
   "id": "27311bc5-f818-4d1d-bd0a-d0e9fc158d21",
   "metadata": {},
   "outputs": [
    {
     "name": "stdout",
     "output_type": "stream",
     "text": [
      "On dénombre 5789 clients fidèles, càd ayant acheté plus d'une fois, soit 6.1 % du total.\n"
     ]
    }
   ],
   "source": [
    "nb_more_than_one = len(data_process.loc[data_process[\"rfm_frequency\"] > 1, :])\n",
    "print(\"On dénombre\", nb_more_than_one, \"clients fidèles, càd ayant acheté plus d'une fois, soit\", str(round(nb_more_than_one/len(data_process)*100, 1)), \"% du total.\")"
   ]
  },
  {
   "cell_type": "code",
   "execution_count": 23,
   "id": "73e7d761-7a73-40b6-b955-184627886458",
   "metadata": {
    "collapsed": true,
    "jupyter": {
     "outputs_hidden": true
    },
    "tags": []
   },
   "outputs": [
    {
     "name": "stdout",
     "output_type": "stream",
     "text": [
      "----------------------------------------------------------------------\n",
      "Colonne : rfm_recency\n",
      "moyenne :  243.60037727939635\n",
      "médiane :  224.0\n",
      "mode :  0    283\n",
      "Name: rfm_recency, dtype: int64\n",
      "min :  1\n",
      "max :  729\n",
      "quartiles :  [119.0, 353.0]\n",
      "variance :  23457.837681685367\n",
      "écart-type :  153.15951711103483\n",
      "coefficient de variation :  0.6287326761213067\n",
      "skewness :  0.4487102083883536\n",
      "kurtosis :  -0.654949265709651\n"
     ]
    },
    {
     "data": {
      "image/png": "[encoded data removed]",
      "text/plain": [
       "<Figure size 800x550 with 1 Axes>"
      ]
     },
     "metadata": {},
     "output_type": "display_data"
    },
    {
     "name": "stdout",
     "output_type": "stream",
     "text": [
      "----------------------------------------------------------------------\n",
      "----------------------------------------------------------------------\n",
      "Colonne : rfm_frequency\n",
      "moyenne :  1.073412282540348\n",
      "médiane :  1.0\n",
      "mode :  0    1\n",
      "Name: rfm_frequency, dtype: int64\n",
      "min :  1\n",
      "max :  16\n",
      "quartiles :  [1.0, 1.0]\n",
      "variance :  0.1080354952924425\n",
      "écart-type :  0.32868753443421383\n",
      "coefficient de variation :  0.30620809895740964\n",
      "skewness :  7.481290460044968\n",
      "kurtosis :  120.13637750563369\n"
     ]
    },
    {
     "data": {
      "image/png": "[encoded data removed]",
      "text/plain": [
       "<Figure size 800x550 with 1 Axes>"
      ]
     },
     "metadata": {},
     "output_type": "display_data"
    },
    {
     "name": "stdout",
     "output_type": "stream",
     "text": [
      "----------------------------------------------------------------------\n",
      "----------------------------------------------------------------------\n",
      "Colonne : rfm_monetary\n",
      "moyenne :  171.37933431146513\n",
      "médiane :  108.81\n",
      "mode :  0    77.57\n",
      "Name: rfm_monetary, dtype: float64\n",
      "min :  9.59\n",
      "max :  13664.08\n",
      "quartiles :  [63.22, 186.8825]\n",
      "variance :  58867.81093680063\n",
      "écart-type :  242.62689656507712\n",
      "coefficient de variation :  1.4157301843880812\n",
      "skewness :  8.844982958127842\n",
      "kurtosis :  199.1436983446185\n"
     ]
    },
    {
     "data": {
      "image/png": "[encoded data removed]",
      "text/plain": [
       "<Figure size 800x550 with 1 Axes>"
      ]
     },
     "metadata": {},
     "output_type": "display_data"
    },
    {
     "name": "stdout",
     "output_type": "stream",
     "text": [
      "----------------------------------------------------------------------\n"
     ]
    }
   ],
   "source": [
    "plot_univarie(data_process, data_process.columns)"
   ]
  },
  {
   "cell_type": "markdown",
   "id": "33c246c8-c718-4d1a-a368-98cf82382d96",
   "metadata": {},
   "source": [
    "# Clustering"
   ]
  },
  {
   "cell_type": "code",
   "execution_count": 24,
   "id": "a17ecc41-0d49-4a79-b185-c0afe717042c",
   "metadata": {},
   "outputs": [],
   "source": [
    "from sklearn import cluster\n",
    "from sklearn import preprocessing"
   ]
  },
  {
   "cell_type": "code",
   "execution_count": 25,
   "id": "84108def-3055-4fb8-a781-f6340660448a",
   "metadata": {},
   "outputs": [],
   "source": [
    "# on prépare les données en les normalisant\n",
    "X = data_process.values\n",
    "# X_norm = preprocessing.scale(X)\n",
    "scaler = preprocessing.RobustScaler()\n",
    "X_norm = scaler.fit_transform(X)"
   ]
  },
  {
   "cell_type": "markdown",
   "id": "811dd42f-c6e4-44d0-8477-15edc81cfcbf",
   "metadata": {
    "tags": []
   },
   "source": [
    "## KMeans"
   ]
  },
  {
   "cell_type": "markdown",
   "id": "6a8991ea-f3ac-4e8b-9659-a64202ffdb46",
   "metadata": {},
   "source": [
    "### Recherche du nombre de clusters optimal"
   ]
  },
  {
   "cell_type": "markdown",
   "id": "6352723d-4e06-4b84-89d8-e9aeab600f74",
   "metadata": {},
   "source": [
    "A l'aide du KMeans, on évalue le nombre de cluster optimal."
   ]
  },
  {
   "cell_type": "code",
   "execution_count": 26,
   "id": "cf9a1cfb-a2cf-4f0a-a8f0-3beb91b115a0",
   "metadata": {},
   "outputs": [],
   "source": [
    "# optimal_k = define_cluster_numbers(X_norm)"
   ]
  },
  {
   "cell_type": "markdown",
   "id": "bb552a41-f1e8-40e2-9c0d-e9ee44824b10",
   "metadata": {},
   "source": [
    "Et on visualise le diagramme de silouhettes."
   ]
  },
  {
   "cell_type": "code",
   "execution_count": 27,
   "id": "b8ae6949-df09-444b-a60b-e604633fcb4b",
   "metadata": {},
   "outputs": [],
   "source": [
    "# display_silhouette_clusters(X_norm, nb_clusters=[optimal_k])"
   ]
  },
  {
   "cell_type": "code",
   "execution_count": 28,
   "id": "e122bc3b-d0c4-44d5-9a53-fba7655c09aa",
   "metadata": {},
   "outputs": [],
   "source": [
    "sns.reset_orig()"
   ]
  },
  {
   "cell_type": "markdown",
   "id": "3d903385-5cf4-4e1a-b610-b2eda44735fd",
   "metadata": {},
   "source": [
    "### Etude des clusters"
   ]
  },
  {
   "cell_type": "markdown",
   "id": "fc709ea0-f34b-406e-8f57-c171d31fafe1",
   "metadata": {},
   "source": [
    "Regardons d'abord avec la valeur optimale calculée pour 4 clusters."
   ]
  },
  {
   "cell_type": "code",
   "execution_count": 29,
   "id": "46d1dc3c-3c12-40db-89a9-1a6c128c9b6c",
   "metadata": {},
   "outputs": [],
   "source": [
    "# on relance le KMeans avec le nb de cluster optimal\n",
    "kmeans = cluster.KMeans(n_clusters=4)\n",
    "kmeans.fit(X_norm)\n",
    "# puis on récupère le libellé du cluster pour chaque client\n",
    "cluster_map = pd.DataFrame()\n",
    "cluster_map['customer_unique_id'] = data_process.index.values\n",
    "cluster_map['cluster'] = kmeans.labels_\n",
    "# on incorpore cette données au dataframe global\n",
    "data_w_cluster = pd.merge(data_process, cluster_map, on=\"customer_unique_id\", how=\"inner\")"
   ]
  },
  {
   "cell_type": "code",
   "execution_count": 30,
   "id": "dc33eb0c-9733-4919-b3b0-1f7f64ae9453",
   "metadata": {},
   "outputs": [
    {
     "data": {
      "text/html": [
       "<div>\n",
       "<style scoped>\n",
       "    .dataframe tbody tr th:only-of-type {\n",
       "        vertical-align: middle;\n",
       "    }\n",
       "\n",
       "    .dataframe tbody tr th {\n",
       "        vertical-align: top;\n",
       "    }\n",
       "\n",
       "    .dataframe thead th {\n",
       "        text-align: right;\n",
       "    }\n",
       "</style>\n",
       "<table border=\"1\" class=\"dataframe\">\n",
       "  <thead>\n",
       "    <tr style=\"text-align: right;\">\n",
       "      <th></th>\n",
       "      <th>recency_mean</th>\n",
       "      <th>frequency_mean</th>\n",
       "      <th>monetary_mean</th>\n",
       "      <th>cluster_size</th>\n",
       "      <th>cluster_perc</th>\n",
       "    </tr>\n",
       "    <tr>\n",
       "      <th>cluster</th>\n",
       "      <th></th>\n",
       "      <th></th>\n",
       "      <th></th>\n",
       "      <th></th>\n",
       "      <th></th>\n",
       "    </tr>\n",
       "  </thead>\n",
       "  <tbody>\n",
       "    <tr>\n",
       "      <th>0</th>\n",
       "      <td>243.588034</td>\n",
       "      <td>1.030446</td>\n",
       "      <td>99.979589</td>\n",
       "      <td>78106</td>\n",
       "      <td>81.9</td>\n",
       "    </tr>\n",
       "    <tr>\n",
       "      <th>1</th>\n",
       "      <td>246.592000</td>\n",
       "      <td>1.347810</td>\n",
       "      <td>970.758899</td>\n",
       "      <td>2625</td>\n",
       "      <td>2.8</td>\n",
       "    </tr>\n",
       "    <tr>\n",
       "      <th>2</th>\n",
       "      <td>237.619178</td>\n",
       "      <td>1.457534</td>\n",
       "      <td>2534.617836</td>\n",
       "      <td>365</td>\n",
       "      <td>0.4</td>\n",
       "    </tr>\n",
       "    <tr>\n",
       "      <th>3</th>\n",
       "      <td>243.271851</td>\n",
       "      <td>1.247626</td>\n",
       "      <td>353.995577</td>\n",
       "      <td>14324</td>\n",
       "      <td>15.0</td>\n",
       "    </tr>\n",
       "  </tbody>\n",
       "</table>\n",
       "</div>"
      ],
      "text/plain": [
       "         recency_mean  frequency_mean  monetary_mean  cluster_size  \\\n",
       "cluster                                                              \n",
       "0          243.588034        1.030446      99.979589         78106   \n",
       "1          246.592000        1.347810     970.758899          2625   \n",
       "2          237.619178        1.457534    2534.617836           365   \n",
       "3          243.271851        1.247626     353.995577         14324   \n",
       "\n",
       "         cluster_perc  \n",
       "cluster                \n",
       "0                81.9  \n",
       "1                 2.8  \n",
       "2                 0.4  \n",
       "3                15.0  "
      ]
     },
     "metadata": {},
     "output_type": "display_data"
    }
   ],
   "source": [
    "display_bilan_clusters_rfm(data_w_cluster)"
   ]
  },
  {
   "cell_type": "markdown",
   "id": "f8faa6d9-740b-468b-ac29-8cc732f14d0b",
   "metadata": {},
   "source": [
    "L'un des clusters représente moins de 1% des données. Nous allons donc passer à 3 clusters pour voir si la représentation est plus pertinente."
   ]
  },
  {
   "cell_type": "code",
   "execution_count": 31,
   "id": "0c5a0cae-9147-487b-83fa-50a115dcf330",
   "metadata": {},
   "outputs": [],
   "source": [
    "# on relance le KMeans avec le nb de cluster optimal\n",
    "kmeans = cluster.KMeans(n_clusters=3)\n",
    "kmeans.fit(X_norm)\n",
    "# puis on récupère le libellé du cluster pour chaque client\n",
    "cluster_map = pd.DataFrame()\n",
    "cluster_map['customer_unique_id'] = data_process.index.values\n",
    "cluster_map['cluster'] = kmeans.labels_\n",
    "# on incorpore cette données au dataframe global\n",
    "data_w_cluster = pd.merge(data_process, cluster_map, on=\"customer_unique_id\", how=\"inner\")"
   ]
  },
  {
   "cell_type": "code",
   "execution_count": 32,
   "id": "1cc6b962-f0f7-47de-913d-bc3b7867ec23",
   "metadata": {},
   "outputs": [
    {
     "data": {
      "text/html": [
       "<div>\n",
       "<style scoped>\n",
       "    .dataframe tbody tr th:only-of-type {\n",
       "        vertical-align: middle;\n",
       "    }\n",
       "\n",
       "    .dataframe tbody tr th {\n",
       "        vertical-align: top;\n",
       "    }\n",
       "\n",
       "    .dataframe thead th {\n",
       "        text-align: right;\n",
       "    }\n",
       "</style>\n",
       "<table border=\"1\" class=\"dataframe\">\n",
       "  <thead>\n",
       "    <tr style=\"text-align: right;\">\n",
       "      <th></th>\n",
       "      <th>recency_mean</th>\n",
       "      <th>frequency_mean</th>\n",
       "      <th>monetary_mean</th>\n",
       "      <th>cluster_size</th>\n",
       "      <th>cluster_perc</th>\n",
       "    </tr>\n",
       "    <tr>\n",
       "      <th>cluster</th>\n",
       "      <th></th>\n",
       "      <th></th>\n",
       "      <th></th>\n",
       "      <th></th>\n",
       "      <th></th>\n",
       "    </tr>\n",
       "  </thead>\n",
       "  <tbody>\n",
       "    <tr>\n",
       "      <th>0</th>\n",
       "      <td>243.656062</td>\n",
       "      <td>1.044030</td>\n",
       "      <td>114.396137</td>\n",
       "      <td>85373</td>\n",
       "      <td>89.5</td>\n",
       "    </tr>\n",
       "    <tr>\n",
       "      <th>1</th>\n",
       "      <td>242.777924</td>\n",
       "      <td>1.314041</td>\n",
       "      <td>534.089085</td>\n",
       "      <td>9123</td>\n",
       "      <td>9.6</td>\n",
       "    </tr>\n",
       "    <tr>\n",
       "      <th>2</th>\n",
       "      <td>246.575758</td>\n",
       "      <td>1.412338</td>\n",
       "      <td>1855.173117</td>\n",
       "      <td>924</td>\n",
       "      <td>1.0</td>\n",
       "    </tr>\n",
       "  </tbody>\n",
       "</table>\n",
       "</div>"
      ],
      "text/plain": [
       "         recency_mean  frequency_mean  monetary_mean  cluster_size  \\\n",
       "cluster                                                              \n",
       "0          243.656062        1.044030     114.396137         85373   \n",
       "1          242.777924        1.314041     534.089085          9123   \n",
       "2          246.575758        1.412338    1855.173117           924   \n",
       "\n",
       "         cluster_perc  \n",
       "cluster                \n",
       "0                89.5  \n",
       "1                 9.6  \n",
       "2                 1.0  "
      ]
     },
     "metadata": {},
     "output_type": "display_data"
    }
   ],
   "source": [
    "display_bilan_clusters_rfm(data_w_cluster)"
   ]
  },
  {
   "cell_type": "markdown",
   "id": "454c5e85-c4d7-4504-a773-cb0e0c845dfc",
   "metadata": {},
   "source": [
    "Un cluster est certes peu représenté, mais il dénombre les clients ayant dépensé le plus et étant plus fidèles, càd ayant acheté au moins 2 fois en moyenne. Nous allons donc concerver cette configuration pour le KMeans.  \n",
    "Regardons la représentation des ces répartitions avec des boxplots."
   ]
  },
  {
   "cell_type": "code",
   "execution_count": 33,
   "id": "edde0514-da3f-47d5-992f-9c5dfb9a5925",
   "metadata": {
    "tags": []
   },
   "outputs": [
    {
     "data": {
      "image/png": "[encoded data removed]",
      "text/plain": [
       "<Figure size 1200x600 with 1 Axes>"
      ]
     },
     "metadata": {},
     "output_type": "display_data"
    },
    {
     "data": {
      "image/png": "[encoded data removed]",
      "text/plain": [
       "<Figure size 1200x600 with 1 Axes>"
      ]
     },
     "metadata": {},
     "output_type": "display_data"
    },
    {
     "data": {
      "image/png": "[encoded data removed]",
      "text/plain": [
       "<Figure size 1200x600 with 1 Axes>"
      ]
     },
     "metadata": {},
     "output_type": "display_data"
    }
   ],
   "source": [
    "display_box_plot_comparison(data_w_cluster, data_process.columns)"
   ]
  },
  {
   "cell_type": "markdown",
   "id": "466b0d19-111e-47dc-982e-9505db74615f",
   "metadata": {},
   "source": [
    "On observe bien les 3 groupes : \n",
    " - bons acheteurs (entre 1340 et 2040 real), fidèles (1.4 fois)\n",
    " - acheteurs moyens (entre 370 et 640 real), réguliers (1.3 fois)\n",
    " - petits acheteurs (entre 60 et 160 real), occasionnels (1 fois)\n",
    "\n",
    "A noter que tous les clusters ont une utilisation similaire au niveau du dernier achat."
   ]
  },
  {
   "cell_type": "code",
   "execution_count": 34,
   "id": "7c3392d0-78ca-46a2-99aa-51a95b3b5ee1",
   "metadata": {},
   "outputs": [],
   "source": [
    "# import plotly.express as px\n",
    "# fig = px.scatter_3d(data_w_cluster, x='rfm_recency', y='rfm_frequency', z='rfm_monetary', opacity=0.3, color='cluster', width=800, height=600)\n",
    "# fig.update_traces(marker_size = 3)\n",
    "# fig.show()"
   ]
  },
  {
   "cell_type": "markdown",
   "id": "0e7407ca-da4b-4a43-8e07-fd5a14845224",
   "metadata": {
    "tags": []
   },
   "source": [
    "## DBSCAN"
   ]
  },
  {
   "cell_type": "markdown",
   "id": "e5eeec05-1900-44c4-9c63-3d4e8dbac5aa",
   "metadata": {},
   "source": [
    "### Recherche Epsilon et MinSample"
   ]
  },
  {
   "cell_type": "code",
   "execution_count": 35,
   "id": "a2b247b0-1f8d-4e65-9de9-2ce06f17784c",
   "metadata": {},
   "outputs": [],
   "source": [
    "from sklearn.metrics import adjusted_rand_score"
   ]
  },
  {
   "cell_type": "code",
   "execution_count": 36,
   "id": "2e383afb-49df-4867-9704-b2ec46ee9f01",
   "metadata": {
    "tags": []
   },
   "outputs": [],
   "source": [
    "# result = False\n",
    "# result = compute_dbscan(X_norm, kmeans.labels_)"
   ]
  },
  {
   "cell_type": "code",
   "execution_count": 37,
   "id": "27009a80-7804-4b0c-a13e-0b57b4e2af79",
   "metadata": {},
   "outputs": [],
   "source": [
    "# best_result_dbscan = result.sort_values(by=[\"cluster\", \"noise\"], ascending=[True, False]).reset_index(drop=True)\n",
    "# # best_result_dbscan = result.loc[result[\"cluster\"] == 3, :].sort_values(by=\"ari\", ascending=False).reset_index(drop=True)\n",
    "# display(best_result_dbscan.head())\n",
    "# print(\"Meilleure combinaison : Epsilon\", best_result_dbscan.iloc[0][\"eps\"], \"- MinSample\", int(best_result_dbscan.iloc[0][\"minsample\"]))"
   ]
  },
  {
   "cell_type": "markdown",
   "id": "2b12e29c-723c-4d64-8648-e810bf79a7e7",
   "metadata": {},
   "source": [
    "On voit que les valeurs de ARI-score sont très faible (autour de 0.2). Cela montre que les clusters sont très différents de ceux du KMeans."
   ]
  },
  {
   "cell_type": "markdown",
   "id": "2af3e772-9662-41ea-b0ea-db94e9d1505f",
   "metadata": {
    "tags": []
   },
   "source": [
    "### Etude des clusters"
   ]
  },
  {
   "cell_type": "code",
   "execution_count": 38,
   "id": "f7a0bf70-ba99-4ce8-8ae6-d783e9799bce",
   "metadata": {},
   "outputs": [],
   "source": [
    "# on relance le DBSCAN avec le nb de cluster optimal\n",
    "dbscan = cluster.DBSCAN(eps=0.5, min_samples=20)\n",
    "# dbscan = cluster.DBSCAN(eps=best_result_dbscan.iloc[0][\"eps\"], min_samples=int(best_result_dbscan.iloc[0][\"minsample\"]))\n",
    "dbscan.fit(X_norm)\n",
    "# puis on récupère le libellé du cluster pour chaque client\n",
    "cluster_map = pd.DataFrame()\n",
    "cluster_map['customer_unique_id'] = data_process.index.values\n",
    "cluster_map['cluster'] = dbscan.labels_"
   ]
  },
  {
   "cell_type": "code",
   "execution_count": 39,
   "id": "f4d4995a-c2bd-42a3-a59c-971e50b2286c",
   "metadata": {},
   "outputs": [
    {
     "name": "stdout",
     "output_type": "stream",
     "text": [
      "Estimated number of clusters: 3\n",
      "Estimated number of noise points: 696\n"
     ]
    }
   ],
   "source": [
    "labels = dbscan.labels_\n",
    "n_clusters_ = len(set(labels)) - (1 if -1 in labels else 0)\n",
    "n_noise_ = list(labels).count(-1)\n",
    "print(\"Estimated number of clusters: %d\" % n_clusters_)\n",
    "print(\"Estimated number of noise points: %d\" % n_noise_)\n",
    "# on incorpore cette données au dataframe global\n",
    "data_w_cluster = pd.merge(data_process, cluster_map, on=\"customer_unique_id\", how=\"inner\")"
   ]
  },
  {
   "cell_type": "code",
   "execution_count": 40,
   "id": "aea51f03-b4f3-4c77-92f5-97b1f8ef1499",
   "metadata": {},
   "outputs": [
    {
     "data": {
      "text/html": [
       "<div>\n",
       "<style scoped>\n",
       "    .dataframe tbody tr th:only-of-type {\n",
       "        vertical-align: middle;\n",
       "    }\n",
       "\n",
       "    .dataframe tbody tr th {\n",
       "        vertical-align: top;\n",
       "    }\n",
       "\n",
       "    .dataframe thead th {\n",
       "        text-align: right;\n",
       "    }\n",
       "</style>\n",
       "<table border=\"1\" class=\"dataframe\">\n",
       "  <thead>\n",
       "    <tr style=\"text-align: right;\">\n",
       "      <th></th>\n",
       "      <th>recency_mean</th>\n",
       "      <th>frequency_mean</th>\n",
       "      <th>monetary_mean</th>\n",
       "      <th>cluster_size</th>\n",
       "      <th>cluster_perc</th>\n",
       "    </tr>\n",
       "    <tr>\n",
       "      <th>cluster</th>\n",
       "      <th></th>\n",
       "      <th></th>\n",
       "      <th></th>\n",
       "      <th></th>\n",
       "      <th></th>\n",
       "    </tr>\n",
       "  </thead>\n",
       "  <tbody>\n",
       "    <tr>\n",
       "      <th>-1</th>\n",
       "      <td>268.556034</td>\n",
       "      <td>2.824713</td>\n",
       "      <td>1571.611408</td>\n",
       "      <td>696</td>\n",
       "      <td>0.7</td>\n",
       "    </tr>\n",
       "    <tr>\n",
       "      <th>0</th>\n",
       "      <td>244.060255</td>\n",
       "      <td>1.000000</td>\n",
       "      <td>153.771955</td>\n",
       "      <td>89453</td>\n",
       "      <td>93.7</td>\n",
       "    </tr>\n",
       "    <tr>\n",
       "      <th>1</th>\n",
       "      <td>234.176201</td>\n",
       "      <td>2.000000</td>\n",
       "      <td>279.167818</td>\n",
       "      <td>4807</td>\n",
       "      <td>5.0</td>\n",
       "    </tr>\n",
       "    <tr>\n",
       "      <th>2</th>\n",
       "      <td>215.142241</td>\n",
       "      <td>3.000000</td>\n",
       "      <td>348.819246</td>\n",
       "      <td>464</td>\n",
       "      <td>0.5</td>\n",
       "    </tr>\n",
       "  </tbody>\n",
       "</table>\n",
       "</div>"
      ],
      "text/plain": [
       "         recency_mean  frequency_mean  monetary_mean  cluster_size  \\\n",
       "cluster                                                              \n",
       "-1         268.556034        2.824713    1571.611408           696   \n",
       " 0         244.060255        1.000000     153.771955         89453   \n",
       " 1         234.176201        2.000000     279.167818          4807   \n",
       " 2         215.142241        3.000000     348.819246           464   \n",
       "\n",
       "         cluster_perc  \n",
       "cluster                \n",
       "-1                0.7  \n",
       " 0               93.7  \n",
       " 1                5.0  \n",
       " 2                0.5  "
      ]
     },
     "metadata": {},
     "output_type": "display_data"
    }
   ],
   "source": [
    "display_bilan_clusters_rfm(data_w_cluster)"
   ]
  },
  {
   "cell_type": "markdown",
   "id": "d7864a04-9467-4ecf-a328-7660cb6f7d0a",
   "metadata": {},
   "source": [
    "On voit que 2 clusters représentent moins de 1% des données. C'est donc similaire à si nousa vions que 2 clusters. Par ailleurs, plus de 90% des données sont localisées dans un seul cluster. Ce n'est pas assez intéressant pour faire une étude de cas."
   ]
  },
  {
   "cell_type": "markdown",
   "id": "c0c867bb-f8f8-4727-ab77-98dd693a03b6",
   "metadata": {
    "tags": []
   },
   "source": [
    "## AgglomerativeClustering"
   ]
  },
  {
   "cell_type": "markdown",
   "id": "c1291cdf-3ba2-4e13-a8d3-b668e0a85e25",
   "metadata": {},
   "source": [
    "### Recherche des clusters"
   ]
  },
  {
   "cell_type": "code",
   "execution_count": 41,
   "id": "be5da577-6c15-4865-9e5f-6fd3f8028042",
   "metadata": {},
   "outputs": [],
   "source": [
    "from sklearn.cluster import AgglomerativeClustering"
   ]
  },
  {
   "cell_type": "code",
   "execution_count": 42,
   "id": "dddb4eb8-490d-428d-9c5a-4d23c1cece09",
   "metadata": {},
   "outputs": [],
   "source": [
    "# pour info : 65% des données utilisent 75% de ma RAM (37Go utilisé)\n",
    "# pour des raisons techniques, nous allons utiliser un échantillon de 40% des données.\n",
    "nb_data = len(data_process)\n",
    "sample = np.random.randint(nb_data, size=int(nb_data*0.40))\n",
    "agglo_data = data_process.iloc[sample]"
   ]
  },
  {
   "cell_type": "code",
   "execution_count": 43,
   "id": "e116dd83-597f-482d-b5bc-c9c6d5d9cd4f",
   "metadata": {},
   "outputs": [],
   "source": [
    "X = agglo_data.values\n",
    "# X_norm = preprocessing.scale(X)\n",
    "scaler = preprocessing.RobustScaler()\n",
    "X_norm = scaler.fit_transform(X)"
   ]
  },
  {
   "cell_type": "code",
   "execution_count": 44,
   "id": "f53ce387-388e-4264-8b93-841811493aad",
   "metadata": {},
   "outputs": [],
   "source": [
    "model = AgglomerativeClustering(n_clusters=3, distance_threshold=None, compute_distances=True)\n",
    "model = model.fit(X_norm)"
   ]
  },
  {
   "cell_type": "code",
   "execution_count": 45,
   "id": "262f81c8-8d7b-4757-8b20-cc90ebd63c86",
   "metadata": {},
   "outputs": [
    {
     "data": {
      "image/png": "[encoded data removed]",
      "text/plain": [
       "<Figure size 640x480 with 1 Axes>"
      ]
     },
     "metadata": {},
     "output_type": "display_data"
    }
   ],
   "source": [
    "plt.title(\"Hierarchical Clustering Dendrogram\")\n",
    "# plot the top p levels of the dendrogram\n",
    "plot_dendrogram(model, truncate_mode=\"lastp\", p=3)\n",
    "plt.xlabel(\"Number of points in node (or index of point if no parenthesis).\")\n",
    "plt.show()"
   ]
  },
  {
   "cell_type": "markdown",
   "id": "766f0430-c883-4858-bc95-c51a6c51c879",
   "metadata": {},
   "source": [
    "### Etudes des clusters"
   ]
  },
  {
   "cell_type": "code",
   "execution_count": 46,
   "id": "3b88f0f0-e8b9-4e86-879f-1b2bc1c4e5fb",
   "metadata": {},
   "outputs": [],
   "source": [
    "# puis on récupère le libellé du cluster pour chaque client\n",
    "cluster_map = pd.DataFrame()\n",
    "cluster_map['customer_unique_id'] = agglo_data.index.values\n",
    "cluster_map['cluster'] = model.labels_\n",
    "# on incorpore cette données au dataframe global\n",
    "data_w_cluster = pd.merge(agglo_data, cluster_map, on=\"customer_unique_id\", how=\"inner\")"
   ]
  },
  {
   "cell_type": "code",
   "execution_count": 47,
   "id": "07b67d30-73f8-4850-bda2-60b1e91b9198",
   "metadata": {},
   "outputs": [
    {
     "data": {
      "text/html": [
       "<div>\n",
       "<style scoped>\n",
       "    .dataframe tbody tr th:only-of-type {\n",
       "        vertical-align: middle;\n",
       "    }\n",
       "\n",
       "    .dataframe tbody tr th {\n",
       "        vertical-align: top;\n",
       "    }\n",
       "\n",
       "    .dataframe thead th {\n",
       "        text-align: right;\n",
       "    }\n",
       "</style>\n",
       "<table border=\"1\" class=\"dataframe\">\n",
       "  <thead>\n",
       "    <tr style=\"text-align: right;\">\n",
       "      <th></th>\n",
       "      <th>recency_mean</th>\n",
       "      <th>frequency_mean</th>\n",
       "      <th>monetary_mean</th>\n",
       "      <th>cluster_size</th>\n",
       "      <th>cluster_perc</th>\n",
       "    </tr>\n",
       "    <tr>\n",
       "      <th>cluster</th>\n",
       "      <th></th>\n",
       "      <th></th>\n",
       "      <th></th>\n",
       "      <th></th>\n",
       "      <th></th>\n",
       "    </tr>\n",
       "  </thead>\n",
       "  <tbody>\n",
       "    <tr>\n",
       "      <th>0</th>\n",
       "      <td>244.271834</td>\n",
       "      <td>1.061191</td>\n",
       "      <td>134.133242</td>\n",
       "      <td>50792</td>\n",
       "      <td>95.4</td>\n",
       "    </tr>\n",
       "    <tr>\n",
       "      <th>1</th>\n",
       "      <td>222.465116</td>\n",
       "      <td>1.255814</td>\n",
       "      <td>2550.778605</td>\n",
       "      <td>172</td>\n",
       "      <td>0.3</td>\n",
       "    </tr>\n",
       "    <tr>\n",
       "      <th>2</th>\n",
       "      <td>212.715799</td>\n",
       "      <td>1.260812</td>\n",
       "      <td>835.017065</td>\n",
       "      <td>2266</td>\n",
       "      <td>4.3</td>\n",
       "    </tr>\n",
       "  </tbody>\n",
       "</table>\n",
       "</div>"
      ],
      "text/plain": [
       "         recency_mean  frequency_mean  monetary_mean  cluster_size  \\\n",
       "cluster                                                              \n",
       "0          244.271834        1.061191     134.133242         50792   \n",
       "1          222.465116        1.255814    2550.778605           172   \n",
       "2          212.715799        1.260812     835.017065          2266   \n",
       "\n",
       "         cluster_perc  \n",
       "cluster                \n",
       "0                95.4  \n",
       "1                 0.3  \n",
       "2                 4.3  "
      ]
     },
     "metadata": {},
     "output_type": "display_data"
    }
   ],
   "source": [
    "display_bilan_clusters_rfm(data_w_cluster)"
   ]
  },
  {
   "cell_type": "markdown",
   "id": "21fb4d41-4462-4006-9f8f-92b2ce9d013e",
   "metadata": {},
   "source": [
    "On peut voir que la répartition est plus proche de celle apportée par le KMeans."
   ]
  },
  {
   "cell_type": "code",
   "execution_count": 48,
   "id": "0b854b96-2251-475b-9bae-d6092912b4c2",
   "metadata": {},
   "outputs": [
    {
     "name": "stdout",
     "output_type": "stream",
     "text": [
      "ARI-score entre KMeans et AgglomerativeClustering : 0.5362\n"
     ]
    }
   ],
   "source": [
    "kmeans = cluster.KMeans(n_clusters=3)\n",
    "kmeans.fit(X_norm)\n",
    "ari_agglo_kmeans = round(adjusted_rand_score(kmeans.labels_, model.labels_), 4)\n",
    "print(\"ARI-score entre KMeans et AgglomerativeClustering :\", ari_agglo_kmeans)"
   ]
  },
  {
   "cell_type": "markdown",
   "id": "34d2aaa1-f3a6-4cb9-89f4-cdfff155241b",
   "metadata": {},
   "source": [
    "En effet, le ARI-score est supérieur à 0.50. Ce qui montre une certaine similarité et donc que une étude par AgglomerativeClustering n'apporte pas de valeurs ajoutées. Par ailleurs, seulement 40% des données n'est pas très représentatif de notre dataset. A partir de là, nous allons donc continuer avec l'algorithme du KMeans."
   ]
  },
  {
   "cell_type": "markdown",
   "id": "78bc57cf-d500-4bcb-a4ed-2062aa4ad41a",
   "metadata": {},
   "source": [
    "## Scénario avec KMeans"
   ]
  },
  {
   "cell_type": "markdown",
   "id": "0fec3e03-4a6b-4e85-90ff-89ba011c77e8",
   "metadata": {},
   "source": [
    "Nous allons maintenant voir l'intérêt du clustering par KMeans en calculant le gain obtenu selon différents scénario : \n",
    " - nous allons déplacer 20% des petits acheteurs dans le cluster des bons acheteurs et comparer le CA\n",
    " - puis nous allons déplacer 20% des acheteurs moyens dans le cluster des bons acheteurs et comparer le CA\n",
    "\n",
    "Nous allons donc d'abord calculer le CA global avec la configuration actuelle."
   ]
  },
  {
   "cell_type": "code",
   "execution_count": 81,
   "id": "7979e27d-89c5-4fae-87b5-42e19c5dae12",
   "metadata": {},
   "outputs": [
    {
     "name": "stdout",
     "output_type": "stream",
     "text": [
      "Le CA global pour cette configuration est de 16 353 016.08 real.\n"
     ]
    }
   ],
   "source": [
    "ca_global_ref = data_w_cluster[\"rfm_monetary\"].sum()\n",
    "print(\"Le CA global pour cette configuration est de\", f'{round(ca_global_ref, 2):,}'.replace(',', ' '), \"real.\")"
   ]
  },
  {
   "cell_type": "code",
   "execution_count": 82,
   "id": "9a82920d-f233-42b4-ba71-b3c4026cc56a",
   "metadata": {},
   "outputs": [],
   "source": [
    "X = data_process.values\n",
    "scaler = preprocessing.RobustScaler()\n",
    "X_norm = scaler.fit_transform(X)"
   ]
  },
  {
   "cell_type": "code",
   "execution_count": 83,
   "id": "0dc0c21a-8589-4876-af6e-5d2c1c61356a",
   "metadata": {},
   "outputs": [],
   "source": [
    "kmeans = cluster.KMeans(n_clusters=3)\n",
    "kmeans.fit(X_norm)\n",
    "cluster_map = pd.DataFrame()\n",
    "cluster_map['customer_unique_id'] = data_process.index.values\n",
    "cluster_map['cluster'] = kmeans.labels_\n",
    "# on incorpore cette données au dataframe global\n",
    "data_w_cluster = pd.merge(data_process, cluster_map, on=\"customer_unique_id\", how=\"inner\")"
   ]
  },
  {
   "cell_type": "code",
   "execution_count": 84,
   "id": "6677c2e4-a3c2-42ff-9db8-7c765b6c0e23",
   "metadata": {},
   "outputs": [
    {
     "data": {
      "text/html": [
       "<div>\n",
       "<style scoped>\n",
       "    .dataframe tbody tr th:only-of-type {\n",
       "        vertical-align: middle;\n",
       "    }\n",
       "\n",
       "    .dataframe tbody tr th {\n",
       "        vertical-align: top;\n",
       "    }\n",
       "\n",
       "    .dataframe thead th {\n",
       "        text-align: right;\n",
       "    }\n",
       "</style>\n",
       "<table border=\"1\" class=\"dataframe\">\n",
       "  <thead>\n",
       "    <tr style=\"text-align: right;\">\n",
       "      <th></th>\n",
       "      <th>recency_mean</th>\n",
       "      <th>frequency_mean</th>\n",
       "      <th>monetary_mean</th>\n",
       "      <th>cluster_size</th>\n",
       "      <th>cluster_perc</th>\n",
       "    </tr>\n",
       "    <tr>\n",
       "      <th>cluster</th>\n",
       "      <th></th>\n",
       "      <th></th>\n",
       "      <th></th>\n",
       "      <th></th>\n",
       "      <th></th>\n",
       "    </tr>\n",
       "  </thead>\n",
       "  <tbody>\n",
       "    <tr>\n",
       "      <th>0</th>\n",
       "      <td>243.656496</td>\n",
       "      <td>1.043906</td>\n",
       "      <td>114.318329</td>\n",
       "      <td>85341</td>\n",
       "      <td>89.4</td>\n",
       "    </tr>\n",
       "    <tr>\n",
       "      <th>1</th>\n",
       "      <td>242.773323</td>\n",
       "      <td>1.314289</td>\n",
       "      <td>533.275206</td>\n",
       "      <td>9154</td>\n",
       "      <td>9.6</td>\n",
       "    </tr>\n",
       "    <tr>\n",
       "      <th>2</th>\n",
       "      <td>246.607568</td>\n",
       "      <td>1.411892</td>\n",
       "      <td>1854.458746</td>\n",
       "      <td>925</td>\n",
       "      <td>1.0</td>\n",
       "    </tr>\n",
       "  </tbody>\n",
       "</table>\n",
       "</div>"
      ],
      "text/plain": [
       "         recency_mean  frequency_mean  monetary_mean  cluster_size  \\\n",
       "cluster                                                              \n",
       "0          243.656496        1.043906     114.318329         85341   \n",
       "1          242.773323        1.314289     533.275206          9154   \n",
       "2          246.607568        1.411892    1854.458746           925   \n",
       "\n",
       "         cluster_perc  \n",
       "cluster                \n",
       "0                89.4  \n",
       "1                 9.6  \n",
       "2                 1.0  "
      ]
     },
     "metadata": {},
     "output_type": "display_data"
    }
   ],
   "source": [
    "res = display_bilan_clusters_rfm(data_w_cluster)"
   ]
  },
  {
   "cell_type": "code",
   "execution_count": 85,
   "id": "95ff5f0b-0c85-487d-a52e-ede3ef47e074",
   "metadata": {},
   "outputs": [],
   "source": [
    "res = res.sort_values(by=\"monetary_mean\").reset_index(drop=True)"
   ]
  },
  {
   "cell_type": "code",
   "execution_count": 86,
   "id": "e83a0519-d12e-4099-b632-c386378f988f",
   "metadata": {},
   "outputs": [],
   "source": [
    "# on récupère les index de cluster par type\n",
    "idx_clust_little = res.index[0]\n",
    "idx_clust_medium = res.index[1]"
   ]
  },
  {
   "cell_type": "code",
   "execution_count": 87,
   "id": "b8673b71-9b1c-4d66-bad0-a6ffa1bad824",
   "metadata": {},
   "outputs": [
    {
     "name": "stdout",
     "output_type": "stream",
     "text": [
      "Le CA global pour cette configuration est de 46 043 045.94 real, une augmentation de 181.56 %\n"
     ]
    }
   ],
   "source": [
    "# test du scénario 1\n",
    "data_for_scene_01 = data_w_cluster.copy()\n",
    "change = data_for_scene_01.loc[data_w_cluster[\"cluster\"] == idx_clust_little, :].sample(frac = 0.2).index\n",
    "data_for_scene_01.loc[change,'rfm_monetary'] = res.iloc[2].monetary_mean\n",
    "ca_global_ref_scene_01 = data_for_scene_01[\"rfm_monetary\"].sum()\n",
    "print(\"Le CA global pour cette configuration est de\",\n",
    "      f'{round(ca_global_ref_scene_01, 2):,}'.replace(',', ' '),\n",
    "      \"real, une augmentation de\", round((ca_global_ref_scene_01-ca_global_ref)/ca_global_ref*100, 2), \"%\")"
   ]
  },
  {
   "cell_type": "code",
   "execution_count": 88,
   "id": "e16a30f3-bbfe-4951-9450-ef552f0612fe",
   "metadata": {},
   "outputs": [
    {
     "name": "stdout",
     "output_type": "stream",
     "text": [
      "Le CA global pour cette configuration est de 18 781 696.9 real, une augmentation de 14.85 %\n"
     ]
    }
   ],
   "source": [
    "# test du scénario 2\n",
    "data_for_scene_02 = data_w_cluster.copy()\n",
    "change = data_for_scene_02.loc[data_w_cluster[\"cluster\"] == idx_clust_medium, :].sample(frac = 0.2).index\n",
    "data_for_scene_02.loc[change,'rfm_monetary'] = res.iloc[2].monetary_mean\n",
    "ca_global_ref_scene_02 = data_for_scene_02[\"rfm_monetary\"].sum()\n",
    "print(\"Le CA global pour cette configuration est de\",\n",
    "      f'{round(ca_global_ref_scene_02, 2):,}'.replace(',', ' '),\n",
    "      \"real, une augmentation de\", round((ca_global_ref_scene_02-ca_global_ref)/ca_global_ref*100, 2), \"%\")"
   ]
  },
  {
   "cell_type": "markdown",
   "id": "538cd8ed-dabe-4d56-a02c-cf5d6d5a53b0",
   "metadata": {},
   "source": [
    "# Ajouts de variables"
   ]
  },
  {
   "cell_type": "markdown",
   "id": "685ef47f-e208-4998-8637-f775d5a9ec23",
   "metadata": {},
   "source": [
    "## Création de variables pertinentes"
   ]
  },
  {
   "cell_type": "code",
   "execution_count": 89,
   "id": "a8156ace-d16f-4e6c-b0a4-49ed168272cb",
   "metadata": {},
   "outputs": [
    {
     "data": {
      "text/html": [
       "<div>\n",
       "<style scoped>\n",
       "    .dataframe tbody tr th:only-of-type {\n",
       "        vertical-align: middle;\n",
       "    }\n",
       "\n",
       "    .dataframe tbody tr th {\n",
       "        vertical-align: top;\n",
       "    }\n",
       "\n",
       "    .dataframe thead th {\n",
       "        text-align: right;\n",
       "    }\n",
       "</style>\n",
       "<table border=\"1\" class=\"dataframe\">\n",
       "  <thead>\n",
       "    <tr style=\"text-align: right;\">\n",
       "      <th></th>\n",
       "      <th>customer_id</th>\n",
       "      <th>customer_unique_id</th>\n",
       "      <th>customer_zip_code_prefix</th>\n",
       "      <th>customer_city</th>\n",
       "      <th>customer_state</th>\n",
       "      <th>order_id</th>\n",
       "      <th>order_status</th>\n",
       "      <th>order_purchase_timestamp</th>\n",
       "      <th>order_approved_at</th>\n",
       "      <th>order_delivered_carrier_date</th>\n",
       "      <th>order_delivered_customer_date</th>\n",
       "      <th>order_estimated_delivery_date</th>\n",
       "      <th>order_item_id</th>\n",
       "      <th>product_id</th>\n",
       "      <th>seller_id</th>\n",
       "      <th>shipping_limit_date</th>\n",
       "      <th>price</th>\n",
       "      <th>freight_value</th>\n",
       "      <th>order_value_by_item</th>\n",
       "    </tr>\n",
       "  </thead>\n",
       "  <tbody>\n",
       "    <tr>\n",
       "      <th>0</th>\n",
       "      <td>06b8999e2fba1a1fbc88172c00ba8bc7</td>\n",
       "      <td>861eff4711a542e4b93843c6dd7febb0</td>\n",
       "      <td>14409</td>\n",
       "      <td>franca</td>\n",
       "      <td>SP</td>\n",
       "      <td>00e7ee1b050b8499577073aeb2a297a1</td>\n",
       "      <td>delivered</td>\n",
       "      <td>2017-05-16 15:05:35</td>\n",
       "      <td>2017-05-16 15:22:12</td>\n",
       "      <td>2017-05-23 10:47:57</td>\n",
       "      <td>2017-05-25 10:35:35</td>\n",
       "      <td>2017-06-05</td>\n",
       "      <td>1</td>\n",
       "      <td>a9516a079e37a9c9c36b9b78b10169e8</td>\n",
       "      <td>7c67e1448b00f6e969d365cea6b010ab</td>\n",
       "      <td>2017-05-22 15:22:12</td>\n",
       "      <td>124.99</td>\n",
       "      <td>21.88</td>\n",
       "      <td>146.87</td>\n",
       "    </tr>\n",
       "    <tr>\n",
       "      <th>1</th>\n",
       "      <td>18955e83d337fd6b2def6b18a428ac77</td>\n",
       "      <td>290c77bc529b7ac935b93aa66c333dc3</td>\n",
       "      <td>9790</td>\n",
       "      <td>sao bernardo do campo</td>\n",
       "      <td>SP</td>\n",
       "      <td>29150127e6685892b6eab3eec79f59c7</td>\n",
       "      <td>delivered</td>\n",
       "      <td>2018-01-12 20:48:24</td>\n",
       "      <td>2018-01-12 20:58:32</td>\n",
       "      <td>2018-01-15 17:14:59</td>\n",
       "      <td>2018-01-29 12:41:19</td>\n",
       "      <td>2018-02-06</td>\n",
       "      <td>1</td>\n",
       "      <td>4aa6014eceb682077f9dc4bffebc05b0</td>\n",
       "      <td>b8bc237ba3788b23da09c0f1f3a3288c</td>\n",
       "      <td>2018-01-18 20:58:32</td>\n",
       "      <td>289.00</td>\n",
       "      <td>46.48</td>\n",
       "      <td>335.48</td>\n",
       "    </tr>\n",
       "    <tr>\n",
       "      <th>2</th>\n",
       "      <td>4e7b3e00288586ebd08712fdd0374a03</td>\n",
       "      <td>060e732b5b29e8181a18229c7b0b2b5e</td>\n",
       "      <td>1151</td>\n",
       "      <td>sao paulo</td>\n",
       "      <td>SP</td>\n",
       "      <td>b2059ed67ce144a36e2aa97d2c9e9ad2</td>\n",
       "      <td>delivered</td>\n",
       "      <td>2018-05-19 16:07:45</td>\n",
       "      <td>2018-05-20 16:19:10</td>\n",
       "      <td>2018-06-11 14:31:00</td>\n",
       "      <td>2018-06-14 17:58:51</td>\n",
       "      <td>2018-06-13</td>\n",
       "      <td>1</td>\n",
       "      <td>bd07b66896d6f1494f5b86251848ced7</td>\n",
       "      <td>7c67e1448b00f6e969d365cea6b010ab</td>\n",
       "      <td>2018-06-05 16:19:10</td>\n",
       "      <td>139.94</td>\n",
       "      <td>17.79</td>\n",
       "      <td>157.73</td>\n",
       "    </tr>\n",
       "    <tr>\n",
       "      <th>3</th>\n",
       "      <td>b2b6027bc5c5109e529d4dc6358b12c3</td>\n",
       "      <td>259dac757896d24d7702b9acbbff3f3c</td>\n",
       "      <td>8775</td>\n",
       "      <td>mogi das cruzes</td>\n",
       "      <td>SP</td>\n",
       "      <td>951670f92359f4fe4a63112aa7306eba</td>\n",
       "      <td>delivered</td>\n",
       "      <td>2018-03-13 16:06:38</td>\n",
       "      <td>2018-03-13 17:29:19</td>\n",
       "      <td>2018-03-27 23:22:42</td>\n",
       "      <td>2018-03-28 16:04:25</td>\n",
       "      <td>2018-04-10</td>\n",
       "      <td>1</td>\n",
       "      <td>a5647c44af977b148e0a3a4751a09e2e</td>\n",
       "      <td>7c67e1448b00f6e969d365cea6b010ab</td>\n",
       "      <td>2018-03-27 16:31:16</td>\n",
       "      <td>149.94</td>\n",
       "      <td>23.36</td>\n",
       "      <td>173.30</td>\n",
       "    </tr>\n",
       "    <tr>\n",
       "      <th>4</th>\n",
       "      <td>4f2d8ab171c80ec8364f7c12e35b23ad</td>\n",
       "      <td>345ecd01c38d18a9036ed96c73b8d066</td>\n",
       "      <td>13056</td>\n",
       "      <td>campinas</td>\n",
       "      <td>SP</td>\n",
       "      <td>6b7d50bd145f6fc7f33cebabd7e49d0f</td>\n",
       "      <td>delivered</td>\n",
       "      <td>2018-07-29 09:51:30</td>\n",
       "      <td>2018-07-29 10:10:09</td>\n",
       "      <td>2018-07-30 15:16:00</td>\n",
       "      <td>2018-08-09 20:55:48</td>\n",
       "      <td>2018-08-15</td>\n",
       "      <td>1</td>\n",
       "      <td>9391a573abe00141c56e38d84d7d5b3b</td>\n",
       "      <td>4a3ca9315b744ce9f8e9374361493884</td>\n",
       "      <td>2018-07-31 10:10:09</td>\n",
       "      <td>230.00</td>\n",
       "      <td>22.25</td>\n",
       "      <td>252.25</td>\n",
       "    </tr>\n",
       "  </tbody>\n",
       "</table>\n",
       "</div>"
      ],
      "text/plain": [
       "                        customer_id                customer_unique_id  \\\n",
       "0  06b8999e2fba1a1fbc88172c00ba8bc7  861eff4711a542e4b93843c6dd7febb0   \n",
       "1  18955e83d337fd6b2def6b18a428ac77  290c77bc529b7ac935b93aa66c333dc3   \n",
       "2  4e7b3e00288586ebd08712fdd0374a03  060e732b5b29e8181a18229c7b0b2b5e   \n",
       "3  b2b6027bc5c5109e529d4dc6358b12c3  259dac757896d24d7702b9acbbff3f3c   \n",
       "4  4f2d8ab171c80ec8364f7c12e35b23ad  345ecd01c38d18a9036ed96c73b8d066   \n",
       "\n",
       "   customer_zip_code_prefix          customer_city customer_state  \\\n",
       "0                     14409                 franca             SP   \n",
       "1                      9790  sao bernardo do campo             SP   \n",
       "2                      1151              sao paulo             SP   \n",
       "3                      8775        mogi das cruzes             SP   \n",
       "4                     13056               campinas             SP   \n",
       "\n",
       "                           order_id order_status order_purchase_timestamp  \\\n",
       "0  00e7ee1b050b8499577073aeb2a297a1    delivered      2017-05-16 15:05:35   \n",
       "1  29150127e6685892b6eab3eec79f59c7    delivered      2018-01-12 20:48:24   \n",
       "2  b2059ed67ce144a36e2aa97d2c9e9ad2    delivered      2018-05-19 16:07:45   \n",
       "3  951670f92359f4fe4a63112aa7306eba    delivered      2018-03-13 16:06:38   \n",
       "4  6b7d50bd145f6fc7f33cebabd7e49d0f    delivered      2018-07-29 09:51:30   \n",
       "\n",
       "    order_approved_at order_delivered_carrier_date  \\\n",
       "0 2017-05-16 15:22:12          2017-05-23 10:47:57   \n",
       "1 2018-01-12 20:58:32          2018-01-15 17:14:59   \n",
       "2 2018-05-20 16:19:10          2018-06-11 14:31:00   \n",
       "3 2018-03-13 17:29:19          2018-03-27 23:22:42   \n",
       "4 2018-07-29 10:10:09          2018-07-30 15:16:00   \n",
       "\n",
       "  order_delivered_customer_date order_estimated_delivery_date  order_item_id  \\\n",
       "0           2017-05-25 10:35:35                    2017-06-05              1   \n",
       "1           2018-01-29 12:41:19                    2018-02-06              1   \n",
       "2           2018-06-14 17:58:51                    2018-06-13              1   \n",
       "3           2018-03-28 16:04:25                    2018-04-10              1   \n",
       "4           2018-08-09 20:55:48                    2018-08-15              1   \n",
       "\n",
       "                         product_id                         seller_id  \\\n",
       "0  a9516a079e37a9c9c36b9b78b10169e8  7c67e1448b00f6e969d365cea6b010ab   \n",
       "1  4aa6014eceb682077f9dc4bffebc05b0  b8bc237ba3788b23da09c0f1f3a3288c   \n",
       "2  bd07b66896d6f1494f5b86251848ced7  7c67e1448b00f6e969d365cea6b010ab   \n",
       "3  a5647c44af977b148e0a3a4751a09e2e  7c67e1448b00f6e969d365cea6b010ab   \n",
       "4  9391a573abe00141c56e38d84d7d5b3b  4a3ca9315b744ce9f8e9374361493884   \n",
       "\n",
       "  shipping_limit_date   price  freight_value  order_value_by_item  \n",
       "0 2017-05-22 15:22:12  124.99          21.88               146.87  \n",
       "1 2018-01-18 20:58:32  289.00          46.48               335.48  \n",
       "2 2018-06-05 16:19:10  139.94          17.79               157.73  \n",
       "3 2018-03-27 16:31:16  149.94          23.36               173.30  \n",
       "4 2018-07-31 10:10:09  230.00          22.25               252.25  "
      ]
     },
     "execution_count": 89,
     "metadata": {},
     "output_type": "execute_result"
    }
   ],
   "source": [
    "data.head()"
   ]
  },
  {
   "cell_type": "code",
   "execution_count": null,
   "id": "08a70195-56c1-45da-9f1a-498e84c940b7",
   "metadata": {},
   "outputs": [],
   "source": []
  },
  {
   "cell_type": "code",
   "execution_count": null,
   "id": "b73cf9b5-f0b7-459e-838e-20482767a2be",
   "metadata": {},
   "outputs": [],
   "source": []
  },
  {
   "cell_type": "markdown",
   "id": "4e546e5c-64e6-4394-b0bd-bc9418aeac4f",
   "metadata": {},
   "source": [
    "## Utilisation du KMeans"
   ]
  },
  {
   "cell_type": "code",
   "execution_count": null,
   "id": "9c2e18df-a91b-4d85-ae73-f9e99f63ac87",
   "metadata": {},
   "outputs": [],
   "source": []
  },
  {
   "cell_type": "code",
   "execution_count": null,
   "id": "6535d6f9-606f-4fca-84b9-baf577da685d",
   "metadata": {},
   "outputs": [],
   "source": []
  }
 ],
 "metadata": {
  "kernelspec": {
   "display_name": "conda_env_prj05",
   "language": "python",
   "name": "conda_env_prj05"
  },
  "language_info": {
   "codemirror_mode": {
    "name": "ipython",
    "version": 3
   },
   "file_extension": ".py",
   "mimetype": "text/x-python",
   "name": "python",
   "nbconvert_exporter": "python",
   "pygments_lexer": "ipython3",
   "version": "3.10.6"
  }
 },
 "nbformat": 4,
 "nbformat_minor": 5
}
