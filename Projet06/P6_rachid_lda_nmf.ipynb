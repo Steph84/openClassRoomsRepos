{
 "cells": [
  {
   "cell_type": "code",
   "execution_count": 1,
   "id": "1103b847-02ce-429f-8c77-1e3f8ec67c14",
   "metadata": {},
   "outputs": [],
   "source": [
    "import numpy as np\n",
    "import pandas as pd"
   ]
  },
  {
   "cell_type": "code",
   "execution_count": 2,
   "id": "2b55e357-0222-4c33-9e27-895dcd3bac52",
   "metadata": {},
   "outputs": [
    {
     "data": {
      "text/html": [
       "<div>\n",
       "<style scoped>\n",
       "    .dataframe tbody tr th:only-of-type {\n",
       "        vertical-align: middle;\n",
       "    }\n",
       "\n",
       "    .dataframe tbody tr th {\n",
       "        vertical-align: top;\n",
       "    }\n",
       "\n",
       "    .dataframe thead th {\n",
       "        text-align: right;\n",
       "    }\n",
       "</style>\n",
       "<table border=\"1\" class=\"dataframe\">\n",
       "  <thead>\n",
       "    <tr style=\"text-align: right;\">\n",
       "      <th></th>\n",
       "      <th>business_id</th>\n",
       "      <th>name</th>\n",
       "      <th>stars</th>\n",
       "      <th>text</th>\n",
       "    </tr>\n",
       "  </thead>\n",
       "  <tbody>\n",
       "    <tr>\n",
       "      <th>882258</th>\n",
       "      <td>TyYpzJzeKWtyMdPFtPRUEg</td>\n",
       "      <td>Prince Pizza</td>\n",
       "      <td>1</td>\n",
       "      <td>This place was horrible! They got my entire or...</td>\n",
       "    </tr>\n",
       "    <tr>\n",
       "      <th>642407</th>\n",
       "      <td>LCMpkeQWHdCbuX0Nlkmeow</td>\n",
       "      <td>Jack in the Box</td>\n",
       "      <td>1</td>\n",
       "      <td>I have no idea why I bother. It's the closest ...</td>\n",
       "    </tr>\n",
       "    <tr>\n",
       "      <th>831418</th>\n",
       "      <td>AZ42H2kk4JUiskC9NPoUjw</td>\n",
       "      <td>Hobnobber's Variety Bar &amp; Restaurant</td>\n",
       "      <td>1</td>\n",
       "      <td>After reading glowing reviews of staff and foo...</td>\n",
       "    </tr>\n",
       "    <tr>\n",
       "      <th>452134</th>\n",
       "      <td>0CeoONLXqseUxPdGerefOQ</td>\n",
       "      <td>Mexican Post</td>\n",
       "      <td>1</td>\n",
       "      <td>Horrible Ground beef/bean Chimichanga. There w...</td>\n",
       "    </tr>\n",
       "    <tr>\n",
       "      <th>921422</th>\n",
       "      <td>QYEiZzwL8I4-q_3U0bq0eQ</td>\n",
       "      <td>The Nutrition Factory</td>\n",
       "      <td>1</td>\n",
       "      <td>They are usually awesome but picked up a kale ...</td>\n",
       "    </tr>\n",
       "  </tbody>\n",
       "</table>\n",
       "</div>"
      ],
      "text/plain": [
       "                   business_id                                  name  stars  \\\n",
       "882258  TyYpzJzeKWtyMdPFtPRUEg                          Prince Pizza      1   \n",
       "642407  LCMpkeQWHdCbuX0Nlkmeow                       Jack in the Box      1   \n",
       "831418  AZ42H2kk4JUiskC9NPoUjw  Hobnobber's Variety Bar & Restaurant      1   \n",
       "452134  0CeoONLXqseUxPdGerefOQ                          Mexican Post      1   \n",
       "921422  QYEiZzwL8I4-q_3U0bq0eQ                 The Nutrition Factory      1   \n",
       "\n",
       "                                                     text  \n",
       "882258  This place was horrible! They got my entire or...  \n",
       "642407  I have no idea why I bother. It's the closest ...  \n",
       "831418  After reading glowing reviews of staff and foo...  \n",
       "452134  Horrible Ground beef/bean Chimichanga. There w...  \n",
       "921422  They are usually awesome but picked up a kale ...  "
      ]
     },
     "execution_count": 2,
     "metadata": {},
     "output_type": "execute_result"
    }
   ],
   "source": [
    "data = pd.read_csv('study_dataset.csv', encoding='utf-8', sep='\\t', index_col=0)\n",
    "data.head()"
   ]
  },
  {
   "cell_type": "code",
   "execution_count": 4,
   "id": "609dedeb-bbbf-404d-b135-fd834cdaff72",
   "metadata": {},
   "outputs": [],
   "source": [
    "from gensim.models import LdaModel\n",
    "from gensim.corpora import Dictionary\n",
    "from sklearn.model_selection import ParameterGrid\n",
    "from gensim.models.coherencemodel import CoherenceModel"
   ]
  },
  {
   "cell_type": "code",
   "execution_count": 5,
   "id": "81b5f4b8-3ece-4e92-bc66-7181cf0b350f",
   "metadata": {},
   "outputs": [],
   "source": [
    "# Préparation des données\n",
    "documents = ['Premier document', 'Deuxième document', 'Troisième document', ...]  # Vos documents\n",
    "corpus = [ \"service  lent  inefficace\",\n",
    "    \" nourriture  froide  fade\",\n",
    "    \"Les prix   élevés   qualité offerte\",\n",
    "    \" Attendre longtemps être servi.\",\n",
    "    \" personnel  impoli  désagréable. Attente  importante\",\n",
    "    \" Chocolat pas terrible. Chocolat Aucun Goût\",\n",
    "    \" Chocolat perimé \"\n",
    "]\n",
    "documents = [d.split() for d in corpus]"
   ]
  },
  {
   "cell_type": "code",
   "execution_count": 11,
   "id": "be045cb3-6c17-4d1a-aef3-53336a1afb78",
   "metadata": {},
   "outputs": [
    {
     "data": {
      "text/plain": [
       "[['service', 'lent', 'inefficace'],\n",
       " ['nourriture', 'froide', 'fade'],\n",
       " ['Les', 'prix', 'élevés', 'qualité', 'offerte'],\n",
       " ['Attendre', 'longtemps', 'être', 'servi.'],\n",
       " ['personnel', 'impoli', 'désagréable.', 'Attente', 'importante'],\n",
       " ['Chocolat', 'pas', 'terrible.', 'Chocolat', 'Aucun', 'Goût'],\n",
       " ['Chocolat', 'perimé']]"
      ]
     },
     "execution_count": 11,
     "metadata": {},
     "output_type": "execute_result"
    }
   ],
   "source": [
    "documents"
   ]
  },
  {
   "cell_type": "code",
   "execution_count": 6,
   "id": "033ce59d-a3ac-4c38-a0de-450416c96f81",
   "metadata": {},
   "outputs": [],
   "source": [
    "# Création du dictionnaire\n",
    "dictionary = Dictionary(documents)\n",
    "corpus = [dictionary.doc2bow(doc) for doc in documents]"
   ]
  },
  {
   "cell_type": "code",
   "execution_count": 12,
   "id": "3a05a152-7b99-4eff-b3c9-b176762e2cd3",
   "metadata": {},
   "outputs": [
    {
     "data": {
      "text/plain": [
       "<gensim.corpora.dictionary.Dictionary at 0x7f4981cba110>"
      ]
     },
     "execution_count": 12,
     "metadata": {},
     "output_type": "execute_result"
    }
   ],
   "source": [
    "dictionary"
   ]
  },
  {
   "cell_type": "code",
   "execution_count": 10,
   "id": "87691f5d-6c3f-4eb7-b048-19b5679c15d7",
   "metadata": {},
   "outputs": [
    {
     "data": {
      "text/plain": [
       "[[(0, 1), (1, 1), (2, 1)],\n",
       " [(3, 1), (4, 1), (5, 1)],\n",
       " [(6, 1), (7, 1), (8, 1), (9, 1), (10, 1)],\n",
       " [(11, 1), (12, 1), (13, 1), (14, 1)],\n",
       " [(15, 1), (16, 1), (17, 1), (18, 1), (19, 1)],\n",
       " [(20, 1), (21, 2), (22, 1), (23, 1), (24, 1)],\n",
       " [(21, 1), (25, 1)]]"
      ]
     },
     "execution_count": 10,
     "metadata": {},
     "output_type": "execute_result"
    }
   ],
   "source": [
    "corpus"
   ]
  },
  {
   "cell_type": "code",
   "execution_count": 7,
   "id": "87cac57f-9f95-4d41-b60a-f3eced75e88e",
   "metadata": {},
   "outputs": [],
   "source": [
    "# Liste des nombres de sujets à tester\n",
    "num_topics_list = [5, 10, 15, 20]\n",
    "\n",
    "# Définition des paramètres à tester\n",
    "param_grid = {\n",
    "    'num_topics': [5, 10, 15],\n",
    "    'passes': [10, 20, 30]\n",
    "}"
   ]
  },
  {
   "cell_type": "code",
   "execution_count": 8,
   "id": "be863f74-ff7e-4192-820d-2163a6654eb1",
   "metadata": {},
   "outputs": [],
   "source": [
    "# Liste pour stocker les résultats\n",
    "results = []\n",
    "# Variables pour stocker le meilleur modèle et son score de cohérence\n",
    "best_model = None\n",
    "best_coherence_score = -1\n",
    "\n",
    "# Grid Search\n",
    "for params in ParameterGrid(param_grid):\n",
    "    # Entraînement du modèle LDA avec les paramètres donnés\n",
    "    lda_model = LdaModel(corpus=corpus, id2word=dictionary, **params)\n",
    "    \n",
    "    # Calcul de la cohérence des sujets\n",
    "    coherence_model = CoherenceModel(model=lda_model, texts=documents, dictionary=dictionary, coherence='c_v')\n",
    "    coherence_score = coherence_model.get_coherence()\n",
    "    \n",
    "    # Stockage des résultats\n",
    "    results.append((params, coherence_score))\n",
    "    \n",
    "    # Mise à jour du meilleur modèle si le score de cohérence est plus élevé\n",
    "    if coherence_score > best_coherence_score:\n",
    "        best_model = lda_model\n",
    "        best_coherence_score = coherence_score    "
   ]
  },
  {
   "cell_type": "code",
   "execution_count": 9,
   "id": "549e5cad-5af7-43fd-825b-4a162d50c0ba",
   "metadata": {},
   "outputs": [
    {
     "name": "stdout",
     "output_type": "stream",
     "text": [
      "Meilleur modèle :\n",
      "LdaModel<num_terms=26, num_topics=10, decay=0.5, chunksize=2000>\n",
      "Score de cohérence des sujets : 0.6299162827260991\n",
      "\n",
      " ===================================== \n",
      "\n",
      "(0, '0.145*\"impoli\" + 0.145*\"personnel\" + 0.145*\"importante\" + 0.145*\"Attente\" + 0.145*\"désagréable.\" + 0.013*\"Chocolat\" + 0.013*\"service\" + 0.013*\"nourriture\" + 0.013*\"perimé\" + 0.013*\"fade\"')\n",
      "(9, '0.196*\"lent\" + 0.196*\"inefficace\" + 0.196*\"service\" + 0.018*\"Chocolat\" + 0.018*\"perimé\" + 0.018*\"nourriture\" + 0.018*\"fade\" + 0.018*\"froide\" + 0.018*\"Attendre\" + 0.018*\"être\"')\n",
      "(4, '0.167*\"longtemps\" + 0.167*\"être\" + 0.167*\"servi.\" + 0.167*\"Attendre\" + 0.015*\"Chocolat\" + 0.015*\"service\" + 0.015*\"fade\" + 0.015*\"nourriture\" + 0.015*\"perimé\" + 0.015*\"inefficace\"')\n",
      "(8, '0.244*\"Chocolat\" + 0.128*\"Goût\" + 0.128*\"Aucun\" + 0.128*\"terrible.\" + 0.128*\"pas\" + 0.012*\"service\" + 0.012*\"lent\" + 0.012*\"Attendre\" + 0.012*\"fade\" + 0.012*\"perimé\"')\n",
      "(7, '0.038*\"Chocolat\" + 0.038*\"service\" + 0.038*\"perimé\" + 0.038*\"fade\" + 0.038*\"froide\" + 0.038*\"nourriture\" + 0.038*\"lent\" + 0.038*\"Attendre\" + 0.038*\"importante\" + 0.038*\"être\"')\n"
     ]
    }
   ],
   "source": [
    "# Affichage du meilleur modèle et de son score de cohérence\n",
    "print(\"Meilleur modèle :\")\n",
    "print(best_model)\n",
    "print(\"Score de cohérence des sujets :\", best_coherence_score)\n",
    "\n",
    "print(\"\\n\", \"=====================================\", \"\\n\")\n",
    "\n",
    "# Affichage des thèmes pour best_model\n",
    "topics = best_model.print_topics(num_topics=5, num_words=10)\n",
    "for topic in topics:\n",
    "    print(topic)"
   ]
  },
  {
   "cell_type": "code",
   "execution_count": null,
   "id": "0bf40d81-598b-43cc-a5e7-9b00c3a94357",
   "metadata": {},
   "outputs": [],
   "source": []
  },
  {
   "cell_type": "code",
   "execution_count": null,
   "id": "599cb433-4d3f-4dd0-91e5-28484dedfd2f",
   "metadata": {},
   "outputs": [],
   "source": []
  }
 ],
 "metadata": {
  "kernelspec": {
   "display_name": "conda_env_prj06",
   "language": "python",
   "name": "conda_env_prj06"
  },
  "language_info": {
   "codemirror_mode": {
    "name": "ipython",
    "version": 3
   },
   "file_extension": ".py",
   "mimetype": "text/x-python",
   "name": "python",
   "nbconvert_exporter": "python",
   "pygments_lexer": "ipython3",
   "version": "3.10.6"
  }
 },
 "nbformat": 4,
 "nbformat_minor": 5
}
