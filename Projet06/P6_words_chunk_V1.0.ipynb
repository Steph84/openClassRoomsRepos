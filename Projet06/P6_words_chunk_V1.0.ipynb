{
 "cells": [
  {
   "cell_type": "markdown",
   "id": "4ed7ff19-0b9f-4170-821d-3109ce879c3e",
   "metadata": {
    "jp-MarkdownHeadingCollapsed": true,
    "tags": []
   },
   "source": [
    "### Méthodes"
   ]
  },
  {
   "cell_type": "code",
   "execution_count": 1,
   "id": "0bbc9808-b79e-4c89-93f2-9208aefb8782",
   "metadata": {},
   "outputs": [],
   "source": [
    "def plot_univarie(df, list_col):\n",
    "    \"\"\" Affiche les mesures et les histogrammes de variables numériques \"\"\"\n",
    "    for col in list_col:\n",
    "        print(\"-\"*70)\n",
    "        print(\"Colonne :\", col)\n",
    "        # mesures de tendances centrales\n",
    "        print(\"moyenne : \", df[col].mean())\n",
    "        print(\"médiane : \", df[col].median())\n",
    "        print(\"mode : \", df[col].mode())\n",
    "        print(\"min : \", df[col].min())\n",
    "        print(\"max : \", df[col].max())\n",
    "        quartiles = [np.percentile(df[col], p) for p in [25, 75]]\n",
    "        print(\"quartiles : \", quartiles)\n",
    "        # mesures de dispersion\n",
    "        print(\"variance : \", df[col].var(ddof=0))\n",
    "        print(\"écart-type : \", df[col].std(ddof=0))\n",
    "        print(\"coefficient de variation : \", df[col].std(ddof=0)/df[col].mean())\n",
    "        # mesures de forme\n",
    "        print(\"skewness : \", df[col].skew())\n",
    "        print(\"kurtosis : \", df[col].kurtosis())\n",
    "        df[col].hist(bins=25)\n",
    "        plt.xlabel(col)\n",
    "        # pour tracer les 1er et 3ème quartiles\n",
    "        min_ylim, max_ylim = plt.ylim()\n",
    "        # plt.xticks(np.arange(-15, 41, 5))\n",
    "        plt.axvline(quartiles[0], color='k', linestyle='dashed', linewidth=1)\n",
    "        plt.text(quartiles[0], max_ylim*0.95, ' {:.0f}'.format(quartiles[0]))\n",
    "        plt.axvline(quartiles[1], color='k', linestyle='dashed', linewidth=1)\n",
    "        plt.text(quartiles[1], max_ylim*0.85, ' {:.0f}'.format(quartiles[1]))\n",
    "        plt.show()\n",
    "        print(\"-\"*70)"
   ]
  },
  {
   "cell_type": "markdown",
   "id": "01592f34-cdea-473b-a3a5-0100cfded861",
   "metadata": {},
   "source": [
    "# Projet"
   ]
  },
  {
   "cell_type": "code",
   "execution_count": 2,
   "id": "5175d14f-e7f5-4d2e-bdca-f275671c3f5f",
   "metadata": {},
   "outputs": [],
   "source": [
    "import os\n",
    "import pandas as pd\n",
    "import numpy as np\n",
    "import matplotlib.pyplot as plt\n",
    "import dask.dataframe as dd\n",
    "from dask.distributed import Client"
   ]
  },
  {
   "cell_type": "code",
   "execution_count": null,
   "id": "fe0a35d6-5ff6-4336-bca3-832d55374013",
   "metadata": {},
   "outputs": [],
   "source": [
    "import pandas\n",
    "import random\n",
    "\n",
    "filename = \"data.csv\" \n",
    "n = sum(1 for line in open(filename))-1  # Calculate number of rows in file\n",
    "s = n//10  # sample size of 10%\n",
    "skip = sorted(random.sample(range(1, n+1), n-s))  # n+1 to compensate for header \n",
    "df = pandas.read_csv(filename, skiprows=skip)\n",
    "\n",
    "import pandas as pd\n",
    "chunks = pd.read_json(file, lines=True, chunksize = 100)\n",
    "for c in chunks:\n",
    "    print(c)\n",
    "\n",
    "    \n",
    "import json\n",
    "with open('file.json') as infile:\n",
    "  o = json.load(infile)\n",
    "  chunkSize = 1000\n",
    "  for i in xrange(0, len(o), chunkSize):\n",
    "    with open('file_' + str(i//chunkSize) + '.json', 'w') as outfile:\n",
    "      json.dump(o[i:i+chunkSize], outfile)\n",
    "\n"
   ]
  },
  {
   "cell_type": "code",
   "execution_count": 4,
   "id": "c8b0c10f-c912-49c0-b211-e65875c902e3",
   "metadata": {},
   "outputs": [],
   "source": [
    "ddf = dd.read_json('yelp_dataset/yelp_academic_dataset_business.json',blocksize=13e7)"
   ]
  },
  {
   "cell_type": "code",
   "execution_count": 5,
   "id": "157800ae-ffad-464d-98b8-bdea7da0a801",
   "metadata": {},
   "outputs": [],
   "source": [
    "ddf = ddf.drop(columns=[\"address\", \"city\", \"state\", \"postal_code\", \"latitude\", \"longitude\", \"attributes\", \"hours\", \"is_open\"])"
   ]
  },
  {
   "cell_type": "code",
   "execution_count": 6,
   "id": "129b955b-f3a5-4147-9b30-80db523c63e8",
   "metadata": {},
   "outputs": [
    {
     "data": {
      "text/html": [
       "<div>\n",
       "<style scoped>\n",
       "    .dataframe tbody tr th:only-of-type {\n",
       "        vertical-align: middle;\n",
       "    }\n",
       "\n",
       "    .dataframe tbody tr th {\n",
       "        vertical-align: top;\n",
       "    }\n",
       "\n",
       "    .dataframe thead th {\n",
       "        text-align: right;\n",
       "    }\n",
       "</style>\n",
       "<table border=\"1\" class=\"dataframe\">\n",
       "  <thead>\n",
       "    <tr style=\"text-align: right;\">\n",
       "      <th></th>\n",
       "      <th>business_id</th>\n",
       "      <th>name</th>\n",
       "      <th>stars</th>\n",
       "      <th>review_count</th>\n",
       "      <th>categories</th>\n",
       "    </tr>\n",
       "  </thead>\n",
       "  <tbody>\n",
       "    <tr>\n",
       "      <th>0</th>\n",
       "      <td>Pns2l4eNsfO8kk83dixA6A</td>\n",
       "      <td>Abby Rappoport, LAC, CMQ</td>\n",
       "      <td>5.0</td>\n",
       "      <td>7</td>\n",
       "      <td>Doctors, Traditional Chinese Medicine, Naturop...</td>\n",
       "    </tr>\n",
       "    <tr>\n",
       "      <th>1</th>\n",
       "      <td>mpf3x-BjTdTEA3yCZrAYPw</td>\n",
       "      <td>The UPS Store</td>\n",
       "      <td>3.0</td>\n",
       "      <td>15</td>\n",
       "      <td>Shipping Centers, Local Services, Notaries, Ma...</td>\n",
       "    </tr>\n",
       "    <tr>\n",
       "      <th>2</th>\n",
       "      <td>tUFrWirKiKi_TAnsVWINQQ</td>\n",
       "      <td>Target</td>\n",
       "      <td>3.5</td>\n",
       "      <td>22</td>\n",
       "      <td>Department Stores, Shopping, Fashion, Home &amp; G...</td>\n",
       "    </tr>\n",
       "    <tr>\n",
       "      <th>3</th>\n",
       "      <td>MTSW4McQd7CbVtyjqoe9mw</td>\n",
       "      <td>St Honore Pastries</td>\n",
       "      <td>4.0</td>\n",
       "      <td>80</td>\n",
       "      <td>Restaurants, Food, Bubble Tea, Coffee &amp; Tea, B...</td>\n",
       "    </tr>\n",
       "    <tr>\n",
       "      <th>4</th>\n",
       "      <td>mWMc6_wTdE0EUBKIGXDVfA</td>\n",
       "      <td>Perkiomen Valley Brewery</td>\n",
       "      <td>4.5</td>\n",
       "      <td>13</td>\n",
       "      <td>Brewpubs, Breweries, Food</td>\n",
       "    </tr>\n",
       "  </tbody>\n",
       "</table>\n",
       "</div>"
      ],
      "text/plain": [
       "              business_id                      name  stars  review_count  \\\n",
       "0  Pns2l4eNsfO8kk83dixA6A  Abby Rappoport, LAC, CMQ    5.0             7   \n",
       "1  mpf3x-BjTdTEA3yCZrAYPw             The UPS Store    3.0            15   \n",
       "2  tUFrWirKiKi_TAnsVWINQQ                    Target    3.5            22   \n",
       "3  MTSW4McQd7CbVtyjqoe9mw        St Honore Pastries    4.0            80   \n",
       "4  mWMc6_wTdE0EUBKIGXDVfA  Perkiomen Valley Brewery    4.5            13   \n",
       "\n",
       "                                          categories  \n",
       "0  Doctors, Traditional Chinese Medicine, Naturop...  \n",
       "1  Shipping Centers, Local Services, Notaries, Ma...  \n",
       "2  Department Stores, Shopping, Fashion, Home & G...  \n",
       "3  Restaurants, Food, Bubble Tea, Coffee & Tea, B...  \n",
       "4                          Brewpubs, Breweries, Food  "
      ]
     },
     "execution_count": 6,
     "metadata": {},
     "output_type": "execute_result"
    }
   ],
   "source": [
    "ddf.head()"
   ]
  },
  {
   "cell_type": "code",
   "execution_count": 7,
   "id": "defc8a0e-c8a9-42f8-8509-ddf2387ab32d",
   "metadata": {},
   "outputs": [],
   "source": [
    "def show_size_dataset(df):\n",
    "    print(\"Le dataset présente\", len(df), \"lignes et\", df.shape[1], \"colonnes.\")"
   ]
  },
  {
   "cell_type": "code",
   "execution_count": 8,
   "id": "3b12142e-c5aa-414a-97ab-03a30f1344b9",
   "metadata": {},
   "outputs": [
    {
     "name": "stdout",
     "output_type": "stream",
     "text": [
      "Le dataset présente 150346 lignes et 5 colonnes.\n"
     ]
    }
   ],
   "source": [
    "show_size_dataset(ddf)"
   ]
  },
  {
   "cell_type": "code",
   "execution_count": 9,
   "id": "4ec52c13-4dfe-4d8a-b26d-e7d50ba411e0",
   "metadata": {},
   "outputs": [
    {
     "name": "stdout",
     "output_type": "stream",
     "text": [
      "Le dataset présente 150243 lignes et 5 colonnes.\n"
     ]
    }
   ],
   "source": [
    "data_wo_categ = ddf.loc[ddf[\"categories\"].notnull(), :]\n",
    "show_size_dataset(data_wo_categ)"
   ]
  },
  {
   "cell_type": "code",
   "execution_count": 10,
   "id": "8930c442-434a-422d-aa5f-14181c64e7d8",
   "metadata": {},
   "outputs": [
    {
     "name": "stdout",
     "output_type": "stream",
     "text": [
      "Le dataset présente 52286 lignes et 5 colonnes.\n"
     ]
    }
   ],
   "source": [
    "restaurant_data = data_wo_categ.loc[data_wo_categ[\"categories\"].str.contains(\"restaurant\", case=False)]\n",
    "show_size_dataset(restaurant_data)"
   ]
  },
  {
   "cell_type": "code",
   "execution_count": 11,
   "id": "d14a7986-08d2-4dfd-9c13-70180231926c",
   "metadata": {},
   "outputs": [],
   "source": [
    "restaurant_data = restaurant_data.drop(columns=[\"categories\"])"
   ]
  },
  {
   "cell_type": "code",
   "execution_count": 12,
   "id": "5b41393a-25bd-4a42-8df7-f10b55a00533",
   "metadata": {},
   "outputs": [],
   "source": [
    "def extract_low_rating_restaurants(df, rating=3):\n",
    "    res_df = df.loc[df[\"stars\"] < rating, :]\n",
    "    print(\"Le dataset filtré avec un rating inférieur à\", rating, \"présente\", len(res_df), \"lignes.\")"
   ]
  },
  {
   "cell_type": "code",
   "execution_count": 13,
   "id": "1756979c-0c0a-4bf1-ba46-17ccca55a5c2",
   "metadata": {},
   "outputs": [
    {
     "name": "stdout",
     "output_type": "stream",
     "text": [
      "Le dataset filtré avec un rating inférieur à 1 présente 0 lignes.\n",
      "Le dataset filtré avec un rating inférieur à 1.5 présente 247 lignes.\n",
      "Le dataset filtré avec un rating inférieur à 2 présente 1728 lignes.\n",
      "Le dataset filtré avec un rating inférieur à 2.5 présente 4639 lignes.\n",
      "Le dataset filtré avec un rating inférieur à 3 présente 9489 lignes.\n",
      "Le dataset filtré avec un rating inférieur à 3.5 présente 17130 lignes.\n"
     ]
    }
   ],
   "source": [
    "for rate in [1, 1.5, 2, 2.5, 3, 3.5]:\n",
    "    extract_low_rating_restaurants(restaurant_data, rating=rate)"
   ]
  },
  {
   "cell_type": "code",
   "execution_count": 14,
   "id": "050575a0-07f4-4c1f-b080-a34955984532",
   "metadata": {},
   "outputs": [
    {
     "data": {
      "text/html": [
       "<div>\n",
       "<style scoped>\n",
       "    .dataframe tbody tr th:only-of-type {\n",
       "        vertical-align: middle;\n",
       "    }\n",
       "\n",
       "    .dataframe tbody tr th {\n",
       "        vertical-align: top;\n",
       "    }\n",
       "\n",
       "    .dataframe thead th {\n",
       "        text-align: right;\n",
       "    }\n",
       "</style>\n",
       "<table border=\"1\" class=\"dataframe\">\n",
       "  <thead>\n",
       "    <tr style=\"text-align: right;\">\n",
       "      <th></th>\n",
       "      <th>stars</th>\n",
       "      <th>review_count</th>\n",
       "    </tr>\n",
       "  </thead>\n",
       "  <tbody>\n",
       "    <tr>\n",
       "      <th>count</th>\n",
       "      <td>52286.000000</td>\n",
       "      <td>52286.000000</td>\n",
       "    </tr>\n",
       "    <tr>\n",
       "      <th>mean</th>\n",
       "      <td>3.515234</td>\n",
       "      <td>87.241078</td>\n",
       "    </tr>\n",
       "    <tr>\n",
       "      <th>std</th>\n",
       "      <td>0.829585</td>\n",
       "      <td>188.912445</td>\n",
       "    </tr>\n",
       "    <tr>\n",
       "      <th>min</th>\n",
       "      <td>1.000000</td>\n",
       "      <td>5.000000</td>\n",
       "    </tr>\n",
       "    <tr>\n",
       "      <th>25%</th>\n",
       "      <td>3.000000</td>\n",
       "      <td>13.000000</td>\n",
       "    </tr>\n",
       "    <tr>\n",
       "      <th>50%</th>\n",
       "      <td>3.500000</td>\n",
       "      <td>33.000000</td>\n",
       "    </tr>\n",
       "    <tr>\n",
       "      <th>75%</th>\n",
       "      <td>4.000000</td>\n",
       "      <td>89.000000</td>\n",
       "    </tr>\n",
       "    <tr>\n",
       "      <th>max</th>\n",
       "      <td>5.000000</td>\n",
       "      <td>7568.000000</td>\n",
       "    </tr>\n",
       "  </tbody>\n",
       "</table>\n",
       "</div>"
      ],
      "text/plain": [
       "              stars  review_count\n",
       "count  52286.000000  52286.000000\n",
       "mean       3.515234     87.241078\n",
       "std        0.829585    188.912445\n",
       "min        1.000000      5.000000\n",
       "25%        3.000000     13.000000\n",
       "50%        3.500000     33.000000\n",
       "75%        4.000000     89.000000\n",
       "max        5.000000   7568.000000"
      ]
     },
     "execution_count": 14,
     "metadata": {},
     "output_type": "execute_result"
    }
   ],
   "source": [
    "restaurant_data.describe().compute()"
   ]
  },
  {
   "cell_type": "code",
   "execution_count": 15,
   "id": "aeb80927-ab4b-4b67-ba58-00442a81f15b",
   "metadata": {},
   "outputs": [
    {
     "name": "stdout",
     "output_type": "stream",
     "text": [
      "----------------------------------------------------------------------\n",
      "Colonne : stars\n",
      "moyenne :  3.5152335233140803\n",
      "médiane :  3.5\n",
      "mode :  0    4.0\n",
      "Name: stars, dtype: float64\n",
      "min :  1.0\n",
      "max :  5.0\n",
      "quartiles :  [3.0, 4.0]\n",
      "variance :  0.6881979210243725\n",
      "écart-type :  0.8295769530455704\n",
      "coefficient de variation :  0.23599483435270172\n",
      "skewness :  -0.5928496967191768\n",
      "kurtosis :  -0.11239981633509366\n"
     ]
    },
    {
     "data": {
      "image/png": "[encoded data removed]",
      "text/plain": [
       "<Figure size 640x480 with 1 Axes>"
      ]
     },
     "metadata": {},
     "output_type": "display_data"
    },
    {
     "name": "stdout",
     "output_type": "stream",
     "text": [
      "----------------------------------------------------------------------\n"
     ]
    }
   ],
   "source": [
    "plot_univarie(restaurant_data.compute(), [\"stars\"])"
   ]
  },
  {
   "cell_type": "code",
   "execution_count": 16,
   "id": "53dfad2d-95ea-4f1a-9be7-4109eb5bb823",
   "metadata": {},
   "outputs": [],
   "source": [
    "ddf_rev = dd.read_json('yelp_dataset/yelp_academic_dataset_review.json',blocksize=13e7)"
   ]
  },
  {
   "cell_type": "code",
   "execution_count": 17,
   "id": "309ad9ff-7f91-4932-b72d-602056b6a512",
   "metadata": {},
   "outputs": [],
   "source": [
    "ddf_rev = ddf_rev.drop(columns=[\"user_id\", \"date\", \"review_id\"])"
   ]
  },
  {
   "cell_type": "code",
   "execution_count": 18,
   "id": "3f0cbae8-02a1-4164-812d-978bf735d780",
   "metadata": {},
   "outputs": [
    {
     "data": {
      "text/html": [
       "<div>\n",
       "<style scoped>\n",
       "    .dataframe tbody tr th:only-of-type {\n",
       "        vertical-align: middle;\n",
       "    }\n",
       "\n",
       "    .dataframe tbody tr th {\n",
       "        vertical-align: top;\n",
       "    }\n",
       "\n",
       "    .dataframe thead th {\n",
       "        text-align: right;\n",
       "    }\n",
       "</style>\n",
       "<table border=\"1\" class=\"dataframe\">\n",
       "  <thead>\n",
       "    <tr style=\"text-align: right;\">\n",
       "      <th></th>\n",
       "      <th>business_id</th>\n",
       "      <th>stars</th>\n",
       "      <th>useful</th>\n",
       "      <th>funny</th>\n",
       "      <th>cool</th>\n",
       "      <th>text</th>\n",
       "    </tr>\n",
       "  </thead>\n",
       "  <tbody>\n",
       "    <tr>\n",
       "      <th>0</th>\n",
       "      <td>XQfwVwDr-v0ZS3_CbbE5Xw</td>\n",
       "      <td>3</td>\n",
       "      <td>0</td>\n",
       "      <td>0</td>\n",
       "      <td>0</td>\n",
       "      <td>If you decide to eat here, just be aware it is...</td>\n",
       "    </tr>\n",
       "    <tr>\n",
       "      <th>1</th>\n",
       "      <td>7ATYjTIgM3jUlt4UM3IypQ</td>\n",
       "      <td>5</td>\n",
       "      <td>1</td>\n",
       "      <td>0</td>\n",
       "      <td>1</td>\n",
       "      <td>I've taken a lot of spin classes over the year...</td>\n",
       "    </tr>\n",
       "    <tr>\n",
       "      <th>2</th>\n",
       "      <td>YjUWPpI6HXG530lwP-fb2A</td>\n",
       "      <td>3</td>\n",
       "      <td>0</td>\n",
       "      <td>0</td>\n",
       "      <td>0</td>\n",
       "      <td>Family diner. Had the buffet. Eclectic assortm...</td>\n",
       "    </tr>\n",
       "    <tr>\n",
       "      <th>3</th>\n",
       "      <td>kxX2SOes4o-D3ZQBkiMRfA</td>\n",
       "      <td>5</td>\n",
       "      <td>1</td>\n",
       "      <td>0</td>\n",
       "      <td>1</td>\n",
       "      <td>Wow!  Yummy, different,  delicious.   Our favo...</td>\n",
       "    </tr>\n",
       "    <tr>\n",
       "      <th>4</th>\n",
       "      <td>e4Vwtrqf-wpJfwesgvdgxQ</td>\n",
       "      <td>4</td>\n",
       "      <td>1</td>\n",
       "      <td>0</td>\n",
       "      <td>1</td>\n",
       "      <td>Cute interior and owner (?) gave us tour of up...</td>\n",
       "    </tr>\n",
       "  </tbody>\n",
       "</table>\n",
       "</div>"
      ],
      "text/plain": [
       "              business_id  stars  useful  funny  cool  \\\n",
       "0  XQfwVwDr-v0ZS3_CbbE5Xw      3       0      0     0   \n",
       "1  7ATYjTIgM3jUlt4UM3IypQ      5       1      0     1   \n",
       "2  YjUWPpI6HXG530lwP-fb2A      3       0      0     0   \n",
       "3  kxX2SOes4o-D3ZQBkiMRfA      5       1      0     1   \n",
       "4  e4Vwtrqf-wpJfwesgvdgxQ      4       1      0     1   \n",
       "\n",
       "                                                text  \n",
       "0  If you decide to eat here, just be aware it is...  \n",
       "1  I've taken a lot of spin classes over the year...  \n",
       "2  Family diner. Had the buffet. Eclectic assortm...  \n",
       "3  Wow!  Yummy, different,  delicious.   Our favo...  \n",
       "4  Cute interior and owner (?) gave us tour of up...  "
      ]
     },
     "execution_count": 18,
     "metadata": {},
     "output_type": "execute_result"
    }
   ],
   "source": [
    "ddf_rev.head()"
   ]
  },
  {
   "cell_type": "code",
   "execution_count": 22,
   "id": "bf6ad913-7fce-4cea-8c01-6c2632167a93",
   "metadata": {},
   "outputs": [
    {
     "ename": "ValueError",
     "evalue": "Cannot call len() on object with unknown chunk size.\n\nA possible solution: https://docs.dask.org/en/latest/array-chunks.html#unknown-chunks\nSummary: to compute chunks sizes, use\n\n   x.compute_chunk_sizes()  # for Dask Array `x`\n   ddf.to_dask_array(lengths=True)  # for Dask DataFrame `ddf`",
     "output_type": "error",
     "traceback": [
      "\u001b[0;31m---------------------------------------------------------------------------\u001b[0m",
      "\u001b[0;31mValueError\u001b[0m                                Traceback (most recent call last)",
      "Cell \u001b[0;32mIn [22], line 1\u001b[0m\n\u001b[0;32m----> 1\u001b[0m restaurant_review \u001b[38;5;241m=\u001b[39m ddf_rev\u001b[38;5;241m.\u001b[39mloc[\u001b[43mddf_rev\u001b[49m\u001b[43m[\u001b[49m\u001b[38;5;124;43m\"\u001b[39;49m\u001b[38;5;124;43mbusiness_id\u001b[39;49m\u001b[38;5;124;43m\"\u001b[39;49m\u001b[43m]\u001b[49m\u001b[38;5;241;43m.\u001b[39;49m\u001b[43misin\u001b[49m\u001b[43m(\u001b[49m\u001b[43mrestaurant_data\u001b[49m\u001b[43m[\u001b[49m\u001b[38;5;124;43m\"\u001b[39;49m\u001b[38;5;124;43mbusiness_id\u001b[39;49m\u001b[38;5;124;43m\"\u001b[39;49m\u001b[43m]\u001b[49m\u001b[38;5;241;43m.\u001b[39;49m\u001b[43mvalues\u001b[49m\u001b[43m)\u001b[49m, :]\n",
      "File \u001b[0;32m~/.local/lib/python3.10/site-packages/dask/dataframe/core.py:4141\u001b[0m, in \u001b[0;36mSeries.isin\u001b[0;34m(self, values)\u001b[0m\n\u001b[1;32m   4138\u001b[0m \u001b[38;5;129m@derived_from\u001b[39m(pd\u001b[38;5;241m.\u001b[39mSeries)\n\u001b[1;32m   4139\u001b[0m \u001b[38;5;28;01mdef\u001b[39;00m \u001b[38;5;21misin\u001b[39m(\u001b[38;5;28mself\u001b[39m, values):\n\u001b[1;32m   4140\u001b[0m     \u001b[38;5;66;03m# Added just to get the different docstring for Series\u001b[39;00m\n\u001b[0;32m-> 4141\u001b[0m     \u001b[38;5;28;01mreturn\u001b[39;00m \u001b[38;5;28;43msuper\u001b[39;49m\u001b[43m(\u001b[49m\u001b[43m)\u001b[49m\u001b[38;5;241;43m.\u001b[39;49m\u001b[43misin\u001b[49m\u001b[43m(\u001b[49m\u001b[43mvalues\u001b[49m\u001b[43m)\u001b[49m\n",
      "File \u001b[0;32m~/.local/lib/python3.10/site-packages/dask/dataframe/core.py:3370\u001b[0m, in \u001b[0;36m_Frame.isin\u001b[0;34m(self, values)\u001b[0m\n\u001b[1;32m   3368\u001b[0m \u001b[38;5;28;01mif\u001b[39;00m \u001b[38;5;28misinstance\u001b[39m(values, bad_types):\n\u001b[1;32m   3369\u001b[0m     \u001b[38;5;28;01mraise\u001b[39;00m \u001b[38;5;167;01mNotImplementedError\u001b[39;00m(\u001b[38;5;124m\"\u001b[39m\u001b[38;5;124mPassing a \u001b[39m\u001b[38;5;132;01m%r\u001b[39;00m\u001b[38;5;124m to `isin`\u001b[39m\u001b[38;5;124m\"\u001b[39m \u001b[38;5;241m%\u001b[39m typename(\u001b[38;5;28mtype\u001b[39m(values)))\n\u001b[0;32m-> 3370\u001b[0m meta \u001b[38;5;241m=\u001b[39m \u001b[38;5;28;43mself\u001b[39;49m\u001b[38;5;241;43m.\u001b[39;49m\u001b[43m_meta_nonempty\u001b[49m\u001b[38;5;241;43m.\u001b[39;49m\u001b[43misin\u001b[49m\u001b[43m(\u001b[49m\u001b[43mvalues\u001b[49m\u001b[43m)\u001b[49m\n\u001b[1;32m   3371\u001b[0m \u001b[38;5;66;03m# We wrap values in a delayed for two reasons:\u001b[39;00m\n\u001b[1;32m   3372\u001b[0m \u001b[38;5;66;03m# - avoid serializing data in every task\u001b[39;00m\n\u001b[1;32m   3373\u001b[0m \u001b[38;5;66;03m# - avoid cost of traversal of large list in optimizations\u001b[39;00m\n\u001b[1;32m   3374\u001b[0m \u001b[38;5;28;01mif\u001b[39;00m \u001b[38;5;28misinstance\u001b[39m(values, \u001b[38;5;28mlist\u001b[39m):\n\u001b[1;32m   3375\u001b[0m     \u001b[38;5;66;03m# Motivated by https://github.com/dask/dask/issues/9411.  This appears to be\u001b[39;00m\n\u001b[1;32m   3376\u001b[0m     \u001b[38;5;66;03m# caused by https://github.com/dask/distributed/issues/6368, and further\u001b[39;00m\n\u001b[1;32m   3377\u001b[0m     \u001b[38;5;66;03m# exacerbated by the fact that the list contains duplicates.  This is a patch until\u001b[39;00m\n\u001b[1;32m   3378\u001b[0m     \u001b[38;5;66;03m# we can create a better fix for Serialization.\u001b[39;00m\n",
      "File \u001b[0;32m~/.local/lib/python3.10/site-packages/pandas/core/series.py:5563\u001b[0m, in \u001b[0;36mSeries.isin\u001b[0;34m(self, values)\u001b[0m\n\u001b[1;32m   5490\u001b[0m \u001b[38;5;28;01mdef\u001b[39;00m \u001b[38;5;21misin\u001b[39m(\u001b[38;5;28mself\u001b[39m, values) \u001b[38;5;241m-\u001b[39m\u001b[38;5;241m>\u001b[39m Series:\n\u001b[1;32m   5491\u001b[0m     \u001b[38;5;124;03m\"\"\"\u001b[39;00m\n\u001b[1;32m   5492\u001b[0m \u001b[38;5;124;03m    Whether elements in Series are contained in `values`.\u001b[39;00m\n\u001b[1;32m   5493\u001b[0m \n\u001b[0;32m   (...)\u001b[0m\n\u001b[1;32m   5561\u001b[0m \u001b[38;5;124;03m    dtype: bool\u001b[39;00m\n\u001b[1;32m   5562\u001b[0m \u001b[38;5;124;03m    \"\"\"\u001b[39;00m\n\u001b[0;32m-> 5563\u001b[0m     result \u001b[38;5;241m=\u001b[39m \u001b[43malgorithms\u001b[49m\u001b[38;5;241;43m.\u001b[39;49m\u001b[43misin\u001b[49m\u001b[43m(\u001b[49m\u001b[38;5;28;43mself\u001b[39;49m\u001b[38;5;241;43m.\u001b[39;49m\u001b[43m_values\u001b[49m\u001b[43m,\u001b[49m\u001b[43m \u001b[49m\u001b[43mvalues\u001b[49m\u001b[43m)\u001b[49m\n\u001b[1;32m   5564\u001b[0m     \u001b[38;5;28;01mreturn\u001b[39;00m \u001b[38;5;28mself\u001b[39m\u001b[38;5;241m.\u001b[39m_constructor(result, index\u001b[38;5;241m=\u001b[39m\u001b[38;5;28mself\u001b[39m\u001b[38;5;241m.\u001b[39mindex)\u001b[38;5;241m.\u001b[39m__finalize__(\n\u001b[1;32m   5565\u001b[0m         \u001b[38;5;28mself\u001b[39m, method\u001b[38;5;241m=\u001b[39m\u001b[38;5;124m\"\u001b[39m\u001b[38;5;124misin\u001b[39m\u001b[38;5;124m\"\u001b[39m\n\u001b[1;32m   5566\u001b[0m     )\n",
      "File \u001b[0;32m~/.local/lib/python3.10/site-packages/pandas/core/algorithms.py:466\u001b[0m, in \u001b[0;36misin\u001b[0;34m(comps, values)\u001b[0m\n\u001b[1;32m    464\u001b[0m \u001b[38;5;28;01mif\u001b[39;00m \u001b[38;5;129;01mnot\u001b[39;00m \u001b[38;5;28misinstance\u001b[39m(values, (ABCIndex, ABCSeries, ABCExtensionArray, np\u001b[38;5;241m.\u001b[39mndarray)):\n\u001b[1;32m    465\u001b[0m     orig_values \u001b[38;5;241m=\u001b[39m values\n\u001b[0;32m--> 466\u001b[0m     values \u001b[38;5;241m=\u001b[39m _ensure_arraylike(\u001b[38;5;28;43mlist\u001b[39;49m\u001b[43m(\u001b[49m\u001b[43mvalues\u001b[49m\u001b[43m)\u001b[49m)\n\u001b[1;32m    468\u001b[0m     \u001b[38;5;28;01mif\u001b[39;00m is_numeric_dtype(values) \u001b[38;5;129;01mand\u001b[39;00m \u001b[38;5;129;01mnot\u001b[39;00m is_signed_integer_dtype(comps):\n\u001b[1;32m    469\u001b[0m         \u001b[38;5;66;03m# GH#46485 Use object to avoid upcast to float64 later\u001b[39;00m\n\u001b[1;32m    470\u001b[0m         \u001b[38;5;66;03m# TODO: Share with _find_common_type_compat\u001b[39;00m\n\u001b[1;32m    471\u001b[0m         values \u001b[38;5;241m=\u001b[39m construct_1d_object_array_from_listlike(\u001b[38;5;28mlist\u001b[39m(orig_values))\n",
      "File \u001b[0;32m~/.local/lib/python3.10/site-packages/dask/array/core.py:1565\u001b[0m, in \u001b[0;36mArray.__len__\u001b[0;34m(self)\u001b[0m\n\u001b[1;32m   1560\u001b[0m \u001b[38;5;28;01mif\u001b[39;00m np\u001b[38;5;241m.\u001b[39misnan(\u001b[38;5;28mself\u001b[39m\u001b[38;5;241m.\u001b[39mchunks[\u001b[38;5;241m0\u001b[39m])\u001b[38;5;241m.\u001b[39many():\n\u001b[1;32m   1561\u001b[0m     msg \u001b[38;5;241m=\u001b[39m (\n\u001b[1;32m   1562\u001b[0m         \u001b[38;5;124m\"\u001b[39m\u001b[38;5;124mCannot call len() on object with unknown chunk size.\u001b[39m\u001b[38;5;124m\"\u001b[39m\n\u001b[1;32m   1563\u001b[0m         \u001b[38;5;124mf\u001b[39m\u001b[38;5;124m\"\u001b[39m\u001b[38;5;132;01m{\u001b[39;00munknown_chunk_message\u001b[38;5;132;01m}\u001b[39;00m\u001b[38;5;124m\"\u001b[39m\n\u001b[1;32m   1564\u001b[0m     )\n\u001b[0;32m-> 1565\u001b[0m     \u001b[38;5;28;01mraise\u001b[39;00m \u001b[38;5;167;01mValueError\u001b[39;00m(msg)\n\u001b[1;32m   1566\u001b[0m \u001b[38;5;28;01mreturn\u001b[39;00m \u001b[38;5;28mint\u001b[39m(\u001b[38;5;28msum\u001b[39m(\u001b[38;5;28mself\u001b[39m\u001b[38;5;241m.\u001b[39mchunks[\u001b[38;5;241m0\u001b[39m]))\n",
      "\u001b[0;31mValueError\u001b[0m: Cannot call len() on object with unknown chunk size.\n\nA possible solution: https://docs.dask.org/en/latest/array-chunks.html#unknown-chunks\nSummary: to compute chunks sizes, use\n\n   x.compute_chunk_sizes()  # for Dask Array `x`\n   ddf.to_dask_array(lengths=True)  # for Dask DataFrame `ddf`"
     ]
    }
   ],
   "source": [
    "restaurant_review = ddf_rev.loc[ddf_rev[\"business_id\"].isin(restaurant_data[\"business_id\"].values), :]"
   ]
  },
  {
   "cell_type": "code",
   "execution_count": null,
   "id": "38dfb423-da87-40c8-854b-978181a4b35d",
   "metadata": {},
   "outputs": [],
   "source": [
    "for rate in [1, 1.5, 2, 2.5, 3]:\n",
    "    extract_low_rating_restaurants(ddf_rev, rating=rate)"
   ]
  },
  {
   "cell_type": "code",
   "execution_count": null,
   "id": "c2047614-bad0-4dae-9ea0-dcf3cfb4d540",
   "metadata": {},
   "outputs": [],
   "source": [
    "restaurant_data.reset_index()"
   ]
  },
  {
   "cell_type": "code",
   "execution_count": null,
   "id": "8b92337e-6e1d-4ea7-83ee-80acb1fcaea4",
   "metadata": {},
   "outputs": [],
   "source": [
    "join = restaurant_data.merge(ddf_rev, how=\"inner\", on=\"business_id\")"
   ]
  },
  {
   "cell_type": "code",
   "execution_count": null,
   "id": "d3167ffc-c322-4d2e-82c6-685b7bcff50d",
   "metadata": {},
   "outputs": [],
   "source": [
    "join.head()"
   ]
  },
  {
   "cell_type": "code",
   "execution_count": null,
   "id": "d4724ff6-05c5-4c1b-b517-44acd8c42115",
   "metadata": {},
   "outputs": [],
   "source": []
  }
 ],
 "metadata": {
  "kernelspec": {
   "display_name": "conda_env_prj06",
   "language": "python",
   "name": "conda_env_prj06"
  },
  "language_info": {
   "codemirror_mode": {
    "name": "ipython",
    "version": 3
   },
   "file_extension": ".py",
   "mimetype": "text/x-python",
   "name": "python",
   "nbconvert_exporter": "python",
   "pygments_lexer": "ipython3",
   "version": "3.10.6"
  }
 },
 "nbformat": 4,
 "nbformat_minor": 5
}
