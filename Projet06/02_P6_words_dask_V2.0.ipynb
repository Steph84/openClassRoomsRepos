{
 "cells": [
  {
   "cell_type": "markdown",
   "id": "8e5b6371-3623-4b48-86b7-6507b21e67ea",
   "metadata": {
    "jp-MarkdownHeadingCollapsed": true,
    "tags": []
   },
   "source": [
    "### Méthodes"
   ]
  },
  {
   "cell_type": "code",
   "execution_count": 1,
   "id": "d7e53c48-afeb-4ce2-badd-ac65a74a2f16",
   "metadata": {
    "tags": []
   },
   "outputs": [],
   "source": [
    "# pour les pie charts, pour afficher les pourcentages et les libellés uniquement avec le taux > limit_perc%\n",
    "limit_perc = 5\n",
    "def show_perc(pct):\n",
    "    \"\"\" Affiche le pourcentage de chaque portion si la condition est vérifiée \"\"\"\n",
    "    return ('%.1f%%' % pct) if pct > limit_perc else ''\n",
    "\n",
    "def show_labels(data):\n",
    "    list = []\n",
    "    for val, cnt in data.items():\n",
    "        if (cnt*100/np.sum(data)) > limit_perc :\n",
    "            list.append(val)\n",
    "        else:\n",
    "            list.append('')\n",
    "    return list"
   ]
  },
  {
   "cell_type": "code",
   "execution_count": 2,
   "id": "92100510-bf3d-46f9-a829-2c7f37a64553",
   "metadata": {},
   "outputs": [],
   "source": [
    "def show_unique_values(df, col, display_pie=True, silent=False):\n",
    "    \"\"\"\n",
    "    Affiche la liste des valeurs uniques contenues dans une colonne\n",
    "    Affiche le pie chart de ces données également\n",
    "    \"\"\"\n",
    "    temp_val_count = df[col].value_counts(normalize=True)\n",
    "    df_val_count = temp_val_count.rename_axis(col).to_frame(\"%\")\n",
    "    df_val_count[\"%\"] = round(df_val_count[\"%\"]*100, 2)\n",
    "    df_val_count[\"%_cumul\"] = df_val_count[\"%\"].cumsum()\n",
    "    # afficher la majeur partie des catégories\n",
    "    sub_display = df_val_count.loc[df_val_count[\"%_cumul\"] <= 85, :]\n",
    "    \n",
    "    if silent:\n",
    "        return sub_display\n",
    "    \n",
    "    if len(sub_display) < 5:\n",
    "        display(df_val_count.head())\n",
    "    else:\n",
    "        display(sub_display.head(len(sub_display)))\n",
    "        \n",
    "    # pour éviter d'avoir un pie chart illisible\n",
    "    if len(temp_val_count) > 1000:\n",
    "        display_pie = False\n",
    "    if display_pie:\n",
    "        temp_val_count.plot(kind='pie', autopct=show_perc, labels=show_labels(temp_val_count), label='')\n",
    "        plt.axis('equal')\n",
    "        plt.show()\n",
    "    return sub_display"
   ]
  },
  {
   "cell_type": "markdown",
   "id": "a438e206-f859-48a4-976a-43c916c268fd",
   "metadata": {
    "tags": []
   },
   "source": [
    "### Import"
   ]
  },
  {
   "cell_type": "code",
   "execution_count": 3,
   "id": "5175d14f-e7f5-4d2e-bdca-f275671c3f5f",
   "metadata": {},
   "outputs": [],
   "source": [
    "import numpy as np\n",
    "import pandas as pd\n",
    "import matplotlib.pyplot as plt\n",
    "import seaborn as sns\n",
    "import dask\n",
    "from dask import dataframe as dd\n",
    "from dask import array as da\n",
    "from dask import delayed\n",
    "dask.config.set(scheduler='threads')\n",
    "import warnings\n",
    "warnings.filterwarnings('ignore')"
   ]
  },
  {
   "cell_type": "markdown",
   "id": "b3ca9e08-ead2-4e8f-88d8-c34bb34b3e14",
   "metadata": {},
   "source": [
    "# Dataset d'étude"
   ]
  },
  {
   "cell_type": "code",
   "execution_count": 5,
   "id": "bd1d9f12-1478-43b0-bbcf-a07a1c601fef",
   "metadata": {},
   "outputs": [],
   "source": [
    "reviews = dd.read_json(\"yelp_dataset/yelp_academic_dataset_review.json\",lines = True, encoding = 'utf-8', blocksize=\"100MB\")\n",
    "businesses = dd.read_json(\"yelp_dataset/yelp_academic_dataset_business.json\",lines = True, encoding = 'utf-8', blocksize=\"100MB\")"
   ]
  },
  {
   "cell_type": "code",
   "execution_count": 6,
   "id": "1d5e62e0-ce44-49f0-9898-cbb2d9fdadd7",
   "metadata": {},
   "outputs": [
    {
     "data": {
      "text/html": [
       "<div>\n",
       "<style scoped>\n",
       "    .dataframe tbody tr th:only-of-type {\n",
       "        vertical-align: middle;\n",
       "    }\n",
       "\n",
       "    .dataframe tbody tr th {\n",
       "        vertical-align: top;\n",
       "    }\n",
       "\n",
       "    .dataframe thead th {\n",
       "        text-align: right;\n",
       "    }\n",
       "</style>\n",
       "<table border=\"1\" class=\"dataframe\">\n",
       "  <thead>\n",
       "    <tr style=\"text-align: right;\">\n",
       "      <th></th>\n",
       "      <th>review_id</th>\n",
       "      <th>user_id</th>\n",
       "      <th>business_id</th>\n",
       "      <th>stars</th>\n",
       "      <th>useful</th>\n",
       "      <th>funny</th>\n",
       "      <th>cool</th>\n",
       "      <th>text</th>\n",
       "      <th>date</th>\n",
       "    </tr>\n",
       "  </thead>\n",
       "  <tbody>\n",
       "    <tr>\n",
       "      <th>0</th>\n",
       "      <td>KU_O5udG6zpxOg-VcAEodg</td>\n",
       "      <td>mh_-eMZ6K5RLWhZyISBhwA</td>\n",
       "      <td>XQfwVwDr-v0ZS3_CbbE5Xw</td>\n",
       "      <td>3</td>\n",
       "      <td>0</td>\n",
       "      <td>0</td>\n",
       "      <td>0</td>\n",
       "      <td>If you decide to eat here, just be aware it is...</td>\n",
       "      <td>2018-07-07 22:09:11</td>\n",
       "    </tr>\n",
       "    <tr>\n",
       "      <th>1</th>\n",
       "      <td>BiTunyQ73aT9WBnpR9DZGw</td>\n",
       "      <td>OyoGAe7OKpv6SyGZT5g77Q</td>\n",
       "      <td>7ATYjTIgM3jUlt4UM3IypQ</td>\n",
       "      <td>5</td>\n",
       "      <td>1</td>\n",
       "      <td>0</td>\n",
       "      <td>1</td>\n",
       "      <td>I've taken a lot of spin classes over the year...</td>\n",
       "      <td>2012-01-03 15:28:18</td>\n",
       "    </tr>\n",
       "    <tr>\n",
       "      <th>2</th>\n",
       "      <td>saUsX_uimxRlCVr67Z4Jig</td>\n",
       "      <td>8g_iMtfSiwikVnbP2etR0A</td>\n",
       "      <td>YjUWPpI6HXG530lwP-fb2A</td>\n",
       "      <td>3</td>\n",
       "      <td>0</td>\n",
       "      <td>0</td>\n",
       "      <td>0</td>\n",
       "      <td>Family diner. Had the buffet. Eclectic assortm...</td>\n",
       "      <td>2014-02-05 20:30:30</td>\n",
       "    </tr>\n",
       "    <tr>\n",
       "      <th>3</th>\n",
       "      <td>AqPFMleE6RsU23_auESxiA</td>\n",
       "      <td>_7bHUi9Uuf5__HHc_Q8guQ</td>\n",
       "      <td>kxX2SOes4o-D3ZQBkiMRfA</td>\n",
       "      <td>5</td>\n",
       "      <td>1</td>\n",
       "      <td>0</td>\n",
       "      <td>1</td>\n",
       "      <td>Wow!  Yummy, different,  delicious.   Our favo...</td>\n",
       "      <td>2015-01-04 00:01:03</td>\n",
       "    </tr>\n",
       "    <tr>\n",
       "      <th>4</th>\n",
       "      <td>Sx8TMOWLNuJBWer-0pcmoA</td>\n",
       "      <td>bcjbaE6dDog4jkNY91ncLQ</td>\n",
       "      <td>e4Vwtrqf-wpJfwesgvdgxQ</td>\n",
       "      <td>4</td>\n",
       "      <td>1</td>\n",
       "      <td>0</td>\n",
       "      <td>1</td>\n",
       "      <td>Cute interior and owner (?) gave us tour of up...</td>\n",
       "      <td>2017-01-14 20:54:15</td>\n",
       "    </tr>\n",
       "  </tbody>\n",
       "</table>\n",
       "</div>"
      ],
      "text/plain": [
       "                review_id                 user_id             business_id  \\\n",
       "0  KU_O5udG6zpxOg-VcAEodg  mh_-eMZ6K5RLWhZyISBhwA  XQfwVwDr-v0ZS3_CbbE5Xw   \n",
       "1  BiTunyQ73aT9WBnpR9DZGw  OyoGAe7OKpv6SyGZT5g77Q  7ATYjTIgM3jUlt4UM3IypQ   \n",
       "2  saUsX_uimxRlCVr67Z4Jig  8g_iMtfSiwikVnbP2etR0A  YjUWPpI6HXG530lwP-fb2A   \n",
       "3  AqPFMleE6RsU23_auESxiA  _7bHUi9Uuf5__HHc_Q8guQ  kxX2SOes4o-D3ZQBkiMRfA   \n",
       "4  Sx8TMOWLNuJBWer-0pcmoA  bcjbaE6dDog4jkNY91ncLQ  e4Vwtrqf-wpJfwesgvdgxQ   \n",
       "\n",
       "   stars  useful  funny  cool  \\\n",
       "0      3       0      0     0   \n",
       "1      5       1      0     1   \n",
       "2      3       0      0     0   \n",
       "3      5       1      0     1   \n",
       "4      4       1      0     1   \n",
       "\n",
       "                                                text                date  \n",
       "0  If you decide to eat here, just be aware it is... 2018-07-07 22:09:11  \n",
       "1  I've taken a lot of spin classes over the year... 2012-01-03 15:28:18  \n",
       "2  Family diner. Had the buffet. Eclectic assortm... 2014-02-05 20:30:30  \n",
       "3  Wow!  Yummy, different,  delicious.   Our favo... 2015-01-04 00:01:03  \n",
       "4  Cute interior and owner (?) gave us tour of up... 2017-01-14 20:54:15  "
      ]
     },
     "execution_count": 6,
     "metadata": {},
     "output_type": "execute_result"
    }
   ],
   "source": [
    "reviews.head()"
   ]
  },
  {
   "cell_type": "code",
   "execution_count": 7,
   "id": "e312b922-87e9-49a1-b8e2-cb24dc2fb14d",
   "metadata": {
    "tags": []
   },
   "outputs": [
    {
     "data": {
      "text/html": [
       "<div>\n",
       "<style scoped>\n",
       "    .dataframe tbody tr th:only-of-type {\n",
       "        vertical-align: middle;\n",
       "    }\n",
       "\n",
       "    .dataframe tbody tr th {\n",
       "        vertical-align: top;\n",
       "    }\n",
       "\n",
       "    .dataframe thead th {\n",
       "        text-align: right;\n",
       "    }\n",
       "</style>\n",
       "<table border=\"1\" class=\"dataframe\">\n",
       "  <thead>\n",
       "    <tr style=\"text-align: right;\">\n",
       "      <th></th>\n",
       "      <th>business_id</th>\n",
       "      <th>name</th>\n",
       "      <th>address</th>\n",
       "      <th>city</th>\n",
       "      <th>state</th>\n",
       "      <th>postal_code</th>\n",
       "      <th>latitude</th>\n",
       "      <th>longitude</th>\n",
       "      <th>stars</th>\n",
       "      <th>review_count</th>\n",
       "      <th>is_open</th>\n",
       "      <th>attributes</th>\n",
       "      <th>categories</th>\n",
       "      <th>hours</th>\n",
       "    </tr>\n",
       "  </thead>\n",
       "  <tbody>\n",
       "    <tr>\n",
       "      <th>0</th>\n",
       "      <td>Pns2l4eNsfO8kk83dixA6A</td>\n",
       "      <td>Abby Rappoport, LAC, CMQ</td>\n",
       "      <td>1616 Chapala St, Ste 2</td>\n",
       "      <td>Santa Barbara</td>\n",
       "      <td>CA</td>\n",
       "      <td>93101</td>\n",
       "      <td>34.426679</td>\n",
       "      <td>-119.711197</td>\n",
       "      <td>5.0</td>\n",
       "      <td>7</td>\n",
       "      <td>0</td>\n",
       "      <td>{'ByAppointmentOnly': 'True'}</td>\n",
       "      <td>Doctors, Traditional Chinese Medicine, Naturop...</td>\n",
       "      <td>None</td>\n",
       "    </tr>\n",
       "    <tr>\n",
       "      <th>1</th>\n",
       "      <td>mpf3x-BjTdTEA3yCZrAYPw</td>\n",
       "      <td>The UPS Store</td>\n",
       "      <td>87 Grasso Plaza Shopping Center</td>\n",
       "      <td>Affton</td>\n",
       "      <td>MO</td>\n",
       "      <td>63123</td>\n",
       "      <td>38.551126</td>\n",
       "      <td>-90.335695</td>\n",
       "      <td>3.0</td>\n",
       "      <td>15</td>\n",
       "      <td>1</td>\n",
       "      <td>{'BusinessAcceptsCreditCards': 'True'}</td>\n",
       "      <td>Shipping Centers, Local Services, Notaries, Ma...</td>\n",
       "      <td>{'Monday': '0:0-0:0', 'Tuesday': '8:0-18:30', ...</td>\n",
       "    </tr>\n",
       "    <tr>\n",
       "      <th>2</th>\n",
       "      <td>tUFrWirKiKi_TAnsVWINQQ</td>\n",
       "      <td>Target</td>\n",
       "      <td>5255 E Broadway Blvd</td>\n",
       "      <td>Tucson</td>\n",
       "      <td>AZ</td>\n",
       "      <td>85711</td>\n",
       "      <td>32.223236</td>\n",
       "      <td>-110.880452</td>\n",
       "      <td>3.5</td>\n",
       "      <td>22</td>\n",
       "      <td>0</td>\n",
       "      <td>{'BikeParking': 'True', 'BusinessAcceptsCredit...</td>\n",
       "      <td>Department Stores, Shopping, Fashion, Home &amp; G...</td>\n",
       "      <td>{'Monday': '8:0-22:0', 'Tuesday': '8:0-22:0', ...</td>\n",
       "    </tr>\n",
       "    <tr>\n",
       "      <th>3</th>\n",
       "      <td>MTSW4McQd7CbVtyjqoe9mw</td>\n",
       "      <td>St Honore Pastries</td>\n",
       "      <td>935 Race St</td>\n",
       "      <td>Philadelphia</td>\n",
       "      <td>PA</td>\n",
       "      <td>19107</td>\n",
       "      <td>39.955505</td>\n",
       "      <td>-75.155564</td>\n",
       "      <td>4.0</td>\n",
       "      <td>80</td>\n",
       "      <td>1</td>\n",
       "      <td>{'RestaurantsDelivery': 'False', 'OutdoorSeati...</td>\n",
       "      <td>Restaurants, Food, Bubble Tea, Coffee &amp; Tea, B...</td>\n",
       "      <td>{'Monday': '7:0-20:0', 'Tuesday': '7:0-20:0', ...</td>\n",
       "    </tr>\n",
       "    <tr>\n",
       "      <th>4</th>\n",
       "      <td>mWMc6_wTdE0EUBKIGXDVfA</td>\n",
       "      <td>Perkiomen Valley Brewery</td>\n",
       "      <td>101 Walnut St</td>\n",
       "      <td>Green Lane</td>\n",
       "      <td>PA</td>\n",
       "      <td>18054</td>\n",
       "      <td>40.338183</td>\n",
       "      <td>-75.471659</td>\n",
       "      <td>4.5</td>\n",
       "      <td>13</td>\n",
       "      <td>1</td>\n",
       "      <td>{'BusinessAcceptsCreditCards': 'True', 'Wheelc...</td>\n",
       "      <td>Brewpubs, Breweries, Food</td>\n",
       "      <td>{'Wednesday': '14:0-22:0', 'Thursday': '16:0-2...</td>\n",
       "    </tr>\n",
       "  </tbody>\n",
       "</table>\n",
       "</div>"
      ],
      "text/plain": [
       "              business_id                      name  \\\n",
       "0  Pns2l4eNsfO8kk83dixA6A  Abby Rappoport, LAC, CMQ   \n",
       "1  mpf3x-BjTdTEA3yCZrAYPw             The UPS Store   \n",
       "2  tUFrWirKiKi_TAnsVWINQQ                    Target   \n",
       "3  MTSW4McQd7CbVtyjqoe9mw        St Honore Pastries   \n",
       "4  mWMc6_wTdE0EUBKIGXDVfA  Perkiomen Valley Brewery   \n",
       "\n",
       "                           address           city state postal_code  \\\n",
       "0           1616 Chapala St, Ste 2  Santa Barbara    CA       93101   \n",
       "1  87 Grasso Plaza Shopping Center         Affton    MO       63123   \n",
       "2             5255 E Broadway Blvd         Tucson    AZ       85711   \n",
       "3                      935 Race St   Philadelphia    PA       19107   \n",
       "4                    101 Walnut St     Green Lane    PA       18054   \n",
       "\n",
       "    latitude   longitude  stars  review_count  is_open  \\\n",
       "0  34.426679 -119.711197    5.0             7        0   \n",
       "1  38.551126  -90.335695    3.0            15        1   \n",
       "2  32.223236 -110.880452    3.5            22        0   \n",
       "3  39.955505  -75.155564    4.0            80        1   \n",
       "4  40.338183  -75.471659    4.5            13        1   \n",
       "\n",
       "                                          attributes  \\\n",
       "0                      {'ByAppointmentOnly': 'True'}   \n",
       "1             {'BusinessAcceptsCreditCards': 'True'}   \n",
       "2  {'BikeParking': 'True', 'BusinessAcceptsCredit...   \n",
       "3  {'RestaurantsDelivery': 'False', 'OutdoorSeati...   \n",
       "4  {'BusinessAcceptsCreditCards': 'True', 'Wheelc...   \n",
       "\n",
       "                                          categories  \\\n",
       "0  Doctors, Traditional Chinese Medicine, Naturop...   \n",
       "1  Shipping Centers, Local Services, Notaries, Ma...   \n",
       "2  Department Stores, Shopping, Fashion, Home & G...   \n",
       "3  Restaurants, Food, Bubble Tea, Coffee & Tea, B...   \n",
       "4                          Brewpubs, Breweries, Food   \n",
       "\n",
       "                                               hours  \n",
       "0                                               None  \n",
       "1  {'Monday': '0:0-0:0', 'Tuesday': '8:0-18:30', ...  \n",
       "2  {'Monday': '8:0-22:0', 'Tuesday': '8:0-22:0', ...  \n",
       "3  {'Monday': '7:0-20:0', 'Tuesday': '7:0-20:0', ...  \n",
       "4  {'Wednesday': '14:0-22:0', 'Thursday': '16:0-2...  "
      ]
     },
     "execution_count": 7,
     "metadata": {},
     "output_type": "execute_result"
    }
   ],
   "source": [
    "businesses.head()"
   ]
  },
  {
   "cell_type": "code",
   "execution_count": 8,
   "id": "157800ae-ffad-464d-98b8-bdea7da0a801",
   "metadata": {},
   "outputs": [],
   "source": [
    "# on supprime les colonnes non pertinentes\n",
    "businesses = businesses.drop(columns=[\"address\", \"city\", \"state\", \"postal_code\", \"latitude\", \"longitude\", \"attributes\", \"hours\", \"is_open\", \"review_count\", \"stars\"])\n",
    "reviews = reviews.drop(columns=[\"user_id\", \"date\", \"review_id\", \"useful\", \"funny\", \"cool\"])"
   ]
  },
  {
   "cell_type": "code",
   "execution_count": 9,
   "id": "d6773b74-9667-4ae6-bede-227c9186fae0",
   "metadata": {},
   "outputs": [],
   "source": [
    "# on filtre les 2 df selon nos besoins\n",
    "restaurant_data = businesses.loc[(businesses[\"categories\"].notnull()) & (businesses[\"categories\"].str.contains(\"restaurant\", case=False)), :]\n",
    "low_rev_data = reviews.loc[(reviews[\"stars\"].notnull()) & (reviews[\"stars\"] < 3), :]"
   ]
  },
  {
   "cell_type": "code",
   "execution_count": 10,
   "id": "babd7578-f786-4018-a698-698ce15d3b76",
   "metadata": {
    "tags": []
   },
   "outputs": [],
   "source": [
    "# on supprime la colonne qui n'est plus utile\n",
    "restaurant_data = restaurant_data.drop(columns=[\"categories\"])"
   ]
  },
  {
   "cell_type": "code",
   "execution_count": 11,
   "id": "de431283-ad0b-4f19-97d3-20badcc2ccad",
   "metadata": {
    "tags": []
   },
   "outputs": [],
   "source": [
    "restaurant_data = restaurant_data.compute()"
   ]
  },
  {
   "cell_type": "code",
   "execution_count": 12,
   "id": "83b0994b-33a2-4a04-aa69-a2999f7b8373",
   "metadata": {},
   "outputs": [],
   "source": [
    "low_rev_data = low_rev_data.loc[low_rev_data[\"business_id\"].isin(restaurant_data[\"business_id\"]), :]"
   ]
  },
  {
   "cell_type": "code",
   "execution_count": 13,
   "id": "1de18f6c-f546-4d1a-b058-61fb128a7816",
   "metadata": {},
   "outputs": [],
   "source": [
    "low_rev_data = low_rev_data.compute()"
   ]
  },
  {
   "cell_type": "code",
   "execution_count": 14,
   "id": "05f12331-06b7-428e-bec9-1277ed56a745",
   "metadata": {},
   "outputs": [],
   "source": [
    "# merge des 2 df pour avoir uniquement les reviews inf. à 3 des restaurants\n",
    "raw_data = pd.merge(restaurant_data, low_rev_data, on=\"business_id\", how='inner')"
   ]
  },
  {
   "cell_type": "code",
   "execution_count": 15,
   "id": "06214bc0-85ce-4d8d-a4b4-2b65725e9819",
   "metadata": {},
   "outputs": [
    {
     "data": {
      "text/plain": [
       "(971722, 4)"
      ]
     },
     "execution_count": 15,
     "metadata": {},
     "output_type": "execute_result"
    }
   ],
   "source": [
    "raw_data.shape"
   ]
  },
  {
   "cell_type": "code",
   "execution_count": 16,
   "id": "8a01618e-889f-4478-9af3-e5685d999864",
   "metadata": {},
   "outputs": [],
   "source": [
    "# on en prend une fraction pour les performances\n",
    "data_words = raw_data.sample(frac=0.004, random_state=42)"
   ]
  },
  {
   "cell_type": "code",
   "execution_count": 17,
   "id": "ef863675-8df8-475b-bff8-3fea7d96574e",
   "metadata": {},
   "outputs": [
    {
     "data": {
      "text/plain": [
       "(3887, 4)"
      ]
     },
     "execution_count": 17,
     "metadata": {},
     "output_type": "execute_result"
    }
   ],
   "source": [
    "data.shape"
   ]
  },
  {
   "cell_type": "code",
   "execution_count": 18,
   "id": "d4724ff6-05c5-4c1b-b517-44acd8c42115",
   "metadata": {},
   "outputs": [],
   "source": [
    "data.to_csv(\"study_dataset.csv\", sep='\\t', encoding='utf-8')"
   ]
  },
  {
   "cell_type": "code",
   "execution_count": null,
   "id": "9704f749-35ae-4261-9b7b-038014423bca",
   "metadata": {},
   "outputs": [],
   "source": []
  }
 ],
 "metadata": {
  "kernelspec": {
   "display_name": "conda_env_prj06",
   "language": "python",
   "name": "conda_env_prj06"
  },
  "language_info": {
   "codemirror_mode": {
    "name": "ipython",
    "version": 3
   },
   "file_extension": ".py",
   "mimetype": "text/x-python",
   "name": "python",
   "nbconvert_exporter": "python",
   "pygments_lexer": "ipython3",
   "version": "3.10.6"
  }
 },
 "nbformat": 4,
 "nbformat_minor": 5
}
