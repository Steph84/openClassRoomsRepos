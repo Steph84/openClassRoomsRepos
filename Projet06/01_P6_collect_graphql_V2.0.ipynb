{
 "cells": [
  {
   "cell_type": "markdown",
   "id": "05938965-96eb-4424-a076-eac370b7b275",
   "metadata": {},
   "source": [
    "# Collecte des données via l'API"
   ]
  },
  {
   "cell_type": "code",
   "execution_count": 1,
   "id": "5b1e402d-52dd-41e5-b918-e3e46f531bf7",
   "metadata": {},
   "outputs": [],
   "source": [
    "import pandas as pd\n",
    "import requests\n",
    "import warnings\n",
    "warnings.filterwarnings('ignore')"
   ]
  },
  {
   "cell_type": "code",
   "execution_count": 2,
   "id": "2450510f-470d-4632-8e3c-da60ba4782d2",
   "metadata": {},
   "outputs": [],
   "source": [
    "# clé de l'API\n",
    "API_KEY = 'FuGSHa-GIePXqLpg_xrJwhz_DPy7g9sCRm_HAmvUix8ohqLeof8Dy4l4tD3m_pqzsh8tPhjMogzvAwchwxt2Qwr88jh0PRf7O4kwQqzHO8HcNEQyotUad2bM5ONhZHYx'"
   ]
  },
  {
   "cell_type": "code",
   "execution_count": 3,
   "id": "ce48a13a-6f6b-4532-a9ca-867c8d36d065",
   "metadata": {},
   "outputs": [],
   "source": [
    "# Yelp's GraphQL endpoint\n",
    "url = \"https://api.yelp.com/v3/graphql\"\n",
    "\n",
    "headers = {\n",
    "    \"Authorization\": f\"Bearer {API_KEY}\",\n",
    "    \"Content-Type\": \"application/graphql\",\n",
    "}"
   ]
  },
  {
   "cell_type": "code",
   "execution_count": 4,
   "id": "1d10a472-d638-4080-97a9-8e992e9e3202",
   "metadata": {},
   "outputs": [],
   "source": [
    "businesses = pd.DataFrame(columns=[\"id\", \"name\", \"review_count\", \"rating\", \"reviews\"])"
   ]
  },
  {
   "cell_type": "code",
   "execution_count": 5,
   "id": "9dd3ace3-d201-46b4-9204-6405ddc822f9",
   "metadata": {},
   "outputs": [],
   "source": [
    "count = 200\n",
    "limit = 50\n",
    "for offset in range(0, count, limit):\n",
    "    query = f'{{\\n\\\n",
    "        search(\\\n",
    "            categories: \"restaurants\", \\\n",
    "            location: \"US\", \\\n",
    "            offset: {offset}, \\\n",
    "            limit: {limit}\\\n",
    "        ) {{\\n\\\n",
    "            business {{\\n\\\n",
    "                id\\n\\\n",
    "                name\\n\\\n",
    "                review_count\\n\\\n",
    "                rating\\n\\\n",
    "                reviews {{\\n\\\n",
    "                    text\\n\\\n",
    "                    rating\\n\\\n",
    "                }}\\n\\\n",
    "            }}\\n\\\n",
    "        }}\\n\\\n",
    "    }}'\n",
    "    response = requests.post(url, headers=headers, data=query)\n",
    "    data = response.json()\n",
    "    for business in data.get(\"data\", {}).get(\"search\", {}).get(\"business\", []):\n",
    "        businesses = businesses.append(\n",
    "            {\n",
    "                \"id\": business.get(\"id\"),\n",
    "                \"name\": business.get(\"name\"),\n",
    "                \"review_count\": business.get(\"review_count\"),\n",
    "                \"rating\": business.get(\"rating\"),\n",
    "                \"reviews\": business.get(\"reviews\")\n",
    "            }, ignore_index=True)"
   ]
  },
  {
   "cell_type": "code",
   "execution_count": 6,
   "id": "ecb5ef63-2920-435e-b1bc-244fce744b8e",
   "metadata": {},
   "outputs": [
    {
     "data": {
      "text/plain": [
       "(200, 5)"
      ]
     },
     "execution_count": 6,
     "metadata": {},
     "output_type": "execute_result"
    }
   ],
   "source": [
    "businesses.shape"
   ]
  },
  {
   "cell_type": "code",
   "execution_count": 8,
   "id": "fec4319b-ca6f-42c4-bf16-cb3883aeed57",
   "metadata": {},
   "outputs": [],
   "source": [
    "# query = \"\"\"{\n",
    "#   search(categories: \"restaurants\", location: \"US\", offset: 50, limit: 50) {\n",
    "#     business {\n",
    "#       id\n",
    "#       name\n",
    "#       review_count\n",
    "#       rating\n",
    "#       reviews(filter: { rating: { in: \"[1,2]\" } }) {\n",
    "#         text\n",
    "#         rating\n",
    "#       }\n",
    "#     }\n",
    "#   }\n",
    "# }\"\"\""
   ]
  },
  {
   "cell_type": "code",
   "execution_count": 9,
   "id": "38909905-0038-4c7a-b90a-2bc2fdba94c8",
   "metadata": {},
   "outputs": [
    {
     "data": {
      "text/html": [
       "<div>\n",
       "<style scoped>\n",
       "    .dataframe tbody tr th:only-of-type {\n",
       "        vertical-align: middle;\n",
       "    }\n",
       "\n",
       "    .dataframe tbody tr th {\n",
       "        vertical-align: top;\n",
       "    }\n",
       "\n",
       "    .dataframe thead th {\n",
       "        text-align: right;\n",
       "    }\n",
       "</style>\n",
       "<table border=\"1\" class=\"dataframe\">\n",
       "  <thead>\n",
       "    <tr style=\"text-align: right;\">\n",
       "      <th></th>\n",
       "      <th>id</th>\n",
       "      <th>name</th>\n",
       "      <th>review_count</th>\n",
       "      <th>rating</th>\n",
       "      <th>reviews</th>\n",
       "    </tr>\n",
       "  </thead>\n",
       "  <tbody>\n",
       "    <tr>\n",
       "      <th>0</th>\n",
       "      <td>f-m7-hyFzkf0HSEeQ2s-9A</td>\n",
       "      <td>Fog Harbor Fish House</td>\n",
       "      <td>9276</td>\n",
       "      <td>4.5</td>\n",
       "      <td>[{'text': 'It was a wonderful experience. Oyst...</td>\n",
       "    </tr>\n",
       "    <tr>\n",
       "      <th>1</th>\n",
       "      <td>oT08T3Vpn1I7jDmrBBRMTw</td>\n",
       "      <td>House of Prime Rib</td>\n",
       "      <td>8536</td>\n",
       "      <td>4.0</td>\n",
       "      <td>[{'text': 'Haven't been to the House of Prime ...</td>\n",
       "    </tr>\n",
       "    <tr>\n",
       "      <th>2</th>\n",
       "      <td>n6L5VIGunR51-D55C-eYeQ</td>\n",
       "      <td>Foreign Cinema</td>\n",
       "      <td>5377</td>\n",
       "      <td>4.0</td>\n",
       "      <td>[{'text': 'We had an amazing meal! We came wit...</td>\n",
       "    </tr>\n",
       "    <tr>\n",
       "      <th>3</th>\n",
       "      <td>WavvLdfdP6g8aZTtbBQHTw</td>\n",
       "      <td>Gary Danko</td>\n",
       "      <td>5853</td>\n",
       "      <td>4.5</td>\n",
       "      <td>[{'text': 'I've been coming to Gary Danko sinc...</td>\n",
       "    </tr>\n",
       "    <tr>\n",
       "      <th>4</th>\n",
       "      <td>KkAVX3Wb7E3lP5F_f_8pXg</td>\n",
       "      <td>Liholiho Yacht Club</td>\n",
       "      <td>2627</td>\n",
       "      <td>4.5</td>\n",
       "      <td>[{'text': 'AMAZING food. We were served by Cha...</td>\n",
       "    </tr>\n",
       "  </tbody>\n",
       "</table>\n",
       "</div>"
      ],
      "text/plain": [
       "                       id                   name review_count  rating  \\\n",
       "0  f-m7-hyFzkf0HSEeQ2s-9A  Fog Harbor Fish House         9276     4.5   \n",
       "1  oT08T3Vpn1I7jDmrBBRMTw     House of Prime Rib         8536     4.0   \n",
       "2  n6L5VIGunR51-D55C-eYeQ         Foreign Cinema         5377     4.0   \n",
       "3  WavvLdfdP6g8aZTtbBQHTw             Gary Danko         5853     4.5   \n",
       "4  KkAVX3Wb7E3lP5F_f_8pXg    Liholiho Yacht Club         2627     4.5   \n",
       "\n",
       "                                             reviews  \n",
       "0  [{'text': 'It was a wonderful experience. Oyst...  \n",
       "1  [{'text': 'Haven't been to the House of Prime ...  \n",
       "2  [{'text': 'We had an amazing meal! We came wit...  \n",
       "3  [{'text': 'I've been coming to Gary Danko sinc...  \n",
       "4  [{'text': 'AMAZING food. We were served by Cha...  "
      ]
     },
     "execution_count": 9,
     "metadata": {},
     "output_type": "execute_result"
    }
   ],
   "source": [
    "businesses.head()"
   ]
  },
  {
   "cell_type": "code",
   "execution_count": 10,
   "id": "4851ccf1-4a2d-4cfa-9331-ebba548094d6",
   "metadata": {},
   "outputs": [
    {
     "data": {
      "text/html": [
       "<div>\n",
       "<style scoped>\n",
       "    .dataframe tbody tr th:only-of-type {\n",
       "        vertical-align: middle;\n",
       "    }\n",
       "\n",
       "    .dataframe tbody tr th {\n",
       "        vertical-align: top;\n",
       "    }\n",
       "\n",
       "    .dataframe thead th {\n",
       "        text-align: right;\n",
       "    }\n",
       "</style>\n",
       "<table border=\"1\" class=\"dataframe\">\n",
       "  <thead>\n",
       "    <tr style=\"text-align: right;\">\n",
       "      <th></th>\n",
       "      <th>rating</th>\n",
       "    </tr>\n",
       "  </thead>\n",
       "  <tbody>\n",
       "    <tr>\n",
       "      <th>count</th>\n",
       "      <td>200.00000</td>\n",
       "    </tr>\n",
       "    <tr>\n",
       "      <th>mean</th>\n",
       "      <td>4.22750</td>\n",
       "    </tr>\n",
       "    <tr>\n",
       "      <th>std</th>\n",
       "      <td>0.27362</td>\n",
       "    </tr>\n",
       "    <tr>\n",
       "      <th>min</th>\n",
       "      <td>3.50000</td>\n",
       "    </tr>\n",
       "    <tr>\n",
       "      <th>25%</th>\n",
       "      <td>4.00000</td>\n",
       "    </tr>\n",
       "    <tr>\n",
       "      <th>50%</th>\n",
       "      <td>4.00000</td>\n",
       "    </tr>\n",
       "    <tr>\n",
       "      <th>75%</th>\n",
       "      <td>4.50000</td>\n",
       "    </tr>\n",
       "    <tr>\n",
       "      <th>max</th>\n",
       "      <td>5.00000</td>\n",
       "    </tr>\n",
       "  </tbody>\n",
       "</table>\n",
       "</div>"
      ],
      "text/plain": [
       "          rating\n",
       "count  200.00000\n",
       "mean     4.22750\n",
       "std      0.27362\n",
       "min      3.50000\n",
       "25%      4.00000\n",
       "50%      4.00000\n",
       "75%      4.50000\n",
       "max      5.00000"
      ]
     },
     "execution_count": 10,
     "metadata": {},
     "output_type": "execute_result"
    }
   ],
   "source": [
    "businesses.describe()"
   ]
  },
  {
   "cell_type": "code",
   "execution_count": 11,
   "id": "fb751edd-ed96-4deb-81bc-bab7e15b2065",
   "metadata": {},
   "outputs": [
    {
     "data": {
      "text/plain": [
       "0      [{'text': 'It was a wonderful experience. Oyst...\n",
       "1      [{'text': 'Haven't been to the House of Prime ...\n",
       "2      [{'text': 'We had an amazing meal! We came wit...\n",
       "3      [{'text': 'I've been coming to Gary Danko sinc...\n",
       "4      [{'text': 'AMAZING food. We were served by Cha...\n",
       "                             ...                        \n",
       "195    [{'text': 'Everything, great food, adorable pl...\n",
       "196    [{'text': 'Popular and delicious Mexican resta...\n",
       "197    [{'text': 'I'm the type of person who frequent...\n",
       "198    [{'text': 'Let me start by saying, this was on...\n",
       "199    [{'text': 'Not going to lie. If anyone were to...\n",
       "Name: reviews, Length: 200, dtype: object"
      ]
     },
     "execution_count": 11,
     "metadata": {},
     "output_type": "execute_result"
    }
   ],
   "source": [
    "businesses[\"reviews\"]"
   ]
  },
  {
   "cell_type": "code",
   "execution_count": 12,
   "id": "66c2e38a-e7a5-4b79-9338-a8db9fb3d2ae",
   "metadata": {},
   "outputs": [],
   "source": [
    "businesses.to_csv(\"business_dataset.csv\", sep='\\t', encoding='utf-8')"
   ]
  }
 ],
 "metadata": {
  "kernelspec": {
   "display_name": "conda_env_prj06",
   "language": "python",
   "name": "conda_env_prj06"
  },
  "language_info": {
   "codemirror_mode": {
    "name": "ipython",
    "version": 3
   },
   "file_extension": ".py",
   "mimetype": "text/x-python",
   "name": "python",
   "nbconvert_exporter": "python",
   "pygments_lexer": "ipython3",
   "version": "3.10.6"
  }
 },
 "nbformat": 4,
 "nbformat_minor": 5
}
