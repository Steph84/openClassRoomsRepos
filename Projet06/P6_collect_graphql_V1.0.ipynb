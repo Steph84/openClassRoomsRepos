{
 "cells": [
  {
   "cell_type": "code",
   "execution_count": 1,
   "id": "7ac116c8-bce7-4c5d-9b60-d9df8a65d320",
   "metadata": {},
   "outputs": [],
   "source": [
    "API_KEY = 'FuGSHa-GIePXqLpg_xrJwhz_DPy7g9sCRm_HAmvUix8ohqLeof8Dy4l4tD3m_pqzsh8tPhjMogzvAwchwxt2Qwr88jh0PRf7O4kwQqzHO8HcNEQyotUad2bM5ONhZHYx'"
   ]
  },
  {
   "cell_type": "code",
   "execution_count": 2,
   "id": "5b1e402d-52dd-41e5-b918-e3e46f531bf7",
   "metadata": {},
   "outputs": [],
   "source": [
    "import pandas as pd\n",
    "import requests"
   ]
  },
  {
   "cell_type": "code",
   "execution_count": 3,
   "id": "ce48a13a-6f6b-4532-a9ca-867c8d36d065",
   "metadata": {},
   "outputs": [],
   "source": [
    "# Yelp's GraphQL endpoint\n",
    "url = \"https://api.yelp.com/v3/graphql\"\n",
    "# Request headers\n",
    "headers = {\n",
    "    \"Authorization\": f\"Bearer {API_KEY}\",\n",
    "    \"Content-Type\": \"application/graphql\",\n",
    "}"
   ]
  },
  {
   "cell_type": "code",
   "execution_count": 4,
   "id": "17f26b0f-e06c-4f14-b966-e44d2600e3d3",
   "metadata": {},
   "outputs": [],
   "source": [
    "query = f'{{\\n\\\n",
    "        search(\\\n",
    "            categories: \"restaurants\", \\\n",
    "            location: \"US\", \\\n",
    "            offset: 50, \\\n",
    "            limit:  50\\\n",
    "        ) {{\\n\\\n",
    "            business {{\\n\\\n",
    "                id\\n\\\n",
    "                name\\n\\\n",
    "                review_count\\n\\\n",
    "                rating\\n\\\n",
    "                reviews {{\\n\\\n",
    "                    text\\n\\\n",
    "                    rating\\n\\\n",
    "                }}\\n\\\n",
    "            }}\\n\\\n",
    "        }}\\n\\\n",
    "    }}'"
   ]
  },
  {
   "cell_type": "code",
   "execution_count": 5,
   "id": "92155616-df25-4fdb-8be0-5dad36e7c2a2",
   "metadata": {
    "tags": []
   },
   "outputs": [],
   "source": [
    "response = requests.post(url, headers=headers, data=query)\n",
    "data = response.json()"
   ]
  },
  {
   "cell_type": "code",
   "execution_count": 7,
   "id": "5fdc026f-b128-41c1-b86f-b98a2dbfdfa8",
   "metadata": {
    "tags": []
   },
   "outputs": [],
   "source": [
    "business_data = pd.DataFrame(data[\"data\"][\"search\"]['business'])"
   ]
  },
  {
   "cell_type": "code",
   "execution_count": 8,
   "id": "38909905-0038-4c7a-b90a-2bc2fdba94c8",
   "metadata": {},
   "outputs": [
    {
     "data": {
      "text/html": [
       "<div>\n",
       "<style scoped>\n",
       "    .dataframe tbody tr th:only-of-type {\n",
       "        vertical-align: middle;\n",
       "    }\n",
       "\n",
       "    .dataframe tbody tr th {\n",
       "        vertical-align: top;\n",
       "    }\n",
       "\n",
       "    .dataframe thead th {\n",
       "        text-align: right;\n",
       "    }\n",
       "</style>\n",
       "<table border=\"1\" class=\"dataframe\">\n",
       "  <thead>\n",
       "    <tr style=\"text-align: right;\">\n",
       "      <th></th>\n",
       "      <th>id</th>\n",
       "      <th>name</th>\n",
       "      <th>review_count</th>\n",
       "      <th>rating</th>\n",
       "      <th>reviews</th>\n",
       "    </tr>\n",
       "  </thead>\n",
       "  <tbody>\n",
       "    <tr>\n",
       "      <th>0</th>\n",
       "      <td>PsY5DMHxa5iNX_nX0T-qPA</td>\n",
       "      <td>Kokkari Estiatorio</td>\n",
       "      <td>5083</td>\n",
       "      <td>4.5</td>\n",
       "      <td>[{'text': 'If you want to feel like you've ins...</td>\n",
       "    </tr>\n",
       "    <tr>\n",
       "      <th>1</th>\n",
       "      <td>5PGFsnFhDlpYVDI3TRNH6w</td>\n",
       "      <td>Dancing Yak</td>\n",
       "      <td>740</td>\n",
       "      <td>4.5</td>\n",
       "      <td>[{'text': 'Wow that was HOT! Food was deliciou...</td>\n",
       "    </tr>\n",
       "    <tr>\n",
       "      <th>2</th>\n",
       "      <td>XR4giIOCQ5D-mxtOPUUY_Q</td>\n",
       "      <td>Palette Tea House</td>\n",
       "      <td>1466</td>\n",
       "      <td>4.0</td>\n",
       "      <td>[{'text': 'Good quality of Chinese food and th...</td>\n",
       "    </tr>\n",
       "    <tr>\n",
       "      <th>3</th>\n",
       "      <td>_D1Ev_zTZs5ijHkleK6C2w</td>\n",
       "      <td>Hillstone</td>\n",
       "      <td>2454</td>\n",
       "      <td>4.0</td>\n",
       "      <td>[{'text': 'Classic waterfront dining doesn't g...</td>\n",
       "    </tr>\n",
       "    <tr>\n",
       "      <th>4</th>\n",
       "      <td>kWrVV4mS-SLy-Ph_DeJSAg</td>\n",
       "      <td>Crab House at Pier 39</td>\n",
       "      <td>2915</td>\n",
       "      <td>4.0</td>\n",
       "      <td>[{'text': 'I had an amazing time with my famil...</td>\n",
       "    </tr>\n",
       "  </tbody>\n",
       "</table>\n",
       "</div>"
      ],
      "text/plain": [
       "                       id                   name  review_count  rating  \\\n",
       "0  PsY5DMHxa5iNX_nX0T-qPA     Kokkari Estiatorio          5083     4.5   \n",
       "1  5PGFsnFhDlpYVDI3TRNH6w            Dancing Yak           740     4.5   \n",
       "2  XR4giIOCQ5D-mxtOPUUY_Q      Palette Tea House          1466     4.0   \n",
       "3  _D1Ev_zTZs5ijHkleK6C2w              Hillstone          2454     4.0   \n",
       "4  kWrVV4mS-SLy-Ph_DeJSAg  Crab House at Pier 39          2915     4.0   \n",
       "\n",
       "                                             reviews  \n",
       "0  [{'text': 'If you want to feel like you've ins...  \n",
       "1  [{'text': 'Wow that was HOT! Food was deliciou...  \n",
       "2  [{'text': 'Good quality of Chinese food and th...  \n",
       "3  [{'text': 'Classic waterfront dining doesn't g...  \n",
       "4  [{'text': 'I had an amazing time with my famil...  "
      ]
     },
     "execution_count": 8,
     "metadata": {},
     "output_type": "execute_result"
    }
   ],
   "source": [
    "business_data.head()"
   ]
  },
  {
   "cell_type": "code",
   "execution_count": 9,
   "id": "4851ccf1-4a2d-4cfa-9331-ebba548094d6",
   "metadata": {},
   "outputs": [
    {
     "data": {
      "text/html": [
       "<div>\n",
       "<style scoped>\n",
       "    .dataframe tbody tr th:only-of-type {\n",
       "        vertical-align: middle;\n",
       "    }\n",
       "\n",
       "    .dataframe tbody tr th {\n",
       "        vertical-align: top;\n",
       "    }\n",
       "\n",
       "    .dataframe thead th {\n",
       "        text-align: right;\n",
       "    }\n",
       "</style>\n",
       "<table border=\"1\" class=\"dataframe\">\n",
       "  <thead>\n",
       "    <tr style=\"text-align: right;\">\n",
       "      <th></th>\n",
       "      <th>review_count</th>\n",
       "      <th>rating</th>\n",
       "    </tr>\n",
       "  </thead>\n",
       "  <tbody>\n",
       "    <tr>\n",
       "      <th>count</th>\n",
       "      <td>50.000000</td>\n",
       "      <td>50.000000</td>\n",
       "    </tr>\n",
       "    <tr>\n",
       "      <th>mean</th>\n",
       "      <td>1706.880000</td>\n",
       "      <td>4.220000</td>\n",
       "    </tr>\n",
       "    <tr>\n",
       "      <th>std</th>\n",
       "      <td>1382.522135</td>\n",
       "      <td>0.250713</td>\n",
       "    </tr>\n",
       "    <tr>\n",
       "      <th>min</th>\n",
       "      <td>186.000000</td>\n",
       "      <td>4.000000</td>\n",
       "    </tr>\n",
       "    <tr>\n",
       "      <th>25%</th>\n",
       "      <td>719.750000</td>\n",
       "      <td>4.000000</td>\n",
       "    </tr>\n",
       "    <tr>\n",
       "      <th>50%</th>\n",
       "      <td>1491.500000</td>\n",
       "      <td>4.000000</td>\n",
       "    </tr>\n",
       "    <tr>\n",
       "      <th>75%</th>\n",
       "      <td>2232.000000</td>\n",
       "      <td>4.500000</td>\n",
       "    </tr>\n",
       "    <tr>\n",
       "      <th>max</th>\n",
       "      <td>7452.000000</td>\n",
       "      <td>4.500000</td>\n",
       "    </tr>\n",
       "  </tbody>\n",
       "</table>\n",
       "</div>"
      ],
      "text/plain": [
       "       review_count     rating\n",
       "count     50.000000  50.000000\n",
       "mean    1706.880000   4.220000\n",
       "std     1382.522135   0.250713\n",
       "min      186.000000   4.000000\n",
       "25%      719.750000   4.000000\n",
       "50%     1491.500000   4.000000\n",
       "75%     2232.000000   4.500000\n",
       "max     7452.000000   4.500000"
      ]
     },
     "execution_count": 9,
     "metadata": {},
     "output_type": "execute_result"
    }
   ],
   "source": [
    "business_data.describe()"
   ]
  },
  {
   "cell_type": "code",
   "execution_count": 10,
   "id": "fb751edd-ed96-4deb-81bc-bab7e15b2065",
   "metadata": {},
   "outputs": [
    {
     "data": {
      "text/plain": [
       "0     [{'text': 'If you want to feel like you've ins...\n",
       "1     [{'text': 'Wow that was HOT! Food was deliciou...\n",
       "2     [{'text': 'Good quality of Chinese food and th...\n",
       "3     [{'text': 'Classic waterfront dining doesn't g...\n",
       "4     [{'text': 'I had an amazing time with my famil...\n",
       "5     [{'text': 'A friend recommended that I hold a ...\n",
       "6     [{'text': 'Trestle is a cozy little bistro ser...\n",
       "7     [{'text': 'I came here twice recently with a p...\n",
       "8     [{'text': 'What a great experience it is to di...\n",
       "9     [{'text': 'Nice dining environment and great s...\n",
       "10    [{'text': 'Decided to give this place a try af...\n",
       "11    [{'text': 'Really good ramen. There's a little...\n",
       "12    [{'text': 'Food, service and ambiance were all...\n",
       "13    [{'text': '* A magical, artistic presentation ...\n",
       "14    [{'text': 'Aesthetic: I loved the skylight ins...\n",
       "15    [{'text': 'Tacorea never disappoints. Kimchi b...\n",
       "16    [{'text': 'Definitely a more high end place wi...\n",
       "17    [{'text': 'visited Limon recently for the firs...\n",
       "18    [{'text': 'I booked a table for two yesterday ...\n",
       "19    [{'text': 'Chef Val and Carolyn Cantu have wor...\n",
       "20    [{'text': 'Great staff members and food is ama...\n",
       "21    [{'text': 'Did you know this place had been in...\n",
       "22    [{'text': 'You walk in through the door, and y...\n",
       "23    [{'text': 'This is my first time visiting Dump...\n",
       "24    [{'text': 'First time here. Was walking to fin...\n",
       "25    [{'text': 'I am a long repeat customer (~2 yea...\n",
       "26    [{'text': 'A hidden gem in the city, this rest...\n",
       "27    [{'text': 'I came on a Sunday night around 8:3...\n",
       "28    [{'text': 'With such limited space in San Fran...\n",
       "29    [{'text': 'First time here and was excited to ...\n",
       "30    [{'text': 'incredible spot where some imaginat...\n",
       "31    [{'text': 'Arroz con Mariscos was delicious an...\n",
       "32    [{'text': 'Reserved online for 2 and came here...\n",
       "33    [{'text': 'Getting a next-day reservation at E...\n",
       "34    [{'text': 'Is not fine dining, is not a steal ...\n",
       "35    [{'text': 'Made dinner reservations for 8 and ...\n",
       "36    [{'text': 'Located on a busy street with stree...\n",
       "37    [{'text': 'Came back here a couple months late...\n",
       "38    [{'text': 'I gotta give Santeria another 5 sta...\n",
       "39    [{'text': 'This was my first omakase experienc...\n",
       "40    [{'text': 'Wednesdays have an amazing combo de...\n",
       "41    [{'text': 'This place is amazing \n",
       "Love the vib...\n",
       "42    [{'text': 'Food    - *****\n",
       "Service - *****+\n",
       "Am...\n",
       "43    [{'text': 'Food was really delicious.  Loved t...\n",
       "44    [{'text': 'Delicious food and excellent servic...\n",
       "45    [{'text': 'OH. MY. GOD. Can I just say... best...\n",
       "46    [{'text': 'Go! If you're wondering, do it!\n",
       "\n",
       "Pa...\n",
       "47    [{'text': 'Ambiance: they're always packed and...\n",
       "48    [{'text': 'A quick good good culture club revi...\n",
       "49    [{'text': 'Good service, good sushi, good ambi...\n",
       "Name: reviews, dtype: object"
      ]
     },
     "execution_count": 10,
     "metadata": {},
     "output_type": "execute_result"
    }
   ],
   "source": [
    "business_data[\"reviews\"]"
   ]
  },
  {
   "cell_type": "code",
   "execution_count": null,
   "id": "c443a63e-302f-4bf7-af50-c732fb32d74b",
   "metadata": {},
   "outputs": [],
   "source": []
  }
 ],
 "metadata": {
  "kernelspec": {
   "display_name": "conda_env_prj06",
   "language": "python",
   "name": "conda_env_prj06"
  },
  "language_info": {
   "codemirror_mode": {
    "name": "ipython",
    "version": 3
   },
   "file_extension": ".py",
   "mimetype": "text/x-python",
   "name": "python",
   "nbconvert_exporter": "python",
   "pygments_lexer": "ipython3",
   "version": "3.10.6"
  }
 },
 "nbformat": 4,
 "nbformat_minor": 5
}
