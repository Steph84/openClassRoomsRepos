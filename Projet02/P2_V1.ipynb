{
 "cells": [
  {
   "cell_type": "markdown",
   "id": "42ece5fc",
   "metadata": {},
   "source": [
    "## <a name=\"pres\">Présentation</a>"
   ]
  },
  {
   "cell_type": "code",
   "execution_count": 1,
   "id": "04a19d18",
   "metadata": {},
   "outputs": [],
   "source": [
    "# import des bibliothèques\n",
    "import pandas as pd\n",
    "import numpy as np\n",
    "import matplotlib.pyplot as plt\n",
    "import math\n",
    "import scipy.stats as st"
   ]
  },
  {
   "cell_type": "code",
   "execution_count": 2,
   "id": "e8154429",
   "metadata": {
    "scrolled": false
   },
   "outputs": [
    {
     "data": {
      "text/html": [
       "<div>\n",
       "<style scoped>\n",
       "    .dataframe tbody tr th:only-of-type {\n",
       "        vertical-align: middle;\n",
       "    }\n",
       "\n",
       "    .dataframe tbody tr th {\n",
       "        vertical-align: top;\n",
       "    }\n",
       "\n",
       "    .dataframe thead th {\n",
       "        text-align: right;\n",
       "    }\n",
       "</style>\n",
       "<table border=\"1\" class=\"dataframe\">\n",
       "  <thead>\n",
       "    <tr style=\"text-align: right;\">\n",
       "      <th></th>\n",
       "      <th>id</th>\n",
       "      <th>type_emplacement</th>\n",
       "      <th>domanialite</th>\n",
       "      <th>arrondissement</th>\n",
       "      <th>complement_addresse</th>\n",
       "      <th>numero</th>\n",
       "      <th>lieu</th>\n",
       "      <th>id_emplacement</th>\n",
       "      <th>libelle_francais</th>\n",
       "      <th>genre</th>\n",
       "      <th>espece</th>\n",
       "      <th>variete</th>\n",
       "      <th>circonference_cm</th>\n",
       "      <th>hauteur_m</th>\n",
       "      <th>stade_developpement</th>\n",
       "      <th>remarquable</th>\n",
       "      <th>geo_point_2d_a</th>\n",
       "      <th>geo_point_2d_b</th>\n",
       "    </tr>\n",
       "  </thead>\n",
       "  <tbody>\n",
       "    <tr>\n",
       "      <th>0</th>\n",
       "      <td>99874</td>\n",
       "      <td>Arbre</td>\n",
       "      <td>Jardin</td>\n",
       "      <td>PARIS 7E ARRDT</td>\n",
       "      <td>NaN</td>\n",
       "      <td>NaN</td>\n",
       "      <td>MAIRIE DU 7E 116 RUE DE GRENELLE PARIS 7E</td>\n",
       "      <td>19</td>\n",
       "      <td>Marronnier</td>\n",
       "      <td>Aesculus</td>\n",
       "      <td>hippocastanum</td>\n",
       "      <td>NaN</td>\n",
       "      <td>20</td>\n",
       "      <td>5</td>\n",
       "      <td>NaN</td>\n",
       "      <td>0.0</td>\n",
       "      <td>48.857620</td>\n",
       "      <td>2.320962</td>\n",
       "    </tr>\n",
       "    <tr>\n",
       "      <th>1</th>\n",
       "      <td>99875</td>\n",
       "      <td>Arbre</td>\n",
       "      <td>Jardin</td>\n",
       "      <td>PARIS 7E ARRDT</td>\n",
       "      <td>NaN</td>\n",
       "      <td>NaN</td>\n",
       "      <td>MAIRIE DU 7E 116 RUE DE GRENELLE PARIS 7E</td>\n",
       "      <td>20</td>\n",
       "      <td>If</td>\n",
       "      <td>Taxus</td>\n",
       "      <td>baccata</td>\n",
       "      <td>NaN</td>\n",
       "      <td>65</td>\n",
       "      <td>8</td>\n",
       "      <td>A</td>\n",
       "      <td>NaN</td>\n",
       "      <td>48.857656</td>\n",
       "      <td>2.321031</td>\n",
       "    </tr>\n",
       "    <tr>\n",
       "      <th>2</th>\n",
       "      <td>99876</td>\n",
       "      <td>Arbre</td>\n",
       "      <td>Jardin</td>\n",
       "      <td>PARIS 7E ARRDT</td>\n",
       "      <td>NaN</td>\n",
       "      <td>NaN</td>\n",
       "      <td>MAIRIE DU 7E 116 RUE DE GRENELLE PARIS 7E</td>\n",
       "      <td>21</td>\n",
       "      <td>If</td>\n",
       "      <td>Taxus</td>\n",
       "      <td>baccata</td>\n",
       "      <td>NaN</td>\n",
       "      <td>90</td>\n",
       "      <td>10</td>\n",
       "      <td>A</td>\n",
       "      <td>NaN</td>\n",
       "      <td>48.857705</td>\n",
       "      <td>2.321061</td>\n",
       "    </tr>\n",
       "    <tr>\n",
       "      <th>3</th>\n",
       "      <td>99877</td>\n",
       "      <td>Arbre</td>\n",
       "      <td>Jardin</td>\n",
       "      <td>PARIS 7E ARRDT</td>\n",
       "      <td>NaN</td>\n",
       "      <td>NaN</td>\n",
       "      <td>MAIRIE DU 7E 116 RUE DE GRENELLE PARIS 7E</td>\n",
       "      <td>22</td>\n",
       "      <td>Erable</td>\n",
       "      <td>Acer</td>\n",
       "      <td>negundo</td>\n",
       "      <td>NaN</td>\n",
       "      <td>60</td>\n",
       "      <td>8</td>\n",
       "      <td>A</td>\n",
       "      <td>NaN</td>\n",
       "      <td>48.857722</td>\n",
       "      <td>2.321006</td>\n",
       "    </tr>\n",
       "    <tr>\n",
       "      <th>4</th>\n",
       "      <td>99878</td>\n",
       "      <td>Arbre</td>\n",
       "      <td>Jardin</td>\n",
       "      <td>PARIS 17E ARRDT</td>\n",
       "      <td>NaN</td>\n",
       "      <td>NaN</td>\n",
       "      <td>PARC CLICHY-BATIGNOLLES-MARTIN LUTHER KING</td>\n",
       "      <td>000G0037</td>\n",
       "      <td>Arbre à miel</td>\n",
       "      <td>Tetradium</td>\n",
       "      <td>daniellii</td>\n",
       "      <td>NaN</td>\n",
       "      <td>38</td>\n",
       "      <td>0</td>\n",
       "      <td>NaN</td>\n",
       "      <td>NaN</td>\n",
       "      <td>48.890435</td>\n",
       "      <td>2.315289</td>\n",
       "    </tr>\n",
       "  </tbody>\n",
       "</table>\n",
       "</div>"
      ],
      "text/plain": [
       "      id type_emplacement domanialite   arrondissement complement_addresse  \\\n",
       "0  99874            Arbre      Jardin   PARIS 7E ARRDT                 NaN   \n",
       "1  99875            Arbre      Jardin   PARIS 7E ARRDT                 NaN   \n",
       "2  99876            Arbre      Jardin   PARIS 7E ARRDT                 NaN   \n",
       "3  99877            Arbre      Jardin   PARIS 7E ARRDT                 NaN   \n",
       "4  99878            Arbre      Jardin  PARIS 17E ARRDT                 NaN   \n",
       "\n",
       "   numero                                        lieu id_emplacement  \\\n",
       "0     NaN   MAIRIE DU 7E 116 RUE DE GRENELLE PARIS 7E             19   \n",
       "1     NaN   MAIRIE DU 7E 116 RUE DE GRENELLE PARIS 7E             20   \n",
       "2     NaN   MAIRIE DU 7E 116 RUE DE GRENELLE PARIS 7E             21   \n",
       "3     NaN   MAIRIE DU 7E 116 RUE DE GRENELLE PARIS 7E             22   \n",
       "4     NaN  PARC CLICHY-BATIGNOLLES-MARTIN LUTHER KING       000G0037   \n",
       "\n",
       "  libelle_francais      genre         espece variete  circonference_cm  \\\n",
       "0       Marronnier   Aesculus  hippocastanum     NaN                20   \n",
       "1               If      Taxus        baccata     NaN                65   \n",
       "2               If      Taxus        baccata     NaN                90   \n",
       "3           Erable       Acer        negundo     NaN                60   \n",
       "4     Arbre à miel  Tetradium      daniellii     NaN                38   \n",
       "\n",
       "   hauteur_m stade_developpement  remarquable  geo_point_2d_a  geo_point_2d_b  \n",
       "0          5                 NaN          0.0       48.857620        2.320962  \n",
       "1          8                   A          NaN       48.857656        2.321031  \n",
       "2         10                   A          NaN       48.857705        2.321061  \n",
       "3          8                   A          NaN       48.857722        2.321006  \n",
       "4          0                 NaN          NaN       48.890435        2.315289  "
      ]
     },
     "execution_count": 2,
     "metadata": {},
     "output_type": "execute_result"
    }
   ],
   "source": [
    "# chargement de données\n",
    "data = pd.read_csv(\"p2-arbres-fr.csv\", sep=\";\")\n",
    "data.head()"
   ]
  },
  {
   "cell_type": "code",
   "execution_count": 3,
   "id": "03329aed",
   "metadata": {},
   "outputs": [
    {
     "data": {
      "text/plain": [
       "(200137, 18)"
      ]
     },
     "execution_count": 3,
     "metadata": {},
     "output_type": "execute_result"
    }
   ],
   "source": [
    "# taille du dataset\n",
    "data.shape"
   ]
  },
  {
   "cell_type": "markdown",
   "id": "3009dc02",
   "metadata": {},
   "source": [
    "Le jeu de données brut présente 200 137 individus ayant 18 variables.  \n",
    "A noter que sur le site, au moment de cette étude, il y avait 205 398 individus. Le nombre a augmenté depuis la dernière mise à disposition du jeu de données sur la fiche de la mission."
   ]
  },
  {
   "cell_type": "code",
   "execution_count": 4,
   "id": "9bc6a77a",
   "metadata": {
    "scrolled": false
   },
   "outputs": [
    {
     "name": "stdout",
     "output_type": "stream",
     "text": [
      "id                     0.000000\n",
      "type_emplacement       0.000000\n",
      "domanialite            0.000005\n",
      "arrondissement         0.000000\n",
      "complement_addresse    0.845596\n",
      "numero                 1.000000\n",
      "lieu                   0.000000\n",
      "id_emplacement         0.000000\n",
      "libelle_francais       0.007480\n",
      "genre                  0.000080\n",
      "espece                 0.008754\n",
      "variete                0.816241\n",
      "circonference_cm       0.000000\n",
      "hauteur_m              0.000000\n",
      "stade_developpement    0.335795\n",
      "remarquable            0.315274\n",
      "geo_point_2d_a         0.000000\n",
      "geo_point_2d_b         0.000000\n",
      "dtype: float64\n"
     ]
    }
   ],
   "source": [
    "# valeurs manquantes\n",
    "valeurs_manquantes = data.isnull().mean()\n",
    "print(valeurs_manquantes)"
   ]
  },
  {
   "cell_type": "markdown",
   "id": "6911bec8",
   "metadata": {},
   "source": [
    "* Aucune valeur dans la colonne `numero`.  \n",
    "* Les colonnes `complement_addresse` et `variete` ont un manque de plus de 80% des données. Mais ces deux colonnes sont des compléments sur des informations. Elles ne seront donc pas essentielles a priori.  \n",
    "* Concernant les colonnes `stade_developpement` et `remarquable`, le manque est moindre avec environ 30%.\n",
    "    + Pour la colonne `remarquable`, on peut supposer que s'il n'y a aucune valeur, c'est que l'arbre n'est pas remarquable. Le contraire aurait été expressément notifié.\n",
    "    + Pour le stade de développement, on pourra tenter d'extrapoler en faisant la moyenne sur les tailles et circonférences en fonction du stade de développement des autres individus en fonction de l'espèce.\n",
    "* Les autres colonnes ont moins de 1% de manque et font référence à des noms ou a des types d'emplacement. Il ne devrait pas y avoir d'impact sur notre étude."
   ]
  },
  {
   "cell_type": "code",
   "execution_count": 5,
   "id": "c594170a",
   "metadata": {},
   "outputs": [
    {
     "data": {
      "text/plain": [
       "id                       int64\n",
       "type_emplacement        object\n",
       "domanialite             object\n",
       "arrondissement          object\n",
       "complement_addresse     object\n",
       "numero                 float64\n",
       "lieu                    object\n",
       "id_emplacement          object\n",
       "libelle_francais        object\n",
       "genre                   object\n",
       "espece                  object\n",
       "variete                 object\n",
       "circonference_cm         int64\n",
       "hauteur_m                int64\n",
       "stade_developpement     object\n",
       "remarquable            float64\n",
       "geo_point_2d_a         float64\n",
       "geo_point_2d_b         float64\n",
       "dtype: object"
      ]
     },
     "execution_count": 5,
     "metadata": {},
     "output_type": "execute_result"
    }
   ],
   "source": [
    "# type de données\n",
    "data.dtypes"
   ]
  },
  {
   "cell_type": "markdown",
   "id": "da5d26c8",
   "metadata": {},
   "source": [
    "* L'identifiant unique `id`, la circonférence (cm) et la hauteur (m) sont tous de type entier.  \n",
    "* Le numéro `numero` est un nombre à décimals, mais la colonne est vide comme vu précédemment.  \n",
    "* Les coordonnées `geo_point_2d_a` et `geo_point_2d_b` sont des nombres à décimals, ce qui est normal.  \n",
    "* La colonne `remarquable` est également un nombre à décimals alors qu'il s'agit d'un booléen ayant pour valeur 0 ou 1. Si nous avons besoin de faire des calculs dessus, il vaut mieux le laisser ainsi.  \n",
    "* Toutes les autres colonnes sont des chaînes de caractères. Ce qui est cohérent avec le fait qu'ils s'agissent de dénominations.  \n",
    "* A noter cependant la colonne `id_emplacement` est bien une chaîne de caraactères car certains identifiant sont alphanumériques."
   ]
  },
  {
   "cell_type": "code",
   "execution_count": 6,
   "id": "764b9f63",
   "metadata": {},
   "outputs": [
    {
     "data": {
      "text/html": [
       "<div>\n",
       "<style scoped>\n",
       "    .dataframe tbody tr th:only-of-type {\n",
       "        vertical-align: middle;\n",
       "    }\n",
       "\n",
       "    .dataframe tbody tr th {\n",
       "        vertical-align: top;\n",
       "    }\n",
       "\n",
       "    .dataframe thead th {\n",
       "        text-align: right;\n",
       "    }\n",
       "</style>\n",
       "<table border=\"1\" class=\"dataframe\">\n",
       "  <thead>\n",
       "    <tr style=\"text-align: right;\">\n",
       "      <th></th>\n",
       "      <th>id</th>\n",
       "      <th>numero</th>\n",
       "      <th>circonference_cm</th>\n",
       "      <th>hauteur_m</th>\n",
       "      <th>remarquable</th>\n",
       "      <th>geo_point_2d_a</th>\n",
       "      <th>geo_point_2d_b</th>\n",
       "    </tr>\n",
       "  </thead>\n",
       "  <tbody>\n",
       "    <tr>\n",
       "      <th>count</th>\n",
       "      <td>2.001370e+05</td>\n",
       "      <td>0.0</td>\n",
       "      <td>200137.000000</td>\n",
       "      <td>200137.000000</td>\n",
       "      <td>137039.000000</td>\n",
       "      <td>200137.000000</td>\n",
       "      <td>200137.000000</td>\n",
       "    </tr>\n",
       "    <tr>\n",
       "      <th>mean</th>\n",
       "      <td>3.872027e+05</td>\n",
       "      <td>NaN</td>\n",
       "      <td>83.380479</td>\n",
       "      <td>13.110509</td>\n",
       "      <td>0.001343</td>\n",
       "      <td>48.854491</td>\n",
       "      <td>2.348208</td>\n",
       "    </tr>\n",
       "    <tr>\n",
       "      <th>std</th>\n",
       "      <td>5.456032e+05</td>\n",
       "      <td>NaN</td>\n",
       "      <td>673.190213</td>\n",
       "      <td>1971.217387</td>\n",
       "      <td>0.036618</td>\n",
       "      <td>0.030234</td>\n",
       "      <td>0.051220</td>\n",
       "    </tr>\n",
       "    <tr>\n",
       "      <th>min</th>\n",
       "      <td>9.987400e+04</td>\n",
       "      <td>NaN</td>\n",
       "      <td>0.000000</td>\n",
       "      <td>0.000000</td>\n",
       "      <td>0.000000</td>\n",
       "      <td>48.742290</td>\n",
       "      <td>2.210241</td>\n",
       "    </tr>\n",
       "    <tr>\n",
       "      <th>25%</th>\n",
       "      <td>1.559270e+05</td>\n",
       "      <td>NaN</td>\n",
       "      <td>30.000000</td>\n",
       "      <td>5.000000</td>\n",
       "      <td>0.000000</td>\n",
       "      <td>48.835021</td>\n",
       "      <td>2.307530</td>\n",
       "    </tr>\n",
       "    <tr>\n",
       "      <th>50%</th>\n",
       "      <td>2.210780e+05</td>\n",
       "      <td>NaN</td>\n",
       "      <td>70.000000</td>\n",
       "      <td>8.000000</td>\n",
       "      <td>0.000000</td>\n",
       "      <td>48.854162</td>\n",
       "      <td>2.351095</td>\n",
       "    </tr>\n",
       "    <tr>\n",
       "      <th>75%</th>\n",
       "      <td>2.741020e+05</td>\n",
       "      <td>NaN</td>\n",
       "      <td>115.000000</td>\n",
       "      <td>12.000000</td>\n",
       "      <td>0.000000</td>\n",
       "      <td>48.876447</td>\n",
       "      <td>2.386838</td>\n",
       "    </tr>\n",
       "    <tr>\n",
       "      <th>max</th>\n",
       "      <td>2.024745e+06</td>\n",
       "      <td>NaN</td>\n",
       "      <td>250255.000000</td>\n",
       "      <td>881818.000000</td>\n",
       "      <td>1.000000</td>\n",
       "      <td>48.911485</td>\n",
       "      <td>2.469759</td>\n",
       "    </tr>\n",
       "  </tbody>\n",
       "</table>\n",
       "</div>"
      ],
      "text/plain": [
       "                 id  numero  circonference_cm      hauteur_m    remarquable  \\\n",
       "count  2.001370e+05     0.0     200137.000000  200137.000000  137039.000000   \n",
       "mean   3.872027e+05     NaN         83.380479      13.110509       0.001343   \n",
       "std    5.456032e+05     NaN        673.190213    1971.217387       0.036618   \n",
       "min    9.987400e+04     NaN          0.000000       0.000000       0.000000   \n",
       "25%    1.559270e+05     NaN         30.000000       5.000000       0.000000   \n",
       "50%    2.210780e+05     NaN         70.000000       8.000000       0.000000   \n",
       "75%    2.741020e+05     NaN        115.000000      12.000000       0.000000   \n",
       "max    2.024745e+06     NaN     250255.000000  881818.000000       1.000000   \n",
       "\n",
       "       geo_point_2d_a  geo_point_2d_b  \n",
       "count   200137.000000   200137.000000  \n",
       "mean        48.854491        2.348208  \n",
       "std          0.030234        0.051220  \n",
       "min         48.742290        2.210241  \n",
       "25%         48.835021        2.307530  \n",
       "50%         48.854162        2.351095  \n",
       "75%         48.876447        2.386838  \n",
       "max         48.911485        2.469759  "
      ]
     },
     "execution_count": 6,
     "metadata": {},
     "output_type": "execute_result"
    }
   ],
   "source": [
    "# nettoyage des données\n",
    "data.describe()"
   ]
  },
  {
   "cell_type": "markdown",
   "id": "db3f0b73",
   "metadata": {},
   "source": [
    "Pour les dimensions, on observe des outliers a priori.  \n",
    "La hauteur et la circonférence d'un arbre à Paris ne devrait pas atteindre respectivement les 881 km et les 250 m."
   ]
  },
  {
   "cell_type": "markdown",
   "id": "46d980e7",
   "metadata": {},
   "source": [
    "***"
   ]
  },
  {
   "cell_type": "markdown",
   "id": "8c59bd58",
   "metadata": {},
   "source": [
    "## <a name=\"nett\">Nettoyage</a>"
   ]
  },
  {
   "cell_type": "code",
   "execution_count": 7,
   "id": "8ccba876",
   "metadata": {},
   "outputs": [
    {
     "name": "stdout",
     "output_type": "stream",
     "text": [
      "Genres : 176\n",
      "Espèces : 540\n",
      "Variétés : 437\n"
     ]
    }
   ],
   "source": [
    "genres = data[\"genre\"].unique()\n",
    "especes = data[\"espece\"].unique()\n",
    "varietes = data[\"variete\"].unique()\n",
    "print(\"Genres : \" + str(len(genres)))\n",
    "print(\"Espèces : \" + str(len(especes)))\n",
    "print(\"Variétés : \" + str(len(varietes)))"
   ]
  },
  {
   "cell_type": "code",
   "execution_count": 8,
   "id": "64c30599",
   "metadata": {},
   "outputs": [
    {
     "name": "stdout",
     "output_type": "stream",
     "text": [
      "Domanialites : 10\n",
      "Arrondissements : 25\n",
      "Lieux : 6921\n"
     ]
    }
   ],
   "source": [
    "domanialites = data[\"domanialite\"].unique()\n",
    "arrondissements = data[\"arrondissement\"].unique()\n",
    "lieux = data[\"lieu\"].unique()\n",
    "print(\"Domanialites : \" + str(len(domanialites)))\n",
    "print(\"Arrondissements : \" + str(len(arrondissements)))\n",
    "print(\"Lieux : \" + str(len(lieux)))"
   ]
  },
  {
   "cell_type": "code",
   "execution_count": 9,
   "id": "14bc4250",
   "metadata": {},
   "outputs": [],
   "source": [
    "# remarquable à null à mettre à 0\n",
    "remarquable_null = data.loc[data[\"remarquable\"].isnull(), \"remarquable\"]\n",
    "data.loc[data[\"remarquable\"].isnull(), \"remarquable\"] = 0.0"
   ]
  },
  {
   "cell_type": "code",
   "execution_count": 10,
   "id": "6b175f88",
   "metadata": {},
   "outputs": [],
   "source": [
    "# nettoyage de la colonne genre\n",
    "nb_genre_nan = data.loc[data[\"genre\"].isnull(),:]\n",
    "# 16 valeurs\n",
    "data.loc[data[\"genre\"].isnull(),\"genre\"] = \"Autre\"\n",
    "\n",
    "# pareil pour la domanialité\n",
    "data.loc[data[\"domanialite\"].isnull(), \"domanialite\"] = \"Autre\"\n",
    "\n",
    "# pareil pour le stade de développement\n",
    "data.loc[data[\"stade_developpement\"].isnull(), \"stade_developpement\"] = \"Autre\""
   ]
  },
  {
   "cell_type": "markdown",
   "id": "652193d4",
   "metadata": {},
   "source": [
    "***"
   ]
  },
  {
   "cell_type": "markdown",
   "id": "3b034853",
   "metadata": {},
   "source": [
    "### <a name=\"dime\">Dimensions</a>"
   ]
  },
  {
   "cell_type": "code",
   "execution_count": 11,
   "id": "423fbe2b",
   "metadata": {},
   "outputs": [
    {
     "name": "stdout",
     "output_type": "stream",
     "text": [
      "Circ. à zéro :  25867  -  0.1292464661706731\n",
      "Haut. à zéro :  39219  -  0.19596076687469083\n",
      "Les 2 à zéro :  25501  -  0.12741771886257913\n",
      "Au moins 1 des deux à zéro :  39585  -  0.1977895141827848\n"
     ]
    }
   ],
   "source": [
    "# comptage des valeurs égale à 0\n",
    "circ_a_zero = data.loc[data[\"circonference_cm\"]==0]\n",
    "haut_a_zero = data.loc[data[\"hauteur_m\"]==0]\n",
    "dime_a_zero_ou = data.loc[(data[\"circonference_cm\"]==0) | (data[\"hauteur_m\"]==0)]\n",
    "dime_a_zero_et = data.loc[(data[\"circonference_cm\"]==0) & (data[\"hauteur_m\"]==0)]\n",
    "print(\"Circ. à zéro : \", len(circ_a_zero), \" - \", len(circ_a_zero)/len(data))\n",
    "print(\"Haut. à zéro : \", len(haut_a_zero), \" - \", len(haut_a_zero)/len(data))\n",
    "print(\"Les 2 à zéro : \", len(dime_a_zero_et), \" - \", len(dime_a_zero_et)/len(data))\n",
    "print(\"Au moins 1 des deux à zéro : \", len(dime_a_zero_ou), \" - \", len(dime_a_zero_ou)/len(data))"
   ]
  },
  {
   "cell_type": "markdown",
   "id": "03aeaded",
   "metadata": {},
   "source": [
    "| Circonférence | Hauteur | Les 2 | Au moins 1 |\n",
    "| --- | --- | --- | --- |\n",
    "| 25 867 | 39 219 | 25 501 | 39 585 |"
   ]
  },
  {
   "cell_type": "markdown",
   "id": "3f7dd831",
   "metadata": {},
   "source": [
    "Pour les valeurs à zéro on met la valeur minimale qui est 1m et 1cm. Ainsi nous avons des valeurs physiques utilisables. En effet, un arbre de 20cm demandera le même type d'entretien qu'un arbre de 1m."
   ]
  },
  {
   "cell_type": "code",
   "execution_count": 12,
   "id": "2ec79f6f",
   "metadata": {},
   "outputs": [
    {
     "data": {
      "text/html": [
       "<div>\n",
       "<style scoped>\n",
       "    .dataframe tbody tr th:only-of-type {\n",
       "        vertical-align: middle;\n",
       "    }\n",
       "\n",
       "    .dataframe tbody tr th {\n",
       "        vertical-align: top;\n",
       "    }\n",
       "\n",
       "    .dataframe thead th {\n",
       "        text-align: right;\n",
       "    }\n",
       "</style>\n",
       "<table border=\"1\" class=\"dataframe\">\n",
       "  <thead>\n",
       "    <tr style=\"text-align: right;\">\n",
       "      <th></th>\n",
       "      <th>id</th>\n",
       "      <th>numero</th>\n",
       "      <th>circonference_cm</th>\n",
       "      <th>hauteur_m</th>\n",
       "      <th>remarquable</th>\n",
       "      <th>geo_point_2d_a</th>\n",
       "      <th>geo_point_2d_b</th>\n",
       "    </tr>\n",
       "  </thead>\n",
       "  <tbody>\n",
       "    <tr>\n",
       "      <th>count</th>\n",
       "      <td>2.001370e+05</td>\n",
       "      <td>0.0</td>\n",
       "      <td>200137.000000</td>\n",
       "      <td>200137.000000</td>\n",
       "      <td>200137.000000</td>\n",
       "      <td>200137.000000</td>\n",
       "      <td>200137.000000</td>\n",
       "    </tr>\n",
       "    <tr>\n",
       "      <th>mean</th>\n",
       "      <td>3.872027e+05</td>\n",
       "      <td>NaN</td>\n",
       "      <td>83.509726</td>\n",
       "      <td>13.306470</td>\n",
       "      <td>0.000919</td>\n",
       "      <td>48.854491</td>\n",
       "      <td>2.348208</td>\n",
       "    </tr>\n",
       "    <tr>\n",
       "      <th>std</th>\n",
       "      <td>5.456032e+05</td>\n",
       "      <td>NaN</td>\n",
       "      <td>673.174288</td>\n",
       "      <td>1971.216123</td>\n",
       "      <td>0.030307</td>\n",
       "      <td>0.030234</td>\n",
       "      <td>0.051220</td>\n",
       "    </tr>\n",
       "    <tr>\n",
       "      <th>min</th>\n",
       "      <td>9.987400e+04</td>\n",
       "      <td>NaN</td>\n",
       "      <td>1.000000</td>\n",
       "      <td>1.000000</td>\n",
       "      <td>0.000000</td>\n",
       "      <td>48.742290</td>\n",
       "      <td>2.210241</td>\n",
       "    </tr>\n",
       "    <tr>\n",
       "      <th>25%</th>\n",
       "      <td>1.559270e+05</td>\n",
       "      <td>NaN</td>\n",
       "      <td>30.000000</td>\n",
       "      <td>5.000000</td>\n",
       "      <td>0.000000</td>\n",
       "      <td>48.835021</td>\n",
       "      <td>2.307530</td>\n",
       "    </tr>\n",
       "    <tr>\n",
       "      <th>50%</th>\n",
       "      <td>2.210780e+05</td>\n",
       "      <td>NaN</td>\n",
       "      <td>70.000000</td>\n",
       "      <td>8.000000</td>\n",
       "      <td>0.000000</td>\n",
       "      <td>48.854162</td>\n",
       "      <td>2.351095</td>\n",
       "    </tr>\n",
       "    <tr>\n",
       "      <th>75%</th>\n",
       "      <td>2.741020e+05</td>\n",
       "      <td>NaN</td>\n",
       "      <td>115.000000</td>\n",
       "      <td>12.000000</td>\n",
       "      <td>0.000000</td>\n",
       "      <td>48.876447</td>\n",
       "      <td>2.386838</td>\n",
       "    </tr>\n",
       "    <tr>\n",
       "      <th>max</th>\n",
       "      <td>2.024745e+06</td>\n",
       "      <td>NaN</td>\n",
       "      <td>250255.000000</td>\n",
       "      <td>881818.000000</td>\n",
       "      <td>1.000000</td>\n",
       "      <td>48.911485</td>\n",
       "      <td>2.469759</td>\n",
       "    </tr>\n",
       "  </tbody>\n",
       "</table>\n",
       "</div>"
      ],
      "text/plain": [
       "                 id  numero  circonference_cm      hauteur_m    remarquable  \\\n",
       "count  2.001370e+05     0.0     200137.000000  200137.000000  200137.000000   \n",
       "mean   3.872027e+05     NaN         83.509726      13.306470       0.000919   \n",
       "std    5.456032e+05     NaN        673.174288    1971.216123       0.030307   \n",
       "min    9.987400e+04     NaN          1.000000       1.000000       0.000000   \n",
       "25%    1.559270e+05     NaN         30.000000       5.000000       0.000000   \n",
       "50%    2.210780e+05     NaN         70.000000       8.000000       0.000000   \n",
       "75%    2.741020e+05     NaN        115.000000      12.000000       0.000000   \n",
       "max    2.024745e+06     NaN     250255.000000  881818.000000       1.000000   \n",
       "\n",
       "       geo_point_2d_a  geo_point_2d_b  \n",
       "count   200137.000000   200137.000000  \n",
       "mean        48.854491        2.348208  \n",
       "std          0.030234        0.051220  \n",
       "min         48.742290        2.210241  \n",
       "25%         48.835021        2.307530  \n",
       "50%         48.854162        2.351095  \n",
       "75%         48.876447        2.386838  \n",
       "max         48.911485        2.469759  "
      ]
     },
     "execution_count": 12,
     "metadata": {},
     "output_type": "execute_result"
    }
   ],
   "source": [
    "# on cale les hauteurs de zéro à 1m\n",
    "data.loc[data[\"hauteur_m\"]==0,\"hauteur_m\"] = 1\n",
    "\n",
    "# on cherche la valeur min pour les circonférences pour caler la valeur des zéros à ce min\n",
    "reste_circ = data.loc[data[\"circonference_cm\"]!=0,:].sort_values(\"circonference_cm\", ascending=True)\n",
    "data.loc[data[\"circonference_cm\"]==0,\"circonference_cm\"] = 1\n",
    "\n",
    "# on regarde à nouveau les données\n",
    "data.describe()"
   ]
  },
  {
   "cell_type": "markdown",
   "id": "ac4e49df",
   "metadata": {},
   "source": [
    "Pour les valeurs max, on utilise la limite des outliers qui est 1.5*IQR+quart0.75"
   ]
  },
  {
   "cell_type": "code",
   "execution_count": 13,
   "id": "8783172e",
   "metadata": {},
   "outputs": [],
   "source": [
    "# on va maintenant s'occuper des valeurs max\n",
    "dim_to_process = [\"hauteur_m\", \"circonference_cm\"]\n",
    "genres = data[\"genre\"].unique()\n",
    "calage_max = {}\n",
    "# pour chaque type de dimension\n",
    "for dim in dim_to_process:    \n",
    "    # pour chaque genre d'arbre\n",
    "#     print(\"Dimension : \", dim)\n",
    "    calage_max[dim] = {}\n",
    "    for gen in genres:\n",
    "        subset = data.loc[data[\"genre\"] == gen,:]\n",
    "        quartiles = [np.percentile(subset[dim], p) for p in [25, 75]]\n",
    "        IQR = quartiles[1]-quartiles[0]\n",
    "        borne_max = 1.5*IQR+quartiles[1]\n",
    "#         print(\"-------------------------------\")\n",
    "#         print(\"Genre : \", gen)\n",
    "#         print(\"IQR : \", IQR)\n",
    "#         print(\"borne max : \", borne_max)\n",
    "        calage_max[dim][gen] = math.ceil(borne_max)"
   ]
  },
  {
   "cell_type": "code",
   "execution_count": 14,
   "id": "becf0285",
   "metadata": {},
   "outputs": [
    {
     "data": {
      "text/html": [
       "<div>\n",
       "<style scoped>\n",
       "    .dataframe tbody tr th:only-of-type {\n",
       "        vertical-align: middle;\n",
       "    }\n",
       "\n",
       "    .dataframe tbody tr th {\n",
       "        vertical-align: top;\n",
       "    }\n",
       "\n",
       "    .dataframe thead th {\n",
       "        text-align: right;\n",
       "    }\n",
       "</style>\n",
       "<table border=\"1\" class=\"dataframe\">\n",
       "  <thead>\n",
       "    <tr style=\"text-align: right;\">\n",
       "      <th></th>\n",
       "      <th>id</th>\n",
       "      <th>numero</th>\n",
       "      <th>circonference_cm</th>\n",
       "      <th>hauteur_m</th>\n",
       "      <th>remarquable</th>\n",
       "      <th>geo_point_2d_a</th>\n",
       "      <th>geo_point_2d_b</th>\n",
       "    </tr>\n",
       "  </thead>\n",
       "  <tbody>\n",
       "    <tr>\n",
       "      <th>count</th>\n",
       "      <td>2.001370e+05</td>\n",
       "      <td>0.0</td>\n",
       "      <td>200137.000000</td>\n",
       "      <td>200137.000000</td>\n",
       "      <td>200137.000000</td>\n",
       "      <td>200137.000000</td>\n",
       "      <td>200137.000000</td>\n",
       "    </tr>\n",
       "    <tr>\n",
       "      <th>mean</th>\n",
       "      <td>3.872027e+05</td>\n",
       "      <td>NaN</td>\n",
       "      <td>79.195811</td>\n",
       "      <td>8.530477</td>\n",
       "      <td>0.000919</td>\n",
       "      <td>48.854491</td>\n",
       "      <td>2.348208</td>\n",
       "    </tr>\n",
       "    <tr>\n",
       "      <th>std</th>\n",
       "      <td>5.456032e+05</td>\n",
       "      <td>NaN</td>\n",
       "      <td>60.912531</td>\n",
       "      <td>5.909310</td>\n",
       "      <td>0.030307</td>\n",
       "      <td>0.030234</td>\n",
       "      <td>0.051220</td>\n",
       "    </tr>\n",
       "    <tr>\n",
       "      <th>min</th>\n",
       "      <td>9.987400e+04</td>\n",
       "      <td>NaN</td>\n",
       "      <td>1.000000</td>\n",
       "      <td>1.000000</td>\n",
       "      <td>0.000000</td>\n",
       "      <td>48.742290</td>\n",
       "      <td>2.210241</td>\n",
       "    </tr>\n",
       "    <tr>\n",
       "      <th>25%</th>\n",
       "      <td>1.559270e+05</td>\n",
       "      <td>NaN</td>\n",
       "      <td>30.000000</td>\n",
       "      <td>5.000000</td>\n",
       "      <td>0.000000</td>\n",
       "      <td>48.835021</td>\n",
       "      <td>2.307530</td>\n",
       "    </tr>\n",
       "    <tr>\n",
       "      <th>50%</th>\n",
       "      <td>2.210780e+05</td>\n",
       "      <td>NaN</td>\n",
       "      <td>70.000000</td>\n",
       "      <td>8.000000</td>\n",
       "      <td>0.000000</td>\n",
       "      <td>48.854162</td>\n",
       "      <td>2.351095</td>\n",
       "    </tr>\n",
       "    <tr>\n",
       "      <th>75%</th>\n",
       "      <td>2.741020e+05</td>\n",
       "      <td>NaN</td>\n",
       "      <td>115.000000</td>\n",
       "      <td>12.000000</td>\n",
       "      <td>0.000000</td>\n",
       "      <td>48.876447</td>\n",
       "      <td>2.386838</td>\n",
       "    </tr>\n",
       "    <tr>\n",
       "      <th>max</th>\n",
       "      <td>2.024745e+06</td>\n",
       "      <td>NaN</td>\n",
       "      <td>479.000000</td>\n",
       "      <td>41.000000</td>\n",
       "      <td>1.000000</td>\n",
       "      <td>48.911485</td>\n",
       "      <td>2.469759</td>\n",
       "    </tr>\n",
       "  </tbody>\n",
       "</table>\n",
       "</div>"
      ],
      "text/plain": [
       "                 id  numero  circonference_cm      hauteur_m    remarquable  \\\n",
       "count  2.001370e+05     0.0     200137.000000  200137.000000  200137.000000   \n",
       "mean   3.872027e+05     NaN         79.195811       8.530477       0.000919   \n",
       "std    5.456032e+05     NaN         60.912531       5.909310       0.030307   \n",
       "min    9.987400e+04     NaN          1.000000       1.000000       0.000000   \n",
       "25%    1.559270e+05     NaN         30.000000       5.000000       0.000000   \n",
       "50%    2.210780e+05     NaN         70.000000       8.000000       0.000000   \n",
       "75%    2.741020e+05     NaN        115.000000      12.000000       0.000000   \n",
       "max    2.024745e+06     NaN        479.000000      41.000000       1.000000   \n",
       "\n",
       "       geo_point_2d_a  geo_point_2d_b  \n",
       "count   200137.000000   200137.000000  \n",
       "mean        48.854491        2.348208  \n",
       "std          0.030234        0.051220  \n",
       "min         48.742290        2.210241  \n",
       "25%         48.835021        2.307530  \n",
       "50%         48.854162        2.351095  \n",
       "75%         48.876447        2.386838  \n",
       "max         48.911485        2.469759  "
      ]
     },
     "execution_count": 14,
     "metadata": {},
     "output_type": "execute_result"
    }
   ],
   "source": [
    "# maintenant on remplace les dimensions\n",
    "for dim in dim_to_process:\n",
    "    sub_cal = calage_max[dim]\n",
    "    for gen in genres:\n",
    "        neo_max = sub_cal[gen]\n",
    "        data.loc[(data[\"genre\"] == gen) & (data[dim]>neo_max),dim] = neo_max    \n",
    "\n",
    "data.describe()"
   ]
  },
  {
   "cell_type": "markdown",
   "id": "3fb0e02f",
   "metadata": {},
   "source": [
    "### <a name=\"circ\">Circonférence</a>"
   ]
  },
  {
   "cell_type": "markdown",
   "id": "6a0795e1",
   "metadata": {},
   "source": [
    "<a name=\"g_diame\">Graphique représentant le diamètre</a>"
   ]
  },
  {
   "cell_type": "code",
   "execution_count": 15,
   "id": "1c34414c",
   "metadata": {},
   "outputs": [
    {
     "name": "stdout",
     "output_type": "stream",
     "text": [
      "moyenne :  25.208809544120854\n",
      "médiane :  22.281692032865347\n",
      "mode :  0    0.31831\n",
      "Name: diametre_cm, dtype: float64\n",
      "min :  0.3183098861837907\n",
      "max :  152.47043548203573\n",
      "variance :  375.93380426151975\n",
      "écart-type :  19.389012462256034\n",
      "coefficient de variation :  0.7691363778333554\n",
      "skewness :  0.860605705066366\n",
      "kurtosis :  0.5863862468257497\n"
     ]
    },
    {
     "data": {
      "image/png": "[encoded data removed]",
      "text/plain": [
       "<Figure size 640x480 with 1 Axes>"
      ]
     },
     "metadata": {},
     "output_type": "display_data"
    }
   ],
   "source": [
    "# circonférence\n",
    "# calcul du diametre en centimètre\n",
    "data[\"diametre_cm\"] = data[\"circonference_cm\"]/math.pi\n",
    "data[\"diametre_cm\"].hist(bins=20)\n",
    "# mesures de tendances centrales\n",
    "print(\"moyenne : \", data[\"diametre_cm\"].mean())\n",
    "print(\"médiane : \", data[\"diametre_cm\"].median())\n",
    "print(\"mode : \", data[\"diametre_cm\"].mode())\n",
    "print(\"min : \", data[\"diametre_cm\"].min())\n",
    "print(\"max : \", data[\"diametre_cm\"].max())\n",
    "# mesures de dispersion\n",
    "print(\"variance : \", data[\"diametre_cm\"].var(ddof=0))\n",
    "print(\"écart-type : \", data[\"diametre_cm\"].std(ddof=0))\n",
    "print(\"coefficient de variation : \", data[\"diametre_cm\"].std(ddof=0)/data[\"diametre_cm\"].mean())\n",
    "# mesures de forme\n",
    "print(\"skewness : \", data[\"diametre_cm\"].skew())\n",
    "print(\"kurtosis : \", data[\"diametre_cm\"].kurtosis())\n",
    "plt.show()"
   ]
  },
  {
   "cell_type": "markdown",
   "id": "afe56e89",
   "metadata": {},
   "source": [
    "Outliers évidents avec 800m et 400m de diamètre.  \n",
    "En revanche, pour savoir quelles sont les autres outliers, il faut procéder avec un boxplot."
   ]
  },
  {
   "cell_type": "code",
   "execution_count": 16,
   "id": "9bfba714",
   "metadata": {},
   "outputs": [],
   "source": [
    "# histogramme des circonférences\n",
    "# data[\"circonference_cm\"].hist(bins=20)\n",
    "# # mesures de tendances centrales\n",
    "# print(\"moyenne : \", subset[\"circonference_cm\"].mean())\n",
    "# print(\"médiane : \", subset[\"circonference_cm\"].median())\n",
    "# print(\"mode : \", subset[\"circonference_cm\"].mode())\n",
    "# # mesures de dispersion\n",
    "# print(\"variance : \", subset[\"circonference_cm\"].var(ddof=0))\n",
    "# print(\"écart-type : \", subset[\"circonference_cm\"].std(ddof=0))\n",
    "# print(\"coefficient de variation : \", subset[\"circonference_cm\"].std(ddof=0)/subset[\"circonference_cm\"].mean())\n",
    "# # mesures de forme\n",
    "# print(\"skewness : \", subset[\"circonference_cm\"].skew())\n",
    "# print(\"kurtosis : \", subset[\"circonference_cm\"].kurtosis())\n",
    "# plt.show()"
   ]
  },
  {
   "cell_type": "code",
   "execution_count": 17,
   "id": "9e4d5788",
   "metadata": {},
   "outputs": [
    {
     "data": {
      "image/png": "[encoded data removed]",
      "text/plain": [
       "<Figure size 640x480 with 1 Axes>"
      ]
     },
     "metadata": {},
     "output_type": "display_data"
    }
   ],
   "source": [
    "# faire un box plot pour trouver les outliers\n",
    "data.boxplot(column=\"circonference_cm\", vert=False, showfliers=True)\n",
    "plt.show()"
   ]
  },
  {
   "cell_type": "code",
   "execution_count": 18,
   "id": "dd57e477",
   "metadata": {},
   "outputs": [],
   "source": [
    "# on fait un boxplot par genre -- rien de concluant --\n",
    "# genres = data[\"genre\"].unique()\n",
    "# for gen in genres:\n",
    "#     subset = data.loc[data[\"genre\"] == gen,:]\n",
    "#     print(\"-\"*80)\n",
    "#     print(\"Il y a \", len(subset), \" individus du genre \", gen)\n",
    "#     print(\"moyenne : \", subset[\"circonference_cm\"].mean())\n",
    "#     print(\"médiane : \", subset[\"circonference_cm\"].median())\n",
    "#     print(\"mode : \", subset[\"circonference_cm\"].mode())\n",
    "#     print(\"variance : \", subset[\"circonference_cm\"].var(ddof=0))\n",
    "#     print(\"écart-type : \", subset[\"circonference_cm\"].std(ddof=0))\n",
    "#     print(\"skewness : \", subset[\"circonference_cm\"].skew())\n",
    "#     print(\"kurtosis : \", subset[\"circonference_cm\"].kurtosis())\n",
    "#     subset[\"circonference_cm\"].hist()\n",
    "#     plt.show()\n",
    "#     subset.boxplot(column=\"circonference_cm\", vert=False)\n",
    "#     plt.show()"
   ]
  },
  {
   "cell_type": "code",
   "execution_count": 19,
   "id": "2e768d1f",
   "metadata": {},
   "outputs": [],
   "source": [
    "# on fait un boxplot par espèce !! très lent !!\n",
    "# especes = data[\"espece\"].unique()\n",
    "# for esp in especes:\n",
    "#     subset = data.loc[data[\"espece\"] == esp,:]\n",
    "#     print(\"-\"*80)\n",
    "#     print(\"Il y a \", len(subset), \" individus de l'espèce \", esp)\n",
    "#     print(\"moyenne : \", subset[\"circonference_cm\"].mean())\n",
    "#     print(\"médiane : \", subset[\"circonference_cm\"].median())\n",
    "#     print(\"mode : \", subset[\"circonference_cm\"].mode())\n",
    "#     print(\"variance : \", subset[\"circonference_cm\"].var(ddof=0))\n",
    "#     print(\"écart-type : \", subset[\"circonference_cm\"].std(ddof=0))\n",
    "#     print(\"skewness : \", subset[\"circonference_cm\"].skew())\n",
    "#     print(\"kurtosis : \", subset[\"circonference_cm\"].kurtosis())\n",
    "#     subset.boxplot(column=\"circonference_cm\", vert=False)\n",
    "#     plt.show()"
   ]
  },
  {
   "cell_type": "code",
   "execution_count": 20,
   "id": "d3783eac",
   "metadata": {},
   "outputs": [],
   "source": [
    "# on fait un boxplot par stade de développement -- complètement inutile --\n",
    "# stades = data[\"stade_developpement\"].unique()\n",
    "# for sta in stades:\n",
    "#     subset = data.loc[data[\"stade_developpement\"] == sta,:]\n",
    "#     print(\"-\"*80)\n",
    "#     print(\"Il y a \", len(subset), \" individus de l'espèce \", sta)\n",
    "#     print(\"moyenne : \", subset[\"circonference_cm\"].mean())\n",
    "#     print(\"médiane : \", subset[\"circonference_cm\"].median())\n",
    "#     print(\"mode : \", subset[\"circonference_cm\"].mode())\n",
    "#     print(\"variance : \", subset[\"circonference_cm\"].var(ddof=0))\n",
    "#     print(\"écart-type : \", subset[\"circonference_cm\"].std(ddof=0))\n",
    "#     print(\"skewness : \", subset[\"circonference_cm\"].skew())\n",
    "#     print(\"kurtosis : \", subset[\"circonference_cm\"].kurtosis())\n",
    "#     subset.boxplot(column=\"circonference_cm\", vert=False)\n",
    "#     plt.show()"
   ]
  },
  {
   "cell_type": "code",
   "execution_count": 21,
   "id": "a9e41d19",
   "metadata": {},
   "outputs": [],
   "source": [
    "# on fait un boxplot par arrondissement -- pas concluant --\n",
    "# arrondiss = data[\"arrondissement\"].unique()\n",
    "# for aro in arrondiss:\n",
    "#     subset = data.loc[data[\"arrondissement\"] == aro,:]\n",
    "#     print(\"-\"*80)\n",
    "#     print(\"Il y a \", len(subset), \" individus dans l'arrondissement \", aro)\n",
    "#     print(\"moyenne : \", subset[\"circonference_cm\"].mean())\n",
    "#     print(\"médiane : \", subset[\"circonference_cm\"].median())\n",
    "#     print(\"mode : \", subset[\"circonference_cm\"].mode())\n",
    "#     print(\"variance : \", subset[\"circonference_cm\"].var(ddof=0))\n",
    "#     print(\"écart-type : \", subset[\"circonference_cm\"].std(ddof=0))\n",
    "#     print(\"skewness : \", subset[\"circonference_cm\"].skew())\n",
    "#     print(\"kurtosis : \", subset[\"circonference_cm\"].kurtosis())\n",
    "#     subset.boxplot(column=\"circonference_cm\", vert=False)\n",
    "#     plt.show()"
   ]
  },
  {
   "cell_type": "markdown",
   "id": "59b5742d",
   "metadata": {},
   "source": [
    "***"
   ]
  },
  {
   "cell_type": "markdown",
   "id": "2d3592ca",
   "metadata": {},
   "source": [
    "### <a name=\"haut\">Hauteur</a>"
   ]
  },
  {
   "cell_type": "code",
   "execution_count": 22,
   "id": "ceb1658f",
   "metadata": {},
   "outputs": [],
   "source": [
    "# hauteur\n",
    "# on regarde que les arbres au delà de 31m de hauteur, record sur Paris\n",
    "# etude_hauteur = data.loc[data['hauteur_m']>31, :]\n",
    "# etude_hauteur = etude_hauteur.sort_values(\"hauteur_m\", ascending=False)\n",
    "# print(etude_hauteur.shape)\n",
    "# etude_hauteur.head(10)"
   ]
  },
  {
   "cell_type": "markdown",
   "id": "f1400fd9",
   "metadata": {},
   "source": [
    "On observe plus de 558 individus faisant plus de 31m (67m dans le reste de la France).  \n",
    "Pareil, il va falloir utiliser des boxplot pour gérer les outliers."
   ]
  },
  {
   "cell_type": "code",
   "execution_count": 23,
   "id": "a4ec52d1",
   "metadata": {},
   "outputs": [
    {
     "data": {
      "image/png": "[encoded data removed]",
      "text/plain": [
       "<Figure size 640x480 with 1 Axes>"
      ]
     },
     "metadata": {},
     "output_type": "display_data"
    }
   ],
   "source": [
    "# faire un box plot pour trouver les outliers\n",
    "data.boxplot(column=\"hauteur_m\", vert=False, showfliers=True)\n",
    "plt.show()"
   ]
  },
  {
   "cell_type": "markdown",
   "id": "f7bd6ebe",
   "metadata": {},
   "source": [
    "<a name=\"g_haute\"> Graphique représentant la répartition de la hauteur</a>"
   ]
  },
  {
   "cell_type": "code",
   "execution_count": 24,
   "id": "ea9e3c6b",
   "metadata": {},
   "outputs": [
    {
     "name": "stdout",
     "output_type": "stream",
     "text": [
      "moyenne :  1.0\n",
      "médiane :  1.0\n",
      "mode :  0    1\n",
      "Name: hauteur_m, dtype: int64\n",
      "min :  1\n",
      "max :  41\n",
      "variance :  0.0\n",
      "écart-type :  0.0\n",
      "coefficient de variation :  0.6927274557730537\n",
      "skewness :  nan\n",
      "kurtosis :  nan\n"
     ]
    },
    {
     "data": {
      "image/png": "[encoded data removed]",
      "text/plain": [
       "<Figure size 640x480 with 1 Axes>"
      ]
     },
     "metadata": {},
     "output_type": "display_data"
    }
   ],
   "source": [
    "# histogramme des hauteurs\n",
    "data[\"hauteur_m\"].hist(bins=10)\n",
    "# mesures de tendances centrales\n",
    "print(\"moyenne : \", subset[\"hauteur_m\"].mean())\n",
    "print(\"médiane : \", subset[\"hauteur_m\"].median())\n",
    "print(\"mode : \", subset[\"hauteur_m\"].mode())\n",
    "print(\"min : \", data[\"hauteur_m\"].min())\n",
    "print(\"max : \", data[\"hauteur_m\"].max())\n",
    "# mesures de dispersion\n",
    "print(\"variance : \", subset[\"hauteur_m\"].var(ddof=0))\n",
    "print(\"écart-type : \", subset[\"hauteur_m\"].std(ddof=0))\n",
    "print(\"coefficient de variation : \", data[\"hauteur_m\"].std(ddof=0)/data[\"hauteur_m\"].mean())\n",
    "# mesures de forme\n",
    "print(\"skewness : \", subset[\"hauteur_m\"].skew())\n",
    "print(\"kurtosis : \", subset[\"hauteur_m\"].kurtosis())\n",
    "plt.show()"
   ]
  },
  {
   "cell_type": "code",
   "execution_count": 25,
   "id": "357753b9",
   "metadata": {},
   "outputs": [],
   "source": [
    "# on fait un boxplot par arrondissement -- pas concluant --\n",
    "# arrondiss = data[\"arrondissement\"].unique()\n",
    "# for aro in arrondiss:\n",
    "#     subset = data.loc[data[\"arrondissement\"] == aro,:]\n",
    "#     print(\"-\"*80)\n",
    "#     print(\"Il y a \", len(subset), \" individus dans l'arrondissement \", aro)\n",
    "#     print(\"moyenne : \", subset[\"hauteur_m\"].mean())\n",
    "#     print(\"médiane : \", subset[\"hauteur_m\"].median())\n",
    "#     print(\"mode : \", subset[\"hauteur_m\"].mode())\n",
    "#     print(\"variance : \", subset[\"hauteur_m\"].var(ddof=0))\n",
    "#     print(\"écart-type : \", subset[\"hauteur_m\"].std(ddof=0))\n",
    "#     print(\"skewness : \", subset[\"hauteur_m\"].skew())\n",
    "#     print(\"kurtosis : \", subset[\"hauteur_m\"].kurtosis())\n",
    "#     subset.boxplot(column=\"hauteur_m\", vert=False)\n",
    "#     plt.show()"
   ]
  },
  {
   "cell_type": "code",
   "execution_count": 26,
   "id": "cf718ca0",
   "metadata": {},
   "outputs": [],
   "source": [
    "# on fait un boxplot par genre --  --\n",
    "# genres = data[\"genre\"].unique()\n",
    "# for gen in genres:\n",
    "#     subset = data.loc[data[\"genre\"] == gen,:]\n",
    "#     print(\"-\"*80)\n",
    "#     print(\"Il y a \", len(subset), \" individus du genre \", gen)\n",
    "#     print(\"moyenne : \", subset[\"hauteur_m\"].mean())\n",
    "#     print(\"médiane : \", subset[\"hauteur_m\"].median())\n",
    "#     print(\"mode : \", subset[\"hauteur_m\"].mode())\n",
    "#     print(\"variance : \", subset[\"hauteur_m\"].var(ddof=0))\n",
    "#     print(\"écart-type : \", subset[\"hauteur_m\"].std(ddof=0))\n",
    "#     print(\"skewness : \", subset[\"hauteur_m\"].skew())\n",
    "#     print(\"kurtosis : \", subset[\"hauteur_m\"].kurtosis())\n",
    "#     subset[\"hauteur_m\"].hist(bins=30)\n",
    "#     plt.show()\n",
    "#     subset.boxplot(column=\"hauteur_m\", vert=False)\n",
    "#     plt.show()"
   ]
  },
  {
   "cell_type": "markdown",
   "id": "cf25a1b6",
   "metadata": {},
   "source": [
    "***"
   ]
  },
  {
   "cell_type": "markdown",
   "id": "d9f97030",
   "metadata": {},
   "source": [
    "<a name=\"g_corr_h_d\">Graphique corrélation entre hauteur et diamètre</a>"
   ]
  },
  {
   "cell_type": "code",
   "execution_count": 27,
   "id": "53c6e99e",
   "metadata": {},
   "outputs": [
    {
     "name": "stdout",
     "output_type": "stream",
     "text": [
      "Coeff de Pearson :  0.7790968603469114\n",
      "Covariance :  89.26533560664092\n"
     ]
    },
    {
     "data": {
      "image/png": "[encoded data removed]",
      "text/plain": [
       "<Figure size 640x480 with 1 Axes>"
      ]
     },
     "metadata": {},
     "output_type": "display_data"
    }
   ],
   "source": [
    "# faire un plot entre diametre et hauteur\n",
    "plt.plot(data[\"diametre_cm\"], data[\"hauteur_m\"], \"o\")\n",
    "m, b = np.polyfit(data[\"diametre_cm\"], data[\"hauteur_m\"], 1)\n",
    "plt.plot(data[\"diametre_cm\"], m*data[\"diametre_cm\"]+b, color='red')\n",
    "\n",
    "print(\"Coeff de Pearson : \", st.pearsonr(data[\"diametre_cm\"], data[\"hauteur_m\"])[0])\n",
    "print(\"Covariance : \", np.cov(data[\"diametre_cm\"], data[\"hauteur_m\"],ddof=0)[1,0])\n",
    "\n",
    "plt.show()"
   ]
  },
  {
   "cell_type": "code",
   "execution_count": 28,
   "id": "c793b64b",
   "metadata": {},
   "outputs": [],
   "source": [
    "# histogramme de la répartition par arrondissement\n",
    "arrondiss = data[\"arrondissement\"].unique()\n",
    "data.loc[data[\"arrondissement\"].str.contains('ARRDT'),\"arrond\"] = data.loc[data[\"arrondissement\"].str.contains('ARRDT'),\"arrondissement\"].str.split(' ').str[1].str[:-1]\n",
    "data.loc[data[\"arrondissement\"]=='VAL-DE-MARNE',\"arrond\"] = 94\n",
    "data.loc[data[\"arrondissement\"]=='SEINE-SAINT-DENIS',\"arrond\"] = 93\n",
    "data.loc[data[\"arrondissement\"]=='HAUTS-DE-SEINE',\"arrond\"] = 92\n",
    "data.loc[data[\"arrondissement\"]=='BOIS DE VINCENNES',\"arrond\"] = 94\n",
    "data.loc[data[\"arrondissement\"]=='BOIS DE BOULOGNE',\"arrond\"] = 92\n",
    "data.loc[data[\"arrond\"]=='1E',\"arrond\"] = 1\n",
    "data.arrond = data.arrond.astype(int)"
   ]
  },
  {
   "cell_type": "markdown",
   "id": "cf91ee7b",
   "metadata": {},
   "source": [
    "<a name=\"g_arrond\">Graphique répartition arbre par arrondissement/département</a>"
   ]
  },
  {
   "cell_type": "code",
   "execution_count": 29,
   "id": "29c4836e",
   "metadata": {},
   "outputs": [
    {
     "data": {
      "image/png": "[encoded data removed]",
      "text/plain": [
       "<Figure size 640x480 with 1 Axes>"
      ]
     },
     "metadata": {},
     "output_type": "display_data"
    }
   ],
   "source": [
    "data[\"arrond\"].value_counts(normalize=False).sort_index().plot(kind='bar', width=0.3)\n",
    "plt.show()"
   ]
  },
  {
   "cell_type": "code",
   "execution_count": 30,
   "id": "37be2d40",
   "metadata": {},
   "outputs": [
    {
     "data": {
      "image/png": "[encoded data removed]",
      "text/plain": [
       "<Figure size 640x480 with 1 Axes>"
      ]
     },
     "metadata": {},
     "output_type": "display_data"
    }
   ],
   "source": [
    "# pour les arbres remarquables\n",
    "data.loc[data[\"remarquable\"]==1,\"arrond\"].value_counts(normalize=True).sort_index().plot(kind='bar', width=0.3)\n",
    "plt.show()"
   ]
  },
  {
   "cell_type": "code",
   "execution_count": 31,
   "id": "732799c1",
   "metadata": {},
   "outputs": [],
   "source": [
    "# \n",
    "arrond_unique = sorted(data.arrond.unique())\n",
    "superficie_arrond = pd.DataFrame(\n",
    "{\n",
    "    \"arrond\": arrond_unique,\n",
    "    \"superficie\": [1.83, 0.99, 1.17, 1.60, 2.54, 2.15, 4.09, 3.88, 2.18, 2.89, 3.67, 6.37, 7.15, 5.64, 4.84, 7.91, 5.67, 6.01, 6.79, 5.98, 176, 236, 245]\n",
    "})\n",
    "count_arrond = data[\"arrond\"].value_counts().sort_index()\n",
    "count_arrond = pd.DataFrame(count_arrond).reset_index()\n",
    "count_arrond.columns = ['arrond', 'counts']\n",
    "\n",
    "population_arbre = pd.merge(count_arrond, superficie_arrond, how='inner', on='arrond')\n",
    "population_arbre[\"pop\"] = population_arbre[\"counts\"]/population_arbre[\"superficie\"]\n",
    "\n",
    "# plt.plot(population_arbre['superficie'], population_arbre['counts'], 'o')"
   ]
  },
  {
   "cell_type": "markdown",
   "id": "5efc0af5",
   "metadata": {},
   "source": [
    "<a name=\"g_density\">Graphique représentant la densité de population des arbres pour chaque arrondissement</a>"
   ]
  },
  {
   "cell_type": "code",
   "execution_count": 32,
   "id": "66292b73",
   "metadata": {},
   "outputs": [
    {
     "data": {
      "image/png": "[encoded data removed]",
      "text/plain": [
       "<Figure size 640x480 with 1 Axes>"
      ]
     },
     "metadata": {},
     "output_type": "display_data"
    }
   ],
   "source": [
    "# on ne regarde pas la petite couronne parce que la surface est beaucoup plus importante. la densité diminue donc drastiquement\n",
    "plt.plot(population_arbre[\"arrond\"][:-3], population_arbre[\"pop\"][:-3], 'o')\n",
    "m, b = np.polyfit(population_arbre[\"arrond\"][:-3], population_arbre[\"pop\"][:-3], 1)\n",
    "plt.plot(population_arbre[\"arrond\"][:-3], m*population_arbre[\"arrond\"][:-3]+b, color='red')\n",
    "plt.show()"
   ]
  },
  {
   "cell_type": "code",
   "execution_count": 33,
   "id": "e865eaed",
   "metadata": {},
   "outputs": [],
   "source": [
    "# X = population_arbre[\"arrond\"][:-3]\n",
    "# plt.plot(X, population_arbre[\"pop\"][:-3], 'o')\n",
    "# a, b, c = np.polyfit(population_arbre[\"arrond\"][:-3], population_arbre[\"pop\"][:-3], 2)\n",
    "# plt.plot(X, a*X**2+b*X+c, color='red')\n",
    "# plt.show()"
   ]
  },
  {
   "cell_type": "code",
   "execution_count": 34,
   "id": "49250a21",
   "metadata": {},
   "outputs": [],
   "source": [
    "# X = population_arbre[\"arrond\"][:-3]\n",
    "# plt.plot(X, population_arbre[\"pop\"][:-3], 'o')\n",
    "# a, b, c, d = np.polyfit(population_arbre[\"arrond\"][:-3], population_arbre[\"pop\"][:-3], 3)\n",
    "# plt.plot(X, a*X**3+b*X**2+c*X+d, color='red')\n",
    "# plt.show()"
   ]
  },
  {
   "cell_type": "code",
   "execution_count": 35,
   "id": "c193df28",
   "metadata": {},
   "outputs": [
    {
     "name": "stdout",
     "output_type": "stream",
     "text": [
      "         5         4         3         2\n",
      "0.05172 x - 2.782 x + 53.71 x - 447.2 x + 1600 x - 756.6\n"
     ]
    },
    {
     "data": {
      "image/png": "[encoded data removed]",
      "text/plain": [
       "<Figure size 640x480 with 1 Axes>"
      ]
     },
     "metadata": {},
     "output_type": "display_data"
    }
   ],
   "source": [
    "mymodel = np.poly1d(np.polyfit(population_arbre[\"arrond\"][:-3], population_arbre[\"pop\"][:-3], 5))\n",
    "print(mymodel)\n",
    "myline = np.linspace(1, 20)\n",
    "plt.scatter(population_arbre[\"arrond\"][:-3], population_arbre[\"pop\"][:-3])\n",
    "plt.plot(myline, mymodel(myline), color='red')\n",
    "plt.show() "
   ]
  },
  {
   "cell_type": "markdown",
   "id": "0117e64d",
   "metadata": {},
   "source": [
    "En fonction de la hauteur de l'arbre, on a besoin de différentes nacelles :  \n",
    "- inf. 3 m : pas besoin\n",
    "- de 3 à 20 m : nacelles sur porteur\n",
    "- sup. 20 m : nacelles à flèche téléscopique"
   ]
  },
  {
   "cell_type": "code",
   "execution_count": 40,
   "id": "94aa522c",
   "metadata": {},
   "outputs": [
    {
     "name": "stdout",
     "output_type": "stream",
     "text": [
      "Qualit :  domanialite  / Quant :  hauteur_m  --> eta :  0.08672813643905626\n",
      "Qualit :  domanialite  / Quant :  diametre_cm  --> eta :  0.019533689574470013\n",
      "Qualit :  domanialite  / Quant :  geo_point_2d_a  --> eta :  0.008140423766052354\n",
      "Qualit :  arrondissement  / Quant :  hauteur_m  --> eta :  0.09700156119550395\n",
      "Qualit :  arrondissement  / Quant :  diametre_cm  --> eta :  0.07006110720398516\n",
      "Qualit :  arrondissement  / Quant :  geo_point_2d_a  --> eta :  0.9015791194530289\n",
      "Qualit :  genre  / Quant :  hauteur_m  --> eta :  0.21153355240243873\n",
      "Qualit :  genre  / Quant :  diametre_cm  --> eta :  0.17090158289577642\n",
      "Qualit :  genre  / Quant :  geo_point_2d_a  --> eta :  0.048007839404066194\n",
      "Qualit :  stade_developpement  / Quant :  hauteur_m  --> eta :  0.4725216373915541\n",
      "Qualit :  stade_developpement  / Quant :  diametre_cm  --> eta :  0.4523189800282271\n",
      "Qualit :  stade_developpement  / Quant :  geo_point_2d_a  --> eta :  0.00479946892115959\n",
      "Qualit :  remarquable  / Quant :  hauteur_m  --> eta :  0.0023793625802046485\n",
      "Qualit :  remarquable  / Quant :  diametre_cm  --> eta :  0.004545947678248372\n",
      "Qualit :  remarquable  / Quant :  geo_point_2d_a  --> eta :  6.1770529608071124e-06\n"
     ]
    }
   ],
   "source": [
    "list_X = ['domanialite', 'arrondissement', 'genre', 'stade_developpement', 'remarquable'] # qualitative\n",
    "list_Y = ['hauteur_m', 'diametre_cm', 'geo_point_2d_a'] # quantitative\n",
    "# geo_point_2d_a et geo_point_2d_b\n",
    "for X in list_X:\n",
    "    for Y in list_Y:\n",
    "        temp_eta = eta_squared(data[X],data[Y])\n",
    "        print(\"Qualit : \", X, \" / Quant : \", Y, \" --> eta : \", temp_eta)"
   ]
  }
 ],
 "metadata": {
  "kernelspec": {
   "display_name": "conda_env_prj02",
   "language": "python",
   "name": "conda_env_prj02"
  },
  "language_info": {
   "codemirror_mode": {
    "name": "ipython",
    "version": 3
   },
   "file_extension": ".py",
   "mimetype": "text/x-python",
   "name": "python",
   "nbconvert_exporter": "python",
   "pygments_lexer": "ipython3",
   "version": "3.10.6"
  }
 },
 "nbformat": 4,
 "nbformat_minor": 5
}
