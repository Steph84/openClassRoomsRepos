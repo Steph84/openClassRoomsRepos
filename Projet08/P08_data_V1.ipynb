{
 "cells": [
  {
   "cell_type": "markdown",
   "id": "f7abe6b1-8691-4c25-912d-838b1b2e1a79",
   "metadata": {
    "tags": []
   },
   "source": [
    "### Import"
   ]
  },
  {
   "cell_type": "code",
   "execution_count": 1,
   "id": "da6d0170-4547-4e27-9e62-cbb460cd7bae",
   "metadata": {},
   "outputs": [
    {
     "name": "stderr",
     "output_type": "stream",
     "text": [
      "2023-10-02 11:27:39.092458: I tensorflow/core/util/port.cc:110] oneDNN custom operations are on. You may see slightly different numerical results due to floating-point round-off errors from different computation orders. To turn them off, set the environment variable `TF_ENABLE_ONEDNN_OPTS=0`.\n",
      "2023-10-02 11:27:39.382913: I tensorflow/core/platform/cpu_feature_guard.cc:182] This TensorFlow binary is optimized to use available CPU instructions in performance-critical operations.\n",
      "To enable the following instructions: AVX2 AVX_VNNI FMA, in other operations, rebuild TensorFlow with the appropriate compiler flags.\n",
      "2023-10-02 11:27:40.159732: W tensorflow/compiler/tf2tensorrt/utils/py_utils.cc:38] TF-TRT Warning: Could not find TensorRT\n"
     ]
    }
   ],
   "source": [
    "import os, time\n",
    "import pandas as pd\n",
    "import numpy as np\n",
    "import matplotlib.pyplot as plt\n",
    "from keras.preprocessing import image as image_utils\n",
    "from collections import namedtuple"
   ]
  },
  {
   "cell_type": "markdown",
   "id": "f4be031b-0674-42d0-a2f0-ed925a2a2098",
   "metadata": {
    "tags": []
   },
   "source": [
    "### Identification des catégories"
   ]
  },
  {
   "cell_type": "code",
   "execution_count": 2,
   "id": "bf666fcb-3a14-4ab6-9307-a57eb50e0e4e",
   "metadata": {
    "tags": []
   },
   "outputs": [],
   "source": [
    "Label = namedtuple( 'Label' , [\n",
    "\n",
    "    'name'        , # The identifier of this label, e.g. 'car', 'person', ... .\n",
    "                    # We use them to uniquely name a class\n",
    "\n",
    "    'id'          , # An integer ID that is associated with this label.\n",
    "                    # The IDs are used to represent the label in ground truth images\n",
    "                    # An ID of -1 means that this label does not have an ID and thus\n",
    "                    # is ignored when creating ground truth images (e.g. license plate).\n",
    "                    # Do not modify these IDs, since exactly these IDs are expected by the\n",
    "                    # evaluation server.\n",
    "\n",
    "    'trainId'     , # Feel free to modify these IDs as suitable for your method. Then create\n",
    "                    # ground truth images with train IDs, using the tools provided in the\n",
    "                    # 'preparation' folder. However, make sure to validate or submit results\n",
    "                    # to our evaluation server using the regular IDs above!\n",
    "                    # For trainIds, multiple labels might have the same ID. Then, these labels\n",
    "                    # are mapped to the same class in the ground truth images. For the inverse\n",
    "                    # mapping, we use the label that is defined first in the list below.\n",
    "                    # For example, mapping all void-type classes to the same ID in training,\n",
    "                    # might make sense for some approaches.\n",
    "                    # Max value is 255!\n",
    "\n",
    "    'category'    , # The name of the category that this label belongs to\n",
    "\n",
    "    'categoryId'  , # The ID of this category. Used to create ground truth images\n",
    "                    # on category level.\n",
    "\n",
    "    'hasInstances', # Whether this label distinguishes between single instances or not\n",
    "\n",
    "    'ignoreInEval', # Whether pixels having this class as ground truth label are ignored\n",
    "                    # during evaluations or not\n",
    "\n",
    "    'color'       , # The color of this label\n",
    "    ] )"
   ]
  },
  {
   "cell_type": "code",
   "execution_count": 3,
   "id": "a9dcec94-8bbf-4192-8a75-a9edf93c3d50",
   "metadata": {},
   "outputs": [],
   "source": [
    "labels = [\n",
    "    #       name                     id    trainId   category            catId     hasInstances   ignoreInEval   color\n",
    "    Label(  'unlabeled'            ,  0 ,      255 , 'void'            , 0       , False        , True         , (  0,  0,  0) ),\n",
    "    Label(  'ego vehicle'          ,  1 ,      255 , 'void'            , 0       , False        , True         , (  0,  0,  0) ),\n",
    "    Label(  'rectification border' ,  2 ,      255 , 'void'            , 0       , False        , True         , (  0,  0,  0) ),\n",
    "    Label(  'out of roi'           ,  3 ,      255 , 'void'            , 0       , False        , True         , (  0,  0,  0) ),\n",
    "    Label(  'static'               ,  4 ,      255 , 'void'            , 0       , False        , True         , (  0,  0,  0) ),\n",
    "    Label(  'dynamic'              ,  5 ,      255 , 'void'            , 0       , False        , True         , (111, 74,  0) ),\n",
    "    Label(  'ground'               ,  6 ,      255 , 'void'            , 0       , False        , True         , ( 81,  0, 81) ),\n",
    "    Label(  'road'                 ,  7 ,        0 , 'flat'            , 1       , False        , False        , (128, 64,128) ),\n",
    "    Label(  'sidewalk'             ,  8 ,        1 , 'flat'            , 1       , False        , False        , (244, 35,232) ),\n",
    "    Label(  'parking'              ,  9 ,      255 , 'flat'            , 1       , False        , True         , (250,170,160) ),\n",
    "    Label(  'rail track'           , 10 ,      255 , 'flat'            , 1       , False        , True         , (230,150,140) ),\n",
    "    Label(  'building'             , 11 ,        2 , 'construction'    , 2       , False        , False        , ( 70, 70, 70) ),\n",
    "    Label(  'wall'                 , 12 ,        3 , 'construction'    , 2       , False        , False        , (102,102,156) ),\n",
    "    Label(  'fence'                , 13 ,        4 , 'construction'    , 2       , False        , False        , (190,153,153) ),\n",
    "    Label(  'guard rail'           , 14 ,      255 , 'construction'    , 2       , False        , True         , (180,165,180) ),\n",
    "    Label(  'bridge'               , 15 ,      255 , 'construction'    , 2       , False        , True         , (150,100,100) ),\n",
    "    Label(  'tunnel'               , 16 ,      255 , 'construction'    , 2       , False        , True         , (150,120, 90) ),\n",
    "    Label(  'pole'                 , 17 ,        5 , 'object'          , 3       , False        , False        , (153,153,153) ),\n",
    "    Label(  'polegroup'            , 18 ,      255 , 'object'          , 3       , False        , True         , (153,153,153) ),\n",
    "    Label(  'traffic light'        , 19 ,        6 , 'object'          , 3       , False        , False        , (250,170, 30) ),\n",
    "    Label(  'traffic sign'         , 20 ,        7 , 'object'          , 3       , False        , False        , (220,220,  0) ),\n",
    "    Label(  'vegetation'           , 21 ,        8 , 'nature'          , 4       , False        , False        , (107,142, 35) ),\n",
    "    Label(  'terrain'              , 22 ,        9 , 'nature'          , 4       , False        , False        , (152,251,152) ),\n",
    "    Label(  'sky'                  , 23 ,       10 , 'sky'             , 5       , False        , False        , ( 70,130,180) ),\n",
    "    Label(  'person'               , 24 ,       11 , 'human'           , 6       , True         , False        , (220, 20, 60) ),\n",
    "    Label(  'rider'                , 25 ,       12 , 'human'           , 6       , True         , False        , (255,  0,  0) ),\n",
    "    Label(  'car'                  , 26 ,       13 , 'vehicle'         , 7       , True         , False        , (  0,  0,142) ),\n",
    "    Label(  'truck'                , 27 ,       14 , 'vehicle'         , 7       , True         , False        , (  0,  0, 70) ),\n",
    "    Label(  'bus'                  , 28 ,       15 , 'vehicle'         , 7       , True         , False        , (  0, 60,100) ),\n",
    "    Label(  'caravan'              , 29 ,      255 , 'vehicle'         , 7       , True         , True         , (  0,  0, 90) ),\n",
    "    Label(  'trailer'              , 30 ,      255 , 'vehicle'         , 7       , True         , True         , (  0,  0,110) ),\n",
    "    Label(  'train'                , 31 ,       16 , 'vehicle'         , 7       , True         , False        , (  0, 80,100) ),\n",
    "    Label(  'motorcycle'           , 32 ,       17 , 'vehicle'         , 7       , True         , False        , (  0,  0,230) ),\n",
    "    Label(  'bicycle'              , 33 ,       18 , 'vehicle'         , 7       , True         , False        , (119, 11, 32) ),\n",
    "    Label(  'license plate'        , -1 ,       -1 , 'vehicle'         , 7       , False        , True         , (  0,  0,142) ),\n",
    "]"
   ]
  },
  {
   "cell_type": "code",
   "execution_count": 4,
   "id": "e7e8322d-874c-4d47-a4ba-463b5b5e296d",
   "metadata": {},
   "outputs": [],
   "source": [
    "cats = {'void': [0, 1, 2, 3, 4, 5, 6],\n",
    " 'flat': [7, 8, 9, 10],\n",
    " 'construction': [11, 12, 13, 14, 15, 16],\n",
    " 'object': [17, 18, 19, 20],\n",
    " 'nature': [21, 22],\n",
    " 'sky': [23],\n",
    " 'human': [24, 25],\n",
    " 'vehicle': [26, 27, 28, 29, 30, 31, 32, 33, -1]}"
   ]
  },
  {
   "cell_type": "code",
   "execution_count": 5,
   "id": "6f82b31b-305d-48d3-8014-857d6a51e938",
   "metadata": {},
   "outputs": [],
   "source": [
    "labels_mapping = dict([(x.category, x.categoryId) for x in labels])"
   ]
  },
  {
   "cell_type": "markdown",
   "id": "c12a3eee-6ca3-4051-bc91-e11a895b6bd5",
   "metadata": {
    "tags": []
   },
   "source": [
    "## Méthodes du projet"
   ]
  },
  {
   "cell_type": "markdown",
   "id": "36efc2df-8788-4161-b741-032f46d220fa",
   "metadata": {
    "tags": []
   },
   "source": [
    "### Exploration des données"
   ]
  },
  {
   "cell_type": "code",
   "execution_count": 6,
   "id": "e7b6e7e7-59d1-4d7d-bc76-202313c2526f",
   "metadata": {
    "tags": []
   },
   "outputs": [],
   "source": [
    "# pour les pie charts, pour afficher les pourcentages et les libellés uniquement avec le taux > limit_perc%\n",
    "limit_perc = 5\n",
    "def show_perc(pct):\n",
    "    \"\"\" Affiche le pourcentage de chaque portion si la condition est vérifiée \"\"\"\n",
    "    return ('%.1f%%' % pct) if pct > limit_perc else ''\n",
    "\n",
    "def show_labels(data):\n",
    "    list = []\n",
    "    for val, cnt in data.items():\n",
    "        if (cnt*100/np.sum(data)) > limit_perc :\n",
    "            list.append(val)\n",
    "        else:\n",
    "            list.append('')\n",
    "    return list"
   ]
  },
  {
   "cell_type": "code",
   "execution_count": 7,
   "id": "d33e9a35-4c52-4288-b397-b8fa56fdb2b7",
   "metadata": {},
   "outputs": [],
   "source": [
    "def show_unique_values(df, col, display_pie=True, silent=False, cumul_threshold=85):\n",
    "    \"\"\"\n",
    "    Affiche la liste des valeurs uniques contenues dans une colonne\n",
    "    Affiche le pie chart de ces données également\n",
    "    \"\"\"\n",
    "    temp_val_count = df[col].value_counts(normalize=True)\n",
    "    df_val_count = temp_val_count.rename_axis(\"label\").to_frame(\"%\")\n",
    "    df_val_count[\"%\"] = round(df_val_count[\"%\"]*100, 2)\n",
    "    df_val_count[\"%_cumul\"] = df_val_count[\"%\"].cumsum()\n",
    "    # afficher la majeur partie des catégories\n",
    "    sub_display = df_val_count.loc[df_val_count[\"%_cumul\"] <= cumul_threshold, :]\n",
    "    \n",
    "    if silent:\n",
    "        return sub_display\n",
    "    \n",
    "    if len(sub_display) < 5:\n",
    "        display(df_val_count.head())\n",
    "    else:\n",
    "        display(sub_display.head(len(sub_display)))\n",
    "    if display_pie:\n",
    "        temp_val_count.plot(kind='pie', autopct=show_perc, labels=show_labels(temp_val_count), label='')\n",
    "        plt.axis('equal')\n",
    "        plt.show()\n",
    "    return sub_display"
   ]
  },
  {
   "cell_type": "code",
   "execution_count": 25,
   "id": "6c30a8d8-c9c3-439b-a1ac-df7eb3782cbd",
   "metadata": {},
   "outputs": [],
   "source": [
    "def explore_data_folders(path):\n",
    "    temp_dict = {\n",
    "        'set_type': [],\n",
    "        'city': [],\n",
    "        'n_pictures': [],\n",
    "        'n_json_data': []\n",
    "    }\n",
    "    \n",
    "    # explore the folders data\n",
    "    for root, dirs, files in os.walk(path):\n",
    "        \n",
    "        # get the useful informations\n",
    "        if len(files) > 2:\n",
    "            dict_type_files = {\n",
    "                'png': 0,\n",
    "                'json': 0\n",
    "            }\n",
    "            for elt in files:\n",
    "                if elt.endswith(\"json\"):\n",
    "                    dict_type_files['json'] += 1\n",
    "                elif elt.endswith(\"png\"):\n",
    "                    dict_type_files['png'] += 1\n",
    "            \n",
    "            spli_root = root.split(\"/\")\n",
    "            temp_dict['set_type'].append(spli_root[-2])\n",
    "            temp_dict['city'].append(spli_root[-1])\n",
    "            temp_dict['n_pictures'].append(dict_type_files['png'])\n",
    "            temp_dict['n_json_data'].append(dict_type_files['json'])\n",
    "    \n",
    "    # convert dict to df to use it and sort it by dataset type\n",
    "    res_df = pd.DataFrame(temp_dict)\n",
    "    res_df[\"customOrder\"] = res_df['set_type'].apply(lambda x: ['train', 'val', 'test'].index(x))\n",
    "    res_df = res_df.sort_values(by='customOrder')\n",
    "    res_df = res_df.drop(columns=['customOrder'])\n",
    "    \n",
    "    # display informations about the data    \n",
    "    nb_cities_by_dataset = res_df.groupby('city', sort=False).agg({'n_pictures': 'sum'})\n",
    "    for index, row in nb_cities_by_dataset.iterrows():\n",
    "        print(\"Pour la ville de'\", index, \"', nous avons\", row['n_pictures'], \"images.\")\n",
    "    \n",
    "    nb_cities_by_dataset = res_df.groupby('set_type', sort=False).agg({'city': 'count'})\n",
    "    for index, row in nb_cities_by_dataset.iterrows():\n",
    "        print(\"Dans le dataset de type'\", index, \"', nous avons\", row['city'], \"villes.\")\n",
    "    print(\"Pour un total de\", nb_cities_by_dataset['city'].sum(), \"villes.\")\n",
    "          \n",
    "    nb_pics_by_dataset = res_df.groupby('set_type', sort=False).agg({'n_pictures': 'sum'})\n",
    "    for index, row in nb_pics_by_dataset.iterrows():\n",
    "        print(\"Dans le dataset de type'\", index, \"', nous avons\", row['n_pictures'], \"images.\")\n",
    "    print(\"Pour un total de\", nb_pics_by_dataset['n_pictures'].sum(), \"images.\")\n",
    "          \n",
    "    nb_json_by_dataset = res_df.groupby('set_type', sort=False).agg({'n_json_data': 'sum'})\n",
    "    if nb_json_by_dataset['n_json_data'].sum() > 0:\n",
    "        for index, row in nb_json_by_dataset.iterrows():\n",
    "            print(\"Dans le dataset de type'\", index, \"', nous avons\", row['n_json_data'], \"fichiers json.\")\n",
    "        print(\"Pour un total de\", nb_json_by_dataset['n_json_data'].sum(), \"fichiers data en json.\")\n",
    "    \n",
    "    return res_df"
   ]
  },
  {
   "cell_type": "markdown",
   "id": "5b1e9441-541c-4507-bba5-5632bf2c8277",
   "metadata": {
    "tags": []
   },
   "source": [
    "### Chargement des données"
   ]
  },
  {
   "cell_type": "code",
   "execution_count": 26,
   "id": "bd595695-75b4-425d-bad9-633944bc6128",
   "metadata": {
    "tags": []
   },
   "outputs": [],
   "source": [
    "def load_data_from_json_files(begin_path, correspondig_dict_categ={}, labels_mapping={}, nb_files=10):\n",
    "    start = time.time()\n",
    "    res_df = pd.DataFrame()\n",
    "    count_files = 0\n",
    "    for root, dirs, files in os.walk(begin_path):\n",
    "        if len(files) > 2:\n",
    "            for elt in files:\n",
    "                if elt.endswith(\"json\"):\n",
    "                    print(elt)\n",
    "                    count_files += 1\n",
    "                    # load data\n",
    "                    temp_path = root + \"/\" + elt\n",
    "                    temp_df = pd.read_json(temp_path)\n",
    "\n",
    "                    # convert dictionary objects into 2 columns\n",
    "                    temp_df = pd.concat([temp_df.drop(['objects'], axis=1), temp_df['objects'].apply(pd.Series)], axis=1)\n",
    "\n",
    "                    # add few data into new columns\n",
    "                    split_name = elt.split(\"_\")\n",
    "                    split_root = root.split(\"/\")\n",
    "                    temp_df[\"city\"] = split_name[0]\n",
    "                    temp_df[\"pic_id\"] = \"_\".join(split_name[1:3])\n",
    "                    temp_df[\"set_type\"] = split_root[-2]\n",
    "                    \n",
    "                    # concatenante the data continuously\n",
    "                    res_df = pd.concat([res_df, temp_df])\n",
    "                    \n",
    "                    if count_files == nb_files:\n",
    "                        break\n",
    "                        \n",
    "        if count_files == nb_files:\n",
    "            break\n",
    "                    \n",
    "    # add main category aka main target with the correspondance\n",
    "    if correspondig_dict_categ:\n",
    "        flatten_dict = {val:key for key, lst in correspondig_dict_categ.items() for val in lst}\n",
    "        res_df[\"target\"] = res_df[\"label\"].map(flatten_dict)\n",
    "    \n",
    "    # add correspondance label and its id\n",
    "    if labels_mapping:\n",
    "        res_df[\"target_id\"] = res_df[\"target\"].map(labels_mapping)\n",
    "    \n",
    "    # delete dimension column because exactly the same for all, 1024 x 2048\n",
    "    res_df.drop(columns=['imgHeight', 'imgWidth'], inplace=True)\n",
    "    \n",
    "    end = time.time()\n",
    "    delta = round(end - start, 0)\n",
    "    print(\"Execution time of load_data_from_json_files() is:\", delta, \"s, soit\", round(delta/60, 0), \"min, soit\" , round(delta/3600, 0), \"h.\")\n",
    "    return res_df"
   ]
  },
  {
   "cell_type": "code",
   "execution_count": 27,
   "id": "b8809999-3eb7-480d-a731-4da95af5755f",
   "metadata": {
    "tags": []
   },
   "outputs": [],
   "source": [
    "def load_data_from_labelid_files(begin_path, correspondig_dict_categ={}, labels_mapping={}, nb_files=10):\n",
    "    start = time.time()\n",
    "    res_df = pd.DataFrame()\n",
    "    temp_res_dict = {\n",
    "        'city': [],\n",
    "        'pic_id': [],\n",
    "        'label_id': [],\n",
    "        'target': [],\n",
    "        'nb_pixels': []\n",
    "    }\n",
    "    count_files = 0\n",
    "    for root, dirs, files in os.walk(begin_path):\n",
    "        if len(files) > 2:\n",
    "            for elt in files:\n",
    "                if elt.endswith(\"labelIds.png\"):\n",
    "                    count_files += 1\n",
    "                    # load picture\n",
    "                    temp_path = root + \"/\" + elt\n",
    "                    img = image_utils.img_to_array(image_utils.load_img(temp_path))\n",
    "                    invent_ids = np.unique(img, return_counts=True)\n",
    "                    # temp_pic_id = \"_\".join(elt.split(\"_\")[1:3])\n",
    "                    split_name = elt.split(\"_\")\n",
    "                    for categ, nb_pix in zip(invent_ids[0], invent_ids[1]):\n",
    "                        temp_res_dict[\"city\"].append(split_name[0])\n",
    "                        temp_res_dict[\"pic_id\"].append(\"_\".join(split_name[1:3]))\n",
    "                        # temp_res_dict[\"pic_id\"].append(temp_pic_id)\n",
    "                        temp_res_dict[\"label_id\"].append(categ)\n",
    "                        temp_key = [k for k, v in cats.items() if categ in v]\n",
    "                        temp_res_dict[\"target\"].append(temp_key[0])\n",
    "                        temp_res_dict[\"nb_pixels\"].append(nb_pix)\n",
    "                        \n",
    "                    \n",
    "                    if count_files == nb_files:\n",
    "                        break\n",
    "                        \n",
    "        if count_files == nb_files:\n",
    "            break\n",
    "            \n",
    "    res_df = pd.DataFrame(temp_res_dict)\n",
    "    res_df['label_id'] = res_df['label_id'].astype('Int64')\n",
    "    \n",
    "    # add correspondance label and its id\n",
    "    if labels_mapping:\n",
    "        res_df[\"target_id\"] = res_df[\"target\"].map(labels_mapping)\n",
    "        \n",
    "    end = time.time()\n",
    "    delta = round(end - start, 0)\n",
    "    print(\"Execution time of load_data_from_labelid_files() is:\", delta, \"s, soit\", round(delta/60, 0), \"min, soit\" , round(delta/3600, 0), \"h.\")\n",
    "    return res_df"
   ]
  },
  {
   "cell_type": "markdown",
   "id": "2d21babd-0f6b-40b2-b1dc-1403a277340e",
   "metadata": {},
   "source": [
    "# Explorations des données"
   ]
  },
  {
   "cell_type": "markdown",
   "id": "deeef61b-ba25-4a18-b50a-327ff6fb460b",
   "metadata": {
    "tags": []
   },
   "source": [
    "## Images brutes"
   ]
  },
  {
   "cell_type": "markdown",
   "id": "ac285fe5-1818-44a4-b82b-7878437c132b",
   "metadata": {},
   "source": [
    "Dans les données fournies, nous avons des images brutes. Il s'agit des images issues de la partie \"Acquisition des images en temps réel\" du projet.  \n",
    "Elles sont scindées en 3 parties correspondant aux 3 jeux de données nécessaires à une étude de machine learning : \n",
    " - le jeu d'entraînement\n",
    " - le jeu de validation\n",
    " - le jeu de test"
   ]
  },
  {
   "cell_type": "code",
   "execution_count": 28,
   "id": "67208f1d-2ccb-4e8c-889f-e9effe4f6f86",
   "metadata": {
    "tags": []
   },
   "outputs": [
    {
     "name": "stdout",
     "output_type": "stream",
     "text": [
      "Pour la ville de' hanover ', nous avons 196 images.\n",
      "Pour la ville de' hamburg ', nous avons 248 images.\n",
      "Pour la ville de' monchengladbach ', nous avons 94 images.\n",
      "Pour la ville de' krefeld ', nous avons 99 images.\n",
      "Pour la ville de' ulm ', nous avons 95 images.\n",
      "Pour la ville de' bochum ', nous avons 96 images.\n",
      "Pour la ville de' zurich ', nous avons 122 images.\n",
      "Pour la ville de' strasbourg ', nous avons 365 images.\n",
      "Pour la ville de' darmstadt ', nous avons 85 images.\n",
      "Pour la ville de' jena ', nous avons 119 images.\n",
      "Pour la ville de' erfurt ', nous avons 109 images.\n",
      "Pour la ville de' cologne ', nous avons 154 images.\n",
      "Pour la ville de' tubingen ', nous avons 144 images.\n",
      "Pour la ville de' weimar ', nous avons 142 images.\n",
      "Pour la ville de' stuttgart ', nous avons 196 images.\n",
      "Pour la ville de' aachen ', nous avons 174 images.\n",
      "Pour la ville de' bremen ', nous avons 316 images.\n",
      "Pour la ville de' dusseldorf ', nous avons 221 images.\n",
      "Pour la ville de' frankfurt ', nous avons 267 images.\n",
      "Pour la ville de' munster ', nous avons 174 images.\n",
      "Pour la ville de' lindau ', nous avons 59 images.\n",
      "Pour la ville de' bonn ', nous avons 46 images.\n",
      "Pour la ville de' bielefeld ', nous avons 181 images.\n",
      "Pour la ville de' leverkusen ', nous avons 58 images.\n",
      "Pour la ville de' berlin ', nous avons 544 images.\n",
      "Pour la ville de' mainz ', nous avons 298 images.\n",
      "Pour la ville de' munich ', nous avons 398 images.\n",
      "Dans le dataset de type' train ', nous avons 18 villes.\n",
      "Dans le dataset de type' val ', nous avons 3 villes.\n",
      "Dans le dataset de type' test ', nous avons 6 villes.\n",
      "Pour un total de 27 villes.\n",
      "Dans le dataset de type' train ', nous avons 2975 images.\n",
      "Dans le dataset de type' val ', nous avons 500 images.\n",
      "Dans le dataset de type' test ', nous avons 1525 images.\n",
      "Pour un total de 5000 images.\n"
     ]
    }
   ],
   "source": [
    "df_raw_pictures = explore_data_folders(\"P8_Cityscapes_leftImg8bit_trainvaltest/\")"
   ]
  },
  {
   "cell_type": "markdown",
   "id": "fc0879ce-a35c-43ca-b255-fee4b3913ff1",
   "metadata": {
    "tags": []
   },
   "source": [
    "## Données annotées"
   ]
  },
  {
   "cell_type": "code",
   "execution_count": 29,
   "id": "955fad14-e6ed-41cc-9d87-616eaf601f6f",
   "metadata": {
    "tags": []
   },
   "outputs": [
    {
     "name": "stdout",
     "output_type": "stream",
     "text": [
      "Pour la ville de' hanover ', nous avons 588 images.\n",
      "Pour la ville de' hamburg ', nous avons 744 images.\n",
      "Pour la ville de' monchengladbach ', nous avons 282 images.\n",
      "Pour la ville de' krefeld ', nous avons 297 images.\n",
      "Pour la ville de' ulm ', nous avons 285 images.\n",
      "Pour la ville de' bochum ', nous avons 288 images.\n",
      "Pour la ville de' zurich ', nous avons 366 images.\n",
      "Pour la ville de' strasbourg ', nous avons 1095 images.\n",
      "Pour la ville de' darmstadt ', nous avons 255 images.\n",
      "Pour la ville de' jena ', nous avons 357 images.\n",
      "Pour la ville de' erfurt ', nous avons 327 images.\n",
      "Pour la ville de' cologne ', nous avons 462 images.\n",
      "Pour la ville de' tubingen ', nous avons 432 images.\n",
      "Pour la ville de' weimar ', nous avons 426 images.\n",
      "Pour la ville de' stuttgart ', nous avons 588 images.\n",
      "Pour la ville de' aachen ', nous avons 522 images.\n",
      "Pour la ville de' bremen ', nous avons 948 images.\n",
      "Pour la ville de' dusseldorf ', nous avons 663 images.\n",
      "Pour la ville de' frankfurt ', nous avons 801 images.\n",
      "Pour la ville de' munster ', nous avons 522 images.\n",
      "Pour la ville de' lindau ', nous avons 177 images.\n",
      "Pour la ville de' bonn ', nous avons 138 images.\n",
      "Pour la ville de' bielefeld ', nous avons 543 images.\n",
      "Pour la ville de' leverkusen ', nous avons 174 images.\n",
      "Pour la ville de' berlin ', nous avons 1632 images.\n",
      "Pour la ville de' mainz ', nous avons 894 images.\n",
      "Pour la ville de' munich ', nous avons 1194 images.\n",
      "Dans le dataset de type' train ', nous avons 18 villes.\n",
      "Dans le dataset de type' val ', nous avons 3 villes.\n",
      "Dans le dataset de type' test ', nous avons 6 villes.\n",
      "Pour un total de 27 villes.\n",
      "Dans le dataset de type' train ', nous avons 8925 images.\n",
      "Dans le dataset de type' val ', nous avons 1500 images.\n",
      "Dans le dataset de type' test ', nous avons 4575 images.\n",
      "Pour un total de 15000 images.\n",
      "Dans le dataset de type' train ', nous avons 2975 fichiers json.\n",
      "Dans le dataset de type' val ', nous avons 500 fichiers json.\n",
      "Dans le dataset de type' test ', nous avons 1525 fichiers json.\n",
      "Pour un total de 5000 fichiers data en json.\n"
     ]
    }
   ],
   "source": [
    "df_annot_pictures = explore_data_folders(\"P8_Cityscapes_gtFine_trainvaltest/\")"
   ]
  },
  {
   "cell_type": "markdown",
   "id": "8b4c2f72-dd7c-4f91-b5d0-64b0e33c39e8",
   "metadata": {},
   "source": [
    "Entre les images brutes et les données de segmentation, nous avons bien le même nombre de villes par type de dataset et le même nombre au total."
   ]
  },
  {
   "cell_type": "markdown",
   "id": "7483734a-eeb8-4d48-94cc-3f148d5656af",
   "metadata": {},
   "source": [
    "En revanche, concernant le nombre de fichiers, il y a une différence. En effet, les données sont réparties en 4 types de données : \n",
    " - une image avec la segmentation sous forme de polygone coloré\n",
    " - une image dont la couleur de l'objet correspond à l'id de l'objet\n",
    " - une image dont la couleur de l'objet correspond à l'id de la catégorie\n",
    " - un fichier json regroupant les données : chaque polygone de couleur avec ses coordonnées et sa catégorie"
   ]
  },
  {
   "cell_type": "markdown",
   "id": "1dbedd1a-3bfe-478f-b7a3-a25b258ce3e5",
   "metadata": {},
   "source": [
    "A chaque image brute, correspond un lot de 4 fichiers (3 images + 1 json). On a donc bien 5 000 images brutes pour 4 x 5 000 lot de données. Nos données sont cohérentes."
   ]
  },
  {
   "cell_type": "markdown",
   "id": "f9ca284c-bf8d-4036-8741-3df5f45b96cf",
   "metadata": {
    "tags": []
   },
   "source": [
    "## Données json and labelids"
   ]
  },
  {
   "cell_type": "markdown",
   "id": "d9b20135-4020-4b81-9b36-458d8efe3484",
   "metadata": {
    "tags": []
   },
   "source": [
    "### Chargement"
   ]
  },
  {
   "cell_type": "code",
   "execution_count": 30,
   "id": "c2b75599-0371-45d1-afc8-e0345cde4ddb",
   "metadata": {},
   "outputs": [],
   "source": [
    "dict_categ_subcateg = {\n",
    "    'flat': ['road', 'sidewalk', 'parking', 'rail track'],\n",
    "    'human': ['person', 'rider', 'persongroup', 'ridergroup'],\n",
    "    'vehicle': [\"car\", \"truck\", \"bus\", \"motorcycle\", \"bicycle\", \"caravan\", \"trailer\", \"bicyclegroup\", \"motorcyclegroup\", \"train\", \"cargroup\", \"truckgroup\", \"license plate\", \"ego vehicle\"],\n",
    "    'construction': [\"building\", \"wall\", \"fence\", \"guard rail\", \"bridge\", \"tunnel\"],\n",
    "    'object': [\"pole\", \"traffic sign\", \"traffic light\", \"polegroup\"],\n",
    "    'nature': [\"vegetation\", \"terrain\"],\n",
    "    'sky': [\"sky\"],\n",
    "    'void': [\"ground\", \"dynamic\", \"static\", \"rectification border\", \"out of roi\"]\n",
    "}"
   ]
  },
  {
   "cell_type": "markdown",
   "id": "cd6f3ae2-6a91-4d3d-a6ed-ec630f3e7d8a",
   "metadata": {},
   "source": [
    "En étudiant le jeu de données fourni, on peut distinguer les différentes catégories d'objet détectées."
   ]
  },
  {
   "cell_type": "code",
   "execution_count": 31,
   "id": "5f2df86a-2a10-47a1-b56a-c1d0e6fca9e7",
   "metadata": {},
   "outputs": [
    {
     "name": "stdout",
     "output_type": "stream",
     "text": [
      "Dans la catégorie ' flat ', il y a 4 sous-catégories.\n",
      "Dans la catégorie ' human ', il y a 4 sous-catégories.\n",
      "Dans la catégorie ' vehicle ', il y a 14 sous-catégories.\n",
      "Dans la catégorie ' construction ', il y a 6 sous-catégories.\n",
      "Dans la catégorie ' object ', il y a 4 sous-catégories.\n",
      "Dans la catégorie ' nature ', il y a 2 sous-catégories.\n",
      "Dans la catégorie ' sky ', il y a 1 sous-catégories.\n",
      "Dans la catégorie ' void ', il y a 5 sous-catégories.\n",
      "Pour un toal de 40 sous-catégories.\n"
     ]
    }
   ],
   "source": [
    "sub_categ_count = 0\n",
    "for categ, subcategs in dict_categ_subcateg.items():\n",
    "    print(\"Dans la catégorie '\", categ, \"', il y a\", len(subcategs), \"sous-catégories.\")\n",
    "    sub_categ_count += len(subcategs)\n",
    "print(\"Pour un toal de\", sub_categ_count, \"sous-catégories.\")"
   ]
  },
  {
   "cell_type": "markdown",
   "id": "02ebdd94-ad3d-447a-abde-224865994b5a",
   "metadata": {},
   "source": [
    "On charge les données issues de 2 sources : \n",
    " - les fichiers data json\n",
    " - les images encodées avec les identifiants des labels"
   ]
  },
  {
   "cell_type": "code",
   "execution_count": 32,
   "id": "b3fab371-ac75-4d5f-bde7-c441e9c0fa89",
   "metadata": {},
   "outputs": [],
   "source": [
    "json_files_path = \"P8_Cityscapes_gtFine_trainvaltest/gtFine/\"\n",
    "if os.path.exists(\"data_from_json.csv\") and os.path.exists(\"data_from_labelid.csv\"):\n",
    "    data_from_json = pd.read_csv(\"data_from_json.csv\", sep='\\t', encoding='utf-8', index_col=0)\n",
    "    data_from_labelid = pd.read_csv(\"data_from_labelid.csv\", sep='\\t', encoding='utf-8', index_col=0)\n",
    "else:\n",
    "    data_from_json = load_data_from_json_files(json_files_path, correspondig_dict_categ=dict_categ_subcateg, labels_mapping=labels_mapping)\n",
    "    data_from_json.to_csv(\"data_from_json.csv\", sep='\\t', encoding='utf-8')\n",
    "    data_from_labelid = load_data_from_labelid_files(json_files_path, correspondig_dict_categ=dict_categ_subcateg, labels_mapping=labels_mapping)\n",
    "    data_from_labelid.to_csv(\"data_from_labelid.csv\", sep='\\t', encoding='utf-8')"
   ]
  },
  {
   "cell_type": "markdown",
   "id": "ecf119b3-1eda-4d77-a048-59f82f6d06e3",
   "metadata": {
    "tags": []
   },
   "source": [
    "### Etude des données"
   ]
  },
  {
   "cell_type": "code",
   "execution_count": 33,
   "id": "9f6e77a4-99c7-4c9b-afa6-8d815c97ab6a",
   "metadata": {},
   "outputs": [
    {
     "data": {
      "text/html": [
       "<div>\n",
       "<style scoped>\n",
       "    .dataframe tbody tr th:only-of-type {\n",
       "        vertical-align: middle;\n",
       "    }\n",
       "\n",
       "    .dataframe tbody tr th {\n",
       "        vertical-align: top;\n",
       "    }\n",
       "\n",
       "    .dataframe thead th {\n",
       "        text-align: right;\n",
       "    }\n",
       "</style>\n",
       "<table border=\"1\" class=\"dataframe\">\n",
       "  <thead>\n",
       "    <tr style=\"text-align: right;\">\n",
       "      <th></th>\n",
       "      <th>label</th>\n",
       "      <th>polygon</th>\n",
       "      <th>city</th>\n",
       "      <th>pic_id</th>\n",
       "      <th>set_type</th>\n",
       "      <th>target</th>\n",
       "      <th>target_id</th>\n",
       "    </tr>\n",
       "  </thead>\n",
       "  <tbody>\n",
       "    <tr>\n",
       "      <th>0</th>\n",
       "      <td>sky</td>\n",
       "      <td>[[126, 9], [235, 182], [797, 315], [1045, 339]...</td>\n",
       "      <td>lindau</td>\n",
       "      <td>000057_000019</td>\n",
       "      <td>val</td>\n",
       "      <td>sky</td>\n",
       "      <td>5</td>\n",
       "    </tr>\n",
       "    <tr>\n",
       "      <th>1</th>\n",
       "      <td>road</td>\n",
       "      <td>[[37, 561], [362, 514], [811, 398], [955, 361]...</td>\n",
       "      <td>lindau</td>\n",
       "      <td>000057_000019</td>\n",
       "      <td>val</td>\n",
       "      <td>flat</td>\n",
       "      <td>1</td>\n",
       "    </tr>\n",
       "    <tr>\n",
       "      <th>2</th>\n",
       "      <td>building</td>\n",
       "      <td>[[1140, 324], [1139, 334], [1138, 337], [1123,...</td>\n",
       "      <td>lindau</td>\n",
       "      <td>000057_000019</td>\n",
       "      <td>val</td>\n",
       "      <td>construction</td>\n",
       "      <td>2</td>\n",
       "    </tr>\n",
       "    <tr>\n",
       "      <th>3</th>\n",
       "      <td>vegetation</td>\n",
       "      <td>[[1129, 376], [1127, 371], [1127, 369], [1125,...</td>\n",
       "      <td>lindau</td>\n",
       "      <td>000057_000019</td>\n",
       "      <td>val</td>\n",
       "      <td>nature</td>\n",
       "      <td>4</td>\n",
       "    </tr>\n",
       "    <tr>\n",
       "      <th>4</th>\n",
       "      <td>building</td>\n",
       "      <td>[[1073, 337], [1072, 294], [1055, 291], [1049,...</td>\n",
       "      <td>lindau</td>\n",
       "      <td>000057_000019</td>\n",
       "      <td>val</td>\n",
       "      <td>construction</td>\n",
       "      <td>2</td>\n",
       "    </tr>\n",
       "    <tr>\n",
       "      <th>5</th>\n",
       "      <td>vegetation</td>\n",
       "      <td>[[870, 378], [880, 376], [884, 376], [888, 377...</td>\n",
       "      <td>lindau</td>\n",
       "      <td>000057_000019</td>\n",
       "      <td>val</td>\n",
       "      <td>nature</td>\n",
       "      <td>4</td>\n",
       "    </tr>\n",
       "    <tr>\n",
       "      <th>6</th>\n",
       "      <td>cargroup</td>\n",
       "      <td>[[962, 400], [963, 398], [963, 394], [963, 392...</td>\n",
       "      <td>lindau</td>\n",
       "      <td>000057_000019</td>\n",
       "      <td>val</td>\n",
       "      <td>vehicle</td>\n",
       "      <td>7</td>\n",
       "    </tr>\n",
       "    <tr>\n",
       "      <th>7</th>\n",
       "      <td>cargroup</td>\n",
       "      <td>[[921, 391], [913, 388], [909, 386], [904, 386...</td>\n",
       "      <td>lindau</td>\n",
       "      <td>000057_000019</td>\n",
       "      <td>val</td>\n",
       "      <td>vehicle</td>\n",
       "      <td>7</td>\n",
       "    </tr>\n",
       "    <tr>\n",
       "      <th>8</th>\n",
       "      <td>building</td>\n",
       "      <td>[[861, 260], [838, 262], [819, 261], [812, 261...</td>\n",
       "      <td>lindau</td>\n",
       "      <td>000057_000019</td>\n",
       "      <td>val</td>\n",
       "      <td>construction</td>\n",
       "      <td>2</td>\n",
       "    </tr>\n",
       "    <tr>\n",
       "      <th>9</th>\n",
       "      <td>car</td>\n",
       "      <td>[[860, 397], [843, 396], [838, 397], [839, 401...</td>\n",
       "      <td>lindau</td>\n",
       "      <td>000057_000019</td>\n",
       "      <td>val</td>\n",
       "      <td>vehicle</td>\n",
       "      <td>7</td>\n",
       "    </tr>\n",
       "  </tbody>\n",
       "</table>\n",
       "</div>"
      ],
      "text/plain": [
       "        label                                            polygon    city   \n",
       "0         sky  [[126, 9], [235, 182], [797, 315], [1045, 339]...  lindau  \\\n",
       "1        road  [[37, 561], [362, 514], [811, 398], [955, 361]...  lindau   \n",
       "2    building  [[1140, 324], [1139, 334], [1138, 337], [1123,...  lindau   \n",
       "3  vegetation  [[1129, 376], [1127, 371], [1127, 369], [1125,...  lindau   \n",
       "4    building  [[1073, 337], [1072, 294], [1055, 291], [1049,...  lindau   \n",
       "5  vegetation  [[870, 378], [880, 376], [884, 376], [888, 377...  lindau   \n",
       "6    cargroup  [[962, 400], [963, 398], [963, 394], [963, 392...  lindau   \n",
       "7    cargroup  [[921, 391], [913, 388], [909, 386], [904, 386...  lindau   \n",
       "8    building  [[861, 260], [838, 262], [819, 261], [812, 261...  lindau   \n",
       "9         car  [[860, 397], [843, 396], [838, 397], [839, 401...  lindau   \n",
       "\n",
       "          pic_id set_type        target  target_id  \n",
       "0  000057_000019      val           sky          5  \n",
       "1  000057_000019      val          flat          1  \n",
       "2  000057_000019      val  construction          2  \n",
       "3  000057_000019      val        nature          4  \n",
       "4  000057_000019      val  construction          2  \n",
       "5  000057_000019      val        nature          4  \n",
       "6  000057_000019      val       vehicle          7  \n",
       "7  000057_000019      val       vehicle          7  \n",
       "8  000057_000019      val  construction          2  \n",
       "9  000057_000019      val       vehicle          7  "
      ]
     },
     "execution_count": 33,
     "metadata": {},
     "output_type": "execute_result"
    }
   ],
   "source": [
    "data_from_json.head(10)"
   ]
  },
  {
   "cell_type": "code",
   "execution_count": 34,
   "id": "610a6930-9043-4e54-bfff-8f319c8b6415",
   "metadata": {},
   "outputs": [
    {
     "data": {
      "text/html": [
       "<div>\n",
       "<style scoped>\n",
       "    .dataframe tbody tr th:only-of-type {\n",
       "        vertical-align: middle;\n",
       "    }\n",
       "\n",
       "    .dataframe tbody tr th {\n",
       "        vertical-align: top;\n",
       "    }\n",
       "\n",
       "    .dataframe thead th {\n",
       "        text-align: right;\n",
       "    }\n",
       "</style>\n",
       "<table border=\"1\" class=\"dataframe\">\n",
       "  <thead>\n",
       "    <tr style=\"text-align: right;\">\n",
       "      <th></th>\n",
       "      <th>city</th>\n",
       "      <th>pic_id</th>\n",
       "      <th>label_id</th>\n",
       "      <th>target</th>\n",
       "      <th>nb_pixels</th>\n",
       "      <th>target_id</th>\n",
       "    </tr>\n",
       "  </thead>\n",
       "  <tbody>\n",
       "    <tr>\n",
       "      <th>0</th>\n",
       "      <td>lindau</td>\n",
       "      <td>000006_000019</td>\n",
       "      <td>1</td>\n",
       "      <td>void</td>\n",
       "      <td>244602</td>\n",
       "      <td>0</td>\n",
       "    </tr>\n",
       "    <tr>\n",
       "      <th>1</th>\n",
       "      <td>lindau</td>\n",
       "      <td>000006_000019</td>\n",
       "      <td>3</td>\n",
       "      <td>void</td>\n",
       "      <td>94902</td>\n",
       "      <td>0</td>\n",
       "    </tr>\n",
       "    <tr>\n",
       "      <th>2</th>\n",
       "      <td>lindau</td>\n",
       "      <td>000006_000019</td>\n",
       "      <td>4</td>\n",
       "      <td>void</td>\n",
       "      <td>107100</td>\n",
       "      <td>0</td>\n",
       "    </tr>\n",
       "    <tr>\n",
       "      <th>3</th>\n",
       "      <td>lindau</td>\n",
       "      <td>000006_000019</td>\n",
       "      <td>5</td>\n",
       "      <td>void</td>\n",
       "      <td>1584</td>\n",
       "      <td>0</td>\n",
       "    </tr>\n",
       "    <tr>\n",
       "      <th>4</th>\n",
       "      <td>lindau</td>\n",
       "      <td>000006_000019</td>\n",
       "      <td>6</td>\n",
       "      <td>void</td>\n",
       "      <td>38214</td>\n",
       "      <td>0</td>\n",
       "    </tr>\n",
       "  </tbody>\n",
       "</table>\n",
       "</div>"
      ],
      "text/plain": [
       "     city         pic_id  label_id target  nb_pixels  target_id\n",
       "0  lindau  000006_000019         1   void     244602          0\n",
       "1  lindau  000006_000019         3   void      94902          0\n",
       "2  lindau  000006_000019         4   void     107100          0\n",
       "3  lindau  000006_000019         5   void       1584          0\n",
       "4  lindau  000006_000019         6   void      38214          0"
      ]
     },
     "execution_count": 34,
     "metadata": {},
     "output_type": "execute_result"
    }
   ],
   "source": [
    "data_from_labelid.head()"
   ]
  },
  {
   "cell_type": "code",
   "execution_count": 35,
   "id": "4fdc1ec1-b15a-432c-83ee-38e240fed4e8",
   "metadata": {},
   "outputs": [
    {
     "data": {
      "text/html": [
       "<div>\n",
       "<style scoped>\n",
       "    .dataframe tbody tr th:only-of-type {\n",
       "        vertical-align: middle;\n",
       "    }\n",
       "\n",
       "    .dataframe tbody tr th {\n",
       "        vertical-align: top;\n",
       "    }\n",
       "\n",
       "    .dataframe thead th {\n",
       "        text-align: right;\n",
       "    }\n",
       "</style>\n",
       "<table border=\"1\" class=\"dataframe\">\n",
       "  <thead>\n",
       "    <tr style=\"text-align: right;\">\n",
       "      <th></th>\n",
       "      <th>%</th>\n",
       "      <th>%_cumul</th>\n",
       "    </tr>\n",
       "    <tr>\n",
       "      <th>label</th>\n",
       "      <th></th>\n",
       "      <th></th>\n",
       "    </tr>\n",
       "  </thead>\n",
       "  <tbody>\n",
       "    <tr>\n",
       "      <th>pole</th>\n",
       "      <td>16.55</td>\n",
       "      <td>16.55</td>\n",
       "    </tr>\n",
       "    <tr>\n",
       "      <th>vegetation</th>\n",
       "      <td>15.47</td>\n",
       "      <td>32.02</td>\n",
       "    </tr>\n",
       "    <tr>\n",
       "      <th>static</th>\n",
       "      <td>12.23</td>\n",
       "      <td>44.25</td>\n",
       "    </tr>\n",
       "    <tr>\n",
       "      <th>building</th>\n",
       "      <td>11.51</td>\n",
       "      <td>55.76</td>\n",
       "    </tr>\n",
       "    <tr>\n",
       "      <th>car</th>\n",
       "      <td>11.51</td>\n",
       "      <td>67.27</td>\n",
       "    </tr>\n",
       "    <tr>\n",
       "      <th>traffic sign</th>\n",
       "      <td>5.76</td>\n",
       "      <td>73.03</td>\n",
       "    </tr>\n",
       "    <tr>\n",
       "      <th>out of roi</th>\n",
       "      <td>3.60</td>\n",
       "      <td>76.63</td>\n",
       "    </tr>\n",
       "  </tbody>\n",
       "</table>\n",
       "</div>"
      ],
      "text/plain": [
       "                  %  %_cumul\n",
       "label                       \n",
       "pole          16.55    16.55\n",
       "vegetation    15.47    32.02\n",
       "static        12.23    44.25\n",
       "building      11.51    55.76\n",
       "car           11.51    67.27\n",
       "traffic sign   5.76    73.03\n",
       "out of roi     3.60    76.63"
      ]
     },
     "metadata": {},
     "output_type": "display_data"
    },
    {
     "data": {
      "image/png": "[encoded data removed]",
      "text/plain": [
       "<Figure size 640x480 with 1 Axes>"
      ]
     },
     "metadata": {},
     "output_type": "display_data"
    }
   ],
   "source": [
    "limit_perc = 3\n",
    "res = show_unique_values(data_from_json, 'label', cumul_threshold=80)"
   ]
  },
  {
   "cell_type": "code",
   "execution_count": 36,
   "id": "0600513b-9cda-4a0f-b7b8-f1eb9149ff9a",
   "metadata": {},
   "outputs": [
    {
     "data": {
      "text/html": [
       "<div>\n",
       "<style scoped>\n",
       "    .dataframe tbody tr th:only-of-type {\n",
       "        vertical-align: middle;\n",
       "    }\n",
       "\n",
       "    .dataframe tbody tr th {\n",
       "        vertical-align: top;\n",
       "    }\n",
       "\n",
       "    .dataframe thead th {\n",
       "        text-align: right;\n",
       "    }\n",
       "</style>\n",
       "<table border=\"1\" class=\"dataframe\">\n",
       "  <thead>\n",
       "    <tr style=\"text-align: right;\">\n",
       "      <th></th>\n",
       "      <th>%</th>\n",
       "      <th>%_cumul</th>\n",
       "    </tr>\n",
       "    <tr>\n",
       "      <th>label</th>\n",
       "      <th></th>\n",
       "      <th></th>\n",
       "    </tr>\n",
       "  </thead>\n",
       "  <tbody>\n",
       "    <tr>\n",
       "      <th>object</th>\n",
       "      <td>22.30</td>\n",
       "      <td>22.30</td>\n",
       "    </tr>\n",
       "    <tr>\n",
       "      <th>void</th>\n",
       "      <td>19.06</td>\n",
       "      <td>41.36</td>\n",
       "    </tr>\n",
       "    <tr>\n",
       "      <th>vehicle</th>\n",
       "      <td>18.71</td>\n",
       "      <td>60.07</td>\n",
       "    </tr>\n",
       "    <tr>\n",
       "      <th>nature</th>\n",
       "      <td>16.55</td>\n",
       "      <td>76.62</td>\n",
       "    </tr>\n",
       "    <tr>\n",
       "      <th>construction</th>\n",
       "      <td>13.67</td>\n",
       "      <td>90.29</td>\n",
       "    </tr>\n",
       "    <tr>\n",
       "      <th>flat</th>\n",
       "      <td>4.68</td>\n",
       "      <td>94.97</td>\n",
       "    </tr>\n",
       "    <tr>\n",
       "      <th>sky</th>\n",
       "      <td>2.88</td>\n",
       "      <td>97.85</td>\n",
       "    </tr>\n",
       "    <tr>\n",
       "      <th>human</th>\n",
       "      <td>2.16</td>\n",
       "      <td>100.01</td>\n",
       "    </tr>\n",
       "  </tbody>\n",
       "</table>\n",
       "</div>"
      ],
      "text/plain": [
       "                  %  %_cumul\n",
       "label                       \n",
       "object        22.30    22.30\n",
       "void          19.06    41.36\n",
       "vehicle       18.71    60.07\n",
       "nature        16.55    76.62\n",
       "construction  13.67    90.29\n",
       "flat           4.68    94.97\n",
       "sky            2.88    97.85\n",
       "human          2.16   100.01"
      ]
     },
     "metadata": {},
     "output_type": "display_data"
    },
    {
     "data": {
      "image/png": "[encoded data removed]",
      "text/plain": [
       "<Figure size 640x480 with 1 Axes>"
      ]
     },
     "metadata": {},
     "output_type": "display_data"
    }
   ],
   "source": [
    "limit_perc = 1\n",
    "res = show_unique_values(data_from_json, 'target', cumul_threshold=101)"
   ]
  },
  {
   "cell_type": "markdown",
   "id": "62985de6-61d1-4297-977f-64193d824076",
   "metadata": {},
   "source": [
    "En regardant la répartition de la target sur toutes les données, on peut voir qu'il y a toutes les catégories. Cependant, ce n'est pas homogène. Ce qui n'est pas un problème en soi puisque les catégories 'human' et 'nature', par exemple, doivent effectivement prendre moins de place que 'vehicle'. Cela semble cohérent avec un environnement urbain classique.  \n",
    "En revanche, il est primordiale que nos données soient cohérentes entre elles. Cela signifie qu'il faut que les proportions de chaque catégorie soient similaires d'un type de dataset à l'autre."
   ]
  },
  {
   "cell_type": "code",
   "execution_count": 37,
   "id": "c0dcbb1e-03d1-47d0-90f7-12af3da85577",
   "metadata": {
    "tags": []
   },
   "outputs": [
    {
     "name": "stdout",
     "output_type": "stream",
     "text": [
      "Pour le type de données ' train ' on a les villes suivantes :\n"
     ]
    },
    {
     "data": {
      "text/html": [
       "<div>\n",
       "<style scoped>\n",
       "    .dataframe tbody tr th:only-of-type {\n",
       "        vertical-align: middle;\n",
       "    }\n",
       "\n",
       "    .dataframe tbody tr th {\n",
       "        vertical-align: top;\n",
       "    }\n",
       "\n",
       "    .dataframe thead th {\n",
       "        text-align: right;\n",
       "    }\n",
       "</style>\n",
       "<table border=\"1\" class=\"dataframe\">\n",
       "  <thead>\n",
       "    <tr style=\"text-align: right;\">\n",
       "      <th></th>\n",
       "      <th>%</th>\n",
       "      <th>%_cumul</th>\n",
       "    </tr>\n",
       "    <tr>\n",
       "      <th>label</th>\n",
       "      <th></th>\n",
       "      <th></th>\n",
       "    </tr>\n",
       "  </thead>\n",
       "  <tbody>\n",
       "  </tbody>\n",
       "</table>\n",
       "</div>"
      ],
      "text/plain": [
       "Empty DataFrame\n",
       "Columns: [%, %_cumul]\n",
       "Index: []"
      ]
     },
     "metadata": {},
     "output_type": "display_data"
    },
    {
     "data": {
      "image/png": "[encoded data removed]",
      "text/plain": [
       "<Figure size 640x480 with 1 Axes>"
      ]
     },
     "metadata": {},
     "output_type": "display_data"
    },
    {
     "name": "stdout",
     "output_type": "stream",
     "text": [
      "Pour le type de données ' val ' on a les villes suivantes :\n"
     ]
    },
    {
     "data": {
      "text/html": [
       "<div>\n",
       "<style scoped>\n",
       "    .dataframe tbody tr th:only-of-type {\n",
       "        vertical-align: middle;\n",
       "    }\n",
       "\n",
       "    .dataframe tbody tr th {\n",
       "        vertical-align: top;\n",
       "    }\n",
       "\n",
       "    .dataframe thead th {\n",
       "        text-align: right;\n",
       "    }\n",
       "</style>\n",
       "<table border=\"1\" class=\"dataframe\">\n",
       "  <thead>\n",
       "    <tr style=\"text-align: right;\">\n",
       "      <th></th>\n",
       "      <th>%</th>\n",
       "      <th>%_cumul</th>\n",
       "    </tr>\n",
       "    <tr>\n",
       "      <th>label</th>\n",
       "      <th></th>\n",
       "      <th></th>\n",
       "    </tr>\n",
       "  </thead>\n",
       "  <tbody>\n",
       "    <tr>\n",
       "      <th>object</th>\n",
       "      <td>22.30</td>\n",
       "      <td>22.30</td>\n",
       "    </tr>\n",
       "    <tr>\n",
       "      <th>void</th>\n",
       "      <td>19.06</td>\n",
       "      <td>41.36</td>\n",
       "    </tr>\n",
       "    <tr>\n",
       "      <th>vehicle</th>\n",
       "      <td>18.71</td>\n",
       "      <td>60.07</td>\n",
       "    </tr>\n",
       "    <tr>\n",
       "      <th>nature</th>\n",
       "      <td>16.55</td>\n",
       "      <td>76.62</td>\n",
       "    </tr>\n",
       "    <tr>\n",
       "      <th>construction</th>\n",
       "      <td>13.67</td>\n",
       "      <td>90.29</td>\n",
       "    </tr>\n",
       "    <tr>\n",
       "      <th>flat</th>\n",
       "      <td>4.68</td>\n",
       "      <td>94.97</td>\n",
       "    </tr>\n",
       "    <tr>\n",
       "      <th>sky</th>\n",
       "      <td>2.88</td>\n",
       "      <td>97.85</td>\n",
       "    </tr>\n",
       "    <tr>\n",
       "      <th>human</th>\n",
       "      <td>2.16</td>\n",
       "      <td>100.01</td>\n",
       "    </tr>\n",
       "  </tbody>\n",
       "</table>\n",
       "</div>"
      ],
      "text/plain": [
       "                  %  %_cumul\n",
       "label                       \n",
       "object        22.30    22.30\n",
       "void          19.06    41.36\n",
       "vehicle       18.71    60.07\n",
       "nature        16.55    76.62\n",
       "construction  13.67    90.29\n",
       "flat           4.68    94.97\n",
       "sky            2.88    97.85\n",
       "human          2.16   100.01"
      ]
     },
     "metadata": {},
     "output_type": "display_data"
    },
    {
     "data": {
      "image/png": "[encoded data removed]",
      "text/plain": [
       "<Figure size 640x480 with 1 Axes>"
      ]
     },
     "metadata": {},
     "output_type": "display_data"
    },
    {
     "name": "stdout",
     "output_type": "stream",
     "text": [
      "Pour le type de données ' test ' on a les villes suivantes :\n"
     ]
    },
    {
     "data": {
      "text/html": [
       "<div>\n",
       "<style scoped>\n",
       "    .dataframe tbody tr th:only-of-type {\n",
       "        vertical-align: middle;\n",
       "    }\n",
       "\n",
       "    .dataframe tbody tr th {\n",
       "        vertical-align: top;\n",
       "    }\n",
       "\n",
       "    .dataframe thead th {\n",
       "        text-align: right;\n",
       "    }\n",
       "</style>\n",
       "<table border=\"1\" class=\"dataframe\">\n",
       "  <thead>\n",
       "    <tr style=\"text-align: right;\">\n",
       "      <th></th>\n",
       "      <th>%</th>\n",
       "      <th>%_cumul</th>\n",
       "    </tr>\n",
       "    <tr>\n",
       "      <th>label</th>\n",
       "      <th></th>\n",
       "      <th></th>\n",
       "    </tr>\n",
       "  </thead>\n",
       "  <tbody>\n",
       "  </tbody>\n",
       "</table>\n",
       "</div>"
      ],
      "text/plain": [
       "Empty DataFrame\n",
       "Columns: [%, %_cumul]\n",
       "Index: []"
      ]
     },
     "metadata": {},
     "output_type": "display_data"
    },
    {
     "data": {
      "image/png": "[encoded data removed]",
      "text/plain": [
       "<Figure size 640x480 with 1 Axes>"
      ]
     },
     "metadata": {},
     "output_type": "display_data"
    }
   ],
   "source": [
    "compare_dataset_df = pd.DataFrame.from_dict(labels_mapping, orient='index', columns=['target_id'])\n",
    "compare_dataset_df.index.names = ['label']\n",
    "for set_type in [\"train\", \"val\", \"test\"]:\n",
    "    temp_type_data = data_from_json.loc[data_from_json[\"set_type\"] == set_type, :]\n",
    "    print(\"Pour le type de données '\", set_type, \"' on a les villes suivantes :\")\n",
    "    res = show_unique_values(temp_type_data, \"target\", cumul_threshold=105)\n",
    "    compare_dataset_df = pd.merge(compare_dataset_df, res[['%']], how='outer', on='label')\n",
    "    compare_dataset_df.rename(columns={\"%\": \"%_{}\".format(set_type)}, inplace=True)"
   ]
  },
  {
   "cell_type": "code",
   "execution_count": 38,
   "id": "fbb60801-3968-4b1e-b33f-353292340321",
   "metadata": {},
   "outputs": [
    {
     "data": {
      "text/html": [
       "<div>\n",
       "<style scoped>\n",
       "    .dataframe tbody tr th:only-of-type {\n",
       "        vertical-align: middle;\n",
       "    }\n",
       "\n",
       "    .dataframe tbody tr th {\n",
       "        vertical-align: top;\n",
       "    }\n",
       "\n",
       "    .dataframe thead th {\n",
       "        text-align: right;\n",
       "    }\n",
       "</style>\n",
       "<table border=\"1\" class=\"dataframe\">\n",
       "  <thead>\n",
       "    <tr style=\"text-align: right;\">\n",
       "      <th></th>\n",
       "      <th>target_id</th>\n",
       "      <th>%_train</th>\n",
       "      <th>%_val</th>\n",
       "      <th>%_test</th>\n",
       "      <th>%_delta_train_val</th>\n",
       "    </tr>\n",
       "    <tr>\n",
       "      <th>label</th>\n",
       "      <th></th>\n",
       "      <th></th>\n",
       "      <th></th>\n",
       "      <th></th>\n",
       "      <th></th>\n",
       "    </tr>\n",
       "  </thead>\n",
       "  <tbody>\n",
       "    <tr>\n",
       "      <th>void</th>\n",
       "      <td>0</td>\n",
       "      <td>NaN</td>\n",
       "      <td>19.06</td>\n",
       "      <td>NaN</td>\n",
       "      <td>NaN</td>\n",
       "    </tr>\n",
       "    <tr>\n",
       "      <th>flat</th>\n",
       "      <td>1</td>\n",
       "      <td>NaN</td>\n",
       "      <td>4.68</td>\n",
       "      <td>NaN</td>\n",
       "      <td>NaN</td>\n",
       "    </tr>\n",
       "    <tr>\n",
       "      <th>construction</th>\n",
       "      <td>2</td>\n",
       "      <td>NaN</td>\n",
       "      <td>13.67</td>\n",
       "      <td>NaN</td>\n",
       "      <td>NaN</td>\n",
       "    </tr>\n",
       "    <tr>\n",
       "      <th>object</th>\n",
       "      <td>3</td>\n",
       "      <td>NaN</td>\n",
       "      <td>22.30</td>\n",
       "      <td>NaN</td>\n",
       "      <td>NaN</td>\n",
       "    </tr>\n",
       "    <tr>\n",
       "      <th>nature</th>\n",
       "      <td>4</td>\n",
       "      <td>NaN</td>\n",
       "      <td>16.55</td>\n",
       "      <td>NaN</td>\n",
       "      <td>NaN</td>\n",
       "    </tr>\n",
       "    <tr>\n",
       "      <th>sky</th>\n",
       "      <td>5</td>\n",
       "      <td>NaN</td>\n",
       "      <td>2.88</td>\n",
       "      <td>NaN</td>\n",
       "      <td>NaN</td>\n",
       "    </tr>\n",
       "    <tr>\n",
       "      <th>human</th>\n",
       "      <td>6</td>\n",
       "      <td>NaN</td>\n",
       "      <td>2.16</td>\n",
       "      <td>NaN</td>\n",
       "      <td>NaN</td>\n",
       "    </tr>\n",
       "    <tr>\n",
       "      <th>vehicle</th>\n",
       "      <td>7</td>\n",
       "      <td>NaN</td>\n",
       "      <td>18.71</td>\n",
       "      <td>NaN</td>\n",
       "      <td>NaN</td>\n",
       "    </tr>\n",
       "  </tbody>\n",
       "</table>\n",
       "</div>"
      ],
      "text/plain": [
       "              target_id  %_train  %_val  %_test  %_delta_train_val\n",
       "label                                                             \n",
       "void                  0      NaN  19.06     NaN                NaN\n",
       "flat                  1      NaN   4.68     NaN                NaN\n",
       "construction          2      NaN  13.67     NaN                NaN\n",
       "object                3      NaN  22.30     NaN                NaN\n",
       "nature                4      NaN  16.55     NaN                NaN\n",
       "sky                   5      NaN   2.88     NaN                NaN\n",
       "human                 6      NaN   2.16     NaN                NaN\n",
       "vehicle               7      NaN  18.71     NaN                NaN"
      ]
     },
     "execution_count": 38,
     "metadata": {},
     "output_type": "execute_result"
    }
   ],
   "source": [
    "compare_dataset_df['%_delta_train_val'] = compare_dataset_df[['%_train','%_val']].pct_change(axis=1)['%_val']\n",
    "compare_dataset_df"
   ]
  },
  {
   "cell_type": "markdown",
   "id": "d3cd2499-b33c-4145-9546-107c497ad4a3",
   "metadata": {},
   "source": [
    "On peut voir tout de suite que les données du jeu de test ne présentent que 2 catégories. Certes, cela ne nous permettra pas de mesurer les performances sur ce dataset, mais ce n'est pas un frein pour l'utiliser.  \n",
    "Regardons maintenant les datasets d'entraînement et de validation. On peut voir que la différence de porportion entre les 2 est très faible, autour de 0.2% pour les plus différents. Notre dataset est donc compatible avec une étude de machine learning."
   ]
  },
  {
   "cell_type": "markdown",
   "id": "5d95c980-3b27-4ec1-ab24-e6e749805fb8",
   "metadata": {},
   "source": [
    "Un autre aspect intéressant est de vérifier si les données sont cohérentes entre les fichiers json et les images avec les masks."
   ]
  },
  {
   "cell_type": "code",
   "execution_count": 39,
   "id": "ff79af33-5236-4522-88b2-b3668de83d5a",
   "metadata": {},
   "outputs": [],
   "source": [
    "# get only the train and val datasets\n",
    "temp_data_to_check = data_from_json.loc[data_from_json[\"set_type\"] != \"test\"]\n",
    "# list of unique pic_id : couple pic_id/city\n",
    "unique_data_list = temp_data_to_check[['pic_id', 'city']].drop_duplicates(subset = ['pic_id', 'city'])\n",
    "# pick up sampel row to check\n",
    "sample_rows = unique_data_list.sample(n=10, random_state=42)"
   ]
  },
  {
   "cell_type": "code",
   "execution_count": 40,
   "id": "43d2accf-bc8f-4eb3-b7a9-eb273836ba3f",
   "metadata": {},
   "outputs": [
    {
     "name": "stdout",
     "output_type": "stream",
     "text": [
      "L'ensemble de l'échantillon est cohérent.\n"
     ]
    }
   ],
   "source": [
    "list_pics_to_check = sample_rows.values.tolist()\n",
    "nb_tot = len(list_pics_to_check)\n",
    "count_test = 0\n",
    "for unique_id in list_pics_to_check:\n",
    "    temp_data_from_json = data_from_json.loc[(data_from_json[\"pic_id\"] == unique_id[0]) & (data_from_json[\"city\"] == unique_id[1])]\n",
    "    temp_data_from_labelids = data_from_labelid.loc[(data_from_labelid[\"pic_id\"] == unique_id[0]) & (data_from_labelid[\"city\"] == unique_id[1])]\n",
    "    categ_from_json = temp_data_from_json[\"target_id\"].unique()\n",
    "    categ_from_labelid = temp_data_from_labelids[\"target_id\"].unique()\n",
    "    if categ_from_json.sort() == categ_from_labelid.sort():\n",
    "        count_test += 1\n",
    "if count_test == nb_tot:\n",
    "    print(\"L'ensemble de l'échantillon est cohérent.\")"
   ]
  },
  {
   "cell_type": "markdown",
   "id": "93d95ae7-cbac-4274-be1b-811aa377b538",
   "metadata": {},
   "source": [
    "Nous avons pu montrer sur un échantillon que les catégories présentes sur les masks sont cohérentes avec les catégories répertoriées sur les données json."
   ]
  },
  {
   "cell_type": "code",
   "execution_count": null,
   "id": "32a8d247-a7d3-4dc1-a1fc-df4cc84ab7d7",
   "metadata": {},
   "outputs": [],
   "source": []
  },
  {
   "cell_type": "code",
   "execution_count": null,
   "id": "1eba2832-2ff8-4bc4-8c1e-ba9e8fd54344",
   "metadata": {},
   "outputs": [],
   "source": []
  },
  {
   "cell_type": "code",
   "execution_count": null,
   "id": "cfa9ab93-986e-45c1-9665-b1836330ab05",
   "metadata": {},
   "outputs": [],
   "source": []
  }
 ],
 "metadata": {
  "kernelspec": {
   "display_name": "conda_env_prj08_03",
   "language": "python",
   "name": "conda_env_prj08_03"
  },
  "language_info": {
   "codemirror_mode": {
    "name": "ipython",
    "version": 3
   },
   "file_extension": ".py",
   "mimetype": "text/x-python",
   "name": "python",
   "nbconvert_exporter": "python",
   "pygments_lexer": "ipython3",
   "version": "3.10.12"
  }
 },
 "nbformat": 4,
 "nbformat_minor": 5
}
